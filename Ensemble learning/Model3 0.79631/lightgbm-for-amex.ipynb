{
 "cells": [
  {
   "cell_type": "code",
   "execution_count": 1,
   "id": "202a12b5",
   "metadata": {
    "_kg_hide-input": true,
    "execution": {
     "iopub.execute_input": "2022-07-23T14:08:44.632006Z",
     "iopub.status.busy": "2022-07-23T14:08:44.631413Z",
     "iopub.status.idle": "2022-07-23T14:08:46.939132Z",
     "shell.execute_reply": "2022-07-23T14:08:46.938339Z"
    },
    "papermill": {
     "duration": 2.316094,
     "end_time": "2022-07-23T14:08:46.941325",
     "exception": false,
     "start_time": "2022-07-23T14:08:44.625231",
     "status": "completed"
    },
    "tags": []
   },
   "outputs": [
    {
     "data": {
      "text/html": [
       "<style type='text/css'>\n",
       ".datatable table.frame { margin-bottom: 0; }\n",
       ".datatable table.frame thead { border-bottom: none; }\n",
       ".datatable table.frame tr.coltypes td {  color: #FFFFFF;  line-height: 6px;  padding: 0 0.5em;}\n",
       ".datatable .bool    { background: #DDDD99; }\n",
       ".datatable .object  { background: #565656; }\n",
       ".datatable .int     { background: #5D9E5D; }\n",
       ".datatable .float   { background: #4040CC; }\n",
       ".datatable .str     { background: #CC4040; }\n",
       ".datatable .time    { background: #40CC40; }\n",
       ".datatable .row_index {  background: var(--jp-border-color3);  border-right: 1px solid var(--jp-border-color0);  color: var(--jp-ui-font-color3);  font-size: 9px;}\n",
       ".datatable .frame tbody td { text-align: left; }\n",
       ".datatable .frame tr.coltypes .row_index {  background: var(--jp-border-color0);}\n",
       ".datatable th:nth-child(2) { padding-left: 12px; }\n",
       ".datatable .hellipsis {  color: var(--jp-cell-editor-border-color);}\n",
       ".datatable .vellipsis {  background: var(--jp-layout-color0);  color: var(--jp-cell-editor-border-color);}\n",
       ".datatable .na {  color: var(--jp-cell-editor-border-color);  font-size: 80%;}\n",
       ".datatable .sp {  opacity: 0.25;}\n",
       ".datatable .footer { font-size: 9px; }\n",
       ".datatable .frame_dimensions {  background: var(--jp-border-color3);  border-top: 1px solid var(--jp-border-color0);  color: var(--jp-ui-font-color3);  display: inline-block;  opacity: 0.6;  padding: 1px 10px 1px 5px;}\n",
       "</style>\n"
      ],
      "text/plain": [
       "<IPython.core.display.HTML object>"
      ]
     },
     "metadata": {},
     "output_type": "display_data"
    }
   ],
   "source": [
    "import numpy as np #矩阵预算相关的 \n",
    "import pandas as pd  # csv文件处理相关的\n",
    "import matplotlib.pyplot as plt # 画图的相关的一个包\n",
    "from matplotlib.ticker import MaxNLocator\n",
    "from matplotlib.colors import ListedColormap\n",
    "from cycler import cycler\n",
    "from IPython.display import display\n",
    "import datetime\n",
    "import scipy.stats\n",
    "import warnings\n",
    "from colorama import Fore, Back, Style \n",
    "import gc\n",
    "\n",
    "from sklearn.model_selection import StratifiedKFold # 交叉验证\n",
    "from sklearn.calibration import CalibrationDisplay # 显示相关的包\n",
    "from lightgbm import LGBMClassifier, log_evaluation # 本次所使用的模型\n",
    "\n",
    "plt.rcParams['axes.facecolor'] = '#0057b8' # blue\n",
    "plt.rcParams['axes.prop_cycle'] = cycler(color=['#ffd700'] +\n",
    "                                         plt.rcParams['axes.prop_cycle'].by_key()['color'][1:])\n",
    "plt.rcParams['text.color'] = 'w'\n",
    "\n",
    "INFERENCE = True # set to False if you only want to cross-validate\n"
   ]
  },
  {
   "cell_type": "code",
   "execution_count": 2,
   "id": "61c498a1",
   "metadata": {
    "_kg_hide-input": true,
    "execution": {
     "iopub.execute_input": "2022-07-23T14:08:46.950075Z",
     "iopub.status.busy": "2022-07-23T14:08:46.949108Z",
     "iopub.status.idle": "2022-07-23T14:08:46.958936Z",
     "shell.execute_reply": "2022-07-23T14:08:46.957992Z"
    },
    "papermill": {
     "duration": 0.016114,
     "end_time": "2022-07-23T14:08:46.960863",
     "exception": false,
     "start_time": "2022-07-23T14:08:46.944749",
     "status": "completed"
    },
    "tags": []
   },
   "outputs": [],
   "source": [
    "# @yunchonggan's fast metric implementation\n",
    "# From https://www.kaggle.com/competitions/amex-default-prediction/discussion/328020\n",
    "def amex_metric(y_true: np.array, y_pred: np.array) -> float:\n",
    "\n",
    "    # 计算正负样本的个数\n",
    "    n_pos = y_true.sum()\n",
    "    n_neg = y_true.shape[0] - n_pos\n",
    "\n",
    "    # 根据违约率来排序，这样的话，违约率高的排前面，你会得到一个索引\n",
    "    indices = np.argsort(y_pred)[::-1]\n",
    "    # 根据这个索引，对preds和target进行一个排序\n",
    "    preds, target = y_pred[indices], y_true[indices]\n",
    "\n",
    "    # filter the top 4% by cumulative row weights\n",
    "    # 计算权重，违约为1（正样本） ， 不违约（负样本）为 20\n",
    "    weight = 20.0 - target * 19.0\n",
    "    # 进行一个累加的操作，cumsum是累加\n",
    "    # 假如权重和为1000，40.\n",
    "    # 如果你的预测比较准，那么里面正确的违约的正样本会比较多，正样本指的是为1的样本\n",
    "    # 如果预测不准，比如说带了一个负样本，那么就只能最多有20个正样本\n",
    "    # \n",
    "    cum_norm_weight = (weight / weight.sum()).cumsum()\n",
    "    # 下面是一个过滤\n",
    "    four_pct_filter = cum_norm_weight <= 0.04\n",
    "\n",
    "    # default rate captured at 4%\n",
    "    d = target[four_pct_filter].sum() / n_pos\n",
    "\n",
    "    # weighted gini coefficient\n",
    "    # 10个样本，比如说4个违约，6不违约,真正的数据\n",
    "    # 10个样本，比如说我们有预测的数据\n",
    "    # 真正的样本: y_true: 0,1,0,0,1,1,0,0,0,1\n",
    "    # 预测的结果：y_pred: 0，0.8，0.1，0.1，0，0，0，0，0，0.9\n",
    "    # preds: 0.9,0.8,0,0,0,0,0,0,0\n",
    "    # target: 1,1,0,0,1,1,0,0,0,0\n",
    "    # n_pos = 4\n",
    "    # lorentz:0.25,0.5,0.5,0.5,0.75,1.0,1,1,1,1\n",
    "    # cum_norm_weight: 1/124,2/124,22/124,42/124,43/124,44/124,64/124,84/124,104/124,/124/124\n",
    "    # weight: 1, 1, 20, 20, 1, 1, 20, 20, 1, 1, 1, 1\n",
    "    \n",
    "    lorentz = (target / n_pos).cumsum()\n",
    "    gini = ((lorentz - cum_norm_weight) * weight).sum()\n",
    "\n",
    "    # max weighted gini coefficient\n",
    "    gini_max = 10 * n_neg * (1 - 19 / (n_pos + 20 * n_neg))\n",
    "\n",
    "    # normalized weighted gini coefficient\n",
    "    g = gini / gini_max\n",
    "\n",
    "    return 0.5 * (g + d)\n",
    "\n",
    "def lgb_amex_metric(y_true, y_pred):\n",
    "    \"\"\"The competition metric with lightgbm's calling convention\"\"\"\n",
    "    return ('amex',\n",
    "            amex_metric(y_true, y_pred),\n",
    "            True)"
   ]
  },
  {
   "cell_type": "code",
   "execution_count": 3,
   "id": "fc19e130",
   "metadata": {
    "execution": {
     "iopub.execute_input": "2022-07-23T14:08:46.968957Z",
     "iopub.status.busy": "2022-07-23T14:08:46.968395Z",
     "iopub.status.idle": "2022-07-23T14:15:00.698037Z",
     "shell.execute_reply": "2022-07-23T14:15:00.696573Z"
    },
    "papermill": {
     "duration": 373.736226,
     "end_time": "2022-07-23T14:15:00.700155",
     "exception": false,
     "start_time": "2022-07-23T14:08:46.963929",
     "status": "completed"
    },
    "tags": []
   },
   "outputs": [
    {
     "name": "stdout",
     "output_type": "stream",
     "text": [
      "Read test\n",
      "Computed avg test\n",
      "Computed min test\n",
      "Computed max test\n",
      "Computed last test\n",
      "test shape: (924621, 469)\n",
      "Read train\n",
      "Computed avg train\n",
      "Computed min train\n",
      "Computed max train\n",
      "Computed last train\n",
      "train shape: (458913, 469)\n",
      "target shape: (458913,)\n",
      "CPU times: user 5min 10s, sys: 58.8 s, total: 6min 9s\n",
      "Wall time: 6min 13s\n"
     ]
    }
   ],
   "source": [
    "%%time\n",
    "features_avg = ['B_1', 'B_2', 'B_3', 'B_4', 'B_5', 'B_6', 'B_8', 'B_9', 'B_10', 'B_11', 'B_12', 'B_13', 'B_14', 'B_15', 'B_16', 'B_17', 'B_18', 'B_19', 'B_20', 'B_21', 'B_22', 'B_23', 'B_24', 'B_25', 'B_28', 'B_29', 'B_30', 'B_32', 'B_33', 'B_37', 'B_38', 'B_39', 'B_40', 'B_41', 'B_42', 'D_39', 'D_41', 'D_42', 'D_43', 'D_44', 'D_45', 'D_46', 'D_47', 'D_48', 'D_50', 'D_51', 'D_53', 'D_54', 'D_55', 'D_58', 'D_59', 'D_60', 'D_61', 'D_62', 'D_65', 'D_66', 'D_69', 'D_70', 'D_71', 'D_72', 'D_73', 'D_74', 'D_75', 'D_76', 'D_77', 'D_78', 'D_80', 'D_82', 'D_84', 'D_86', 'D_91', 'D_92', 'D_94', 'D_96', 'D_103', 'D_104', 'D_108', 'D_112', 'D_113', 'D_114', 'D_115', 'D_117', 'D_118', 'D_119', 'D_120', 'D_121', 'D_122', 'D_123', 'D_124', 'D_125', 'D_126', 'D_128', 'D_129', 'D_131', 'D_132', 'D_133', 'D_134', 'D_135', 'D_136', 'D_140', 'D_141', 'D_142', 'D_144', 'D_145', 'P_2', 'P_3', 'P_4', 'R_1', 'R_2', 'R_3', 'R_7', 'R_8', 'R_9', 'R_10', 'R_11', 'R_14', 'R_15', 'R_16', 'R_17', 'R_20', 'R_21', 'R_22', 'R_24', 'R_26', 'R_27', 'S_3', 'S_5', 'S_6', 'S_7', 'S_9', 'S_11', 'S_12', 'S_13', 'S_15', 'S_16', 'S_18', 'S_22', 'S_23', 'S_25', 'S_26']\n",
    "features_min = ['B_2', 'B_4', 'B_5', 'B_9', 'B_13', 'B_14', 'B_15', 'B_16', 'B_17', 'B_19', 'B_20', 'B_28', 'B_29', 'B_33', 'B_36', 'B_42', 'D_39', 'D_41', 'D_42', 'D_45', 'D_46', 'D_48', 'D_50', 'D_51', 'D_53', 'D_55', 'D_56', 'D_58', 'D_59', 'D_60', 'D_62', 'D_70', 'D_71', 'D_74', 'D_75', 'D_78', 'D_83', 'D_102', 'D_112', 'D_113', 'D_115', 'D_118', 'D_119', 'D_121', 'D_122', 'D_128', 'D_132', 'D_140', 'D_141', 'D_144', 'D_145', 'P_2', 'P_3', 'R_1', 'R_27', 'S_3', 'S_5', 'S_7', 'S_9', 'S_11', 'S_12', 'S_23', 'S_25']\n",
    "features_max = ['B_1', 'B_2', 'B_3', 'B_4', 'B_5', 'B_6', 'B_7', 'B_8', 'B_9', 'B_10', 'B_12', 'B_13', 'B_14', 'B_15', 'B_16', 'B_17', 'B_18', 'B_19', 'B_21', 'B_23', 'B_24', 'B_25', 'B_29', 'B_30', 'B_33', 'B_37', 'B_38', 'B_39', 'B_40', 'B_42', 'D_39', 'D_41', 'D_42', 'D_43', 'D_44', 'D_45', 'D_46', 'D_47', 'D_48', 'D_49', 'D_50', 'D_52', 'D_55', 'D_56', 'D_58', 'D_59', 'D_60', 'D_61', 'D_63', 'D_64', 'D_65', 'D_70', 'D_71', 'D_72', 'D_73', 'D_74', 'D_76', 'D_77', 'D_78', 'D_80', 'D_82', 'D_84', 'D_91', 'D_102', 'D_105', 'D_107', 'D_110', 'D_111', 'D_112', 'D_115', 'D_116', 'D_117', 'D_118', 'D_119', 'D_121', 'D_122', 'D_123', 'D_124', 'D_125', 'D_126', 'D_128', 'D_131', 'D_132', 'D_133', 'D_134', 'D_135', 'D_136', 'D_138', 'D_140', 'D_141', 'D_142', 'D_144', 'D_145', 'P_2', 'P_3', 'P_4', 'R_1', 'R_3', 'R_5', 'R_6', 'R_7', 'R_8', 'R_10', 'R_11', 'R_14', 'R_17', 'R_20', 'R_26', 'R_27', 'S_3', 'S_5', 'S_7', 'S_8', 'S_11', 'S_12', 'S_13', 'S_15', 'S_16', 'S_22', 'S_23', 'S_24', 'S_25', 'S_26', 'S_27']\n",
    "features_last = ['B_1', 'B_2', 'B_3', 'B_4', 'B_5', 'B_6', 'B_7', 'B_8', 'B_9', 'B_10', 'B_11', 'B_12', 'B_13', 'B_14', 'B_15', 'B_16', 'B_17', 'B_18', 'B_19', 'B_20', 'B_21', 'B_22', 'B_23', 'B_24', 'B_25', 'B_26', 'B_28', 'B_29', 'B_30', 'B_32', 'B_33', 'B_36', 'B_37', 'B_38', 'B_39', 'B_40', 'B_41', 'B_42', 'D_39', 'D_41', 'D_42', 'D_43', 'D_44', 'D_45', 'D_46', 'D_47', 'D_48', 'D_49', 'D_50', 'D_51', 'D_52', 'D_53', 'D_54', 'D_55', 'D_56', 'D_58', 'D_59', 'D_60', 'D_61', 'D_62', 'D_63', 'D_64', 'D_65', 'D_69', 'D_70', 'D_71', 'D_72', 'D_73', 'D_75', 'D_76', 'D_77', 'D_78', 'D_79', 'D_80', 'D_81', 'D_82', 'D_83', 'D_86', 'D_91', 'D_96', 'D_105', 'D_106', 'D_112', 'D_114', 'D_119', 'D_120', 'D_121', 'D_122', 'D_124', 'D_125', 'D_126', 'D_127', 'D_130', 'D_131', 'D_132', 'D_133', 'D_134', 'D_138', 'D_140', 'D_141', 'D_142', 'D_145', 'P_2', 'P_3', 'P_4', 'R_1', 'R_2', 'R_3', 'R_4', 'R_5', 'R_6', 'R_7', 'R_8', 'R_9', 'R_10', 'R_11', 'R_12', 'R_13', 'R_14', 'R_15', 'R_19', 'R_20', 'R_26', 'R_27', 'S_3', 'S_5', 'S_6', 'S_7', 'S_8', 'S_9', 'S_11', 'S_12', 'S_13', 'S_16', 'S_19', 'S_20', 'S_22', 'S_23', 'S_24', 'S_25', 'S_26', 'S_27']\n",
    "for i in ['test', 'train'] if INFERENCE else ['train']:\n",
    "    df = pd.read_parquet(f'../input/amex-data-integer-dtypes-parquet-format/{i}.parquet')\n",
    "    cid = pd.Categorical(df.pop('customer_ID'), ordered=True)\n",
    "    last = (cid != np.roll(cid, -1)) # mask for last statement of every customer\n",
    "    if 'target' in df.columns:\n",
    "        df.drop(columns=['target'], inplace=True)\n",
    "    gc.collect()\n",
    "    print('Read', i)\n",
    "    df_avg = (df\n",
    "              .groupby(cid)\n",
    "              .mean()[features_avg]\n",
    "              .rename(columns={f: f\"{f}_avg\" for f in features_avg})\n",
    "             )\n",
    "    gc.collect()\n",
    "    print('Computed avg', i)\n",
    "    df_min = (df\n",
    "              .groupby(cid)\n",
    "              .min()[features_min]\n",
    "              .rename(columns={f: f\"{f}_min\" for f in features_min})\n",
    "             )\n",
    "    gc.collect()\n",
    "    print('Computed min', i)\n",
    "    df_max = (df\n",
    "              .groupby(cid)\n",
    "              .max()[features_max]\n",
    "              .rename(columns={f: f\"{f}_max\" for f in features_max})\n",
    "             )\n",
    "    gc.collect()\n",
    "    print('Computed max', i)\n",
    "    df = (df.loc[last, features_last]\n",
    "          .rename(columns={f: f\"{f}_last\" for f in features_last})\n",
    "          .set_index(np.asarray(cid[last]))\n",
    "         )\n",
    "    gc.collect()\n",
    "    print('Computed last', i)\n",
    "    df = pd.concat([df, df_min, df_max, df_avg], axis=1)\n",
    "    if i == 'train': train = df\n",
    "    else: test = df\n",
    "    print(f\"{i} shape: {df.shape}\")\n",
    "    del df, df_avg, df_min, df_max, cid, last\n",
    "\n",
    "target = pd.read_csv('../input/amex-default-prediction/train_labels.csv').target.values\n",
    "print(f\"target shape: {target.shape}\")"
   ]
  },
  {
   "cell_type": "code",
   "execution_count": 4,
   "id": "7428017d",
   "metadata": {
    "execution": {
     "iopub.execute_input": "2022-07-23T14:15:00.709338Z",
     "iopub.status.busy": "2022-07-23T14:15:00.708589Z",
     "iopub.status.idle": "2022-07-23T14:56:04.530468Z",
     "shell.execute_reply": "2022-07-23T14:56:04.527526Z"
    },
    "papermill": {
     "duration": 2463.838383,
     "end_time": "2022-07-23T14:56:04.542143",
     "exception": false,
     "start_time": "2022-07-23T14:15:00.703760",
     "status": "completed"
    },
    "tags": []
   },
   "outputs": [
    {
     "name": "stdout",
     "output_type": "stream",
     "text": [
      "469 features\n",
      "[100]\tvalid_0's binary_logloss: 0.246587\tvalid_0's amex: 0.765668\n",
      "[200]\tvalid_0's binary_logloss: 0.227562\tvalid_0's amex: 0.781153\n",
      "[300]\tvalid_0's binary_logloss: 0.222479\tvalid_0's amex: 0.787807\n",
      "[400]\tvalid_0's binary_logloss: 0.220288\tvalid_0's amex: 0.789908\n",
      "[500]\tvalid_0's binary_logloss: 0.219094\tvalid_0's amex: 0.792036\n",
      "[600]\tvalid_0's binary_logloss: 0.218306\tvalid_0's amex: 0.791638\n",
      "[700]\tvalid_0's binary_logloss: 0.217764\tvalid_0's amex: 0.793293\n",
      "[800]\tvalid_0's binary_logloss: 0.217415\tvalid_0's amex: 0.793751\n",
      "[900]\tvalid_0's binary_logloss: 0.217133\tvalid_0's amex: 0.794208\n",
      "[1000]\tvalid_0's binary_logloss: 0.216928\tvalid_0's amex: 0.794482\n",
      "[1100]\tvalid_0's binary_logloss: 0.216781\tvalid_0's amex: 0.794338\n",
      "[1200]\tvalid_0's binary_logloss: 0.216694\tvalid_0's amex: 0.794422\n",
      "\u001b[32m\u001b[1mFold 0 | 07:15 |  1200 trees |                Score = 0.79464\u001b[0m\n",
      "[100]\tvalid_0's binary_logloss: 0.246321\tvalid_0's amex: 0.763098\n",
      "[200]\tvalid_0's binary_logloss: 0.22743\tvalid_0's amex: 0.779485\n",
      "[300]\tvalid_0's binary_logloss: 0.222378\tvalid_0's amex: 0.786961\n",
      "[400]\tvalid_0's binary_logloss: 0.220072\tvalid_0's amex: 0.790487\n",
      "[500]\tvalid_0's binary_logloss: 0.218927\tvalid_0's amex: 0.791593\n",
      "[600]\tvalid_0's binary_logloss: 0.218216\tvalid_0's amex: 0.793238\n",
      "[700]\tvalid_0's binary_logloss: 0.21775\tvalid_0's amex: 0.793303\n",
      "[800]\tvalid_0's binary_logloss: 0.217403\tvalid_0's amex: 0.79459\n",
      "[900]\tvalid_0's binary_logloss: 0.217149\tvalid_0's amex: 0.794306\n",
      "[1000]\tvalid_0's binary_logloss: 0.216988\tvalid_0's amex: 0.794469\n",
      "[1100]\tvalid_0's binary_logloss: 0.216917\tvalid_0's amex: 0.794473\n",
      "[1200]\tvalid_0's binary_logloss: 0.216823\tvalid_0's amex: 0.794514\n",
      "\u001b[32m\u001b[1mFold 1 | 04:42 |  1200 trees |                Score = 0.79474\u001b[0m\n",
      "[100]\tvalid_0's binary_logloss: 0.245503\tvalid_0's amex: 0.764948\n",
      "[200]\tvalid_0's binary_logloss: 0.226235\tvalid_0's amex: 0.77789\n",
      "[300]\tvalid_0's binary_logloss: 0.221225\tvalid_0's amex: 0.784647\n",
      "[400]\tvalid_0's binary_logloss: 0.219103\tvalid_0's amex: 0.786686\n",
      "[500]\tvalid_0's binary_logloss: 0.217926\tvalid_0's amex: 0.788273\n",
      "[600]\tvalid_0's binary_logloss: 0.217296\tvalid_0's amex: 0.789554\n",
      "[700]\tvalid_0's binary_logloss: 0.216807\tvalid_0's amex: 0.790857\n",
      "[800]\tvalid_0's binary_logloss: 0.216522\tvalid_0's amex: 0.791414\n",
      "[900]\tvalid_0's binary_logloss: 0.216346\tvalid_0's amex: 0.790819\n",
      "[1000]\tvalid_0's binary_logloss: 0.216159\tvalid_0's amex: 0.791292\n",
      "[1100]\tvalid_0's binary_logloss: 0.216034\tvalid_0's amex: 0.791644\n",
      "[1200]\tvalid_0's binary_logloss: 0.216057\tvalid_0's amex: 0.791415\n",
      "\u001b[32m\u001b[1mFold 2 | 04:40 |  1200 trees |                Score = 0.79164\u001b[0m\n",
      "[100]\tvalid_0's binary_logloss: 0.246278\tvalid_0's amex: 0.762684\n",
      "[200]\tvalid_0's binary_logloss: 0.226974\tvalid_0's amex: 0.776235\n",
      "[300]\tvalid_0's binary_logloss: 0.221912\tvalid_0's amex: 0.782628\n",
      "[400]\tvalid_0's binary_logloss: 0.219608\tvalid_0's amex: 0.785982\n",
      "[500]\tvalid_0's binary_logloss: 0.218397\tvalid_0's amex: 0.788114\n",
      "[600]\tvalid_0's binary_logloss: 0.217622\tvalid_0's amex: 0.788464\n",
      "[700]\tvalid_0's binary_logloss: 0.217146\tvalid_0's amex: 0.789186\n",
      "[800]\tvalid_0's binary_logloss: 0.216813\tvalid_0's amex: 0.789452\n",
      "[900]\tvalid_0's binary_logloss: 0.21658\tvalid_0's amex: 0.790293\n",
      "[1000]\tvalid_0's binary_logloss: 0.216415\tvalid_0's amex: 0.790859\n",
      "[1100]\tvalid_0's binary_logloss: 0.216356\tvalid_0's amex: 0.790377\n",
      "[1200]\tvalid_0's binary_logloss: 0.216253\tvalid_0's amex: 0.790471\n",
      "\u001b[32m\u001b[1mFold 3 | 04:38 |  1200 trees |                Score = 0.79070\u001b[0m\n",
      "[100]\tvalid_0's binary_logloss: 0.243047\tvalid_0's amex: 0.770752\n",
      "[200]\tvalid_0's binary_logloss: 0.223618\tvalid_0's amex: 0.783739\n",
      "[300]\tvalid_0's binary_logloss: 0.218554\tvalid_0's amex: 0.790138\n",
      "[400]\tvalid_0's binary_logloss: 0.216497\tvalid_0's amex: 0.792001\n",
      "[500]\tvalid_0's binary_logloss: 0.215423\tvalid_0's amex: 0.793793\n",
      "[600]\tvalid_0's binary_logloss: 0.21472\tvalid_0's amex: 0.794611\n",
      "[700]\tvalid_0's binary_logloss: 0.214229\tvalid_0's amex: 0.796299\n",
      "[800]\tvalid_0's binary_logloss: 0.21381\tvalid_0's amex: 0.797155\n",
      "[900]\tvalid_0's binary_logloss: 0.213575\tvalid_0's amex: 0.796882\n",
      "[1000]\tvalid_0's binary_logloss: 0.213401\tvalid_0's amex: 0.797015\n",
      "[1100]\tvalid_0's binary_logloss: 0.213261\tvalid_0's amex: 0.798073\n",
      "[1200]\tvalid_0's binary_logloss: 0.213207\tvalid_0's amex: 0.797815\n",
      "\u001b[32m\u001b[1mFold 4 | 04:39 |  1200 trees |                Score = 0.79805\u001b[0m\n",
      "[100]\tvalid_0's binary_logloss: 0.244366\tvalid_0's amex: 0.767917\n",
      "[200]\tvalid_0's binary_logloss: 0.224751\tvalid_0's amex: 0.782228\n",
      "[300]\tvalid_0's binary_logloss: 0.219647\tvalid_0's amex: 0.787415\n",
      "[400]\tvalid_0's binary_logloss: 0.217496\tvalid_0's amex: 0.790073\n",
      "[500]\tvalid_0's binary_logloss: 0.216298\tvalid_0's amex: 0.791785\n",
      "[600]\tvalid_0's binary_logloss: 0.215538\tvalid_0's amex: 0.792446\n",
      "[700]\tvalid_0's binary_logloss: 0.215148\tvalid_0's amex: 0.792093\n",
      "[800]\tvalid_0's binary_logloss: 0.214806\tvalid_0's amex: 0.793273\n",
      "[900]\tvalid_0's binary_logloss: 0.214612\tvalid_0's amex: 0.79362\n",
      "[1000]\tvalid_0's binary_logloss: 0.214458\tvalid_0's amex: 0.794176\n",
      "[1100]\tvalid_0's binary_logloss: 0.214384\tvalid_0's amex: 0.795108\n",
      "[1200]\tvalid_0's binary_logloss: 0.214413\tvalid_0's amex: 0.795535\n",
      "\u001b[32m\u001b[1mFold 5 | 07:13 |  1200 trees |                Score = 0.79575\u001b[0m\n",
      "\u001b[32m\u001b[1mOOF Score:                       0.79425\u001b[0m\n",
      "CPU times: user 2h 36min 7s, sys: 45.3 s, total: 2h 36min 52s\n",
      "Wall time: 41min 3s\n"
     ]
    }
   ],
   "source": [
    "%%time\n",
    "# Cross-validation of the classifier\n",
    "\n",
    "ONLY_FIRST_FOLD = False\n",
    "\n",
    "features = [f for f in train.columns if f != 'customer_ID' and f != 'target']\n",
    "\n",
    "def my_booster(random_state=1, n_estimators=1200):\n",
    "    return LGBMClassifier(n_estimators=n_estimators,# 1200次\n",
    "                          learning_rate=0.03, reg_lambda=50, # 2次方的正则化\n",
    "                          min_child_samples=2400,\n",
    "                          num_leaves=95,\n",
    "                          colsample_bytree=0.19, # 189个，除了id\n",
    "                          max_bins=511, random_state=random_state)\n",
    "      \n",
    "print(f\"{len(features)} features\")\n",
    "score_list = []\n",
    "y_pred_list = []\n",
    "kf = StratifiedKFold(n_splits=6)\n",
    "for fold, (idx_tr, idx_va) in enumerate(kf.split(train, target)):\n",
    "    X_tr, X_va, y_tr, y_va, model = None, None, None, None, None\n",
    "    start_time = datetime.datetime.now()\n",
    "    X_tr = train.iloc[idx_tr][features]\n",
    "    X_va = train.iloc[idx_va][features]\n",
    "    y_tr = target[idx_tr]\n",
    "    y_va = target[idx_va]\n",
    "    \n",
    "    model = my_booster()\n",
    "    with warnings.catch_warnings():\n",
    "        warnings.filterwarnings('ignore', category=UserWarning)\n",
    "        model.fit(X_tr, y_tr,\n",
    "                  eval_set = [(X_va, y_va)], \n",
    "                  eval_metric=[lgb_amex_metric],\n",
    "                  callbacks=[log_evaluation(100)])\n",
    "    X_tr, y_tr = None, None\n",
    "    y_va_pred = model.predict_proba(X_va, raw_score=True)\n",
    "    score = amex_metric(y_va, y_va_pred)\n",
    "    n_trees = model.best_iteration_\n",
    "    if n_trees is None: n_trees = model.n_estimators\n",
    "    print(f\"{Fore.GREEN}{Style.BRIGHT}Fold {fold} | {str(datetime.datetime.now() - start_time)[-12:-7]} |\"\n",
    "          f\" {n_trees:5} trees |\"\n",
    "          f\"                Score = {score:.5f}{Style.RESET_ALL}\")\n",
    "    score_list.append(score)\n",
    "    \n",
    "    if INFERENCE:\n",
    "        y_pred_list.append(model.predict_proba(test[features], raw_score=True))\n",
    "        \n",
    "    if ONLY_FIRST_FOLD: break # we only want the first fold\n",
    "    \n",
    "print(f\"{Fore.GREEN}{Style.BRIGHT}OOF Score:                       {np.mean(score_list):.5f}{Style.RESET_ALL}\")"
   ]
  },
  {
   "cell_type": "code",
   "execution_count": 5,
   "id": "f34eb865",
   "metadata": {
    "execution": {
     "iopub.execute_input": "2022-07-23T14:56:04.563649Z",
     "iopub.status.busy": "2022-07-23T14:56:04.562268Z",
     "iopub.status.idle": "2022-07-23T14:56:05.228898Z",
     "shell.execute_reply": "2022-07-23T14:56:05.227875Z"
    },
    "papermill": {
     "duration": 0.680716,
     "end_time": "2022-07-23T14:56:05.231075",
     "exception": false,
     "start_time": "2022-07-23T14:56:04.550359",
     "status": "completed"
    },
    "tags": []
   },
   "outputs": [
    {
     "data": {
      "image/png": "[encoded data removed]",
      "text/plain": [
       "<Figure size 720x288 with 1 Axes>"
      ]
     },
     "metadata": {
      "needs_background": "light"
     },
     "output_type": "display_data"
    }
   ],
   "source": [
    "def sigmoid(log_odds):\n",
    "    return 1 / (1 + np.exp(-log_odds))\n",
    "\n",
    "plt.figure(figsize=(10, 4))\n",
    "plt.hist(sigmoid(y_va_pred[y_va == 0]), bins=np.linspace(0, 1, 101),\n",
    "         alpha=0.5, density=True, label='0')\n",
    "plt.hist(sigmoid(y_va_pred[y_va == 1]), bins=np.linspace(0, 1, 101),\n",
    "         alpha=0.5, density=True, label='1')\n",
    "plt.xlabel('y_pred')\n",
    "plt.ylabel('density')\n",
    "plt.title('OOF Prediction histogram', color='k')\n",
    "plt.legend()\n",
    "plt.show()"
   ]
  },
  {
   "cell_type": "code",
   "execution_count": 6,
   "id": "d37e5f1c",
   "metadata": {
    "execution": {
     "iopub.execute_input": "2022-07-23T14:56:05.248511Z",
     "iopub.status.busy": "2022-07-23T14:56:05.247637Z",
     "iopub.status.idle": "2022-07-23T14:56:05.470665Z",
     "shell.execute_reply": "2022-07-23T14:56:05.469942Z"
    },
    "papermill": {
     "duration": 0.233618,
     "end_time": "2022-07-23T14:56:05.472394",
     "exception": false,
     "start_time": "2022-07-23T14:56:05.238776",
     "status": "completed"
    },
    "tags": []
   },
   "outputs": [
    {
     "data": {
      "image/png": "[encoded data removed]",
      "text/plain": [
       "<Figure size 864x288 with 1 Axes>"
      ]
     },
     "metadata": {
      "needs_background": "light"
     },
     "output_type": "display_data"
    }
   ],
   "source": [
    "plt.figure(figsize=(12, 4))\n",
    "CalibrationDisplay.from_predictions(y_va, sigmoid(y_va_pred), n_bins=50,\n",
    "                                    strategy='quantile', ax=plt.gca())\n",
    "plt.title('Probability calibration')\n",
    "plt.show()"
   ]
  },
  {
   "cell_type": "code",
   "execution_count": 7,
   "id": "a83ce30c",
   "metadata": {
    "execution": {
     "iopub.execute_input": "2022-07-23T14:56:05.490918Z",
     "iopub.status.busy": "2022-07-23T14:56:05.490288Z",
     "iopub.status.idle": "2022-07-23T14:56:08.976976Z",
     "shell.execute_reply": "2022-07-23T14:56:08.975897Z"
    },
    "papermill": {
     "duration": 3.498301,
     "end_time": "2022-07-23T14:56:08.978946",
     "exception": false,
     "start_time": "2022-07-23T14:56:05.480645",
     "status": "completed"
    },
    "tags": []
   },
   "outputs": [
    {
     "data": {
      "text/html": [
       "<div>\n",
       "<style scoped>\n",
       "    .dataframe tbody tr th:only-of-type {\n",
       "        vertical-align: middle;\n",
       "    }\n",
       "\n",
       "    .dataframe tbody tr th {\n",
       "        vertical-align: top;\n",
       "    }\n",
       "\n",
       "    .dataframe thead th {\n",
       "        text-align: right;\n",
       "    }\n",
       "</style>\n",
       "<table border=\"1\" class=\"dataframe\">\n",
       "  <thead>\n",
       "    <tr style=\"text-align: right;\">\n",
       "      <th></th>\n",
       "      <th>customer_ID</th>\n",
       "      <th>prediction</th>\n",
       "    </tr>\n",
       "  </thead>\n",
       "  <tbody>\n",
       "    <tr>\n",
       "      <th>0</th>\n",
       "      <td>00000469ba478561f23a92a868bd366de6f6527a684c9a...</td>\n",
       "      <td>-3.547182</td>\n",
       "    </tr>\n",
       "    <tr>\n",
       "      <th>1</th>\n",
       "      <td>00001bf2e77ff879fab36aa4fac689b9ba411dae63ae39...</td>\n",
       "      <td>-7.198933</td>\n",
       "    </tr>\n",
       "    <tr>\n",
       "      <th>2</th>\n",
       "      <td>0000210045da4f81e5f122c6bde5c2a617d03eef67f82c...</td>\n",
       "      <td>-3.049810</td>\n",
       "    </tr>\n",
       "    <tr>\n",
       "      <th>3</th>\n",
       "      <td>00003b41e58ede33b8daf61ab56d9952f17c9ad1c3976c...</td>\n",
       "      <td>-1.185190</td>\n",
       "    </tr>\n",
       "    <tr>\n",
       "      <th>4</th>\n",
       "      <td>00004b22eaeeeb0ec976890c1d9bfc14fd9427e98c4ee9...</td>\n",
       "      <td>2.011085</td>\n",
       "    </tr>\n",
       "    <tr>\n",
       "      <th>...</th>\n",
       "      <td>...</td>\n",
       "      <td>...</td>\n",
       "    </tr>\n",
       "    <tr>\n",
       "      <th>924616</th>\n",
       "      <td>ffff952c631f2c911b8a2a8ca56ea6e656309a83d2f64c...</td>\n",
       "      <td>-4.017557</td>\n",
       "    </tr>\n",
       "    <tr>\n",
       "      <th>924617</th>\n",
       "      <td>ffffcf5df59e5e0bba2a5ac4578a34e2b5aa64a1546cd3...</td>\n",
       "      <td>1.215095</td>\n",
       "    </tr>\n",
       "    <tr>\n",
       "      <th>924618</th>\n",
       "      <td>ffffd61f098cc056dbd7d2a21380c4804bbfe60856f475...</td>\n",
       "      <td>-0.297055</td>\n",
       "    </tr>\n",
       "    <tr>\n",
       "      <th>924619</th>\n",
       "      <td>ffffddef1fc3643ea179c93245b68dca0f36941cd83977...</td>\n",
       "      <td>-0.764196</td>\n",
       "    </tr>\n",
       "    <tr>\n",
       "      <th>924620</th>\n",
       "      <td>fffffa7cf7e453e1acc6a1426475d5cb9400859f82ff61...</td>\n",
       "      <td>-3.281546</td>\n",
       "    </tr>\n",
       "  </tbody>\n",
       "</table>\n",
       "<p>924621 rows × 2 columns</p>\n",
       "</div>"
      ],
      "text/plain": [
       "                                              customer_ID  prediction\n",
       "0       00000469ba478561f23a92a868bd366de6f6527a684c9a...   -3.547182\n",
       "1       00001bf2e77ff879fab36aa4fac689b9ba411dae63ae39...   -7.198933\n",
       "2       0000210045da4f81e5f122c6bde5c2a617d03eef67f82c...   -3.049810\n",
       "3       00003b41e58ede33b8daf61ab56d9952f17c9ad1c3976c...   -1.185190\n",
       "4       00004b22eaeeeb0ec976890c1d9bfc14fd9427e98c4ee9...    2.011085\n",
       "...                                                   ...         ...\n",
       "924616  ffff952c631f2c911b8a2a8ca56ea6e656309a83d2f64c...   -4.017557\n",
       "924617  ffffcf5df59e5e0bba2a5ac4578a34e2b5aa64a1546cd3...    1.215095\n",
       "924618  ffffd61f098cc056dbd7d2a21380c4804bbfe60856f475...   -0.297055\n",
       "924619  ffffddef1fc3643ea179c93245b68dca0f36941cd83977...   -0.764196\n",
       "924620  fffffa7cf7e453e1acc6a1426475d5cb9400859f82ff61...   -3.281546\n",
       "\n",
       "[924621 rows x 2 columns]"
      ]
     },
     "metadata": {},
     "output_type": "display_data"
    }
   ],
   "source": [
    "if INFERENCE:\n",
    "    sub = pd.DataFrame({'customer_ID': test.index,\n",
    "                        'prediction': np.mean(y_pred_list, axis=0)})\n",
    "    sub.to_csv('submission.csv', index=False)\n",
    "    display(sub)"
   ]
  },
  {
   "cell_type": "code",
   "execution_count": 8,
   "id": "7d7ad2ec",
   "metadata": {
    "execution": {
     "iopub.execute_input": "2022-07-23T14:56:08.997808Z",
     "iopub.status.busy": "2022-07-23T14:56:08.996709Z",
     "iopub.status.idle": "2022-07-23T14:56:09.584321Z",
     "shell.execute_reply": "2022-07-23T14:56:09.583013Z"
    },
    "papermill": {
     "duration": 0.599755,
     "end_time": "2022-07-23T14:56:09.586917",
     "exception": false,
     "start_time": "2022-07-23T14:56:08.987162",
     "status": "completed"
    },
    "tags": []
   },
   "outputs": [
    {
     "data": {
      "image/png": "[encoded data removed]",
      "text/plain": [
       "<Figure size 864x288 with 1 Axes>"
      ]
     },
     "metadata": {
      "needs_background": "light"
     },
     "output_type": "display_data"
    }
   ],
   "source": [
    "plt.figure(figsize=(12, 4))\n",
    "plt.hist(sigmoid(sub.prediction), bins=np.linspace(0, 1, 101), density=True)\n",
    "plt.hist(sigmoid(y_va_pred), bins=np.linspace(0, 1, 101), rwidth=0.5, color='orange', density=True)\n",
    "plt.show()"
   ]
  },
  {
   "cell_type": "code",
   "execution_count": null,
   "id": "d2bb798e",
   "metadata": {
    "papermill": {
     "duration": 0.008351,
     "end_time": "2022-07-23T14:56:09.605537",
     "exception": false,
     "start_time": "2022-07-23T14:56:09.597186",
     "status": "completed"
    },
    "tags": []
   },
   "outputs": [],
   "source": []
  }
 ],
 "metadata": {
  "kernelspec": {
   "display_name": "Python 3",
   "language": "python",
   "name": "python3"
  },
  "language_info": {
   "codemirror_mode": {
    "name": "ipython",
    "version": 3
   },
   "file_extension": ".py",
   "mimetype": "text/x-python",
   "name": "python",
   "nbconvert_exporter": "python",
   "pygments_lexer": "ipython3",
   "version": "3.7.12"
  },
  "papermill": {
   "default_parameters": {},
   "duration": 2855.629923,
   "end_time": "2022-07-23T14:56:11.047587",
   "environment_variables": {},
   "exception": null,
   "input_path": "__notebook__.ipynb",
   "output_path": "__notebook__.ipynb",
   "parameters": {},
   "start_time": "2022-07-23T14:08:35.417664",
   "version": "2.3.4"
  }
 },
 "nbformat": 4,
 "nbformat_minor": 5
}
