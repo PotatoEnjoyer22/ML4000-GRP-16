{
 "cells": [
  {
   "cell_type": "markdown",
   "id": "b0a113d8",
   "metadata": {
    "id": "2vTwQk68nSeH",
    "papermill": {
     "duration": 0.007707,
     "end_time": "2022-07-21T18:54:42.259338",
     "exception": false,
     "start_time": "2022-07-21T18:54:42.251631",
     "status": "completed"
    },
    "tags": []
   },
   "source": [
    "# Statement Dates with Pyramid\n",
    "\n",
    "No changes from original notebook https://www.kaggle.com/code/romaupgini/statement-dates-to-use-or-not-to-use ,  except to use as proof-of-concept and turbo-charge it with the pyramid technique. Much improved even with same training budget. I also did modify the final fold ensembling to a preferred method. Note I wasn't able to get deterministic behavior with this notebook, your results may vary but should be similar.\n",
    "\n",
    "See here for another example of using the pyramid with my own notebook: https://www.kaggle.com/code/roberthatch/xgboost-pyramid-test-predictions\n",
    "\n",
    "Below is from original notebook\n",
    "\n",
    "# 📆 Statement dates - Is there any valuable information for feature engineering?\n",
    "______________________________\n",
    "*updated 2022-07-17 [@roma-upgini](https://www.kaggle.com/romaupgini)*  🗣 Share this notebook: [Shareable Link](https://www.kaggle.com/romaupgini/statement-dates-to-use-or-not-to-use)\n",
    "\n",
    "\n",
    "## Four hypothesis on statement dates for feature engineering:\n",
    "\n",
    "1️⃣ There is last statement date seasonality for default rate and we can increase prediction accuracy by adding time dependent features for the last statement date (sin, cos, number of day, week etc). We have 31 days of statements (from 03/01 till 03/31). So, we can only check weekly seasonality.  \n",
    "\n",
    "2️⃣ There is an influence on default rate from holidays before/after the last statement, which might change income or spend structure for the households. We have to specify country for the holidays, but we can guess that for AMEX with a relatively high accuracy.  \n",
    "\n",
    "3️⃣ There is an influence on default rate from local economic situation, like emloyment, price inflation rates, central bank rates etc. Same - we'll need a country for that. However, 31 days of March 2018 most probably won't be enough to catch correlation with macroeconomical situation on training phase. But we have test set for April 2019 (public LB part) and October 2019 (private LB part) with 13-19 month shift from train period - enough for macroeconomics influence. It's worth to try.  \n",
    "\n",
    "4️⃣ Changes in statement dates for 13 month observation period has additional information correlated with default. From what I know about credit cards - consumer might change statement date, for example after salary date change. Which, in turn, might be the signal for employment change.\n",
    "\n",
    "**Let's check them one by one.**\n",
    "______________________________\n",
    "\n",
    "## Packages and functions\n",
    "\n",
    "📚 In this notebook we'll use:\n",
    "* [Upgini](https://github.com/upgini/upgini#readme) - Free automated data and feature enrichment library for machine learning applications <a href=\"https://github.com/upgini/upgini\">\n",
    "    <img src=\"https://img.shields.io/badge/GitHub-100000?style=for-the-badge&logo=github&logoColor=white\"  align='center'>\n",
    "</a>\n",
    "* [CuDF from RAPIDS.ai](https://github.com/rapidsai/cudf) - DataFrame on GPU\n",
    "\n",
    "**Switch on Internet and GPU for this kernel!**"
   ]
  },
  {
   "cell_type": "code",
   "execution_count": 1,
   "id": "7cf20506",
   "metadata": {
    "_kg_hide-input": true,
    "execution": {
     "iopub.execute_input": "2022-07-21T18:54:42.274166Z",
     "iopub.status.busy": "2022-07-21T18:54:42.273330Z",
     "iopub.status.idle": "2022-07-21T18:55:03.050479Z",
     "shell.execute_reply": "2022-07-21T18:55:03.049504Z"
    },
    "id": "fRp2xBeInSeM",
    "outputId": "4ab54a36-e31d-4cec-f054-d2269736bb10",
    "papermill": {
     "duration": 20.787465,
     "end_time": "2022-07-21T18:55:03.053003",
     "exception": false,
     "start_time": "2022-07-21T18:54:42.265538",
     "status": "completed"
    },
    "tags": []
   },
   "outputs": [
    {
     "name": "stdout",
     "output_type": "stream",
     "text": [
      "\u001b[33mWARNING: Running pip as the 'root' user can result in broken permissions and conflicting behaviour with the system package manager. It is recommended to use a virtual environment instead: https://pip.pypa.io/warnings/venv\u001b[0m\u001b[33m\r\n",
      "\u001b[0mNote: you may need to restart the kernel to use updated packages.\n"
     ]
    }
   ],
   "source": [
    "%pip install -Uq upgini\n",
    "import pandas as pd, numpy as np\n",
    "import sklearn\n",
    "import matplotlib.pyplot as plt, gc, os\n",
    "import seaborn as sns\n",
    "import cupy, cudf\n",
    "\n",
    "# RANDOM SEED\n",
    "SEED = 42\n",
    "# FILL NAN VALUE\n",
    "NAN_VALUE = -127\n",
    "\n",
    "def read_file2cudf(path = '', usecols = None):\n",
    "    # LOAD DATAFRAME\n",
    "    if usecols is not None: df = cudf.read_parquet(path, columns=usecols)\n",
    "    else: df = cudf.read_parquet(path)\n",
    "    # REDUCE DTYPE FOR CUSTOMER AND DATE\n",
    "    df['customer_ID'] = df['customer_ID'].str[-16:].str.hex_to_int().astype('int64')\n",
    "    df.S_2 = cudf.to_datetime( df.S_2 )\n",
    "    print('shape of data:', df.shape)\n",
    "    return df\n",
    "\n",
    "# CALCULATE SIZE OF EACH SEPARATE TEST PART\n",
    "def get_rows(customers, test, NUM_PARTS = 4, verbose = ''):\n",
    "    chunk = len(customers)//NUM_PARTS\n",
    "    if verbose != '':\n",
    "        print(f'We will process {verbose} data as {NUM_PARTS} separate parts.')\n",
    "        print(f'There will be {chunk} customers in each part (except the last part).')\n",
    "        print('Below are number of rows in each part:')\n",
    "    rows = []\n",
    "\n",
    "    for k in range(NUM_PARTS):\n",
    "        if k==NUM_PARTS-1: cc = customers[k*chunk:]\n",
    "        else: cc = customers[k*chunk:(k+1)*chunk]\n",
    "        s = test.loc[test.customer_ID.isin(cc)].shape[0]\n",
    "        rows.append(s)\n",
    "    if verbose != '': print( rows )\n",
    "    return rows,chunk\n",
    "\n",
    "def xgb_amex(y_pred, y_true):\n",
    "    return 'amex', amex_metric_np(y_pred,y_true.get_label())\n",
    "def lgb_amex_metric(y_pred, y_true):\n",
    "    return 'amex', amex_metric_np(y_pred,y_true.get_label()), True\n",
    "\n",
    "# code by @https://www.kaggle.com/yunchonggan\n",
    "# https://www.kaggle.com/competitions/amex-default-prediction/discussion/328020\n",
    "def amex_metric_np(preds: np.ndarray, target: np.ndarray) -> float:\n",
    "    n_pos = np.sum(target)\n",
    "    n_neg = target.shape[0] - n_pos\n",
    "\n",
    "    indices = np.argsort(preds)[::-1]\n",
    "    preds, target = preds[indices], target[indices]\n",
    "\n",
    "    weight = 20.0 - target * 19.0\n",
    "    cum_norm_weight = (weight * (1 / weight.sum())).cumsum()\n",
    "    four_pct_mask = cum_norm_weight <= 0.04\n",
    "    d = np.sum(target[four_pct_mask]) / n_pos\n",
    "\n",
    "    lorentz = (target * (1 / n_pos)).cumsum()\n",
    "    gini = ((lorentz - cum_norm_weight) * weight).sum()\n",
    "\n",
    "    gini_max = 10 * n_neg * (1 - 19 / (n_pos + 20 * n_neg))\n",
    "\n",
    "    g = gini / gini_max\n",
    "    return 0.5 * (g + d)\n",
    "\n",
    "# official metric\n",
    "import pandas as pd\n",
    "def amex_metric(y_true: pd.DataFrame, y_pred: pd.DataFrame) -> float:\n",
    "\n",
    "    def top_four_percent_captured(y_true: pd.DataFrame, y_pred: pd.DataFrame) -> float:\n",
    "        df = (pd.concat([y_true, y_pred], axis='columns')\n",
    "              .sort_values('prediction', ascending=False))\n",
    "        df['weight'] = df['target'].apply(lambda x: 20 if x==0 else 1)\n",
    "        four_pct_cutoff = int(0.04 * df['weight'].sum())\n",
    "        df['weight_cumsum'] = df['weight'].cumsum()\n",
    "        df_cutoff = df.loc[df['weight_cumsum'] <= four_pct_cutoff]\n",
    "        return (df_cutoff['target'] == 1).sum() / (df['target'] == 1).sum()\n",
    "        \n",
    "    def weighted_gini(y_true: pd.DataFrame, y_pred: pd.DataFrame) -> float:\n",
    "        df = (pd.concat([y_true, y_pred], axis='columns')\n",
    "              .sort_values('prediction', ascending=False))\n",
    "        df['weight'] = df['target'].apply(lambda x: 20 if x==0 else 1)\n",
    "        df['random'] = (df['weight'] / df['weight'].sum()).cumsum()\n",
    "        total_pos = (df['target'] * df['weight']).sum()\n",
    "        df['cum_pos_found'] = (df['target'] * df['weight']).cumsum()\n",
    "        df['lorentz'] = df['cum_pos_found'] / total_pos\n",
    "        df['gini'] = (df['lorentz'] - df['random']) * df['weight']\n",
    "        return df['gini'].sum()\n",
    "\n",
    "    def normalized_weighted_gini(y_true: pd.DataFrame, y_pred: pd.DataFrame) -> float:\n",
    "        y_true_pred = y_true.rename(columns={'target': 'prediction'})\n",
    "        return weighted_gini(y_true, y_pred) / weighted_gini(y_true, y_true_pred)\n",
    "\n",
    "    g = normalized_weighted_gini(y_true, y_pred)\n",
    "    d = top_four_percent_captured(y_true, y_pred)\n",
    "\n",
    "    return 0.5 * (g + d)"
   ]
  },
  {
   "cell_type": "markdown",
   "id": "cd49d467",
   "metadata": {
    "id": "VSP5UNEVnSeO",
    "papermill": {
     "duration": 0.005917,
     "end_time": "2022-07-21T18:55:03.065337",
     "exception": false,
     "start_time": "2022-07-21T18:55:03.059420",
     "status": "completed"
    },
    "tags": []
   },
   "source": [
    "## Quick data exploration - Last statement date"
   ]
  },
  {
   "cell_type": "code",
   "execution_count": 2,
   "id": "9ee17a1d",
   "metadata": {
    "_kg_hide-input": true,
    "execution": {
     "iopub.execute_input": "2022-07-21T18:55:03.080158Z",
     "iopub.status.busy": "2022-07-21T18:55:03.078487Z",
     "iopub.status.idle": "2022-07-21T18:55:03.083709Z",
     "shell.execute_reply": "2022-07-21T18:55:03.082812Z"
    },
    "id": "aCfEBLomnSeP",
    "papermill": {
     "duration": 0.014375,
     "end_time": "2022-07-21T18:55:03.085735",
     "exception": false,
     "start_time": "2022-07-21T18:55:03.071360",
     "status": "completed"
    },
    "tags": []
   },
   "outputs": [],
   "source": [
    "# train = pd.read_parquet('../input/amex-data-integer-dtypes-parquet-format/train.parquet', columns=['S_2','customer_ID'])\n",
    "# train['S_2'] = pd.to_datetime(train['S_2'])\n",
    "# train = train.groupby('customer_ID')['S_2'].agg('max').reset_index() #last statement only\n",
    "\n",
    "# df_train_labels = pd.read_csv('../input/amex-default-prediction/train_labels.csv')\n",
    "# train = train.merge(df_train_labels, on='customer_ID')\n",
    "# del df_train_labels\n",
    "# _ = gc.collect()\n",
    "# print(\"Shape of data: \",train.shape)"
   ]
  },
  {
   "cell_type": "markdown",
   "id": "26dafb92",
   "metadata": {
    "id": "ttMeUMtJnSeP",
    "papermill": {
     "duration": 0.005845,
     "end_time": "2022-07-21T18:55:03.098152",
     "exception": false,
     "start_time": "2022-07-21T18:55:03.092307",
     "status": "completed"
    },
    "tags": []
   },
   "source": [
    "First, let's check number of statements and default rates by day. Where **default rate** is a ratio of customers with default on specific date."
   ]
  },
  {
   "cell_type": "code",
   "execution_count": 3,
   "id": "3726be52",
   "metadata": {
    "_kg_hide-input": true,
    "execution": {
     "iopub.execute_input": "2022-07-21T18:55:03.111310Z",
     "iopub.status.busy": "2022-07-21T18:55:03.111035Z",
     "iopub.status.idle": "2022-07-21T18:55:03.115250Z",
     "shell.execute_reply": "2022-07-21T18:55:03.114248Z"
    },
    "id": "SqqMRmnwnSeQ",
    "papermill": {
     "duration": 0.013282,
     "end_time": "2022-07-21T18:55:03.117404",
     "exception": false,
     "start_time": "2022-07-21T18:55:03.104122",
     "status": "completed"
    },
    "tags": []
   },
   "outputs": [],
   "source": [
    "# plot_df=train.groupby(\"S_2\").target.count()\n",
    "# new_train = pd.DataFrame(train.groupby(\"S_2\").target.mean())\n",
    "# print (f\"Number of days in train set: {new_train['target'].count()}\")\n",
    "# print (f\"Standard deviation of Default ratio: {new_train['target'].std()}\")\n",
    "\n",
    "# fig, ax = plt.subplots(2,1,figsize = (20,8))\n",
    "# plot_df.plot(title = \"# Statements\", ax = ax[0])\n",
    "# new_train.plot(title = \"% of Defaults\", ax = ax[1])\n",
    "# plt.show()\n",
    "# del plot_df, ax, fig"
   ]
  },
  {
   "cell_type": "markdown",
   "id": "a68d0034",
   "metadata": {
    "id": "S2k-_pxQnSeQ",
    "papermill": {
     "duration": 0.00577,
     "end_time": "2022-07-21T18:55:03.129143",
     "exception": false,
     "start_time": "2022-07-21T18:55:03.123373",
     "status": "completed"
    },
    "tags": []
   },
   "source": [
    "Interesting, most likely there are\n",
    "* either a strong card sales seasonality (most probably statement date derived from card activation date) - ie very few card sales on Sundays, and a big spike on Saturdays\n",
    "* or strong preferences on statement dates by customers themselfs\n",
    "\n",
    ">Disclaimer - I'm not an AMEX customer, but for most of the banks you can choose statement date, so I'm extrapolating here\n",
    "\n",
    "Next, default ratio by day.  \n",
    "There is a deviation between days, but it's hard to guess weither it is significant or not.\n",
    "**And we have two options here:**\n",
    "1. Let's assume it's a time series, where **y** is a Default Ratio. Then, if there is an influence like in Hypothesis #3 (macroeconomic influence), it must be some trend component in this TS. So we can check Stationarity of TS using [Augmented Dickey-Fuller test](https://en.wikipedia.org/wiki/Augmented_Dickey–Fuller_test) with a significance level of less than 5%.  \n",
    "The intuition behind this test is that it determines how strongly a time series is defined by a trend. However, there is a case, when it's doesn't help us - Hypothesis #1. As Augmented Dickey-Fuller test  won't detect seasonal component (it's a stationary TS). **So we have to use something different.**\n",
    "\n",
    "2. Let's auto generate **A LOT** of features from Holiday calendars, Workweek calendars, Political calendars, Sport calendars, sin, cos for month/week, add economic indicators and financial market data by using any data enrichment library. Then do feature selection with feature permutation. In this case - only features which has a statistically significant influence on model accuracy will be picked up. **Here we'll be able to test ALL Hypothesis #1, #2, #3 AT ONCE.**\n",
    "\n",
    "So let's do Option 2, as it's quicker, using [Upgini](https://github.com/upgini/upgini#readme) - Free automated data and feature enrichment library for machine learning applications.   \n",
    "It will add automatically a lot of external information about dates, holidays, events, financial markets, consumer sentiments, weather etc. all for the specific country / location. Than automatically checks for relevance (ie influence on prediction accuracy improvement) and select only features which will improve it.  \n",
    "Full [list of data scources and features, such as weather features, calendar features, financial features, etc ](https://github.com/upgini/upgini#-connected-data-sources-and-coverage)"
   ]
  },
  {
   "cell_type": "markdown",
   "id": "9d3b77cc",
   "metadata": {
    "id": "iQiKzD_7nSeR",
    "papermill": {
     "duration": 0.006276,
     "end_time": "2022-07-21T18:55:03.141593",
     "exception": false,
     "start_time": "2022-07-21T18:55:03.135317",
     "status": "completed"
    },
    "tags": []
   },
   "source": [
    "## Hypothesis 1️⃣, 2️⃣, 3️⃣ test with Upgini automated data and feature enrichment library\n",
    "\n",
    "To initiate search with Upgini library, you need to define so called [*search keys*](https://github.com/upgini/upgini#-search-key-types-we-support-more-is-coming) - a set of columns to join external data sources and features. In this competition we can use the following keys:\n",
    "\n",
    "1. Column **date** should be used as **SearchKey.DATE**.;  \n",
    "2. **Country** as \"US\" and \"UK\" (ISO-3166 country code), as most of AMEX customers are from US, next major market is UK.\n",
    "    \n",
    "With this set of search keys, our X dataset will be matched with [different date-specific features](https://github.com/upgini/upgini#-connected-data-sources-and-coverage), taking into account the country. Than relevant selection and ranking will be done.  \n",
    "  \n",
    "To start the search, we need to initiate *scikit-learn* compartible `FeaturesEnricher` transformer with appropriate **search** parameters.    \n",
    "After that, we can call the **fit** or **fit_transform**  method of `features_enricher`."
   ]
  },
  {
   "cell_type": "code",
   "execution_count": 4,
   "id": "765e2cad",
   "metadata": {
    "execution": {
     "iopub.execute_input": "2022-07-21T18:55:03.154648Z",
     "iopub.status.busy": "2022-07-21T18:55:03.154385Z",
     "iopub.status.idle": "2022-07-21T18:55:03.158713Z",
     "shell.execute_reply": "2022-07-21T18:55:03.157760Z"
    },
    "id": "X9OIUSzGnSeS",
    "papermill": {
     "duration": 0.013269,
     "end_time": "2022-07-21T18:55:03.160796",
     "exception": false,
     "start_time": "2022-07-21T18:55:03.147527",
     "status": "completed"
    },
    "tags": []
   },
   "outputs": [],
   "source": [
    "# from upgini import FeaturesEnricher, SearchKey\n",
    "# from upgini.dataset import Dataset\n",
    "\n",
    "# enricher = FeaturesEnricher(\n",
    "#     date_format=\"%Y-%m-%d\",\n",
    "#     search_keys={\"S_2\": SearchKey.DATE},\n",
    "#     country_code = \"US\", # change that to UK for another run\n",
    "# )\n",
    "# Dataset.MIN_ROWS_COUNT = 20 #small X dataset, removed internal checks"
   ]
  },
  {
   "cell_type": "markdown",
   "id": "9e008604",
   "metadata": {
    "id": "MrAywH7qnSeT",
    "papermill": {
     "duration": 0.005842,
     "end_time": "2022-07-21T18:55:03.172665",
     "exception": false,
     "start_time": "2022-07-21T18:55:03.166823",
     "status": "completed"
    },
    "tags": []
   },
   "source": [
    "For `FeaturesEnricher.fit()` method, just like in all scikit-learn transformers, we should pass **X_train** as the first argument and **y_train** as the second argument.   \n",
    "**y_train** is needed to select **only relevant features & datasets, which will improve accuracy**. And rank new external features according to their prediction contribution, calculated as a SHAP values.  "
   ]
  },
  {
   "cell_type": "code",
   "execution_count": 5,
   "id": "77c442ab",
   "metadata": {
    "execution": {
     "iopub.execute_input": "2022-07-21T18:55:03.185724Z",
     "iopub.status.busy": "2022-07-21T18:55:03.185472Z",
     "iopub.status.idle": "2022-07-21T18:55:03.189707Z",
     "shell.execute_reply": "2022-07-21T18:55:03.188744Z"
    },
    "id": "Ne412cW5nSeT",
    "papermill": {
     "duration": 0.013158,
     "end_time": "2022-07-21T18:55:03.191782",
     "exception": false,
     "start_time": "2022-07-21T18:55:03.178624",
     "status": "completed"
    },
    "tags": []
   },
   "outputs": [],
   "source": [
    "# enricher.fit(\n",
    "#     new_train.drop(columns=\"target\").reset_index(),\n",
    "#     new_train[\"target\"]\n",
    "# )\n",
    "# del enricher, train, new_train\n",
    "# _ = gc.collect()"
   ]
  },
  {
   "cell_type": "markdown",
   "id": "94704e93",
   "metadata": {
    "id": "bHBHJCc6nSeT",
    "papermill": {
     "duration": 0.005787,
     "end_time": "2022-07-21T18:55:03.203558",
     "exception": false,
     "start_time": "2022-07-21T18:55:03.197771",
     "status": "completed"
    },
    "tags": []
   },
   "source": [
    "### 🏁 Conclusion for Hypothesis #1, #2 and #3\n",
    "\n",
    "**No relevant external features on dates found - both for US, and for UK.**  \n",
    "So we have **to reject** Hypothesis #1,#2 and #3 for this training dataset.  \n",
    "\n",
    "IMHO, there must be some influence, but to catch that, we need different training data structured in a following way:\n",
    "\n",
    "1. 3 months of statements for default customers, minimum\n",
    "2. gap window between months in 3 month set - at least 6 months  \n",
    "\n",
    "Than we'll have 15 months observation window in a following schema: **1 + 6 months gap + 1 + 6 months gap + 1**"
   ]
  },
  {
   "cell_type": "markdown",
   "id": "9fc40ef3",
   "metadata": {
    "id": "JMg4lcscnSeU",
    "papermill": {
     "duration": 0.005828,
     "end_time": "2022-07-21T18:55:03.215406",
     "exception": false,
     "start_time": "2022-07-21T18:55:03.209578",
     "status": "completed"
    },
    "tags": []
   },
   "source": [
    "## Hypothesis 4️⃣ test, using optimized public notebook from [@cdeotte](https://www.kaggle.com/code/cdeotte/xgboost-starter-0-793) (🙏)\n",
    "\n",
    "Baseline Public score for this notebook was **0.793**, local CV **0.794**    \n",
    "I made following impovements\n",
    "* CV with Stratification and 4 Folds\n",
    "* Changed CV metric from OOF Score to Average Score\n",
    "* Removed features with changes in cals methodology between train and LBs: B_29 and S_9\n",
    "* Added \"after-pay\" features\n",
    "* Removed NaN replacement\n",
    "* Permutation feature selection\n",
    "* More feature eng. with additional statistics on last observations (1500+ features)\n",
    "* Changed hyperparams for XGB\n",
    "\n",
    "Public score after these changes **0.796** with local CV **0.79639** which is more consistent **\"Local CV to LB match\"** than before\n",
    "\n",
    "Now, let's calculate features from statement dates distances and compare results on the Public LB after enrichment with this new features.   \n",
    "For **quick** estimation we'll do 2 steps:\n",
    "1. Calculate Distance between statement dates. Impute first observation / only one statement case with mean() value.\n",
    "2. Calculate Stat. features for Statement dates distance column\n",
    "\n",
    "### Quick feature engineering on distance between statement dates:"
   ]
  },
  {
   "cell_type": "code",
   "execution_count": 6,
   "id": "996bbc1d",
   "metadata": {
    "execution": {
     "iopub.execute_input": "2022-07-21T18:55:03.229019Z",
     "iopub.status.busy": "2022-07-21T18:55:03.228733Z",
     "iopub.status.idle": "2022-07-21T18:55:03.269685Z",
     "shell.execute_reply": "2022-07-21T18:55:03.268737Z"
    },
    "papermill": {
     "duration": 0.050268,
     "end_time": "2022-07-21T18:55:03.271741",
     "exception": false,
     "start_time": "2022-07-21T18:55:03.221473",
     "status": "completed"
    },
    "tags": []
   },
   "outputs": [],
   "source": [
    "def feature_engineer(df):\n",
    "    cat_features = [\"B_30\",\"B_38\",\"D_114\",\"D_116\",\"D_117\",\"D_120\",\"D_126\",\"D_63\",\"D_64\",\"D_66\",\"D_68\"]\n",
    "    \n",
    "    # Initial feature selection to speed up fitting, based on @ambros\n",
    "    # https://www.kaggle.com/code/ambrosm/amex-lightgbm-quickstart/notebook\n",
    "    features_avg = ['B_1', 'B_2', 'B_3', 'B_4', 'B_5', 'B_6', 'B_8', 'B_9', 'B_10', 'B_11', 'B_12', 'B_13', 'B_14', 'B_15', 'B_16', 'B_17', 'B_18', 'B_19', 'B_20', 'B_21', 'B_22', 'B_23', 'B_24', 'B_25', 'B_28', 'B_30', 'B_32', 'B_33', 'B_37', 'B_38', 'B_39', 'B_40', 'B_41', 'B_42', 'D_39', 'D_41', 'D_42', 'D_43', 'D_44', 'D_45', 'D_46', 'D_47', 'D_48', 'D_50', 'D_51', 'D_53', 'D_54', 'D_55', 'D_58', 'D_59', 'D_60', 'D_61', 'D_62', 'D_65', 'D_66', 'D_69', 'D_70', 'D_71', 'D_72', 'D_73', 'D_74', 'D_75', 'D_76', 'D_77', 'D_78', 'D_80', 'D_82', 'D_84', 'D_86', 'D_91', 'D_92', 'D_94', 'D_96', 'D_103', 'D_104', 'D_108', 'D_112', 'D_113', 'D_114', 'D_115', 'D_117', 'D_118', 'D_119', 'D_120', 'D_121', 'D_122', 'D_123', 'D_124', 'D_125', 'D_126', 'D_128', 'D_129', 'D_131', 'D_132', 'D_133', 'D_134', 'D_135', 'D_136', 'D_140', 'D_141', 'D_142', 'D_144', 'D_145', 'P_2', 'P_3', 'P_4', 'R_1', 'R_2', 'R_3', 'R_7', 'R_8', 'R_9', 'R_10', 'R_11', 'R_14', 'R_15', 'R_16', 'R_17', 'R_20', 'R_21', 'R_22', 'R_24', 'R_26', 'R_27', 'S_3', 'S_5', 'S_6', 'S_7', 'S_11', 'S_12', 'S_13', 'S_15', 'S_16', 'S_18', 'S_22', 'S_23', 'S_25', 'S_26']\n",
    "    features_min = ['B_2', 'B_4', 'B_5', 'B_9', 'B_13', 'B_14', 'B_15', 'B_16', 'B_17', 'B_19', 'B_20', 'B_28', 'B_33', 'B_36', 'B_42', 'D_39', 'D_41', 'D_42', 'D_45', 'D_46', 'D_48', 'D_50', 'D_51', 'D_53', 'D_55', 'D_56', 'D_58', 'D_59', 'D_60', 'D_62', 'D_70', 'D_71', 'D_74', 'D_75', 'D_78', 'D_83', 'D_102', 'D_112', 'D_113', 'D_115', 'D_118', 'D_119', 'D_121', 'D_122', 'D_128', 'D_132', 'D_140', 'D_141', 'D_144', 'D_145', 'P_2', 'P_3', 'R_1', 'R_27', 'S_3', 'S_5', 'S_7', 'S_11', 'S_12', 'S_23', 'S_25']\n",
    "    features_max = ['B_1', 'B_2', 'B_3', 'B_4', 'B_5', 'B_6', 'B_7', 'B_8', 'B_9', 'B_10', 'B_12', 'B_13', 'B_14', 'B_15', 'B_16', 'B_17', 'B_18', 'B_19', 'B_21', 'B_23', 'B_24', 'B_25', 'B_30', 'B_33', 'B_37', 'B_38', 'B_39', 'B_40', 'B_42', 'D_39', 'D_41', 'D_42', 'D_43', 'D_44', 'D_45', 'D_46', 'D_47', 'D_48', 'D_49', 'D_50', 'D_52', 'D_55', 'D_56', 'D_58', 'D_59', 'D_60', 'D_61', 'D_63', 'D_64', 'D_65', 'D_70', 'D_71', 'D_72', 'D_73', 'D_74', 'D_76', 'D_77', 'D_78', 'D_80', 'D_82', 'D_84', 'D_91', 'D_102', 'D_105', 'D_107', 'D_110', 'D_111', 'D_112', 'D_115', 'D_116', 'D_117', 'D_118', 'D_119', 'D_121', 'D_122', 'D_123', 'D_124', 'D_125', 'D_126', 'D_128', 'D_131', 'D_132', 'D_133', 'D_134', 'D_135', 'D_136', 'D_138', 'D_140', 'D_141', 'D_142', 'D_144', 'D_145', 'P_2', 'P_3', 'P_4', 'R_1', 'R_3', 'R_5', 'R_6', 'R_7', 'R_8', 'R_10', 'R_11', 'R_14', 'R_17', 'R_20', 'R_26', 'R_27', 'S_3', 'S_5', 'S_7', 'S_8', 'S_11', 'S_12', 'S_13', 'S_15', 'S_16', 'S_22', 'S_23', 'S_24', 'S_25', 'S_26', 'S_27']\n",
    "    features_last = ['B_1', 'B_2', 'B_3', 'B_4', 'B_5', 'B_6', 'B_7', 'B_8', 'B_9', 'B_10', 'B_11', 'B_12', 'B_13', 'B_14', 'B_15', 'B_16', 'B_17', 'B_18', 'B_19', 'B_20', 'B_21', 'B_22', 'B_23', 'B_24', 'B_25', 'B_26', 'B_28', 'B_30', 'B_32', 'B_33', 'B_36', 'B_37', 'B_38', 'B_39', 'B_40', 'B_41', 'B_42', 'D_39', 'D_41', 'D_42', 'D_43', 'D_44', 'D_45', 'D_46', 'D_47', 'D_48', 'D_49', 'D_50', 'D_51', 'D_52', 'D_53', 'D_54', 'D_55', 'D_56', 'D_58', 'D_59', 'D_60', 'D_61', 'D_62', 'D_63', 'D_64', 'D_65', 'D_69', 'D_70', 'D_71', 'D_72', 'D_73', 'D_75', 'D_76', 'D_77', 'D_78', 'D_79', 'D_80', 'D_81', 'D_82', 'D_83', 'D_86', 'D_91', 'D_96', 'D_105', 'D_106', 'D_112', 'D_114', 'D_119', 'D_120', 'D_121', 'D_122', 'D_124', 'D_125', 'D_126', 'D_127', 'D_130', 'D_131', 'D_132', 'D_133', 'D_134', 'D_138', 'D_140', 'D_141', 'D_142', 'D_145', 'P_2', 'P_3', 'P_4', 'R_1', 'R_2', 'R_3', 'R_4', 'R_5', 'R_6', 'R_7', 'R_8', 'R_9', 'R_10', 'R_11', 'R_12', 'R_13', 'R_14', 'R_15', 'R_19', 'R_20', 'R_26', 'R_27', 'S_3', 'S_5', 'S_6', 'S_7', 'S_8', 'S_11', 'S_12', 'S_13', 'S_16', 'S_19', 'S_20', 'S_22', 'S_23', 'S_24', 'S_25', 'S_26', 'S_27']\n",
    "    features_last = list(set(features_last)-set(cat_features))\n",
    "    features_max = list(set(features_max)-set(cat_features))\n",
    "    features_min = list(set(features_min)-set(cat_features))\n",
    "    features_avg = list(set(features_avg)-set(cat_features))\n",
    "    \n",
    "    # Drop non stable features for train-test, based on % of NaNs\n",
    "    #https://www.kaggle.com/code/onodera1/amex-eda-comparison-of-training-and-test-data    \n",
    "    df.drop([\"B_29\",\"S_9\"], axis=1, inplace = True)\n",
    "    \n",
    "    # Hypothesis #4 - retrieve info from statement dates as distance between the dates\n",
    "    # Than calculate 'mean', 'std', 'max', 'last' statistics for distances\n",
    "    # cudf doesn't support diff() as GroupBy function, slow pandas DF used\n",
    "    temp = df[[\"customer_ID\",\"S_2\"]].to_pandas()\n",
    "    temp[\"SDist\"]=temp.groupby(\"customer_ID\")[\"S_2\"].diff() / np.timedelta64(1, 'D')\n",
    "    # Impute with average distance 30.53 days\n",
    "    temp['SDist'].fillna(30.53, inplace=True)\n",
    "    df = cudf.concat([df,cudf.from_pandas(temp[\"SDist\"])], axis=1)\n",
    "    del temp\n",
    "    _ = gc.collect()\n",
    "    features_last.append('SDist')\n",
    "    features_avg.append('SDist')\n",
    "    features_max.append('SDist')\n",
    "    features_min.append('SDist')\n",
    "    \n",
    "    #https://www.kaggle.com/competitions/amex-default-prediction/discussion/328514\n",
    "    df.loc[(df.R_13==0) & (df.R_17==0) & (df.R_20==0) & (df.R_8==0), 'R_6'] = 0\n",
    "    df.loc[df.B_39==-1, 'B_36'] = 0\n",
    "    \n",
    "    # Compute \"after pay\" features\n",
    "    # https://www.kaggle.com/code/jiweiliu/rapids-cudf-feature-engineering-xgb\n",
    "    for bcol in [f'B_{i}' for i in [11,14,17]]+['D_39','D_131']+[f'S_{i}' for i in [16,23]]:\n",
    "        for pcol in ['P_2','P_3']:\n",
    "            if bcol in df.columns:\n",
    "                df[[f'{bcol}-{pcol}']] = df[bcol] - df[pcol]\n",
    "                features_last.append(f'{bcol}-{pcol}')\n",
    "                features_avg.append(f'{bcol}-{pcol}')\n",
    "                features_max.append(f'{bcol}-{pcol}')\n",
    "                features_min.append(f'{bcol}-{pcol}')\n",
    "                \n",
    "    # BASIC FEATURE ENGINEERING\n",
    "    # https://www.kaggle.com/code/huseyincot/amex-agg-data-how-it-created\n",
    "    # https://www.kaggle.com/code/jiweiliu/rapids-cudf-feature-engineering-xgb\n",
    "    \n",
    "    test_num_last = df.groupby(\"customer_ID\")[features_last].agg(['last','first'])\n",
    "    test_num_last.columns = ['_'.join(x) for x in test_num_last.columns]\n",
    "    test_num_min = df.groupby(\"customer_ID\")[features_min].agg(['min'])\n",
    "    test_num_min.columns = ['_'.join(x) for x in test_num_min.columns]\n",
    "    test_num_max = df.groupby(\"customer_ID\")[features_max].agg(['max'])\n",
    "    test_num_max.columns = ['_'.join(x) for x in test_num_max.columns]\n",
    "    test_num_avg = df.groupby(\"customer_ID\")[features_avg].agg(['mean'])\n",
    "    test_num_avg.columns = ['_'.join(x) for x in test_num_avg.columns]\n",
    "    test_num_std = df.groupby(\"customer_ID\")[list(set().union(features_avg,features_last,features_min,features_max))].agg(['std','quantile'])\n",
    "    test_num_std.columns = ['_'.join(x) for x in test_num_std.columns]\n",
    "\n",
    "    test_cat_agg = df.groupby(\"customer_ID\")[cat_features].agg(['last','first'])\n",
    "    test_cat_agg.columns = ['_'.join(x) for x in test_cat_agg.columns]\n",
    "   \n",
    "    #add last statement date, statements count and \"new customer\" category (LT=0.5)\n",
    "    test_date_agg = df.groupby(\"customer_ID\")[[\"S_2\",\"B_3\",\"D_104\"]].agg(['last','count'])\n",
    "    test_date_agg.columns = ['_'.join(x) for x in test_date_agg.columns]\n",
    "    test_date_agg.rename(columns = {'S_2_count':'LT','S_2_last':'S_2'}, inplace = True)\n",
    "    test_date_agg.loc[(test_date_agg.B_3_last.isnull()) & (test_date_agg.LT==1),'LT'] = 0.5\n",
    "    test_date_agg.loc[(test_date_agg.D_104_last.isnull()) & (test_date_agg.LT==1),'LT'] = 0.5\n",
    "    test_date_agg.drop([\"B_3_last\",\"D_104_last\",\"B_3_count\",\"D_104_count\"], axis=1, inplace = True)\n",
    "    \n",
    "    df = cudf.concat([test_date_agg, test_num_last, test_num_min, test_num_max, test_num_avg, test_num_std, test_cat_agg], axis=1)\n",
    "    del test_date_agg, test_num_last, test_num_min, test_num_max, test_num_avg, test_num_std, test_cat_agg\n",
    "    \n",
    "    # Ratios/diffs on last values as features, based on @ragnar123\n",
    "    # https://www.kaggle.com/code/ragnar123/amex-lgbm-dart-cv-0-7977\n",
    "    for col in list(set().union(features_last,features_avg)):\n",
    "        try:\n",
    "            df[f'{col}_last_first_div'] = df[f'{col}_last'] / df[f'{col}_first']\n",
    "            df[f'{col}_last_mean_sub'] = df[f'{col}_last'] - df[f'{col}_mean']\n",
    "            df[f'{col}_last_mean_div'] = df[f'{col}_last'] / df[f'{col}_mean']\n",
    "            df[f'{col}_last_max_div'] = df[f'{col}_last'] / df[f'{col}_max']\n",
    "            df[f'{col}_last_min_div'] = df[f'{col}_last'] / df[f'{col}_min']\n",
    "        except:\n",
    "            pass\n",
    "        \n",
    "    print('shape after engineering', df.shape )\n",
    "    return df"
   ]
  },
  {
   "cell_type": "code",
   "execution_count": 7,
   "id": "ff5b97ab",
   "metadata": {
    "_kg_hide-input": true,
    "execution": {
     "iopub.execute_input": "2022-07-21T18:55:03.286123Z",
     "iopub.status.busy": "2022-07-21T18:55:03.285286Z",
     "iopub.status.idle": "2022-07-21T18:57:53.741589Z",
     "shell.execute_reply": "2022-07-21T18:57:53.740237Z"
    },
    "id": "ph7XZYHJnSeV",
    "outputId": "17b72947-9f7f-4ff7-c6c9-63d300d92bda",
    "papermill": {
     "duration": 170.466908,
     "end_time": "2022-07-21T18:57:53.745131",
     "exception": false,
     "start_time": "2022-07-21T18:55:03.278223",
     "status": "completed"
    },
    "tags": []
   },
   "outputs": [
    {
     "name": "stdout",
     "output_type": "stream",
     "text": [
      "shape of data: (5531451, 190)\n",
      "shape after engineering (458913, 1582)\n",
      "There are 1581 features!\n"
     ]
    }
   ],
   "source": [
    "train = []\n",
    "_ = gc.collect()\n",
    "# raddar Kaggle dataset\n",
    "# https://www.kaggle.com/datasets/raddar/amex-data-integer-dtypes-parquet-format\n",
    "PATH=\"../input/amex-data-integer-dtypes-parquet-format/train.parquet\"\n",
    "train = read_file2cudf(path = PATH)\n",
    "train = feature_engineer(train)\n",
    "\n",
    "# ADD TARGETS\n",
    "targets = cudf.read_csv('../input/amex-default-prediction/train_labels.csv')\n",
    "#targets = cudf.read_csv('/content/drive/MyDrive/colab/train_labels.csv')\n",
    "targets['customer_ID'] = targets['customer_ID'].str[-16:].str.hex_to_int().astype('int64')\n",
    "targets = targets.set_index('customer_ID')\n",
    "train = train.merge(targets, left_index=True, right_index=True, how='left')\n",
    "train.target = train.target.astype('int8')\n",
    "del targets\n",
    "\n",
    "# cudf merge above randomly shuffles rows\n",
    "train = train.sort_index().reset_index()\n",
    "\n",
    "# FEATURES\n",
    "# remove S_2 from FEATURES list\n",
    "FEATURES = train.columns[2:-1]\n",
    "print(f'There are {len(FEATURES)} features!')"
   ]
  },
  {
   "cell_type": "markdown",
   "id": "2d86b2d0",
   "metadata": {
    "id": "QxnyOolrnSeV",
    "papermill": {
     "duration": 0.006539,
     "end_time": "2022-07-21T18:57:53.759103",
     "exception": false,
     "start_time": "2022-07-21T18:57:53.752564",
     "status": "completed"
    },
    "tags": []
   },
   "source": [
    "### XGB Training on GPU\n",
    "Training with 4 folds, it will take 1h 30min on Kaggle's P100 GPU"
   ]
  },
  {
   "cell_type": "code",
   "execution_count": 8,
   "id": "64e57b18",
   "metadata": {
    "_kg_hide-input": true,
    "execution": {
     "iopub.execute_input": "2022-07-21T18:57:53.774030Z",
     "iopub.status.busy": "2022-07-21T18:57:53.772783Z",
     "iopub.status.idle": "2022-07-21T20:39:09.466470Z",
     "shell.execute_reply": "2022-07-21T20:39:09.465095Z"
    },
    "id": "Cg4IWfUfnSeV",
    "outputId": "717192b8-2389-4497-8d29-7432e717ceb4",
    "papermill": {
     "duration": 6075.703186,
     "end_time": "2022-07-21T20:39:09.468609",
     "exception": false,
     "start_time": "2022-07-21T18:57:53.765423",
     "status": "completed"
    },
    "scrolled": true,
    "tags": []
   },
   "outputs": [
    {
     "name": "stdout",
     "output_type": "stream",
     "text": [
      "#########################\n",
      "### Fold 1\n",
      "### Train size 344184 Valid size 114729\n",
      "#########################\n",
      "WARNING: non-deterministic behavior with same random seed, perhaps the column order is not guaranteed? Haven't found the root issue in this notebook.\n",
      "Learning Rate: 1.5600000000000003\n",
      "[0]\ttrain-logloss:0.26111\ttrain-amex:0.75289\tvalid-logloss:0.26503\tvalid-amex:0.74434\n",
      "[5]\ttrain-logloss:0.20703\ttrain-amex:0.81212\tvalid-logloss:0.22254\tvalid-amex:0.78465\n",
      "[9]\ttrain-logloss:0.19580\ttrain-amex:0.83069\tvalid-logloss:0.21926\tvalid-amex:0.78885\n"
     ]
    },
    {
     "data": {
      "image/png": "[encoded data removed]",
      "text/plain": [
       "<Figure size 432x288 with 1 Axes>"
      ]
     },
     "metadata": {
      "needs_background": "light"
     },
     "output_type": "display_data"
    },
    {
     "name": "stdout",
     "output_type": "stream",
     "text": [
      "Learning Rate: 0.26\n",
      "[0]\ttrain-logloss:0.24286\ttrain-amex:0.82694\tvalid-logloss:0.25579\tvalid-amex:0.78921\n",
      "[25]\ttrain-logloss:0.19683\ttrain-amex:0.83048\tvalid-logloss:0.21945\tvalid-amex:0.78931\n",
      "[49]\ttrain-logloss:0.18769\ttrain-amex:0.84514\tvalid-logloss:0.21738\tvalid-amex:0.79213\n"
     ]
    },
    {
     "data": {
      "image/png": "[encoded data removed]",
      "text/plain": [
       "<Figure size 432x288 with 1 Axes>"
      ]
     },
     "metadata": {
      "needs_background": "light"
     },
     "output_type": "display_data"
    },
    {
     "name": "stdout",
     "output_type": "stream",
     "text": [
      "Learning Rate: 0.03125\n",
      "[0]\ttrain-logloss:0.21402\ttrain-amex:0.84500\tvalid-logloss:0.23445\tvalid-amex:0.79204\n",
      "[200]\ttrain-logloss:0.18838\ttrain-amex:0.84576\tvalid-logloss:0.21776\tvalid-amex:0.79236\n",
      "[399]\ttrain-logloss:0.18063\ttrain-amex:0.85824\tvalid-logloss:0.21646\tvalid-amex:0.79359\n"
     ]
    },
    {
     "data": {
      "image/png": "[encoded data removed]",
      "text/plain": [
       "<Figure size 432x288 with 1 Axes>"
      ]
     },
     "metadata": {
      "needs_background": "light"
     },
     "output_type": "display_data"
    },
    {
     "name": "stdout",
     "output_type": "stream",
     "text": [
      "Learning Rate: 0.028125\n",
      "[0]\ttrain-logloss:0.19787\ttrain-amex:0.85814\tvalid-logloss:0.22533\tvalid-amex:0.79360\n",
      "[200]\ttrain-logloss:0.18167\ttrain-amex:0.85831\tvalid-logloss:0.21695\tvalid-amex:0.79349\n",
      "[399]\ttrain-logloss:0.17536\ttrain-amex:0.86845\tvalid-logloss:0.21609\tvalid-amex:0.79407\n"
     ]
    },
    {
     "data": {
      "image/png": "[encoded data removed]",
      "text/plain": [
       "<Figure size 432x288 with 1 Axes>"
      ]
     },
     "metadata": {
      "needs_background": "light"
     },
     "output_type": "display_data"
    },
    {
     "name": "stdout",
     "output_type": "stream",
     "text": [
      "Learning Rate: 0.025\n",
      "[0]\ttrain-logloss:0.18226\ttrain-amex:0.86833\tvalid-logloss:0.21825\tvalid-amex:0.79417\n",
      "[200]\ttrain-logloss:0.17375\ttrain-amex:0.87268\tvalid-logloss:0.21601\tvalid-amex:0.79461\n",
      "[400]\ttrain-logloss:0.16878\ttrain-amex:0.88063\tvalid-logloss:0.21559\tvalid-amex:0.79511\n",
      "[600]\ttrain-logloss:0.16390\ttrain-amex:0.88904\tvalid-logloss:0.21538\tvalid-amex:0.79545\n",
      "[800]\ttrain-logloss:0.15931\ttrain-amex:0.89703\tvalid-logloss:0.21527\tvalid-amex:0.79583\n",
      "[1000]\ttrain-logloss:0.15500\ttrain-amex:0.90428\tvalid-logloss:0.21519\tvalid-amex:0.79591\n",
      "[1199]\ttrain-logloss:0.15063\ttrain-amex:0.91203\tvalid-logloss:0.21508\tvalid-amex:0.79610\n"
     ]
    },
    {
     "data": {
      "image/png": "[encoded data removed]",
      "text/plain": [
       "<Figure size 432x288 with 1 Axes>"
      ]
     },
     "metadata": {
      "needs_background": "light"
     },
     "output_type": "display_data"
    },
    {
     "name": "stdout",
     "output_type": "stream",
     "text": [
      "Learning Rate: 0.0125\n",
      "[0]\ttrain-logloss:0.15062\ttrain-amex:0.91216\tvalid-logloss:0.21508\tvalid-amex:0.79610\n",
      "[200]\ttrain-logloss:0.14855\ttrain-amex:0.91548\tvalid-logloss:0.21505\tvalid-amex:0.79620\n",
      "[400]\ttrain-logloss:0.14651\ttrain-amex:0.91893\tvalid-logloss:0.21504\tvalid-amex:0.79633\n",
      "[600]\ttrain-logloss:0.14464\ttrain-amex:0.92204\tvalid-logloss:0.21502\tvalid-amex:0.79648\n",
      "[800]\ttrain-logloss:0.14263\ttrain-amex:0.92536\tvalid-logloss:0.21503\tvalid-amex:0.79644\n",
      "[1000]\ttrain-logloss:0.14074\ttrain-amex:0.92851\tvalid-logloss:0.21502\tvalid-amex:0.79649\n",
      "[1200]\ttrain-logloss:0.13888\ttrain-amex:0.93171\tvalid-logloss:0.21503\tvalid-amex:0.79673\n",
      "[1400]\ttrain-logloss:0.13706\ttrain-amex:0.93445\tvalid-logloss:0.21503\tvalid-amex:0.79699\n",
      "[1600]\ttrain-logloss:0.13524\ttrain-amex:0.93706\tvalid-logloss:0.21504\tvalid-amex:0.79682\n",
      "[1800]\ttrain-logloss:0.13340\ttrain-amex:0.94014\tvalid-logloss:0.21503\tvalid-amex:0.79705\n",
      "[2000]\ttrain-logloss:0.13162\ttrain-amex:0.94299\tvalid-logloss:0.21506\tvalid-amex:0.79749\n",
      "[2200]\ttrain-logloss:0.12987\ttrain-amex:0.94538\tvalid-logloss:0.21508\tvalid-amex:0.79742\n",
      "[2400]\ttrain-logloss:0.12820\ttrain-amex:0.94786\tvalid-logloss:0.21510\tvalid-amex:0.79792\n",
      "[2600]\ttrain-logloss:0.12656\ttrain-amex:0.95019\tvalid-logloss:0.21515\tvalid-amex:0.79722\n",
      "[2800]\ttrain-logloss:0.12492\ttrain-amex:0.95228\tvalid-logloss:0.21515\tvalid-amex:0.79727\n",
      "[3000]\ttrain-logloss:0.12326\ttrain-amex:0.95447\tvalid-logloss:0.21519\tvalid-amex:0.79716\n",
      "[3200]\ttrain-logloss:0.12163\ttrain-amex:0.95667\tvalid-logloss:0.21523\tvalid-amex:0.79731\n",
      "[3400]\ttrain-logloss:0.12011\ttrain-amex:0.95861\tvalid-logloss:0.21526\tvalid-amex:0.79757\n",
      "[3600]\ttrain-logloss:0.11859\ttrain-amex:0.96028\tvalid-logloss:0.21529\tvalid-amex:0.79731\n",
      "[3800]\ttrain-logloss:0.11715\ttrain-amex:0.96200\tvalid-logloss:0.21533\tvalid-amex:0.79748\n",
      "[4000]\ttrain-logloss:0.11560\ttrain-amex:0.96385\tvalid-logloss:0.21538\tvalid-amex:0.79727\n",
      "[4107]\ttrain-logloss:0.11479\ttrain-amex:0.96479\tvalid-logloss:0.21541\tvalid-amex:0.79734\n",
      "Kaggle Metric = 0.7978474568359413 \n",
      "\n",
      "#########################\n",
      "### Fold 2\n",
      "### Train size 344185 Valid size 114728\n",
      "#########################\n",
      "WARNING: non-deterministic behavior with same random seed, perhaps the column order is not guaranteed? Haven't found the root issue in this notebook.\n",
      "Learning Rate: 1.5600000000000003\n",
      "[0]\ttrain-logloss:0.26099\ttrain-amex:0.75213\tvalid-logloss:0.26522\tvalid-amex:0.74311\n",
      "[5]\ttrain-logloss:0.20688\ttrain-amex:0.81213\tvalid-logloss:0.22269\tvalid-amex:0.78452\n",
      "[9]\ttrain-logloss:0.19525\ttrain-amex:0.83189\tvalid-logloss:0.21960\tvalid-amex:0.78851\n"
     ]
    },
    {
     "data": {
      "image/png": "[encoded data removed]",
      "text/plain": [
       "<Figure size 432x288 with 1 Axes>"
      ]
     },
     "metadata": {
      "needs_background": "light"
     },
     "output_type": "display_data"
    },
    {
     "name": "stdout",
     "output_type": "stream",
     "text": [
      "Learning Rate: 0.26\n",
      "[0]\ttrain-logloss:0.24234\ttrain-amex:0.82836\tvalid-logloss:0.25478\tvalid-amex:0.78812\n",
      "[25]\ttrain-logloss:0.19638\ttrain-amex:0.83225\tvalid-logloss:0.21942\tvalid-amex:0.78886\n",
      "[49]\ttrain-logloss:0.18669\ttrain-amex:0.84781\tvalid-logloss:0.21742\tvalid-amex:0.79197\n"
     ]
    },
    {
     "data": {
      "image/png": "[encoded data removed]",
      "text/plain": [
       "<Figure size 432x288 with 1 Axes>"
      ]
     },
     "metadata": {
      "needs_background": "light"
     },
     "output_type": "display_data"
    },
    {
     "name": "stdout",
     "output_type": "stream",
     "text": [
      "Learning Rate: 0.03125\n",
      "[0]\ttrain-logloss:0.21341\ttrain-amex:0.84749\tvalid-logloss:0.23383\tvalid-amex:0.79208\n",
      "[200]\ttrain-logloss:0.18787\ttrain-amex:0.84730\tvalid-logloss:0.21766\tvalid-amex:0.79286\n",
      "[399]\ttrain-logloss:0.17959\ttrain-amex:0.86060\tvalid-logloss:0.21643\tvalid-amex:0.79429\n"
     ]
    },
    {
     "data": {
      "image/png": "[encoded data removed]",
      "text/plain": [
       "<Figure size 432x288 with 1 Axes>"
      ]
     },
     "metadata": {
      "needs_background": "light"
     },
     "output_type": "display_data"
    },
    {
     "name": "stdout",
     "output_type": "stream",
     "text": [
      "Learning Rate: 0.028125\n",
      "[0]\ttrain-logloss:0.19710\ttrain-amex:0.86057\tvalid-logloss:0.22479\tvalid-amex:0.79435\n",
      "[200]\ttrain-logloss:0.18098\ttrain-amex:0.86001\tvalid-logloss:0.21674\tvalid-amex:0.79384\n",
      "[399]\ttrain-logloss:0.17429\ttrain-amex:0.87093\tvalid-logloss:0.21593\tvalid-amex:0.79424\n"
     ]
    },
    {
     "data": {
      "image/png": "[encoded data removed]",
      "text/plain": [
       "<Figure size 432x288 with 1 Axes>"
      ]
     },
     "metadata": {
      "needs_background": "light"
     },
     "output_type": "display_data"
    },
    {
     "name": "stdout",
     "output_type": "stream",
     "text": [
      "Learning Rate: 0.025\n",
      "[0]\ttrain-logloss:0.18130\ttrain-amex:0.87084\tvalid-logloss:0.21783\tvalid-amex:0.79408\n",
      "[200]\ttrain-logloss:0.17287\ttrain-amex:0.87462\tvalid-logloss:0.21584\tvalid-amex:0.79446\n",
      "[400]\ttrain-logloss:0.16774\ttrain-amex:0.88279\tvalid-logloss:0.21540\tvalid-amex:0.79510\n",
      "[600]\ttrain-logloss:0.16265\ttrain-amex:0.89165\tvalid-logloss:0.21517\tvalid-amex:0.79582\n",
      "[800]\ttrain-logloss:0.15805\ttrain-amex:0.89974\tvalid-logloss:0.21507\tvalid-amex:0.79610\n",
      "[1000]\ttrain-logloss:0.15359\ttrain-amex:0.90709\tvalid-logloss:0.21504\tvalid-amex:0.79612\n",
      "[1199]\ttrain-logloss:0.14928\ttrain-amex:0.91463\tvalid-logloss:0.21504\tvalid-amex:0.79577\n"
     ]
    },
    {
     "data": {
      "image/png": "[encoded data removed]",
      "text/plain": [
       "<Figure size 432x288 with 1 Axes>"
      ]
     },
     "metadata": {
      "needs_background": "light"
     },
     "output_type": "display_data"
    },
    {
     "name": "stdout",
     "output_type": "stream",
     "text": [
      "Learning Rate: 0.0125\n",
      "[0]\ttrain-logloss:0.14927\ttrain-amex:0.91476\tvalid-logloss:0.21504\tvalid-amex:0.79577\n",
      "[200]\ttrain-logloss:0.14716\ttrain-amex:0.91802\tvalid-logloss:0.21501\tvalid-amex:0.79592\n",
      "[400]\ttrain-logloss:0.14515\ttrain-amex:0.92131\tvalid-logloss:0.21497\tvalid-amex:0.79629\n",
      "[600]\ttrain-logloss:0.14313\ttrain-amex:0.92480\tvalid-logloss:0.21497\tvalid-amex:0.79620\n",
      "[800]\ttrain-logloss:0.14121\ttrain-amex:0.92770\tvalid-logloss:0.21502\tvalid-amex:0.79556\n",
      "[1000]\ttrain-logloss:0.13933\ttrain-amex:0.93061\tvalid-logloss:0.21502\tvalid-amex:0.79602\n",
      "[1200]\ttrain-logloss:0.13741\ttrain-amex:0.93369\tvalid-logloss:0.21505\tvalid-amex:0.79619\n",
      "[1400]\ttrain-logloss:0.13554\ttrain-amex:0.93647\tvalid-logloss:0.21507\tvalid-amex:0.79627\n",
      "[1600]\ttrain-logloss:0.13366\ttrain-amex:0.93930\tvalid-logloss:0.21510\tvalid-amex:0.79625\n",
      "[1800]\ttrain-logloss:0.13181\ttrain-amex:0.94183\tvalid-logloss:0.21512\tvalid-amex:0.79652\n",
      "[2000]\ttrain-logloss:0.13017\ttrain-amex:0.94431\tvalid-logloss:0.21517\tvalid-amex:0.79638\n",
      "[2200]\ttrain-logloss:0.12847\ttrain-amex:0.94670\tvalid-logloss:0.21521\tvalid-amex:0.79639\n",
      "[2400]\ttrain-logloss:0.12666\ttrain-amex:0.94927\tvalid-logloss:0.21525\tvalid-amex:0.79602\n",
      "[2600]\ttrain-logloss:0.12489\ttrain-amex:0.95161\tvalid-logloss:0.21526\tvalid-amex:0.79646\n",
      "[2800]\ttrain-logloss:0.12320\ttrain-amex:0.95408\tvalid-logloss:0.21531\tvalid-amex:0.79627\n",
      "[3000]\ttrain-logloss:0.12154\ttrain-amex:0.95627\tvalid-logloss:0.21535\tvalid-amex:0.79655\n",
      "[3200]\ttrain-logloss:0.11995\ttrain-amex:0.95833\tvalid-logloss:0.21540\tvalid-amex:0.79607\n",
      "[3400]\ttrain-logloss:0.11838\ttrain-amex:0.96029\tvalid-logloss:0.21544\tvalid-amex:0.79616\n",
      "[3600]\ttrain-logloss:0.11685\ttrain-amex:0.96219\tvalid-logloss:0.21549\tvalid-amex:0.79592\n",
      "[3800]\ttrain-logloss:0.11540\ttrain-amex:0.96390\tvalid-logloss:0.21556\tvalid-amex:0.79601\n",
      "[4000]\ttrain-logloss:0.11395\ttrain-amex:0.96564\tvalid-logloss:0.21561\tvalid-amex:0.79614\n",
      "[4200]\ttrain-logloss:0.11247\ttrain-amex:0.96724\tvalid-logloss:0.21566\tvalid-amex:0.79655\n",
      "[4400]\ttrain-logloss:0.11105\ttrain-amex:0.96873\tvalid-logloss:0.21575\tvalid-amex:0.79659\n",
      "[4600]\ttrain-logloss:0.10966\ttrain-amex:0.97023\tvalid-logloss:0.21578\tvalid-amex:0.79686\n",
      "[4800]\ttrain-logloss:0.10819\ttrain-amex:0.97179\tvalid-logloss:0.21584\tvalid-amex:0.79684\n",
      "[5000]\ttrain-logloss:0.10681\ttrain-amex:0.97313\tvalid-logloss:0.21591\tvalid-amex:0.79638\n",
      "[5199]\ttrain-logloss:0.10549\ttrain-amex:0.97442\tvalid-logloss:0.21595\tvalid-amex:0.79655\n",
      "Kaggle Metric = 0.7968965012498821 \n",
      "\n",
      "#########################\n",
      "### Fold 3\n",
      "### Train size 344185 Valid size 114728\n",
      "#########################\n",
      "WARNING: non-deterministic behavior with same random seed, perhaps the column order is not guaranteed? Haven't found the root issue in this notebook.\n",
      "Learning Rate: 1.5600000000000003\n",
      "[0]\ttrain-logloss:0.26058\ttrain-amex:0.75216\tvalid-logloss:0.26631\tvalid-amex:0.74410\n",
      "[5]\ttrain-logloss:0.20606\ttrain-amex:0.81251\tvalid-logloss:0.22441\tvalid-amex:0.78419\n",
      "[9]\ttrain-logloss:0.19470\ttrain-amex:0.83221\tvalid-logloss:0.22111\tvalid-amex:0.78936\n"
     ]
    },
    {
     "data": {
      "image/png": "[encoded data removed]",
      "text/plain": [
       "<Figure size 432x288 with 1 Axes>"
      ]
     },
     "metadata": {
      "needs_background": "light"
     },
     "output_type": "display_data"
    },
    {
     "name": "stdout",
     "output_type": "stream",
     "text": [
      "Learning Rate: 0.26\n",
      "[0]\ttrain-logloss:0.24167\ttrain-amex:0.82861\tvalid-logloss:0.25667\tvalid-amex:0.78855\n",
      "[25]\ttrain-logloss:0.19585\ttrain-amex:0.83225\tvalid-logloss:0.22107\tvalid-amex:0.78893\n",
      "[49]\ttrain-logloss:0.18669\ttrain-amex:0.84740\tvalid-logloss:0.21912\tvalid-amex:0.79131\n"
     ]
    },
    {
     "data": {
      "image/png": "[encoded data removed]",
      "text/plain": [
       "<Figure size 432x288 with 1 Axes>"
      ]
     },
     "metadata": {
      "needs_background": "light"
     },
     "output_type": "display_data"
    },
    {
     "name": "stdout",
     "output_type": "stream",
     "text": [
      "Learning Rate: 0.03125\n",
      "[0]\ttrain-logloss:0.21307\ttrain-amex:0.84724\tvalid-logloss:0.23575\tvalid-amex:0.79122\n",
      "[200]\ttrain-logloss:0.18763\ttrain-amex:0.84720\tvalid-logloss:0.21946\tvalid-amex:0.79216\n",
      "[399]\ttrain-logloss:0.17971\ttrain-amex:0.86002\tvalid-logloss:0.21829\tvalid-amex:0.79359\n"
     ]
    },
    {
     "data": {
      "image/png": "[encoded data removed]",
      "text/plain": [
       "<Figure size 432x288 with 1 Axes>"
      ]
     },
     "metadata": {
      "needs_background": "light"
     },
     "output_type": "display_data"
    },
    {
     "name": "stdout",
     "output_type": "stream",
     "text": [
      "Learning Rate: 0.028125\n",
      "[0]\ttrain-logloss:0.19692\ttrain-amex:0.85981\tvalid-logloss:0.22679\tvalid-amex:0.79333\n",
      "[200]\ttrain-logloss:0.18080\ttrain-amex:0.85941\tvalid-logloss:0.21869\tvalid-amex:0.79268\n",
      "[399]\ttrain-logloss:0.17425\ttrain-amex:0.87061\tvalid-logloss:0.21783\tvalid-amex:0.79431\n"
     ]
    },
    {
     "data": {
      "image/png": "[encoded data removed]",
      "text/plain": [
       "<Figure size 432x288 with 1 Axes>"
      ]
     },
     "metadata": {
      "needs_background": "light"
     },
     "output_type": "display_data"
    },
    {
     "name": "stdout",
     "output_type": "stream",
     "text": [
      "Learning Rate: 0.025\n",
      "[0]\ttrain-logloss:0.18118\ttrain-amex:0.87062\tvalid-logloss:0.21986\tvalid-amex:0.79425\n",
      "[200]\ttrain-logloss:0.17282\ttrain-amex:0.87424\tvalid-logloss:0.21775\tvalid-amex:0.79469\n",
      "[400]\ttrain-logloss:0.16772\ttrain-amex:0.88245\tvalid-logloss:0.21732\tvalid-amex:0.79454\n",
      "[600]\ttrain-logloss:0.16258\ttrain-amex:0.89117\tvalid-logloss:0.21710\tvalid-amex:0.79463\n",
      "[800]\ttrain-logloss:0.15766\ttrain-amex:0.89975\tvalid-logloss:0.21706\tvalid-amex:0.79492\n",
      "[1000]\ttrain-logloss:0.15306\ttrain-amex:0.90768\tvalid-logloss:0.21701\tvalid-amex:0.79483\n",
      "[1199]\ttrain-logloss:0.14883\ttrain-amex:0.91463\tvalid-logloss:0.21694\tvalid-amex:0.79470\n"
     ]
    },
    {
     "data": {
      "image/png": "[encoded data removed]",
      "text/plain": [
       "<Figure size 432x288 with 1 Axes>"
      ]
     },
     "metadata": {
      "needs_background": "light"
     },
     "output_type": "display_data"
    },
    {
     "name": "stdout",
     "output_type": "stream",
     "text": [
      "Learning Rate: 0.0125\n",
      "[0]\ttrain-logloss:0.14882\ttrain-amex:0.91435\tvalid-logloss:0.21694\tvalid-amex:0.79470\n",
      "[200]\ttrain-logloss:0.14665\ttrain-amex:0.91826\tvalid-logloss:0.21694\tvalid-amex:0.79465\n",
      "[400]\ttrain-logloss:0.14461\ttrain-amex:0.92205\tvalid-logloss:0.21698\tvalid-amex:0.79448\n",
      "[600]\ttrain-logloss:0.14269\ttrain-amex:0.92532\tvalid-logloss:0.21695\tvalid-amex:0.79427\n",
      "[800]\ttrain-logloss:0.14075\ttrain-amex:0.92860\tvalid-logloss:0.21696\tvalid-amex:0.79416\n",
      "[1000]\ttrain-logloss:0.13887\ttrain-amex:0.93152\tvalid-logloss:0.21696\tvalid-amex:0.79396\n",
      "[1200]\ttrain-logloss:0.13706\ttrain-amex:0.93443\tvalid-logloss:0.21697\tvalid-amex:0.79437\n",
      "[1400]\ttrain-logloss:0.13518\ttrain-amex:0.93728\tvalid-logloss:0.21695\tvalid-amex:0.79408\n",
      "[1600]\ttrain-logloss:0.13346\ttrain-amex:0.93991\tvalid-logloss:0.21695\tvalid-amex:0.79409\n",
      "[1800]\ttrain-logloss:0.13171\ttrain-amex:0.94259\tvalid-logloss:0.21697\tvalid-amex:0.79393\n",
      "[1845]\ttrain-logloss:0.13132\ttrain-amex:0.94322\tvalid-logloss:0.21695\tvalid-amex:0.79394\n",
      "Kaggle Metric = 0.7947265245270028 \n",
      "\n",
      "#########################\n",
      "### Fold 4\n",
      "### Train size 344185 Valid size 114728\n",
      "#########################\n",
      "WARNING: non-deterministic behavior with same random seed, perhaps the column order is not guaranteed? Haven't found the root issue in this notebook.\n",
      "Learning Rate: 1.5600000000000003\n",
      "[0]\ttrain-logloss:0.26171\ttrain-amex:0.75081\tvalid-logloss:0.26295\tvalid-amex:0.74924\n",
      "[5]\ttrain-logloss:0.20726\ttrain-amex:0.81179\tvalid-logloss:0.22098\tvalid-amex:0.78664\n",
      "[9]\ttrain-logloss:0.19551\ttrain-amex:0.83189\tvalid-logloss:0.21793\tvalid-amex:0.79109\n"
     ]
    },
    {
     "data": {
      "image/png": "[encoded data removed]",
      "text/plain": [
       "<Figure size 432x288 with 1 Axes>"
      ]
     },
     "metadata": {
      "needs_background": "light"
     },
     "output_type": "display_data"
    },
    {
     "name": "stdout",
     "output_type": "stream",
     "text": [
      "Learning Rate: 0.26\n",
      "[0]\ttrain-logloss:0.24266\ttrain-amex:0.82801\tvalid-logloss:0.25440\tvalid-amex:0.79050\n",
      "[25]\ttrain-logloss:0.19684\ttrain-amex:0.83138\tvalid-logloss:0.21783\tvalid-amex:0.79272\n",
      "[49]\ttrain-logloss:0.18728\ttrain-amex:0.84715\tvalid-logloss:0.21585\tvalid-amex:0.79415\n"
     ]
    },
    {
     "data": {
      "image/png": "[encoded data removed]",
      "text/plain": [
       "<Figure size 432x288 with 1 Axes>"
      ]
     },
     "metadata": {
      "needs_background": "light"
     },
     "output_type": "display_data"
    },
    {
     "name": "stdout",
     "output_type": "stream",
     "text": [
      "Learning Rate: 0.03125\n",
      "[0]\ttrain-logloss:0.21389\ttrain-amex:0.84692\tvalid-logloss:0.23320\tvalid-amex:0.79410\n",
      "[200]\ttrain-logloss:0.18814\ttrain-amex:0.84711\tvalid-logloss:0.21622\tvalid-amex:0.79366\n",
      "[399]\ttrain-logloss:0.18018\ttrain-amex:0.85994\tvalid-logloss:0.21497\tvalid-amex:0.79611\n"
     ]
    },
    {
     "data": {
      "image/png": "[encoded data removed]",
      "text/plain": [
       "<Figure size 432x288 with 1 Axes>"
      ]
     },
     "metadata": {
      "needs_background": "light"
     },
     "output_type": "display_data"
    },
    {
     "name": "stdout",
     "output_type": "stream",
     "text": [
      "Learning Rate: 0.028125\n",
      "[0]\ttrain-logloss:0.19760\ttrain-amex:0.85978\tvalid-logloss:0.22403\tvalid-amex:0.79581\n",
      "[200]\ttrain-logloss:0.18143\ttrain-amex:0.85914\tvalid-logloss:0.21540\tvalid-amex:0.79487\n",
      "[399]\ttrain-logloss:0.17481\ttrain-amex:0.86979\tvalid-logloss:0.21460\tvalid-amex:0.79640\n"
     ]
    },
    {
     "data": {
      "image/png": "[encoded data removed]",
      "text/plain": [
       "<Figure size 432x288 with 1 Axes>"
      ]
     },
     "metadata": {
      "needs_background": "light"
     },
     "output_type": "display_data"
    },
    {
     "name": "stdout",
     "output_type": "stream",
     "text": [
      "Learning Rate: 0.025\n",
      "[0]\ttrain-logloss:0.18179\ttrain-amex:0.86981\tvalid-logloss:0.21686\tvalid-amex:0.79631\n",
      "[200]\ttrain-logloss:0.17325\ttrain-amex:0.87390\tvalid-logloss:0.21453\tvalid-amex:0.79646\n",
      "[400]\ttrain-logloss:0.16808\ttrain-amex:0.88237\tvalid-logloss:0.21415\tvalid-amex:0.79641\n",
      "[600]\ttrain-logloss:0.16325\ttrain-amex:0.89082\tvalid-logloss:0.21390\tvalid-amex:0.79698\n",
      "[800]\ttrain-logloss:0.15855\ttrain-amex:0.89888\tvalid-logloss:0.21376\tvalid-amex:0.79739\n",
      "[1000]\ttrain-logloss:0.15400\ttrain-amex:0.90648\tvalid-logloss:0.21364\tvalid-amex:0.79730\n",
      "[1199]\ttrain-logloss:0.14990\ttrain-amex:0.91314\tvalid-logloss:0.21360\tvalid-amex:0.79714\n"
     ]
    },
    {
     "data": {
      "image/png": "[encoded data removed]",
      "text/plain": [
       "<Figure size 432x288 with 1 Axes>"
      ]
     },
     "metadata": {
      "needs_background": "light"
     },
     "output_type": "display_data"
    },
    {
     "name": "stdout",
     "output_type": "stream",
     "text": [
      "Learning Rate: 0.0125\n",
      "[0]\ttrain-logloss:0.14988\ttrain-amex:0.91314\tvalid-logloss:0.21360\tvalid-amex:0.79725\n",
      "[200]\ttrain-logloss:0.14777\ttrain-amex:0.91694\tvalid-logloss:0.21356\tvalid-amex:0.79746\n",
      "[400]\ttrain-logloss:0.14582\ttrain-amex:0.92029\tvalid-logloss:0.21354\tvalid-amex:0.79783\n",
      "[600]\ttrain-logloss:0.14387\ttrain-amex:0.92361\tvalid-logloss:0.21355\tvalid-amex:0.79750\n",
      "[800]\ttrain-logloss:0.14192\ttrain-amex:0.92643\tvalid-logloss:0.21353\tvalid-amex:0.79760\n",
      "[1000]\ttrain-logloss:0.14000\ttrain-amex:0.92979\tvalid-logloss:0.21353\tvalid-amex:0.79770\n",
      "[1200]\ttrain-logloss:0.13816\ttrain-amex:0.93263\tvalid-logloss:0.21355\tvalid-amex:0.79716\n",
      "[1400]\ttrain-logloss:0.13638\ttrain-amex:0.93526\tvalid-logloss:0.21355\tvalid-amex:0.79693\n",
      "[1600]\ttrain-logloss:0.13451\ttrain-amex:0.93809\tvalid-logloss:0.21357\tvalid-amex:0.79674\n",
      "[1800]\ttrain-logloss:0.13265\ttrain-amex:0.94099\tvalid-logloss:0.21358\tvalid-amex:0.79681\n",
      "[2000]\ttrain-logloss:0.13081\ttrain-amex:0.94359\tvalid-logloss:0.21359\tvalid-amex:0.79680\n",
      "[2190]\ttrain-logloss:0.12928\ttrain-amex:0.94576\tvalid-logloss:0.21359\tvalid-amex:0.79685\n",
      "Kaggle Metric = 0.797784830660971 \n",
      "\n",
      "Average CV Kaggle Metric for group = 0.7968138283184494\n",
      "#########################\n",
      "OOF CV Kaggle Metric = 0.7960032272898563\n",
      "CPU times: user 1h 40min 50s, sys: 15.3 s, total: 1h 41min 5s\n",
      "Wall time: 1h 41min 15s\n"
     ]
    }
   ],
   "source": [
    "%%time\n",
    "from sklearn.model_selection import StratifiedKFold\n",
    "import xgboost as xgb\n",
    "\n",
    "# FOLDS PER MODEL, as number of weeks in a month\n",
    "FOLDS = 4\n",
    "\n",
    "# XGB MODEL PARAMETERS\n",
    "BASE_LEARNING_RATE = 0.025\n",
    "PYRAMID_W = [0.5, 2/3, 0.75, 0.875, 1, 0]\n",
    "xgb_parms = {\n",
    "            'objective': 'binary:logistic', \n",
    "            'tree_method': 'gpu_hist',\n",
    "            'predictor':'gpu_predictor',\n",
    "            'max_depth': 7,\n",
    "            'subsample':0.88,\n",
    "            'colsample_bytree': 0.1,\n",
    "            'gamma':1.5,\n",
    "            'min_child_weight':8,\n",
    "            'lambda': 50,\n",
    "            'random_state':SEED,\n",
    "\n",
    "            'num_parallel_tree':1\n",
    "    }\n",
    "\n",
    "importances = []\n",
    "oof = []\n",
    "_ = gc.collect()\n",
    "\n",
    "for j, cat_index in enumerate ([train[train.LT>0].index]):\n",
    "    score = 0\n",
    "    skf = StratifiedKFold(n_splits=FOLDS, shuffle = True, random_state=SEED)\n",
    "    for fold,(train_idx, valid_idx) in enumerate(skf.split(\n",
    "                train.loc[cat_index,:][[\"customer_ID\"]],\n",
    "                train.loc[cat_index,:].target.values.get())):\n",
    "\n",
    "\n",
    "        print('#'*25)\n",
    "        print('### Fold',fold+1)\n",
    "        print('### Train size',len(train_idx),'Valid size',len(valid_idx))\n",
    "        print('#'*25)\n",
    "        \n",
    "        print(\"WARNING: non-deterministic behavior with same random seed, perhaps the column order is not guaranteed? Haven't found the root issue in this notebook.\")\n",
    "\n",
    "        # TRAIN, VALID, TEST FOR FOLD K\n",
    "        y_valid = train.loc[valid_idx, 'target']\n",
    "        dtrain = xgb.DMatrix(data=train.loc[train_idx, FEATURES],\n",
    "                             label=train.loc[train_idx, 'target'],\n",
    "                             )\n",
    "        dvalid = xgb.DMatrix(data=train.loc[valid_idx, FEATURES],\n",
    "                             label=y_valid,\n",
    "                             )\n",
    "        \n",
    "        # TRAIN MODEL FOLD K\n",
    "        # PYRAMID: Smoothly go from diverse forest of early trees into focused boosted trees correcting residuals.\n",
    "        #   final layer must have w==0\n",
    "        #   columns:    forest|boost|adj_eta|w\n",
    "        pyramid_layers = [( 40,  10,  1.56,  0.5),\n",
    "                          (  8,  50,  1.3,   2/3),\n",
    "                          (  1, 400,  1.25,  0.75),\n",
    "                          (  1, 400,  1.125, 0.875),\n",
    "                          (  1,1200,  1.0,   1),\n",
    "                          (  1,5200,  0.5,   0)]\n",
    "        assert(PYRAMID_W == [layer[-1] for layer in pyramid_layers])\n",
    "        for (layer, (n_trees, n_rounds, adj_learning, w)) in enumerate(pyramid_layers):\n",
    "            ## Load the manual parameters from the pyramid layer\n",
    "            xgb_parms['num_parallel_tree'] = n_trees\n",
    "            xgb_parms['learning_rate'] = n_trees*adj_learning*BASE_LEARNING_RATE\n",
    "\n",
    "            ## No early stopping except on final round. This is important since the weighting causes the model to go backwards for a time at the start of the next layer.\n",
    "            early_stop = None\n",
    "            if w == 0:\n",
    "                early_stop = 1800\n",
    "\n",
    "            print(\"Learning Rate:\", xgb_parms['learning_rate'])\n",
    "            model = xgb.train(xgb_parms, \n",
    "                        dtrain=dtrain,\n",
    "                        evals=[(dtrain,'train'),(dvalid,'valid')],\n",
    "                        num_boost_round=n_rounds,\n",
    "                        early_stopping_rounds=early_stop,\n",
    "                        custom_metric=xgb_amex,\n",
    "                        maximize=True,\n",
    "                        verbose_eval=200//n_trees)\n",
    "            model.save_model(f'XGB_fold{fold}_LT{j}_layer{layer}.json')\n",
    "\n",
    "            ## predict to load the predictions on the next model layer\n",
    "            ## Don't set base margin on final layer. w = 0 is used as an encoded way to skip this step.\n",
    "            if (w != 0):\n",
    "                ptrain = model.predict(dtrain, output_margin=True)\n",
    "                pvalid = model.predict(dvalid, output_margin=True)\n",
    "\n",
    "                ## reduce the impact of all model layers so far by w. This should be another way to reduce over-specialization, without the computational cost of DART\n",
    "                if (w < 1.0):\n",
    "                    ptrain = ptrain * w\n",
    "                    pvalid = pvalid * w\n",
    "\n",
    "                ## This set_base_margin on the DMatrix data is what informs the next layer of the prior training.\n",
    "                ## See code example from official demos: https://github.com/dmlc/xgboost/blob/master/demo/guide-python/boost_from_prediction.py\n",
    "                dtrain.set_base_margin(ptrain)\n",
    "                dvalid.set_base_margin(pvalid)\n",
    "\n",
    "                plt.hist(pvalid, bins=100)\n",
    "                plt.title(f'Layer {layer} OOF Predictions')\n",
    "                plt.show()\n",
    "\n",
    "                del model, ptrain, pvalid\n",
    "                gc.collect()\n",
    "\n",
    "        del dtrain\n",
    "        _ = gc.collect()\n",
    "\n",
    "        # GET FEATURE IMPORTANCE FOR FOLD K\n",
    "        dd = model.get_score(importance_type='weight')\n",
    "        df = pd.DataFrame({'feature':dd.keys(),f'importance_{fold}':dd.values()})\n",
    "        importances.append(df)\n",
    "\n",
    "        # INFER OOF FOLD K\n",
    "        oof_preds = model.predict(dvalid, iteration_range=(0,model.best_ntree_limit))\n",
    "        acc = amex_metric(pd.DataFrame({'target':y_valid.values.get()}), \n",
    "                                        pd.DataFrame({'prediction':oof_preds}))\n",
    "        print('Kaggle Metric =',acc,'\\n')\n",
    "        score += acc\n",
    "\n",
    "        # SAVE OOF\n",
    "        df = train.loc[valid_idx, ['customer_ID','target'] ].to_pandas()\n",
    "        df['oof_pred'] = oof_preds\n",
    "        oof.append( df )\n",
    "\n",
    "        del dvalid, y_valid, model, dd, df\n",
    "        _ = gc.collect()\n",
    "\n",
    "    score /= FOLDS\n",
    "    print('Average CV Kaggle Metric for group =',score)\n",
    "\n",
    "print('#'*25)\n",
    "oof = pd.concat(oof,axis=0,ignore_index=True).set_index('customer_ID')\n",
    "score = amex_metric(pd.DataFrame({'target':oof.target.values}), \n",
    "                                pd.DataFrame({'prediction':oof.oof_pred.values}))\n",
    "print('OOF CV Kaggle Metric =',score)\n",
    "# CLEAN RAM\n",
    "del oof, skf, cat_index\n",
    "del train\n",
    "_ = gc.collect()"
   ]
  },
  {
   "cell_type": "markdown",
   "id": "d6305e9e",
   "metadata": {
    "id": "aB4jyisCnSeW",
    "papermill": {
     "duration": 0.020762,
     "end_time": "2022-07-21T20:39:09.510888",
     "exception": false,
     "start_time": "2022-07-21T20:39:09.490126",
     "status": "completed"
    },
    "tags": []
   },
   "source": [
    "Local CV with the new features has a score **0.7964**  \n",
    "Baseline solution without Statement distance features had **0.79639** on local CV, which is slightly less.   \n",
    "Keep going.\n",
    "\n",
    "### Feature importance of Statement Dates features\n",
    "Let's check feature importance for TOP 20 vars and for \"SDist\" vars (derived from Statement dates distance)"
   ]
  },
  {
   "cell_type": "code",
   "execution_count": 9,
   "id": "192d555c",
   "metadata": {
    "_kg_hide-input": true,
    "execution": {
     "iopub.execute_input": "2022-07-21T20:39:09.555045Z",
     "iopub.status.busy": "2022-07-21T20:39:09.554073Z",
     "iopub.status.idle": "2022-07-21T20:39:10.279201Z",
     "shell.execute_reply": "2022-07-21T20:39:10.278247Z"
    },
    "id": "LSOGxNTvnSeW",
    "outputId": "f9b07303-f373-423b-f7e5-26a2b5e5bf69",
    "papermill": {
     "duration": 0.749658,
     "end_time": "2022-07-21T20:39:10.281343",
     "exception": false,
     "start_time": "2022-07-21T20:39:09.531685",
     "status": "completed"
    },
    "tags": []
   },
   "outputs": [
    {
     "data": {
      "image/png": "[encoded data removed]",
      "text/plain": [
       "<Figure size 720x1440 with 1 Axes>"
      ]
     },
     "metadata": {
      "needs_background": "light"
     },
     "output_type": "display_data"
    },
    {
     "data": {
      "image/png": "[encoded data removed]",
      "text/plain": [
       "<Figure size 720x360 with 1 Axes>"
      ]
     },
     "metadata": {
      "needs_background": "light"
     },
     "output_type": "display_data"
    }
   ],
   "source": [
    "import matplotlib.pyplot as plt\n",
    "\n",
    "df = importances[0].copy()\n",
    "for k in range(1,FOLDS*(j+1)): df = df.merge(importances[k], on='feature', how='left')\n",
    "df['importance'] = df.iloc[:,1:].mean(axis=1)\n",
    "df = df.sort_values('importance',ascending=False)\n",
    "\n",
    "NUM_FEATURES = 40\n",
    "plt.figure(figsize=(10,5*NUM_FEATURES//10))\n",
    "plt.barh(np.arange(NUM_FEATURES,0,-1), df.importance.values[:NUM_FEATURES])\n",
    "plt.yticks(np.arange(NUM_FEATURES,0,-1), df.feature.values[:NUM_FEATURES])\n",
    "plt.title(f'Feature Importance - Top {NUM_FEATURES}')\n",
    "plt.show()\n",
    "\n",
    "df = df[df.feature.str.find(\"SDis\") != -1]\n",
    "plt.figure(figsize=(10,5*df.shape[0]//10))\n",
    "plt.barh(np.arange(df.shape[0],0,-1), df.importance.values[:df.shape[0]])\n",
    "plt.yticks(np.arange(df.shape[0],0,-1), df.feature.values[:df.shape[0]])\n",
    "plt.title(f'XGB Feature Importance - Statement date features')\n",
    "plt.show()\n",
    "\n",
    "del df, plt, importances\n",
    "_ = gc.collect()"
   ]
  },
  {
   "cell_type": "markdown",
   "id": "99c7a370",
   "metadata": {
    "id": "kBZZvKyBnSeW",
    "papermill": {
     "duration": 0.022189,
     "end_time": "2022-07-21T20:39:10.326007",
     "exception": false,
     "start_time": "2022-07-21T20:39:10.303818",
     "status": "completed"
    },
    "tags": []
   },
   "source": [
    "**11 features** from Statement distance was selected, but none of them in TOP 40.   \n",
    "So we might notice small improvement from them on Public LB.  \n",
    "Let's check that.  \n",
    "\n",
    "### Process Test Data, Predict and Submit\n",
    "We will load @raddar dataset from [here][1] with discussion [here][2].\n",
    "\n",
    "[1]: https://www.kaggle.com/datasets/raddar/amex-data-integer-dtypes-parquet-format\n",
    "[2]: https://www.kaggle.com/competitions/amex-default-prediction/discussion/328514"
   ]
  },
  {
   "cell_type": "code",
   "execution_count": 10,
   "id": "bc398c6f",
   "metadata": {
    "_kg_hide-input": true,
    "execution": {
     "iopub.execute_input": "2022-07-21T20:39:10.372388Z",
     "iopub.status.busy": "2022-07-21T20:39:10.372071Z",
     "iopub.status.idle": "2022-07-21T20:58:36.451687Z",
     "shell.execute_reply": "2022-07-21T20:58:36.450739Z"
    },
    "id": "uXl-SddunSeW",
    "outputId": "e240a589-2fec-4130-e194-4bbda97520fe",
    "papermill": {
     "duration": 1166.105696,
     "end_time": "2022-07-21T20:58:36.454121",
     "exception": false,
     "start_time": "2022-07-21T20:39:10.348425",
     "status": "completed"
    },
    "tags": []
   },
   "outputs": [
    {
     "name": "stdout",
     "output_type": "stream",
     "text": [
      "Reading test data...\n",
      "shape of data: (11363762, 2)\n",
      "We will process test data as 4 separate parts.\n",
      "There will be 231155 customers in each part (except the last part).\n",
      "Below are number of rows in each part:\n",
      "[2841209, 2839857, 2842105, 2840591]\n",
      "\n",
      "Reading test data...\n",
      "shape of data: (11363762, 190)\n",
      "=> Test part 1 has shape (2841209, 190)\n",
      "shape after engineering (231155, 1582)\n",
      "Loaded fold0, layer0\n",
      "Loaded fold0, layer1\n",
      "Loaded fold0, layer2\n",
      "Loaded fold0, layer3\n",
      "Loaded fold0, layer4\n",
      "Loaded fold1, layer0\n",
      "Loaded fold1, layer1\n",
      "Loaded fold1, layer2\n",
      "Loaded fold1, layer3\n",
      "Loaded fold1, layer4\n",
      "Loaded fold2, layer0\n",
      "Loaded fold2, layer1\n",
      "Loaded fold2, layer2\n",
      "Loaded fold2, layer3\n",
      "Loaded fold2, layer4\n",
      "Loaded fold3, layer0\n",
      "Loaded fold3, layer1\n",
      "Loaded fold3, layer2\n",
      "Loaded fold3, layer3\n",
      "Loaded fold3, layer4\n",
      "\n",
      "Reading test data...\n",
      "shape of data: (11363762, 190)\n",
      "=> Test part 2 has shape (2839857, 190)\n",
      "shape after engineering (231155, 1582)\n",
      "Loaded fold0, layer0\n",
      "Loaded fold0, layer1\n",
      "Loaded fold0, layer2\n",
      "Loaded fold0, layer3\n",
      "Loaded fold0, layer4\n",
      "Loaded fold1, layer0\n",
      "Loaded fold1, layer1\n",
      "Loaded fold1, layer2\n",
      "Loaded fold1, layer3\n",
      "Loaded fold1, layer4\n",
      "Loaded fold2, layer0\n",
      "Loaded fold2, layer1\n",
      "Loaded fold2, layer2\n",
      "Loaded fold2, layer3\n",
      "Loaded fold2, layer4\n",
      "Loaded fold3, layer0\n",
      "Loaded fold3, layer1\n",
      "Loaded fold3, layer2\n",
      "Loaded fold3, layer3\n",
      "Loaded fold3, layer4\n",
      "\n",
      "Reading test data...\n",
      "shape of data: (11363762, 190)\n",
      "=> Test part 3 has shape (2842105, 190)\n",
      "shape after engineering (231155, 1582)\n",
      "Loaded fold0, layer0\n",
      "Loaded fold0, layer1\n",
      "Loaded fold0, layer2\n",
      "Loaded fold0, layer3\n",
      "Loaded fold0, layer4\n",
      "Loaded fold1, layer0\n",
      "Loaded fold1, layer1\n",
      "Loaded fold1, layer2\n",
      "Loaded fold1, layer3\n",
      "Loaded fold1, layer4\n",
      "Loaded fold2, layer0\n",
      "Loaded fold2, layer1\n",
      "Loaded fold2, layer2\n",
      "Loaded fold2, layer3\n",
      "Loaded fold2, layer4\n",
      "Loaded fold3, layer0\n",
      "Loaded fold3, layer1\n",
      "Loaded fold3, layer2\n",
      "Loaded fold3, layer3\n",
      "Loaded fold3, layer4\n",
      "\n",
      "Reading test data...\n",
      "shape of data: (11363762, 190)\n",
      "=> Test part 4 has shape (2840591, 190)\n",
      "shape after engineering (231156, 1582)\n",
      "Loaded fold0, layer0\n",
      "Loaded fold0, layer1\n",
      "Loaded fold0, layer2\n",
      "Loaded fold0, layer3\n",
      "Loaded fold0, layer4\n",
      "Loaded fold1, layer0\n",
      "Loaded fold1, layer1\n",
      "Loaded fold1, layer2\n",
      "Loaded fold1, layer3\n",
      "Loaded fold1, layer4\n",
      "Loaded fold2, layer0\n",
      "Loaded fold2, layer1\n",
      "Loaded fold2, layer2\n",
      "Loaded fold2, layer3\n",
      "Loaded fold2, layer4\n",
      "Loaded fold3, layer0\n",
      "Loaded fold3, layer1\n",
      "Loaded fold3, layer2\n",
      "Loaded fold3, layer3\n",
      "Loaded fold3, layer4\n"
     ]
    }
   ],
   "source": [
    "# gc.collect()\n",
    "\n",
    "# COMPUTE SIZE OF 4 PARTS FOR TEST DATA\n",
    "NUM_PARTS = 4\n",
    "TEST_PATH = '../input/amex-data-integer-dtypes-parquet-format/test.parquet'\n",
    "\n",
    "print(f'Reading test data...')\n",
    "test = read_file2cudf(path = TEST_PATH, usecols = ['customer_ID','S_2'])\n",
    "customers = test[['customer_ID']].drop_duplicates().sort_index().values.flatten()\n",
    "rows,num_cust = get_rows(customers, test[['customer_ID']], NUM_PARTS = NUM_PARTS, verbose = 'test')\n",
    "\n",
    "# INFER TEST DATA IN PARTS\n",
    "skip_rows = 0\n",
    "skip_cust = 0\n",
    "test_preds = []\n",
    "\n",
    "for k in range(NUM_PARTS):\n",
    "    \n",
    "    # READ PART OF TEST DATA\n",
    "    print(f'\\nReading test data...')\n",
    "    test = read_file2cudf(path = TEST_PATH)\n",
    "    test = test.iloc[skip_rows:skip_rows+rows[k]]\n",
    "    skip_rows += rows[k]\n",
    "    print(f'=> Test part {k+1} has shape', test.shape)\n",
    "    \n",
    "    # PROCESS AND FEATURE ENGINEER PART OF TEST DATA\n",
    "    test = feature_engineer(test)\n",
    "    if k==NUM_PARTS-1: test = test.loc[customers[skip_cust:]]\n",
    "    else: test = test.loc[customers[skip_cust:skip_cust+num_cust]]\n",
    "    skip_cust += num_cust\n",
    "\n",
    "    for j, cat_index in enumerate ([test[test.LT>0].index]):\n",
    "        # XGB\n",
    "        dtest = xgb.DMatrix(data=test.loc[cat_index,:][FEATURES])\n",
    "        \n",
    "        ## Added Pyramid processing implementation here\n",
    "\n",
    "        ## Need to reset to level 0 between folds.\n",
    "        reset_margin = dtest.get_base_margin()\n",
    "\n",
    "        pred_folds = []\n",
    "        for f in range(FOLDS):\n",
    "            if (f > 0):\n",
    "                dtest.set_base_margin(reset_margin)\n",
    "            for (layer, w) in enumerate(PYRAMID_W[:-1]):\n",
    "                model = xgb.Booster()\n",
    "                model.load_model(f'XGB_fold{f}_LT{j}_layer{layer}.json')\n",
    "                print(f'Loaded fold{f}, layer{layer}')\n",
    "                ptest = model.predict(dtest, output_margin=True)\n",
    "\n",
    "                ## reduce the impact of all model layers so far by w. This should be another way to reduce over-specialization, without the computational cost of DART\n",
    "                if (w < 1.0):\n",
    "                    ptest = ptest * w\n",
    "\n",
    "                ## This set_base_margin is what informs the next layer of the prior training.\n",
    "                ## See code example from official demos: https://github.com/dmlc/xgboost/blob/master/demo/guide-python/boost_from_prediction.py\n",
    "                dtest.set_base_margin(ptest)\n",
    "\n",
    "            layer = len(PYRAMID_W) - 1\n",
    "            model = xgb.Booster()\n",
    "            model.load_model(f'XGB_fold{f}_LT{j}_layer{layer}.json')\n",
    "\n",
    "            ## Use custom method for ensembling the folds, normalized rank averaged with predicted probability\n",
    "            ##   So get true probability not logitraw.\n",
    "            preds = model.predict(dtest, iteration_range=(0,model.best_ntree_limit))\n",
    "\n",
    "            ## Create nested array to combine all predictions of a single fold together to rank them before averaging the predictions across folds.\n",
    "            if f == len(test_preds):\n",
    "                test_preds.append([])\n",
    "            test_preds[f].append(preds)\n",
    "        # CLEAN MEMORY\n",
    "        del dtest, model, reset_margin\n",
    "        _ = gc.collect()\n",
    "\n",
    "    del test\n",
    "    _ = gc.collect()\n",
    "\n"
   ]
  },
  {
   "cell_type": "code",
   "execution_count": 11,
   "id": "dee9a539",
   "metadata": {
    "execution": {
     "iopub.execute_input": "2022-07-21T20:58:36.512010Z",
     "iopub.status.busy": "2022-07-21T20:58:36.511674Z",
     "iopub.status.idle": "2022-07-21T20:58:37.490164Z",
     "shell.execute_reply": "2022-07-21T20:58:37.488689Z"
    },
    "papermill": {
     "duration": 1.010016,
     "end_time": "2022-07-21T20:58:37.492573",
     "exception": false,
     "start_time": "2022-07-21T20:58:36.482557",
     "status": "completed"
    },
    "tags": []
   },
   "outputs": [
    {
     "name": "stdout",
     "output_type": "stream",
     "text": [
      "(901224,)\n",
      "(900446,)\n",
      "(902853,)\n",
      "(902630,)\n",
      "924621\n",
      "[1.00550695 0.23110081 1.10506221 ... 2.24274348 1.96212942 1.23401165]\n",
      "924621\n"
     ]
    }
   ],
   "source": [
    "def values_to_rank(p):\n",
    "    u, v = np.unique(p, return_inverse=True)\n",
    "    result = (np.cumsum(np.bincount(v)) - 1)[v]\n",
    "    result = result.astype(np.float64) + p\n",
    "    return result\n",
    "\n",
    "def values_and_rank(p):\n",
    "    u, v = np.unique(p, return_inverse=True)\n",
    "    result = (np.cumsum(np.bincount(v)) - 1)[v]\n",
    "    result = result / len(p)\n",
    "    result = (result + p) / 2\n",
    "    return result\n",
    "\n",
    "final_preds = []\n",
    "for preds in test_preds:\n",
    "    preds = np.concatenate(preds)\n",
    "    print(np.unique(preds).shape)\n",
    "    preds = values_and_rank(preds)\n",
    "    final_preds.append(preds)\n",
    "\n",
    "test_preds = final_preds[0]\n",
    "for i in range(1, len(final_preds)):\n",
    "    test_preds += final_preds[i]\n",
    "print(np.unique(test_preds).shape[0])\n",
    "print(test_preds)\n",
    "print(test_preds.shape[0])"
   ]
  },
  {
   "cell_type": "code",
   "execution_count": 12,
   "id": "dd43a7f3",
   "metadata": {
    "_kg_hide-input": true,
    "execution": {
     "iopub.execute_input": "2022-07-21T20:58:37.552476Z",
     "iopub.status.busy": "2022-07-21T20:58:37.550952Z",
     "iopub.status.idle": "2022-07-21T20:58:38.640725Z",
     "shell.execute_reply": "2022-07-21T20:58:38.639719Z"
    },
    "id": "xhVpBT6LnSeX",
    "papermill": {
     "duration": 1.12069,
     "end_time": "2022-07-21T20:58:38.642926",
     "exception": false,
     "start_time": "2022-07-21T20:58:37.522236",
     "status": "completed"
    },
    "tags": []
   },
   "outputs": [
    {
     "name": "stdout",
     "output_type": "stream",
     "text": [
      "Submission file shape is (924621, 2)\n"
     ]
    }
   ],
   "source": [
    "# WRITE SUBMISSION FILE\n",
    "test = cudf.DataFrame(index=customers,data={'prediction':test_preds})\n",
    "sub = cudf.read_csv('../input/amex-default-prediction/sample_submission.csv')[['customer_ID']]\n",
    "sub['customer_ID_hash'] = sub['customer_ID'].str[-16:].str.hex_to_int().astype('int64')\n",
    "sub = sub.set_index('customer_ID_hash')\n",
    "sub = sub.merge(test[['prediction']], left_index=True, right_index=True, how='left')\n",
    "sub = sub.reset_index(drop=True)\n",
    "\n",
    "# DISPLAY PREDICTIONS\n",
    "sub.to_csv(f'submission.csv',index=False)\n",
    "print('Submission file shape is', sub.shape )"
   ]
  },
  {
   "cell_type": "markdown",
   "id": "8856b0e5",
   "metadata": {
    "_kg_hide-input": false,
    "id": "L5OarQvMnSeX",
    "papermill": {
     "duration": 0.027363,
     "end_time": "2022-07-21T20:58:38.698887",
     "exception": false,
     "start_time": "2022-07-21T20:58:38.671524",
     "status": "completed"
    },
    "tags": []
   },
   "source": [
    "### 🏁 Conclusion for Hypothesis #4\n",
    "\n",
    "Submission with the new features has a score **0.796** on Public LB, and that's more than **0.796** for baseline solution, based on 4th digit after point. Which is not shown ;-).   \n",
    "Hint - you can check that ranking despite LB rounding to 3 digits in Edit mode -> Competitions. It actually shows what notebook version had maximum Public LB score WITHOUT rounding to 3 digits under the hood (BEST SCORE vs. LATEST SCORE).\n",
    "\n",
    "We've got a small improvement both on Local CV and Public LB, as result - for this train-test datasets **we can accept** Hypothesis #4: *Changes in statement dates for 13 month observation period has additional information correlated with default*   "
   ]
  },
  {
   "cell_type": "markdown",
   "id": "36586161",
   "metadata": {
    "id": "g9VDS2RMnSeX",
    "papermill": {
     "duration": 0.028249,
     "end_time": "2022-07-21T20:58:38.754882",
     "exception": false,
     "start_time": "2022-07-21T20:58:38.726633",
     "status": "completed"
    },
    "tags": []
   },
   "source": [
    "### 🚀 Useful links with data and feature enrichment guides   \n",
    "\n",
    "#### [Guide #1 How to improve accuracy of Kaggle TOP1 leaderboard notebook in 10 minutes](https://www.kaggle.com/code/romaupgini/how-to-find-external-data-for-1-private-lb-4-50)\n",
    "#### [Guide #2 Zero feature engineering with low-code libraries: Upgini + PyCaret](https://www.kaggle.com/code/romaupgini/zero-feature-engineering-with-upgini-pycaret)\n",
    "#### [Guide #3 How to improve accuracy of Multivariate Time Series kernel from external features & data](https://www.kaggle.com/code/romaupgini/guide-external-data-features-for-multivariatets)  \n",
    "\n",
    "\n",
    "#### Happy kaggling! \n",
    "<sup>😔 Found error in the library or a bug in notebook code? Our bad! <a href=\"https://github.com/upgini/upgini/issues/new?assignees=&title=readme%2Fbug\">\n",
    "Please report it here.</a></sup>"
   ]
  }
 ],
 "metadata": {
  "kernelspec": {
   "display_name": "Python 3",
   "language": "python",
   "name": "python3"
  },
  "language_info": {
   "codemirror_mode": {
    "name": "ipython",
    "version": 3
   },
   "file_extension": ".py",
   "mimetype": "text/x-python",
   "name": "python",
   "nbconvert_exporter": "python",
   "pygments_lexer": "ipython3",
   "version": "3.7.12"
  },
  "papermill": {
   "default_parameters": {},
   "duration": 7445.959866,
   "end_time": "2022-07-21T20:58:40.017480",
   "environment_variables": {},
   "exception": null,
   "input_path": "__notebook__.ipynb",
   "output_path": "__notebook__.ipynb",
   "parameters": {},
   "start_time": "2022-07-21T18:54:34.057614",
   "version": "2.3.4"
  }
 },
 "nbformat": 4,
 "nbformat_minor": 5
}
