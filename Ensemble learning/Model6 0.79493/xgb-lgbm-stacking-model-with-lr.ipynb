{
 "cells": [
  {
   "cell_type": "markdown",
   "id": "89d05b73",
   "metadata": {
    "papermill": {
     "duration": 0.005109,
     "end_time": "2022-07-15T12:31:32.769457",
     "exception": false,
     "start_time": "2022-07-15T12:31:32.764348",
     "status": "completed"
    },
    "tags": []
   },
   "source": [
    "## ⭐For the starters...\n",
    "This notebook refers to [RAPIDS cudf Feature Engineering + XGB](https://www.kaggle.com/code/jiweiliu/rapids-cudf-feature-engineering-xgb), where I learnt how to read using GPU! And what I have done in this notebook is design a simple stacking model with xgb & lgbm.\n",
    "\n",
    "You can choose your own stacking model. Here I applied LogisticRegression.\n",
    "\n",
    "\n",
    "\n",
    "#### This is my first shared notebook, upvote it if u like! :3"
   ]
  },
  {
   "cell_type": "code",
   "execution_count": 1,
   "id": "ba7372f5",
   "metadata": {
    "execution": {
     "iopub.execute_input": "2022-07-15T12:31:32.780086Z",
     "iopub.status.busy": "2022-07-15T12:31:32.779508Z",
     "iopub.status.idle": "2022-07-15T12:31:37.752762Z",
     "shell.execute_reply": "2022-07-15T12:31:37.751804Z"
    },
    "papermill": {
     "duration": 4.981181,
     "end_time": "2022-07-15T12:31:37.754967",
     "exception": false,
     "start_time": "2022-07-15T12:31:32.773786",
     "status": "completed"
    },
    "tags": []
   },
   "outputs": [
    {
     "data": {
      "text/html": [
       "<style type='text/css'>\n",
       ".datatable table.frame { margin-bottom: 0; }\n",
       ".datatable table.frame thead { border-bottom: none; }\n",
       ".datatable table.frame tr.coltypes td {  color: #FFFFFF;  line-height: 6px;  padding: 0 0.5em;}\n",
       ".datatable .bool    { background: #DDDD99; }\n",
       ".datatable .object  { background: #565656; }\n",
       ".datatable .int     { background: #5D9E5D; }\n",
       ".datatable .float   { background: #4040CC; }\n",
       ".datatable .str     { background: #CC4040; }\n",
       ".datatable .time    { background: #40CC40; }\n",
       ".datatable .row_index {  background: var(--jp-border-color3);  border-right: 1px solid var(--jp-border-color0);  color: var(--jp-ui-font-color3);  font-size: 9px;}\n",
       ".datatable .frame tbody td { text-align: left; }\n",
       ".datatable .frame tr.coltypes .row_index {  background: var(--jp-border-color0);}\n",
       ".datatable th:nth-child(2) { padding-left: 12px; }\n",
       ".datatable .hellipsis {  color: var(--jp-cell-editor-border-color);}\n",
       ".datatable .vellipsis {  background: var(--jp-layout-color0);  color: var(--jp-cell-editor-border-color);}\n",
       ".datatable .na {  color: var(--jp-cell-editor-border-color);  font-size: 80%;}\n",
       ".datatable .sp {  opacity: 0.25;}\n",
       ".datatable .footer { font-size: 9px; }\n",
       ".datatable .frame_dimensions {  background: var(--jp-border-color3);  border-top: 1px solid var(--jp-border-color0);  color: var(--jp-ui-font-color3);  display: inline-block;  opacity: 0.6;  padding: 1px 10px 1px 5px;}\n",
       "</style>\n"
      ],
      "text/plain": [
       "<IPython.core.display.HTML object>"
      ]
     },
     "metadata": {},
     "output_type": "display_data"
    },
    {
     "data": {
      "text/plain": [
       "'21.10.01'"
      ]
     },
     "execution_count": 1,
     "metadata": {},
     "output_type": "execute_result"
    }
   ],
   "source": [
    "import cudf\n",
    "import cupy\n",
    "import xgboost as xgb\n",
    "import lightgbm as lgb\n",
    "from sklearn.linear_model import LogisticRegression\n",
    "import pickle\n",
    "import gc\n",
    "\n",
    "import pandas as pd\n",
    "import numpy as np\n",
    "from tqdm import tqdm\n",
    "cudf.__version__"
   ]
  },
  {
   "cell_type": "markdown",
   "id": "6409d726",
   "metadata": {
    "papermill": {
     "duration": 0.004421,
     "end_time": "2022-07-15T12:31:37.764244",
     "exception": false,
     "start_time": "2022-07-15T12:31:37.759823",
     "status": "completed"
    },
    "tags": []
   },
   "source": [
    "### Feature Engineering"
   ]
  },
  {
   "cell_type": "code",
   "execution_count": 2,
   "id": "9f15ebfa",
   "metadata": {
    "execution": {
     "iopub.execute_input": "2022-07-15T12:31:37.774871Z",
     "iopub.status.busy": "2022-07-15T12:31:37.774594Z",
     "iopub.status.idle": "2022-07-15T12:31:37.800277Z",
     "shell.execute_reply": "2022-07-15T12:31:37.799582Z"
    },
    "papermill": {
     "duration": 0.03331,
     "end_time": "2022-07-15T12:31:37.801808",
     "exception": false,
     "start_time": "2022-07-15T12:31:37.768498",
     "status": "completed"
    },
    "tags": []
   },
   "outputs": [],
   "source": [
    "def get_not_used():\n",
    "    # cid is the label encode of customer_ID\n",
    "    # row_id indicates the order of rows\n",
    "    misscols= ['D_88','D_110','B_39','D_73','B_42','D_134','B_29','D_76','D_132','D_42','D_142','D_53']\n",
    "    skew=['B_31', 'D_87']\n",
    "    return ['row_id', 'customer_ID', 'target', 'cid', 'S_2','month']+skew+misscols[:-5]\n",
    "    \n",
    "def preprocess(df):\n",
    "    df['row_id'] = cupy.arange(df.shape[0])\n",
    "    not_used = get_not_used()\n",
    "    cat_cols = ['B_30', 'B_38', 'D_114', 'D_116', 'D_117', 'D_120',\n",
    "                'D_126', 'D_63', 'D_64', 'D_66', 'D_68']\n",
    "\n",
    "    for col in df.columns:\n",
    "        if col not in not_used+cat_cols:\n",
    "            df[col] = df[col].round(2)\n",
    "\n",
    "    df['S_2'] = cudf.to_datetime(df['S_2'])\n",
    "    df['cid'], _ = df.customer_ID.factorize()\n",
    "    df= df.sort_values(['customer_ID','S_2'])\n",
    "    df['month']= df['S_2'].dt.day\n",
    "    df['month'] =df.to_pandas().groupby('customer_ID')['month'].diff()\n",
    "    \n",
    "    important = ['P_2','B_1','B_4','D_39']\n",
    "    num_cols = [col for col in df.columns if col not in cat_cols+not_used]+['month']\n",
    "    nth_cols = [col for col in df.columns if col not in cat_cols+not_used][:30]+['customer_ID']\n",
    "    \n",
    "    dgs = add_stats_step(df, num_cols, cat_cols)\n",
    "        \n",
    "    # cudf merge changes row orders\n",
    "    # restore the original row order by sorting row_id\n",
    "    df= df.merge(df[nth_cols].groupby('customer_ID').nth(-2),on='customer_ID',how='left',suffixes=[\"_last_1\",\"_last_2\"])\n",
    "    df = df.sort_values('row_id')\n",
    "    df = df.drop(['row_id'],axis=1)\n",
    "    return df, dgs\n",
    "\n",
    "def add_stats_step(df, numcols, catcols):\n",
    "    n = 50\n",
    "    dgs = []\n",
    "    for i in range(0,len(numcols),n):\n",
    "        s = i\n",
    "        e = min(s+n, len(numcols))\n",
    "        dg = add_stats_one_shot_num(df, numcols[s:e])\n",
    "        dgs.append(dg)\n",
    "    for i in range(0,len(catcols),n):\n",
    "        s = i\n",
    "        e = min(s+n, len(catcols))\n",
    "        dg = add_stats_one_shot_cat(df, catcols[s:e])\n",
    "        dgs.append(dg)\n",
    "    return dgs\n",
    "\n",
    "def add_stats_one_shot_num(df, cols):\n",
    "    stats = ['mean','max','min','std']\n",
    "    dg = df.groupby('customer_ID').agg({col:stats for col in cols})\n",
    "    out_cols = []\n",
    "    for col in cols:\n",
    "        out_cols.extend([f'{col}_{s}' for s in stats])\n",
    "    dg.columns = out_cols\n",
    "    dg = dg.reset_index()\n",
    "    return dg\n",
    "\n",
    "def add_stats_one_shot_cat(df, cols):\n",
    "    stats = ['count', 'nunique']\n",
    "    dg = df.groupby('customer_ID').agg({col:stats for col in cols})\n",
    "    out_cols = []\n",
    "    for col in cols:\n",
    "        out_cols.extend([f'{col}_{s}' for s in stats])\n",
    "    dg.columns = out_cols\n",
    "    dg = dg.reset_index()\n",
    "    return dg\n",
    "\n",
    "def load_test_iter(path, chunks=4):\n",
    "    \n",
    "    test_rows = 11363762\n",
    "    chunk_rows = test_rows // chunks\n",
    "    \n",
    "    test = cudf.read_parquet(f'{path}/test.parquet',\n",
    "                             columns=['customer_ID','S_2'],\n",
    "                             num_rows=test_rows)\n",
    "    test = get_segment(test)\n",
    "    start = 0\n",
    "    while start < test.shape[0]:\n",
    "        if start+chunk_rows < test.shape[0]:\n",
    "            end = test['cus_count'].values[start+chunk_rows]\n",
    "        else:\n",
    "            end = test['cus_count'].values[-1]\n",
    "        end = int(end)\n",
    "        df = cudf.read_parquet(f'{path}/test.parquet',\n",
    "                               num_rows = end-start, skiprows=start)\n",
    "        start = end\n",
    "        yield process_data(df)\n",
    "\n",
    "def load_train(path):\n",
    "    train = cudf.read_parquet(f'{path}/train.parquet')\n",
    "    \n",
    "    train = process_data(train)\n",
    "    trainl = cudf.read_csv(f'../input/amex-default-prediction/train_labels.csv')\n",
    "    train = train.merge(trainl, on='customer_ID', how='left')\n",
    "    return train\n",
    "\n",
    "def process_data(df):\n",
    "    df,dgs = preprocess(df)\n",
    "    df = df.drop_duplicates('customer_ID',keep='last')\n",
    "    for dg in dgs:\n",
    "        df = df.merge(dg, on='customer_ID', how='left')\n",
    "#     diff_cols = [col for col in df.columns if col.endswith('_diff')]\n",
    "#     df = df.drop(diff_cols,axis=1)\n",
    "    return df\n",
    "\n",
    "\n",
    "def get_segment(test):\n",
    "    dg = test.groupby('customer_ID').agg({'S_2':'count'})\n",
    "    dg.columns = ['cus_count']\n",
    "    dg = dg.reset_index()\n",
    "    dg['cid'],_ = dg['customer_ID'].factorize()\n",
    "    dg = dg.sort_values('cid')\n",
    "    dg['cus_count'] = dg['cus_count'].cumsum()\n",
    "    \n",
    "    test = test.merge(dg, on='customer_ID', how='left')\n",
    "    test = test.sort_values(['cid','S_2'])\n",
    "    assert test['cus_count'].values[-1] == test.shape[0]\n",
    "    return test"
   ]
  },
  {
   "cell_type": "markdown",
   "id": "12f49bb5",
   "metadata": {
    "papermill": {
     "duration": 0.004184,
     "end_time": "2022-07-15T12:31:37.810345",
     "exception": false,
     "start_time": "2022-07-15T12:31:37.806161",
     "status": "completed"
    },
    "tags": []
   },
   "source": [
    "### XGB/LGB Params and utility functions"
   ]
  },
  {
   "cell_type": "code",
   "execution_count": 3,
   "id": "5e017b25",
   "metadata": {
    "execution": {
     "iopub.execute_input": "2022-07-15T12:31:37.820815Z",
     "iopub.status.busy": "2022-07-15T12:31:37.820545Z",
     "iopub.status.idle": "2022-07-15T12:31:37.828310Z",
     "shell.execute_reply": "2022-07-15T12:31:37.827511Z"
    },
    "papermill": {
     "duration": 0.015427,
     "end_time": "2022-07-15T12:31:37.830151",
     "exception": false,
     "start_time": "2022-07-15T12:31:37.814724",
     "status": "completed"
    },
    "tags": []
   },
   "outputs": [],
   "source": [
    "def xgb_train(x, y, xt, yt):\n",
    "    print(\"-----------xgb starts training-----------\")\n",
    "    print(\"# of features:\", x.shape[1])\n",
    "    assert x.shape[1] == xt.shape[1]\n",
    "    dtrain = xgb.DMatrix(data=x, label=y)\n",
    "    dvalid = xgb.DMatrix(data=xt, label=yt)\n",
    "    params = {\n",
    "            'objective': 'binary:logistic', \n",
    "            'tree_method': 'gpu_hist', \n",
    "            'max_depth': 7,\n",
    "            'subsample':0.88,\n",
    "            'colsample_bytree': 0.5,\n",
    "            'gamma':1.5,\n",
    "            'min_child_weight':8,\n",
    "            'lambda':70,\n",
    "            'eta':0.03,\n",
    "#             'scale_pos_weight': scale_pos_weight,\n",
    "    }\n",
    "    watchlist = [(dtrain, 'train'), (dvalid, 'eval')]\n",
    "    bst = xgb.train(params, dtrain=dtrain,\n",
    "                num_boost_round=2600,evals=watchlist,\n",
    "                early_stopping_rounds=500, feval=xgb_amex, maximize=True,\n",
    "                verbose_eval=100)\n",
    "    print('best ntree_limit:', bst.best_ntree_limit)\n",
    "    print('best score:', bst.best_score)\n",
    "    return bst.predict(dtrain, iteration_range=(0,bst.best_ntree_limit)), bst.predict(dvalid, iteration_range=(0,bst.best_ntree_limit)), bst"
   ]
  },
  {
   "cell_type": "code",
   "execution_count": 4,
   "id": "0dca74c1",
   "metadata": {
    "execution": {
     "iopub.execute_input": "2022-07-15T12:31:37.839664Z",
     "iopub.status.busy": "2022-07-15T12:31:37.839417Z",
     "iopub.status.idle": "2022-07-15T12:31:37.847159Z",
     "shell.execute_reply": "2022-07-15T12:31:37.846441Z"
    },
    "papermill": {
     "duration": 0.014411,
     "end_time": "2022-07-15T12:31:37.848837",
     "exception": false,
     "start_time": "2022-07-15T12:31:37.834426",
     "status": "completed"
    },
    "tags": []
   },
   "outputs": [],
   "source": [
    "def lgb_train(x, y, xt, yt):\n",
    "    print(\"----------lgb starts training----------\")\n",
    "    print(\"# of features:\", x.shape[1])\n",
    "    assert x.shape[1] == xt.shape[1]\n",
    "    lgb_train = lgb.Dataset(x.to_pandas(), y.to_pandas())\n",
    "    lgb_eval = lgb.Dataset(xt.to_pandas(), yt.to_pandas(), reference=lgb_train)\n",
    "\n",
    "    params = {\n",
    "        'boosting_type': 'gbdt',\n",
    "        'n_estimators': 2000,\n",
    "        'learning_rate': 0.05,\n",
    "#         'min_child_samples': 2000,\n",
    "        'reg_lambda':10,\n",
    "        'feature_fraction':0.3,\n",
    "        'bagging_fraction':0.3,\n",
    "        'objective': 'binary',\n",
    "    }\n",
    "    gbm = lgb.train(params,\n",
    "                lgb_train,\n",
    "                num_boost_round=2000,\n",
    "                valid_sets=[lgb_train, lgb_eval],\n",
    "                early_stopping_rounds=200,feval=amex_metric_mod_lgbm, \n",
    "                verbose_eval=100)\n",
    "\n",
    "\n",
    "    print('best iterations:', gbm.best_iteration)\n",
    "    print('best score:', gbm.best_score)\n",
    "    return gbm.predict(x.to_pandas(), num_iteration =gbm.best_iteration),gbm.predict(xt.to_pandas(), num_iteration =gbm.best_iteration), gbm"
   ]
  },
  {
   "cell_type": "markdown",
   "id": "9516075d",
   "metadata": {
    "papermill": {
     "duration": 0.004409,
     "end_time": "2022-07-15T12:31:37.858088",
     "exception": false,
     "start_time": "2022-07-15T12:31:37.853679",
     "status": "completed"
    },
    "tags": []
   },
   "source": [
    "### Metrics"
   ]
  },
  {
   "cell_type": "code",
   "execution_count": 5,
   "id": "30f4203b",
   "metadata": {
    "execution": {
     "iopub.execute_input": "2022-07-15T12:31:37.868100Z",
     "iopub.status.busy": "2022-07-15T12:31:37.867817Z",
     "iopub.status.idle": "2022-07-15T12:31:37.890666Z",
     "shell.execute_reply": "2022-07-15T12:31:37.889951Z"
    },
    "papermill": {
     "duration": 0.029692,
     "end_time": "2022-07-15T12:31:37.892415",
     "exception": false,
     "start_time": "2022-07-15T12:31:37.862723",
     "status": "completed"
    },
    "tags": []
   },
   "outputs": [],
   "source": [
    "def lgb_amex(y_pred, y_true):\n",
    "    return 'amex', amex_metric_np(y_pred,y_true.get_label()), True\n",
    "\n",
    "def xgb_amex(y_pred, y_true):\n",
    "    return 'amex', amex_metric_np(y_pred,y_true.get_label())\n",
    "\n",
    "# Created by https://www.kaggle.com/yunchonggan\n",
    "# https://www.kaggle.com/competitions/amex-default-prediction/discussion/328020\n",
    "def amex_metric_np(preds: np.ndarray, target: np.ndarray) -> float:\n",
    "    indices = np.argsort(preds)[::-1]\n",
    "    preds, target = preds[indices], target[indices]\n",
    "\n",
    "    weight = 20.0 - target * 19.0\n",
    "    cum_norm_weight = (weight / weight.sum()).cumsum()\n",
    "    four_pct_mask = cum_norm_weight <= 0.04\n",
    "    d = np.sum(target[four_pct_mask]) / np.sum(target)\n",
    "\n",
    "    weighted_target = target * weight\n",
    "    lorentz = (weighted_target / weighted_target.sum()).cumsum()\n",
    "    gini = ((lorentz - cum_norm_weight) * weight).sum()\n",
    "\n",
    "    n_pos = np.sum(target)\n",
    "    n_neg = target.shape[0] - n_pos\n",
    "    gini_max = 10 * n_neg * (n_pos + 20 * n_neg - 19) / (n_pos + 20 * n_neg)\n",
    "\n",
    "    g = gini / gini_max\n",
    "    return 0.5 * (g + d)\n",
    "\n",
    "# we still need the official metric since the faster version above is slightly off\n",
    "def amex_metric(y_true: pd.DataFrame, y_pred: pd.DataFrame) -> float:\n",
    "\n",
    "    def top_four_percent_captured(y_true: pd.DataFrame, y_pred: pd.DataFrame) -> float:\n",
    "        df = (pd.concat([y_true, y_pred], axis='columns')\n",
    "              .sort_values('prediction', ascending=False))\n",
    "        df['weight'] = df['target'].apply(lambda x: 20 if x==0 else 1)\n",
    "        four_pct_cutoff = int(0.04 * df['weight'].sum())\n",
    "        df['weight_cumsum'] = df['weight'].cumsum()\n",
    "        df_cutoff = df.loc[df['weight_cumsum'] <= four_pct_cutoff]\n",
    "        return (df_cutoff['target'] == 1).sum() / (df['target'] == 1).sum()\n",
    "        \n",
    "    def weighted_gini(y_true: pd.DataFrame, y_pred: pd.DataFrame) -> float:\n",
    "        df = (pd.concat([y_true, y_pred], axis='columns')\n",
    "              .sort_values('prediction', ascending=False))\n",
    "        df['weight'] = df['target'].apply(lambda x: 20 if x==0 else 1)\n",
    "        df['random'] = (df['weight'] / df['weight'].sum()).cumsum()\n",
    "        total_pos = (df['target'] * df['weight']).sum()\n",
    "        df['cum_pos_found'] = (df['target'] * df['weight']).cumsum()\n",
    "        df['lorentz'] = df['cum_pos_found'] / total_pos\n",
    "        df['gini'] = (df['lorentz'] - df['random']) * df['weight']\n",
    "        return df['gini'].sum()\n",
    "\n",
    "    def normalized_weighted_gini(y_true: pd.DataFrame, y_pred: pd.DataFrame) -> float:\n",
    "        y_true_pred = y_true.rename(columns={'target': 'prediction'})\n",
    "        return weighted_gini(y_true, y_pred) / weighted_gini(y_true, y_true_pred)\n",
    "\n",
    "    g = normalized_weighted_gini(y_true, y_pred)\n",
    "    d = top_four_percent_captured(y_true, y_pred)\n",
    "\n",
    "    return 0.5 * (g + d)\n",
    "\n",
    "def amex_metric_mod_lgbm(y_pred: np.ndarray, data: lgb.Dataset):\n",
    "\n",
    "    y_true = data.get_label()\n",
    "    labels     = np.transpose(np.array([y_true, y_pred]))\n",
    "    labels     = labels[labels[:, 1].argsort()[::-1]]\n",
    "    weights    = np.where(labels[:,0]==0, 20, 1)\n",
    "    cut_vals   = labels[np.cumsum(weights) <= int(0.04 * np.sum(weights))]\n",
    "    top_four   = np.sum(cut_vals[:,0]) / np.sum(labels[:,0])\n",
    "\n",
    "    gini = [0,0]\n",
    "    for i in [1,0]:\n",
    "        labels         = np.transpose(np.array([y_true, y_pred]))\n",
    "        labels         = labels[labels[:, i].argsort()[::-1]]\n",
    "        weight         = np.where(labels[:,0]==0, 20, 1)\n",
    "        weight_random  = np.cumsum(weight / np.sum(weight))\n",
    "        total_pos      = np.sum(labels[:, 0] *  weight)\n",
    "        cum_pos_found  = np.cumsum(labels[:, 0] * weight)\n",
    "        lorentz        = cum_pos_found / total_pos\n",
    "        gini[i]        = np.sum((lorentz - weight_random) * weight)\n",
    "\n",
    "    return 'AMEX', 0.5 * (gini[1]/gini[0]+ top_four), True"
   ]
  },
  {
   "cell_type": "markdown",
   "id": "627931dd",
   "metadata": {
    "papermill": {
     "duration": 0.004348,
     "end_time": "2022-07-15T12:31:37.901036",
     "exception": false,
     "start_time": "2022-07-15T12:31:37.896688",
     "status": "completed"
    },
    "tags": []
   },
   "source": [
    "### Load data and add feature"
   ]
  },
  {
   "cell_type": "code",
   "execution_count": 6,
   "id": "980f4032",
   "metadata": {
    "execution": {
     "iopub.execute_input": "2022-07-15T12:31:37.911045Z",
     "iopub.status.busy": "2022-07-15T12:31:37.910447Z",
     "iopub.status.idle": "2022-07-15T12:33:42.227139Z",
     "shell.execute_reply": "2022-07-15T12:33:42.226337Z"
    },
    "papermill": {
     "duration": 124.329571,
     "end_time": "2022-07-15T12:33:42.234951",
     "exception": false,
     "start_time": "2022-07-15T12:31:37.905380",
     "status": "completed"
    },
    "tags": []
   },
   "outputs": [
    {
     "name": "stdout",
     "output_type": "stream",
     "text": [
      "CPU times: user 1min 36s, sys: 12.2 s, total: 1min 48s\n",
      "Wall time: 2min 4s\n"
     ]
    },
    {
     "data": {
      "text/plain": [
       "(458913, 921)"
      ]
     },
     "execution_count": 6,
     "metadata": {},
     "output_type": "execute_result"
    }
   ],
   "source": [
    "%%time\n",
    "\n",
    "path = '../input/amex-data-integer-dtypes-parquet-format'\n",
    "train = load_train(path)\n",
    "# train2 = load_train(path,2)\n",
    "train.shape"
   ]
  },
  {
   "cell_type": "markdown",
   "id": "40417869",
   "metadata": {
    "papermill": {
     "duration": 0.004338,
     "end_time": "2022-07-15T12:33:42.244519",
     "exception": false,
     "start_time": "2022-07-15T12:33:42.240181",
     "status": "completed"
    },
    "tags": []
   },
   "source": [
    "### Train Stacking Model in K-folds"
   ]
  },
  {
   "cell_type": "code",
   "execution_count": 7,
   "id": "dc9a0333",
   "metadata": {
    "execution": {
     "iopub.execute_input": "2022-07-15T12:33:42.255267Z",
     "iopub.status.busy": "2022-07-15T12:33:42.254606Z",
     "iopub.status.idle": "2022-07-15T13:49:36.566897Z",
     "shell.execute_reply": "2022-07-15T13:49:36.566074Z"
    },
    "papermill": {
     "duration": 4554.338546,
     "end_time": "2022-07-15T13:49:36.587864",
     "exception": false,
     "start_time": "2022-07-15T12:33:42.249318",
     "status": "completed"
    },
    "tags": []
   },
   "outputs": [
    {
     "name": "stdout",
     "output_type": "stream",
     "text": [
      "==============Folds 0===============\n",
      "-----------xgb starts training-----------\n",
      "# of features: 907\n"
     ]
    },
    {
     "name": "stderr",
     "output_type": "stream",
     "text": [
      "/opt/conda/lib/python3.7/site-packages/xgboost/training.py:36: UserWarning: `feval` is deprecated, use `custom_metric` instead.  They have different behavior when custom objective is also used.See https://xgboost.readthedocs.io/en/latest/tutorials/custom_metric_obj.html for details on the `custom_metric`.\n",
      "  \"`feval` is deprecated, use `custom_metric` instead.  They have \"\n"
     ]
    },
    {
     "name": "stdout",
     "output_type": "stream",
     "text": [
      "[0]\ttrain-logloss:0.67374\ttrain-amex:0.70766\teval-logloss:0.67380\teval-amex:0.69872\n",
      "[100]\ttrain-logloss:0.24266\ttrain-amex:0.78034\teval-logloss:0.24786\teval-amex:0.76612\n",
      "[200]\ttrain-logloss:0.21749\ttrain-amex:0.79838\teval-logloss:0.22696\teval-amex:0.77708\n",
      "[300]\ttrain-logloss:0.20875\ttrain-amex:0.81058\teval-logloss:0.22234\teval-amex:0.78287\n",
      "[400]\ttrain-logloss:0.20315\ttrain-amex:0.81894\teval-logloss:0.22015\teval-amex:0.78582\n",
      "[500]\ttrain-logloss:0.19869\ttrain-amex:0.82600\teval-logloss:0.21885\teval-amex:0.78784\n",
      "[600]\ttrain-logloss:0.19477\ttrain-amex:0.83261\teval-logloss:0.21809\teval-amex:0.78881\n",
      "[700]\ttrain-logloss:0.19124\ttrain-amex:0.83837\teval-logloss:0.21754\teval-amex:0.78985\n",
      "[800]\ttrain-logloss:0.18796\ttrain-amex:0.84390\teval-logloss:0.21712\teval-amex:0.79079\n",
      "[900]\ttrain-logloss:0.18467\ttrain-amex:0.84989\teval-logloss:0.21676\teval-amex:0.79107\n",
      "[1000]\ttrain-logloss:0.18163\ttrain-amex:0.85556\teval-logloss:0.21652\teval-amex:0.79107\n",
      "[1100]\ttrain-logloss:0.17863\ttrain-amex:0.86086\teval-logloss:0.21638\teval-amex:0.79114\n",
      "[1200]\ttrain-logloss:0.17569\ttrain-amex:0.86593\teval-logloss:0.21620\teval-amex:0.79182\n",
      "[1300]\ttrain-logloss:0.17279\ttrain-amex:0.87120\teval-logloss:0.21602\teval-amex:0.79187\n",
      "[1400]\ttrain-logloss:0.17004\ttrain-amex:0.87601\teval-logloss:0.21592\teval-amex:0.79174\n",
      "[1500]\ttrain-logloss:0.16733\ttrain-amex:0.88072\teval-logloss:0.21584\teval-amex:0.79245\n",
      "[1600]\ttrain-logloss:0.16486\ttrain-amex:0.88526\teval-logloss:0.21579\teval-amex:0.79251\n",
      "[1700]\ttrain-logloss:0.16246\ttrain-amex:0.88963\teval-logloss:0.21573\teval-amex:0.79290\n",
      "[1800]\ttrain-logloss:0.15991\ttrain-amex:0.89385\teval-logloss:0.21569\teval-amex:0.79294\n",
      "[1900]\ttrain-logloss:0.15745\ttrain-amex:0.89838\teval-logloss:0.21562\teval-amex:0.79316\n",
      "[2000]\ttrain-logloss:0.15522\ttrain-amex:0.90206\teval-logloss:0.21560\teval-amex:0.79267\n",
      "[2100]\ttrain-logloss:0.15290\ttrain-amex:0.90619\teval-logloss:0.21556\teval-amex:0.79288\n",
      "[2200]\ttrain-logloss:0.15071\ttrain-amex:0.91000\teval-logloss:0.21561\teval-amex:0.79287\n",
      "[2282]\ttrain-logloss:0.14908\ttrain-amex:0.91303\teval-logloss:0.21561\teval-amex:0.79290\n",
      "best ntree_limit: 1784\n",
      "best score: 0.793312\n",
      "----------lgb starts training----------\n",
      "# of features: 220\n"
     ]
    },
    {
     "name": "stderr",
     "output_type": "stream",
     "text": [
      "/opt/conda/lib/python3.7/site-packages/lightgbm/engine.py:177: UserWarning: Found `n_estimators` in params. Will use it instead of argument\n",
      "  _log_warning(f\"Found `{alias}` in params. Will use it instead of argument\")\n",
      "/opt/conda/lib/python3.7/site-packages/lightgbm/engine.py:181: UserWarning: 'early_stopping_rounds' argument is deprecated and will be removed in a future release of LightGBM. Pass 'early_stopping()' callback via 'callbacks' argument instead.\n",
      "  _log_warning(\"'early_stopping_rounds' argument is deprecated and will be removed in a future release of LightGBM. \"\n",
      "/opt/conda/lib/python3.7/site-packages/lightgbm/engine.py:239: UserWarning: 'verbose_eval' argument is deprecated and will be removed in a future release of LightGBM. Pass 'log_evaluation()' callback via 'callbacks' argument instead.\n",
      "  _log_warning(\"'verbose_eval' argument is deprecated and will be removed in a future release of LightGBM. \"\n"
     ]
    },
    {
     "name": "stdout",
     "output_type": "stream",
     "text": [
      "[LightGBM] [Info] Number of positive: 95258, number of negative: 271872\n",
      "[LightGBM] [Warning] Auto-choosing row-wise multi-threading, the overhead of testing was 0.287211 seconds.\n",
      "You can set `force_row_wise=true` to remove the overhead.\n",
      "And if memory is not enough, you can set `force_col_wise=true`.\n",
      "[LightGBM] [Info] Total Bins 20528\n",
      "[LightGBM] [Info] Number of data points in the train set: 367130, number of used features: 220\n",
      "[LightGBM] [Info] [binary:BoostFromScore]: pavg=0.259467 -> initscore=-1.048742\n",
      "[LightGBM] [Info] Start training from score -1.048742\n",
      "Training until validation scores don't improve for 200 rounds\n",
      "[100]\ttraining's binary_logloss: 0.229631\ttraining's AMEX: 0.779552\tvalid_1's binary_logloss: 0.232923\tvalid_1's AMEX: 0.770874\n",
      "[200]\ttraining's binary_logloss: 0.217656\ttraining's AMEX: 0.794304\tvalid_1's binary_logloss: 0.224373\tvalid_1's AMEX: 0.781524\n",
      "[300]\ttraining's binary_logloss: 0.212109\ttraining's AMEX: 0.803209\tvalid_1's binary_logloss: 0.221941\tvalid_1's AMEX: 0.784794\n",
      "[400]\ttraining's binary_logloss: 0.208255\ttraining's AMEX: 0.809213\tvalid_1's binary_logloss: 0.221065\tvalid_1's AMEX: 0.786123\n",
      "[500]\ttraining's binary_logloss: 0.205183\ttraining's AMEX: 0.814543\tvalid_1's binary_logloss: 0.22065\tvalid_1's AMEX: 0.78674\n",
      "[600]\ttraining's binary_logloss: 0.202355\ttraining's AMEX: 0.819719\tvalid_1's binary_logloss: 0.22035\tvalid_1's AMEX: 0.786847\n",
      "[700]\ttraining's binary_logloss: 0.199773\ttraining's AMEX: 0.824417\tvalid_1's binary_logloss: 0.220169\tvalid_1's AMEX: 0.787762\n",
      "[800]\ttraining's binary_logloss: 0.197369\ttraining's AMEX: 0.828458\tvalid_1's binary_logloss: 0.22007\tvalid_1's AMEX: 0.787375\n",
      "[900]\ttraining's binary_logloss: 0.195016\ttraining's AMEX: 0.832766\tvalid_1's binary_logloss: 0.220002\tvalid_1's AMEX: 0.787486\n",
      "Early stopping, best iteration is:\n",
      "[701]\ttraining's binary_logloss: 0.199752\ttraining's AMEX: 0.824525\tvalid_1's binary_logloss: 0.220166\tvalid_1's AMEX: 0.787891\n",
      "best iterations: 701\n",
      "best score: defaultdict(<class 'collections.OrderedDict'>, {'training': OrderedDict([('binary_logloss', 0.1997522960515315), ('AMEX', 0.8245247142058283)]), 'valid_1': OrderedDict([('binary_logloss', 0.22016577576003762), ('AMEX', 0.7878907066343147)])})\n",
      "Fold 0 amex 0.7915\n",
      "==============Folds 1===============\n",
      "-----------xgb starts training-----------\n",
      "# of features: 907\n"
     ]
    },
    {
     "name": "stderr",
     "output_type": "stream",
     "text": [
      "/opt/conda/lib/python3.7/site-packages/xgboost/training.py:36: UserWarning: `feval` is deprecated, use `custom_metric` instead.  They have different behavior when custom objective is also used.See https://xgboost.readthedocs.io/en/latest/tutorials/custom_metric_obj.html for details on the `custom_metric`.\n",
      "  \"`feval` is deprecated, use `custom_metric` instead.  They have \"\n"
     ]
    },
    {
     "name": "stdout",
     "output_type": "stream",
     "text": [
      "[0]\ttrain-logloss:0.67374\ttrain-amex:0.70599\teval-logloss:0.67382\teval-amex:0.70341\n",
      "[100]\ttrain-logloss:0.24233\ttrain-amex:0.77990\teval-logloss:0.24874\teval-amex:0.76858\n",
      "[200]\ttrain-logloss:0.21712\ttrain-amex:0.79749\teval-logloss:0.22806\teval-amex:0.77928\n",
      "[300]\ttrain-logloss:0.20830\ttrain-amex:0.81043\teval-logloss:0.22341\teval-amex:0.78335\n",
      "[400]\ttrain-logloss:0.20264\ttrain-amex:0.81872\teval-logloss:0.22122\teval-amex:0.78527\n",
      "[500]\ttrain-logloss:0.19793\ttrain-amex:0.82678\teval-logloss:0.21989\teval-amex:0.78800\n",
      "[600]\ttrain-logloss:0.19391\ttrain-amex:0.83379\teval-logloss:0.21903\teval-amex:0.78947\n",
      "[700]\ttrain-logloss:0.19026\ttrain-amex:0.84009\teval-logloss:0.21843\teval-amex:0.78992\n",
      "[800]\ttrain-logloss:0.18699\ttrain-amex:0.84567\teval-logloss:0.21802\teval-amex:0.79066\n",
      "[900]\ttrain-logloss:0.18377\ttrain-amex:0.85163\teval-logloss:0.21764\teval-amex:0.79113\n",
      "[1000]\ttrain-logloss:0.18087\ttrain-amex:0.85624\teval-logloss:0.21731\teval-amex:0.79176\n",
      "[1100]\ttrain-logloss:0.17787\ttrain-amex:0.86182\teval-logloss:0.21704\teval-amex:0.79171\n",
      "[1200]\ttrain-logloss:0.17512\ttrain-amex:0.86693\teval-logloss:0.21688\teval-amex:0.79168\n",
      "[1300]\ttrain-logloss:0.17241\ttrain-amex:0.87168\teval-logloss:0.21672\teval-amex:0.79208\n",
      "[1400]\ttrain-logloss:0.16977\ttrain-amex:0.87633\teval-logloss:0.21665\teval-amex:0.79239\n",
      "[1500]\ttrain-logloss:0.16718\ttrain-amex:0.88077\teval-logloss:0.21657\teval-amex:0.79219\n",
      "[1600]\ttrain-logloss:0.16472\ttrain-amex:0.88536\teval-logloss:0.21649\teval-amex:0.79232\n",
      "[1700]\ttrain-logloss:0.16219\ttrain-amex:0.88988\teval-logloss:0.21643\teval-amex:0.79279\n",
      "[1800]\ttrain-logloss:0.15962\ttrain-amex:0.89438\teval-logloss:0.21641\teval-amex:0.79259\n",
      "[1900]\ttrain-logloss:0.15725\ttrain-amex:0.89857\teval-logloss:0.21641\teval-amex:0.79314\n",
      "[2000]\ttrain-logloss:0.15492\ttrain-amex:0.90266\teval-logloss:0.21640\teval-amex:0.79280\n",
      "[2100]\ttrain-logloss:0.15262\ttrain-amex:0.90682\teval-logloss:0.21645\teval-amex:0.79285\n",
      "[2200]\ttrain-logloss:0.15043\ttrain-amex:0.91063\teval-logloss:0.21652\teval-amex:0.79285\n",
      "[2300]\ttrain-logloss:0.14820\ttrain-amex:0.91450\teval-logloss:0.21654\teval-amex:0.79247\n",
      "[2400]\ttrain-logloss:0.14591\ttrain-amex:0.91817\teval-logloss:0.21656\teval-amex:0.79281\n",
      "[2500]\ttrain-logloss:0.14385\ttrain-amex:0.92127\teval-logloss:0.21664\teval-amex:0.79217\n",
      "[2549]\ttrain-logloss:0.14288\ttrain-amex:0.92285\teval-logloss:0.21668\teval-amex:0.79239\n",
      "best ntree_limit: 2051\n",
      "best score: 0.793309\n",
      "----------lgb starts training----------\n",
      "# of features: 220\n"
     ]
    },
    {
     "name": "stderr",
     "output_type": "stream",
     "text": [
      "/opt/conda/lib/python3.7/site-packages/lightgbm/engine.py:177: UserWarning: Found `n_estimators` in params. Will use it instead of argument\n",
      "  _log_warning(f\"Found `{alias}` in params. Will use it instead of argument\")\n",
      "/opt/conda/lib/python3.7/site-packages/lightgbm/engine.py:181: UserWarning: 'early_stopping_rounds' argument is deprecated and will be removed in a future release of LightGBM. Pass 'early_stopping()' callback via 'callbacks' argument instead.\n",
      "  _log_warning(\"'early_stopping_rounds' argument is deprecated and will be removed in a future release of LightGBM. \"\n",
      "/opt/conda/lib/python3.7/site-packages/lightgbm/engine.py:239: UserWarning: 'verbose_eval' argument is deprecated and will be removed in a future release of LightGBM. Pass 'log_evaluation()' callback via 'callbacks' argument instead.\n",
      "  _log_warning(\"'verbose_eval' argument is deprecated and will be removed in a future release of LightGBM. \"\n"
     ]
    },
    {
     "name": "stdout",
     "output_type": "stream",
     "text": [
      "[LightGBM] [Info] Number of positive: 95167, number of negative: 271963\n",
      "[LightGBM] [Warning] Auto-choosing row-wise multi-threading, the overhead of testing was 0.291090 seconds.\n",
      "You can set `force_row_wise=true` to remove the overhead.\n",
      "And if memory is not enough, you can set `force_col_wise=true`.\n",
      "[LightGBM] [Info] Total Bins 20565\n",
      "[LightGBM] [Info] Number of data points in the train set: 367130, number of used features: 220\n",
      "[LightGBM] [Info] [binary:BoostFromScore]: pavg=0.259219 -> initscore=-1.050033\n",
      "[LightGBM] [Info] Start training from score -1.050033\n",
      "Training until validation scores don't improve for 200 rounds\n",
      "[100]\ttraining's binary_logloss: 0.229438\ttraining's AMEX: 0.779218\tvalid_1's binary_logloss: 0.233992\tvalid_1's AMEX: 0.771598\n",
      "[200]\ttraining's binary_logloss: 0.217496\ttraining's AMEX: 0.794945\tvalid_1's binary_logloss: 0.225454\tvalid_1's AMEX: 0.779546\n",
      "[300]\ttraining's binary_logloss: 0.211936\ttraining's AMEX: 0.803598\tvalid_1's binary_logloss: 0.222884\tvalid_1's AMEX: 0.783369\n",
      "[400]\ttraining's binary_logloss: 0.20811\ttraining's AMEX: 0.810029\tvalid_1's binary_logloss: 0.221954\tvalid_1's AMEX: 0.784362\n",
      "[500]\ttraining's binary_logloss: 0.20493\ttraining's AMEX: 0.8154\tvalid_1's binary_logloss: 0.221506\tvalid_1's AMEX: 0.785091\n",
      "[600]\ttraining's binary_logloss: 0.202096\ttraining's AMEX: 0.820162\tvalid_1's binary_logloss: 0.221226\tvalid_1's AMEX: 0.785491\n",
      "[700]\ttraining's binary_logloss: 0.199404\ttraining's AMEX: 0.824832\tvalid_1's binary_logloss: 0.221069\tvalid_1's AMEX: 0.786093\n",
      "[800]\ttraining's binary_logloss: 0.196909\ttraining's AMEX: 0.82916\tvalid_1's binary_logloss: 0.220961\tvalid_1's AMEX: 0.78605\n",
      "[900]\ttraining's binary_logloss: 0.194492\ttraining's AMEX: 0.833345\tvalid_1's binary_logloss: 0.220863\tvalid_1's AMEX: 0.786086\n",
      "[1000]\ttraining's binary_logloss: 0.192264\ttraining's AMEX: 0.837121\tvalid_1's binary_logloss: 0.220828\tvalid_1's AMEX: 0.786375\n",
      "[1100]\ttraining's binary_logloss: 0.190002\ttraining's AMEX: 0.841352\tvalid_1's binary_logloss: 0.220787\tvalid_1's AMEX: 0.786305\n",
      "[1200]\ttraining's binary_logloss: 0.187856\ttraining's AMEX: 0.84498\tvalid_1's binary_logloss: 0.220731\tvalid_1's AMEX: 0.786956\n",
      "[1300]\ttraining's binary_logloss: 0.185799\ttraining's AMEX: 0.848693\tvalid_1's binary_logloss: 0.220682\tvalid_1's AMEX: 0.785897\n",
      "[1400]\ttraining's binary_logloss: 0.183801\ttraining's AMEX: 0.852044\tvalid_1's binary_logloss: 0.220657\tvalid_1's AMEX: 0.786395\n",
      "Early stopping, best iteration is:\n",
      "[1207]\ttraining's binary_logloss: 0.187692\ttraining's AMEX: 0.845211\tvalid_1's binary_logloss: 0.220709\tvalid_1's AMEX: 0.787092\n",
      "best iterations: 1207\n",
      "best score: defaultdict(<class 'collections.OrderedDict'>, {'training': OrderedDict([('binary_logloss', 0.18769218124364942), ('AMEX', 0.8452107009048481)]), 'valid_1': OrderedDict([('binary_logloss', 0.22070930702571567), ('AMEX', 0.7870919784258739)])})\n",
      "Fold 1 amex 0.7931\n",
      "==============Folds 2===============\n",
      "-----------xgb starts training-----------\n",
      "# of features: 907\n"
     ]
    },
    {
     "name": "stderr",
     "output_type": "stream",
     "text": [
      "/opt/conda/lib/python3.7/site-packages/xgboost/training.py:36: UserWarning: `feval` is deprecated, use `custom_metric` instead.  They have different behavior when custom objective is also used.See https://xgboost.readthedocs.io/en/latest/tutorials/custom_metric_obj.html for details on the `custom_metric`.\n",
      "  \"`feval` is deprecated, use `custom_metric` instead.  They have \"\n"
     ]
    },
    {
     "name": "stdout",
     "output_type": "stream",
     "text": [
      "[0]\ttrain-logloss:0.67374\ttrain-amex:0.70959\teval-logloss:0.67384\teval-amex:0.70069\n",
      "[100]\ttrain-logloss:0.24232\ttrain-amex:0.78153\teval-logloss:0.24901\teval-amex:0.76780\n",
      "[200]\ttrain-logloss:0.21740\ttrain-amex:0.79839\teval-logloss:0.22781\teval-amex:0.78087\n",
      "[300]\ttrain-logloss:0.20860\ttrain-amex:0.81104\teval-logloss:0.22265\teval-amex:0.78738\n",
      "[400]\ttrain-logloss:0.20288\ttrain-amex:0.81958\teval-logloss:0.22020\teval-amex:0.79036\n",
      "[500]\ttrain-logloss:0.19835\ttrain-amex:0.82682\teval-logloss:0.21883\teval-amex:0.79180\n",
      "[600]\ttrain-logloss:0.19470\ttrain-amex:0.83319\teval-logloss:0.21801\teval-amex:0.79248\n",
      "[700]\ttrain-logloss:0.19108\ttrain-amex:0.83907\teval-logloss:0.21735\teval-amex:0.79409\n",
      "[800]\ttrain-logloss:0.18789\ttrain-amex:0.84458\teval-logloss:0.21694\teval-amex:0.79461\n",
      "[900]\ttrain-logloss:0.18477\ttrain-amex:0.85019\teval-logloss:0.21661\teval-amex:0.79554\n",
      "[1000]\ttrain-logloss:0.18166\ttrain-amex:0.85586\teval-logloss:0.21630\teval-amex:0.79624\n",
      "[1100]\ttrain-logloss:0.17890\ttrain-amex:0.86067\teval-logloss:0.21608\teval-amex:0.79556\n",
      "[1200]\ttrain-logloss:0.17615\ttrain-amex:0.86588\teval-logloss:0.21593\teval-amex:0.79522\n",
      "[1300]\ttrain-logloss:0.17330\ttrain-amex:0.87104\teval-logloss:0.21582\teval-amex:0.79565\n",
      "[1400]\ttrain-logloss:0.17064\ttrain-amex:0.87618\teval-logloss:0.21575\teval-amex:0.79515\n",
      "[1500]\ttrain-logloss:0.16795\ttrain-amex:0.88131\teval-logloss:0.21562\teval-amex:0.79499\n",
      "[1524]\ttrain-logloss:0.16738\ttrain-amex:0.88241\teval-logloss:0.21562\teval-amex:0.79468\n",
      "best ntree_limit: 1025\n",
      "best score: 0.796401\n",
      "----------lgb starts training----------\n",
      "# of features: 220\n"
     ]
    },
    {
     "name": "stderr",
     "output_type": "stream",
     "text": [
      "/opt/conda/lib/python3.7/site-packages/lightgbm/engine.py:177: UserWarning: Found `n_estimators` in params. Will use it instead of argument\n",
      "  _log_warning(f\"Found `{alias}` in params. Will use it instead of argument\")\n",
      "/opt/conda/lib/python3.7/site-packages/lightgbm/engine.py:181: UserWarning: 'early_stopping_rounds' argument is deprecated and will be removed in a future release of LightGBM. Pass 'early_stopping()' callback via 'callbacks' argument instead.\n",
      "  _log_warning(\"'early_stopping_rounds' argument is deprecated and will be removed in a future release of LightGBM. \"\n",
      "/opt/conda/lib/python3.7/site-packages/lightgbm/engine.py:239: UserWarning: 'verbose_eval' argument is deprecated and will be removed in a future release of LightGBM. Pass 'log_evaluation()' callback via 'callbacks' argument instead.\n",
      "  _log_warning(\"'verbose_eval' argument is deprecated and will be removed in a future release of LightGBM. \"\n"
     ]
    },
    {
     "name": "stdout",
     "output_type": "stream",
     "text": [
      "[LightGBM] [Info] Number of positive: 94985, number of negative: 272145\n",
      "[LightGBM] [Warning] Auto-choosing row-wise multi-threading, the overhead of testing was 0.295698 seconds.\n",
      "You can set `force_row_wise=true` to remove the overhead.\n",
      "And if memory is not enough, you can set `force_col_wise=true`.\n",
      "[LightGBM] [Info] Total Bins 20539\n",
      "[LightGBM] [Info] Number of data points in the train set: 367130, number of used features: 220\n",
      "[LightGBM] [Info] [binary:BoostFromScore]: pavg=0.258723 -> initscore=-1.052616\n",
      "[LightGBM] [Info] Start training from score -1.052616\n",
      "Training until validation scores don't improve for 200 rounds\n",
      "[100]\ttraining's binary_logloss: 0.229554\ttraining's AMEX: 0.779396\tvalid_1's binary_logloss: 0.233792\tvalid_1's AMEX: 0.773295\n",
      "[200]\ttraining's binary_logloss: 0.217766\ttraining's AMEX: 0.794751\tvalid_1's binary_logloss: 0.224899\tvalid_1's AMEX: 0.782668\n",
      "[300]\ttraining's binary_logloss: 0.212217\ttraining's AMEX: 0.802551\tvalid_1's binary_logloss: 0.222278\tvalid_1's AMEX: 0.785562\n",
      "[400]\ttraining's binary_logloss: 0.208374\ttraining's AMEX: 0.808945\tvalid_1's binary_logloss: 0.221285\tvalid_1's AMEX: 0.786455\n",
      "[500]\ttraining's binary_logloss: 0.205244\ttraining's AMEX: 0.813949\tvalid_1's binary_logloss: 0.220853\tvalid_1's AMEX: 0.786504\n",
      "[600]\ttraining's binary_logloss: 0.202379\ttraining's AMEX: 0.819071\tvalid_1's binary_logloss: 0.220513\tvalid_1's AMEX: 0.787735\n",
      "[700]\ttraining's binary_logloss: 0.199715\ttraining's AMEX: 0.823921\tvalid_1's binary_logloss: 0.220392\tvalid_1's AMEX: 0.788031\n",
      "[800]\ttraining's binary_logloss: 0.197263\ttraining's AMEX: 0.828335\tvalid_1's binary_logloss: 0.220263\tvalid_1's AMEX: 0.788225\n",
      "[900]\ttraining's binary_logloss: 0.194846\ttraining's AMEX: 0.832227\tvalid_1's binary_logloss: 0.220108\tvalid_1's AMEX: 0.788456\n",
      "[1000]\ttraining's binary_logloss: 0.192556\ttraining's AMEX: 0.836357\tvalid_1's binary_logloss: 0.220073\tvalid_1's AMEX: 0.788406\n",
      "[1100]\ttraining's binary_logloss: 0.190219\ttraining's AMEX: 0.840424\tvalid_1's binary_logloss: 0.21996\tvalid_1's AMEX: 0.789597\n",
      "[1200]\ttraining's binary_logloss: 0.18815\ttraining's AMEX: 0.84481\tvalid_1's binary_logloss: 0.219944\tvalid_1's AMEX: 0.788933\n",
      "Early stopping, best iteration is:\n",
      "[1093]\ttraining's binary_logloss: 0.190383\ttraining's AMEX: 0.840346\tvalid_1's binary_logloss: 0.219962\tvalid_1's AMEX: 0.789744\n",
      "best iterations: 1093\n",
      "best score: defaultdict(<class 'collections.OrderedDict'>, {'training': OrderedDict([('binary_logloss', 0.19038252620050217), ('AMEX', 0.8403463449293123)]), 'valid_1': OrderedDict([('binary_logloss', 0.2199615275439029), ('AMEX', 0.7897443754980853)])})\n",
      "Fold 2 amex 0.7957\n",
      "==============Folds 3===============\n",
      "-----------xgb starts training-----------\n",
      "# of features: 907\n"
     ]
    },
    {
     "name": "stderr",
     "output_type": "stream",
     "text": [
      "/opt/conda/lib/python3.7/site-packages/xgboost/training.py:36: UserWarning: `feval` is deprecated, use `custom_metric` instead.  They have different behavior when custom objective is also used.See https://xgboost.readthedocs.io/en/latest/tutorials/custom_metric_obj.html for details on the `custom_metric`.\n",
      "  \"`feval` is deprecated, use `custom_metric` instead.  They have \"\n"
     ]
    },
    {
     "name": "stdout",
     "output_type": "stream",
     "text": [
      "[0]\ttrain-logloss:0.67375\ttrain-amex:0.70647\teval-logloss:0.67379\teval-amex:0.70290\n",
      "[100]\ttrain-logloss:0.24254\ttrain-amex:0.78003\teval-logloss:0.24769\teval-amex:0.77062\n",
      "[200]\ttrain-logloss:0.21751\ttrain-amex:0.79682\teval-logloss:0.22662\teval-amex:0.78113\n",
      "[300]\ttrain-logloss:0.20873\ttrain-amex:0.81017\teval-logloss:0.22183\teval-amex:0.78695\n",
      "[400]\ttrain-logloss:0.20317\ttrain-amex:0.81820\teval-logloss:0.21954\teval-amex:0.79026\n",
      "[500]\ttrain-logloss:0.19858\ttrain-amex:0.82562\teval-logloss:0.21817\teval-amex:0.79196\n",
      "[600]\ttrain-logloss:0.19454\ttrain-amex:0.83293\teval-logloss:0.21728\teval-amex:0.79312\n",
      "[700]\ttrain-logloss:0.19104\ttrain-amex:0.83929\teval-logloss:0.21669\teval-amex:0.79389\n",
      "[800]\ttrain-logloss:0.18765\ttrain-amex:0.84487\teval-logloss:0.21621\teval-amex:0.79431\n",
      "[900]\ttrain-logloss:0.18466\ttrain-amex:0.85031\teval-logloss:0.21589\teval-amex:0.79498\n",
      "[1000]\ttrain-logloss:0.18177\ttrain-amex:0.85548\teval-logloss:0.21564\teval-amex:0.79550\n",
      "[1100]\ttrain-logloss:0.17872\ttrain-amex:0.86116\teval-logloss:0.21541\teval-amex:0.79550\n",
      "[1200]\ttrain-logloss:0.17596\ttrain-amex:0.86594\teval-logloss:0.21522\teval-amex:0.79551\n",
      "[1300]\ttrain-logloss:0.17328\ttrain-amex:0.87072\teval-logloss:0.21506\teval-amex:0.79590\n",
      "[1400]\ttrain-logloss:0.17065\ttrain-amex:0.87577\teval-logloss:0.21493\teval-amex:0.79649\n",
      "[1500]\ttrain-logloss:0.16799\ttrain-amex:0.88034\teval-logloss:0.21485\teval-amex:0.79754\n",
      "[1600]\ttrain-logloss:0.16563\ttrain-amex:0.88442\teval-logloss:0.21479\teval-amex:0.79773\n",
      "[1700]\ttrain-logloss:0.16304\ttrain-amex:0.88924\teval-logloss:0.21469\teval-amex:0.79783\n",
      "[1800]\ttrain-logloss:0.16051\ttrain-amex:0.89364\teval-logloss:0.21463\teval-amex:0.79804\n",
      "[1900]\ttrain-logloss:0.15826\ttrain-amex:0.89764\teval-logloss:0.21461\teval-amex:0.79791\n",
      "[2000]\ttrain-logloss:0.15610\ttrain-amex:0.90141\teval-logloss:0.21460\teval-amex:0.79791\n",
      "[2100]\ttrain-logloss:0.15382\ttrain-amex:0.90556\teval-logloss:0.21457\teval-amex:0.79772\n",
      "[2200]\ttrain-logloss:0.15159\ttrain-amex:0.90922\teval-logloss:0.21457\teval-amex:0.79812\n",
      "[2300]\ttrain-logloss:0.14938\ttrain-amex:0.91312\teval-logloss:0.21457\teval-amex:0.79829\n",
      "[2400]\ttrain-logloss:0.14725\ttrain-amex:0.91669\teval-logloss:0.21458\teval-amex:0.79846\n",
      "[2500]\ttrain-logloss:0.14515\ttrain-amex:0.91990\teval-logloss:0.21458\teval-amex:0.79800\n",
      "[2599]\ttrain-logloss:0.14314\ttrain-amex:0.92338\teval-logloss:0.21457\teval-amex:0.79736\n",
      "best ntree_limit: 2285\n",
      "best score: 0.798828\n",
      "----------lgb starts training----------\n",
      "# of features: 220\n"
     ]
    },
    {
     "name": "stderr",
     "output_type": "stream",
     "text": [
      "/opt/conda/lib/python3.7/site-packages/lightgbm/engine.py:177: UserWarning: Found `n_estimators` in params. Will use it instead of argument\n",
      "  _log_warning(f\"Found `{alias}` in params. Will use it instead of argument\")\n",
      "/opt/conda/lib/python3.7/site-packages/lightgbm/engine.py:181: UserWarning: 'early_stopping_rounds' argument is deprecated and will be removed in a future release of LightGBM. Pass 'early_stopping()' callback via 'callbacks' argument instead.\n",
      "  _log_warning(\"'early_stopping_rounds' argument is deprecated and will be removed in a future release of LightGBM. \"\n",
      "/opt/conda/lib/python3.7/site-packages/lightgbm/engine.py:239: UserWarning: 'verbose_eval' argument is deprecated and will be removed in a future release of LightGBM. Pass 'log_evaluation()' callback via 'callbacks' argument instead.\n",
      "  _log_warning(\"'verbose_eval' argument is deprecated and will be removed in a future release of LightGBM. \"\n"
     ]
    },
    {
     "name": "stdout",
     "output_type": "stream",
     "text": [
      "[LightGBM] [Info] Number of positive: 94856, number of negative: 272275\n",
      "[LightGBM] [Warning] Auto-choosing row-wise multi-threading, the overhead of testing was 0.301599 seconds.\n",
      "You can set `force_row_wise=true` to remove the overhead.\n",
      "And if memory is not enough, you can set `force_col_wise=true`.\n",
      "[LightGBM] [Info] Total Bins 20539\n",
      "[LightGBM] [Info] Number of data points in the train set: 367131, number of used features: 220\n",
      "[LightGBM] [Info] [binary:BoostFromScore]: pavg=0.258371 -> initscore=-1.054453\n",
      "[LightGBM] [Info] Start training from score -1.054453\n",
      "Training until validation scores don't improve for 200 rounds\n",
      "[100]\ttraining's binary_logloss: 0.22977\ttraining's AMEX: 0.779298\tvalid_1's binary_logloss: 0.232745\tvalid_1's AMEX: 0.773493\n",
      "[200]\ttraining's binary_logloss: 0.217834\ttraining's AMEX: 0.794492\tvalid_1's binary_logloss: 0.223803\tvalid_1's AMEX: 0.783346\n",
      "[300]\ttraining's binary_logloss: 0.212289\ttraining's AMEX: 0.802839\tvalid_1's binary_logloss: 0.221152\tvalid_1's AMEX: 0.787396\n",
      "[400]\ttraining's binary_logloss: 0.208536\ttraining's AMEX: 0.809259\tvalid_1's binary_logloss: 0.220212\tvalid_1's AMEX: 0.788619\n",
      "[500]\ttraining's binary_logloss: 0.205495\ttraining's AMEX: 0.814161\tvalid_1's binary_logloss: 0.219757\tvalid_1's AMEX: 0.789233\n",
      "[600]\ttraining's binary_logloss: 0.202663\ttraining's AMEX: 0.818697\tvalid_1's binary_logloss: 0.219498\tvalid_1's AMEX: 0.789382\n",
      "[700]\ttraining's binary_logloss: 0.200069\ttraining's AMEX: 0.82329\tvalid_1's binary_logloss: 0.219252\tvalid_1's AMEX: 0.789555\n",
      "[800]\ttraining's binary_logloss: 0.197571\ttraining's AMEX: 0.827798\tvalid_1's binary_logloss: 0.219056\tvalid_1's AMEX: 0.790523\n",
      "[900]\ttraining's binary_logloss: 0.195188\ttraining's AMEX: 0.832058\tvalid_1's binary_logloss: 0.218945\tvalid_1's AMEX: 0.790811\n",
      "[1000]\ttraining's binary_logloss: 0.192889\ttraining's AMEX: 0.836295\tvalid_1's binary_logloss: 0.218803\tvalid_1's AMEX: 0.791279\n",
      "[1100]\ttraining's binary_logloss: 0.190664\ttraining's AMEX: 0.84016\tvalid_1's binary_logloss: 0.21876\tvalid_1's AMEX: 0.791002\n",
      "[1200]\ttraining's binary_logloss: 0.188437\ttraining's AMEX: 0.843921\tvalid_1's binary_logloss: 0.218673\tvalid_1's AMEX: 0.791115\n",
      "Early stopping, best iteration is:\n",
      "[1006]\ttraining's binary_logloss: 0.192733\ttraining's AMEX: 0.83643\tvalid_1's binary_logloss: 0.218783\tvalid_1's AMEX: 0.791495\n",
      "best iterations: 1006\n",
      "best score: defaultdict(<class 'collections.OrderedDict'>, {'training': OrderedDict([('binary_logloss', 0.1927330960050536), ('AMEX', 0.8364301926849078)]), 'valid_1': OrderedDict([('binary_logloss', 0.21878325676810242), ('AMEX', 0.7914954018263795)])})\n",
      "Fold 3 amex 0.7977\n",
      "==============Folds 4===============\n",
      "-----------xgb starts training-----------\n",
      "# of features: 907\n"
     ]
    },
    {
     "name": "stderr",
     "output_type": "stream",
     "text": [
      "/opt/conda/lib/python3.7/site-packages/xgboost/training.py:36: UserWarning: `feval` is deprecated, use `custom_metric` instead.  They have different behavior when custom objective is also used.See https://xgboost.readthedocs.io/en/latest/tutorials/custom_metric_obj.html for details on the `custom_metric`.\n",
      "  \"`feval` is deprecated, use `custom_metric` instead.  They have \"\n"
     ]
    },
    {
     "name": "stdout",
     "output_type": "stream",
     "text": [
      "[0]\ttrain-logloss:0.67372\ttrain-amex:0.70639\teval-logloss:0.67378\teval-amex:0.70221\n",
      "[100]\ttrain-logloss:0.24236\ttrain-amex:0.78185\teval-logloss:0.24866\teval-amex:0.76611\n",
      "[200]\ttrain-logloss:0.21730\ttrain-amex:0.79817\teval-logloss:0.22814\teval-amex:0.77891\n",
      "[300]\ttrain-logloss:0.20845\ttrain-amex:0.81115\teval-logloss:0.22343\teval-amex:0.78563\n",
      "[400]\ttrain-logloss:0.20251\ttrain-amex:0.82039\teval-logloss:0.22128\teval-amex:0.78864\n",
      "[500]\ttrain-logloss:0.19804\ttrain-amex:0.82767\teval-logloss:0.22004\teval-amex:0.79043\n",
      "[600]\ttrain-logloss:0.19417\ttrain-amex:0.83458\teval-logloss:0.21930\teval-amex:0.79116\n",
      "[700]\ttrain-logloss:0.19072\ttrain-amex:0.84052\teval-logloss:0.21874\teval-amex:0.79145\n",
      "[800]\ttrain-logloss:0.18730\ttrain-amex:0.84667\teval-logloss:0.21835\teval-amex:0.79237\n",
      "[900]\ttrain-logloss:0.18413\ttrain-amex:0.85236\teval-logloss:0.21807\teval-amex:0.79239\n",
      "[1000]\ttrain-logloss:0.18105\ttrain-amex:0.85783\teval-logloss:0.21784\teval-amex:0.79290\n",
      "[1100]\ttrain-logloss:0.17807\ttrain-amex:0.86342\teval-logloss:0.21765\teval-amex:0.79306\n",
      "[1200]\ttrain-logloss:0.17534\ttrain-amex:0.86799\teval-logloss:0.21751\teval-amex:0.79401\n",
      "[1300]\ttrain-logloss:0.17261\ttrain-amex:0.87314\teval-logloss:0.21741\teval-amex:0.79345\n",
      "[1400]\ttrain-logloss:0.16982\ttrain-amex:0.87859\teval-logloss:0.21732\teval-amex:0.79395\n",
      "[1500]\ttrain-logloss:0.16717\ttrain-amex:0.88317\teval-logloss:0.21721\teval-amex:0.79412\n",
      "[1600]\ttrain-logloss:0.16454\ttrain-amex:0.88735\teval-logloss:0.21718\teval-amex:0.79428\n",
      "[1700]\ttrain-logloss:0.16202\ttrain-amex:0.89201\teval-logloss:0.21714\teval-amex:0.79411\n",
      "[1800]\ttrain-logloss:0.15964\ttrain-amex:0.89606\teval-logloss:0.21713\teval-amex:0.79456\n",
      "[1900]\ttrain-logloss:0.15724\ttrain-amex:0.90006\teval-logloss:0.21710\teval-amex:0.79399\n",
      "[2000]\ttrain-logloss:0.15492\ttrain-amex:0.90430\teval-logloss:0.21713\teval-amex:0.79478\n",
      "[2100]\ttrain-logloss:0.15276\ttrain-amex:0.90809\teval-logloss:0.21714\teval-amex:0.79457\n",
      "[2200]\ttrain-logloss:0.15063\ttrain-amex:0.91175\teval-logloss:0.21714\teval-amex:0.79488\n",
      "[2300]\ttrain-logloss:0.14843\ttrain-amex:0.91552\teval-logloss:0.21718\teval-amex:0.79472\n",
      "[2400]\ttrain-logloss:0.14633\ttrain-amex:0.91892\teval-logloss:0.21721\teval-amex:0.79468\n",
      "[2500]\ttrain-logloss:0.14424\ttrain-amex:0.92234\teval-logloss:0.21722\teval-amex:0.79420\n",
      "[2599]\ttrain-logloss:0.14209\ttrain-amex:0.92583\teval-logloss:0.21726\teval-amex:0.79428\n",
      "best ntree_limit: 2261\n",
      "best score: 0.795295\n",
      "----------lgb starts training----------\n",
      "# of features: 220\n"
     ]
    },
    {
     "name": "stderr",
     "output_type": "stream",
     "text": [
      "/opt/conda/lib/python3.7/site-packages/lightgbm/engine.py:177: UserWarning: Found `n_estimators` in params. Will use it instead of argument\n",
      "  _log_warning(f\"Found `{alias}` in params. Will use it instead of argument\")\n",
      "/opt/conda/lib/python3.7/site-packages/lightgbm/engine.py:181: UserWarning: 'early_stopping_rounds' argument is deprecated and will be removed in a future release of LightGBM. Pass 'early_stopping()' callback via 'callbacks' argument instead.\n",
      "  _log_warning(\"'early_stopping_rounds' argument is deprecated and will be removed in a future release of LightGBM. \"\n",
      "/opt/conda/lib/python3.7/site-packages/lightgbm/engine.py:239: UserWarning: 'verbose_eval' argument is deprecated and will be removed in a future release of LightGBM. Pass 'log_evaluation()' callback via 'callbacks' argument instead.\n",
      "  _log_warning(\"'verbose_eval' argument is deprecated and will be removed in a future release of LightGBM. \"\n"
     ]
    },
    {
     "name": "stdout",
     "output_type": "stream",
     "text": [
      "[LightGBM] [Info] Number of positive: 95046, number of negative: 272085\n",
      "[LightGBM] [Warning] Auto-choosing row-wise multi-threading, the overhead of testing was 0.294276 seconds.\n",
      "You can set `force_row_wise=true` to remove the overhead.\n",
      "And if memory is not enough, you can set `force_col_wise=true`.\n",
      "[LightGBM] [Info] Total Bins 20534\n",
      "[LightGBM] [Info] Number of data points in the train set: 367131, number of used features: 220\n",
      "[LightGBM] [Info] [binary:BoostFromScore]: pavg=0.258889 -> initscore=-1.051754\n",
      "[LightGBM] [Info] Start training from score -1.051754\n",
      "Training until validation scores don't improve for 200 rounds\n",
      "[100]\ttraining's binary_logloss: 0.229566\ttraining's AMEX: 0.779107\tvalid_1's binary_logloss: 0.233363\tvalid_1's AMEX: 0.771706\n",
      "[200]\ttraining's binary_logloss: 0.217637\ttraining's AMEX: 0.79378\tvalid_1's binary_logloss: 0.224798\tvalid_1's AMEX: 0.783798\n",
      "[300]\ttraining's binary_logloss: 0.21208\ttraining's AMEX: 0.802872\tvalid_1's binary_logloss: 0.222184\tvalid_1's AMEX: 0.78731\n",
      "[400]\ttraining's binary_logloss: 0.208196\ttraining's AMEX: 0.809479\tvalid_1's binary_logloss: 0.22121\tvalid_1's AMEX: 0.788041\n",
      "[500]\ttraining's binary_logloss: 0.20506\ttraining's AMEX: 0.81459\tvalid_1's binary_logloss: 0.220819\tvalid_1's AMEX: 0.788316\n",
      "[600]\ttraining's binary_logloss: 0.202197\ttraining's AMEX: 0.819672\tvalid_1's binary_logloss: 0.220569\tvalid_1's AMEX: 0.788973\n",
      "[700]\ttraining's binary_logloss: 0.199574\ttraining's AMEX: 0.823954\tvalid_1's binary_logloss: 0.220323\tvalid_1's AMEX: 0.789085\n",
      "[800]\ttraining's binary_logloss: 0.197142\ttraining's AMEX: 0.828218\tvalid_1's binary_logloss: 0.220191\tvalid_1's AMEX: 0.789118\n",
      "[900]\ttraining's binary_logloss: 0.194764\ttraining's AMEX: 0.832199\tvalid_1's binary_logloss: 0.220158\tvalid_1's AMEX: 0.789192\n",
      "[1000]\ttraining's binary_logloss: 0.192502\ttraining's AMEX: 0.83651\tvalid_1's binary_logloss: 0.220082\tvalid_1's AMEX: 0.789582\n",
      "[1100]\ttraining's binary_logloss: 0.190224\ttraining's AMEX: 0.840343\tvalid_1's binary_logloss: 0.219939\tvalid_1's AMEX: 0.790053\n",
      "[1200]\ttraining's binary_logloss: 0.188229\ttraining's AMEX: 0.843727\tvalid_1's binary_logloss: 0.219911\tvalid_1's AMEX: 0.790194\n",
      "Early stopping, best iteration is:\n",
      "[1092]\ttraining's binary_logloss: 0.190409\ttraining's AMEX: 0.839973\tvalid_1's binary_logloss: 0.219959\tvalid_1's AMEX: 0.790571\n",
      "best iterations: 1092\n",
      "best score: defaultdict(<class 'collections.OrderedDict'>, {'training': OrderedDict([('binary_logloss', 0.19040905203665842), ('AMEX', 0.8399733420460853)]), 'valid_1': OrderedDict([('binary_logloss', 0.21995949740564766), ('AMEX', 0.7905707151715038)])})\n",
      "Fold 4 amex 0.7956\n",
      "Average amex score: 0.7947\n",
      "CPU times: user 1h 44min 52s, sys: 17.3 s, total: 1h 45min 9s\n",
      "Wall time: 1h 15min 54s\n"
     ]
    }
   ],
   "source": [
    "%%time\n",
    "\n",
    "not_used = get_not_used()\n",
    "not_used = [i for i in not_used if i in train.columns]\n",
    "msgs = {}\n",
    "folds = 5\n",
    "score = 0\n",
    "\n",
    "#set diff cols if u wanna try different features on xgb & lgbm\n",
    "diff_cols= [col for col in train.columns if col.endswith('_max') or col.endswith('_min') or col.endswith('_mean') or col.endswith('_std') or col.endswith('_count')]\n",
    "\n",
    "\n",
    "for i in range(folds):\n",
    "    print(f\"==============Folds {i}===============\")\n",
    "    mask = train['cid']%folds == i\n",
    "    tr,va = train[~mask], train[mask]\n",
    "\n",
    "    x, y = tr.drop(not_used, axis=1), tr['target']\n",
    "    xt, yt = va.drop(not_used, axis=1), va['target']\n",
    "    \n",
    "    xp, yp, bst = xgb_train(x, y, xt, yt)\n",
    "    bst.save_model(f'xgb_{i}.json')\n",
    "\n",
    "    x = tr.drop(not_used+diff_cols, axis=1)\n",
    "    xt = va.drop(not_used+diff_cols, axis=1)\n",
    "    \n",
    "    xp2,yp2,gbm = lgb_train(x, y, xt, yt)\n",
    "    gbm.save_model(f'lgb_{i}.json')\n",
    "\n",
    "    X_estimator = np.concatenate((np.expand_dims(yp, 1), np.expand_dims(yp2, 1)), 1)\n",
    "    final_estimator = LogisticRegression(penalty=\"l1\",solver=\"saga\",C=0.001,max_iter=1000,class_weight=\"balanced\")\n",
    "    final_estimator.fit(X_estimator, yt.to_pandas())\n",
    "    with open(f'lr_{i}.pkl','wb') as f:\n",
    "        pickle.dump(final_estimator, f)\n",
    "    preds=final_estimator.predict_proba(np.concatenate((np.expand_dims(yp, 1), np.expand_dims(yp2, 1)), 1))[:,1]\n",
    "\n",
    "    amex_score = amex_metric(pd.DataFrame({'target':yt.values.get()}), \n",
    "                                    pd.DataFrame({'prediction':preds}))\n",
    "    msg = f\"Fold {i} amex {amex_score:.4f}\"\n",
    "    print(msg)\n",
    "    score += amex_score\n",
    "score /= folds\n",
    "print(f\"Average amex score: {score:.4f}\")"
   ]
  },
  {
   "cell_type": "code",
   "execution_count": 8,
   "id": "7edb2525",
   "metadata": {
    "execution": {
     "iopub.execute_input": "2022-07-15T13:49:36.625434Z",
     "iopub.status.busy": "2022-07-15T13:49:36.625135Z",
     "iopub.status.idle": "2022-07-15T13:49:37.084994Z",
     "shell.execute_reply": "2022-07-15T13:49:37.084251Z"
    },
    "papermill": {
     "duration": 0.480771,
     "end_time": "2022-07-15T13:49:37.086886",
     "exception": false,
     "start_time": "2022-07-15T13:49:36.606115",
     "status": "completed"
    },
    "tags": []
   },
   "outputs": [
    {
     "data": {
      "text/plain": [
       "<AxesSubplot:title={'center':'Feature importance'}, xlabel='F score', ylabel='Features'>"
      ]
     },
     "execution_count": 8,
     "metadata": {},
     "output_type": "execute_result"
    },
    {
     "data": {
      "image/png": "[encoded data removed]",
      "text/plain": [
       "<Figure size 432x288 with 1 Axes>"
      ]
     },
     "metadata": {
      "needs_background": "light"
     },
     "output_type": "display_data"
    }
   ],
   "source": [
    "from xgboost import plot_importance\n",
    "plot_importance(bst,max_num_features=30)\n"
   ]
  },
  {
   "cell_type": "code",
   "execution_count": 9,
   "id": "a23ca537",
   "metadata": {
    "execution": {
     "iopub.execute_input": "2022-07-15T13:49:37.126833Z",
     "iopub.status.busy": "2022-07-15T13:49:37.126544Z",
     "iopub.status.idle": "2022-07-15T13:49:37.519326Z",
     "shell.execute_reply": "2022-07-15T13:49:37.518547Z"
    },
    "papermill": {
     "duration": 0.414775,
     "end_time": "2022-07-15T13:49:37.521176",
     "exception": false,
     "start_time": "2022-07-15T13:49:37.106401",
     "status": "completed"
    },
    "tags": []
   },
   "outputs": [
    {
     "data": {
      "text/plain": [
       "25"
      ]
     },
     "execution_count": 9,
     "metadata": {},
     "output_type": "execute_result"
    }
   ],
   "source": [
    "del train\n",
    "del tr,va\n",
    "gc.collect()"
   ]
  },
  {
   "cell_type": "markdown",
   "id": "b5c93f4b",
   "metadata": {
    "papermill": {
     "duration": 0.019008,
     "end_time": "2022-07-15T13:49:37.559875",
     "exception": false,
     "start_time": "2022-07-15T13:49:37.540867",
     "status": "completed"
    },
    "tags": []
   },
   "source": [
    "### Inference"
   ]
  },
  {
   "cell_type": "code",
   "execution_count": 10,
   "id": "255b897b",
   "metadata": {
    "execution": {
     "iopub.execute_input": "2022-07-15T13:49:37.600029Z",
     "iopub.status.busy": "2022-07-15T13:49:37.599326Z",
     "iopub.status.idle": "2022-07-15T14:08:16.792760Z",
     "shell.execute_reply": "2022-07-15T14:08:16.791788Z"
    },
    "papermill": {
     "duration": 1119.215116,
     "end_time": "2022-07-15T14:08:16.794620",
     "exception": false,
     "start_time": "2022-07-15T13:49:37.579504",
     "status": "completed"
    },
    "tags": []
   },
   "outputs": [
    {
     "name": "stderr",
     "output_type": "stream",
     "text": [
      "100%|██████████| 10/10 [18:39<00:00, 111.91s/it]"
     ]
    },
    {
     "name": "stdout",
     "output_type": "stream",
     "text": [
      "CPU times: user 28min 46s, sys: 42.8 s, total: 29min 28s\n",
      "Wall time: 18min 39s\n"
     ]
    },
    {
     "name": "stderr",
     "output_type": "stream",
     "text": [
      "\n"
     ]
    },
    {
     "data": {
      "text/html": [
       "<div>\n",
       "<style scoped>\n",
       "    .dataframe tbody tr th:only-of-type {\n",
       "        vertical-align: middle;\n",
       "    }\n",
       "\n",
       "    .dataframe tbody tr th {\n",
       "        vertical-align: top;\n",
       "    }\n",
       "\n",
       "    .dataframe thead th {\n",
       "        text-align: right;\n",
       "    }\n",
       "</style>\n",
       "<table border=\"1\" class=\"dataframe\">\n",
       "  <thead>\n",
       "    <tr style=\"text-align: right;\">\n",
       "      <th></th>\n",
       "      <th>customer_ID</th>\n",
       "      <th>prediction</th>\n",
       "    </tr>\n",
       "  </thead>\n",
       "  <tbody>\n",
       "    <tr>\n",
       "      <th>0</th>\n",
       "      <td>01b105a265d342326aab69904d750d35a04c4bea5e0660...</td>\n",
       "      <td>0.104155</td>\n",
       "    </tr>\n",
       "    <tr>\n",
       "      <th>1</th>\n",
       "      <td>01b157e354d3eb942174f33fc7b3a641ff5a608b95dcff...</td>\n",
       "      <td>0.943266</td>\n",
       "    </tr>\n",
       "    <tr>\n",
       "      <th>2</th>\n",
       "      <td>01b180b8a00f861af43118a49312a7ba2a934df5122372...</td>\n",
       "      <td>0.143880</td>\n",
       "    </tr>\n",
       "    <tr>\n",
       "      <th>3</th>\n",
       "      <td>01b22bdd08c342e5ea3dcbe3692571475e447241fa9248...</td>\n",
       "      <td>0.095000</td>\n",
       "    </tr>\n",
       "    <tr>\n",
       "      <th>4</th>\n",
       "      <td>01b25531b34c5a1c2b587537e53858f0fb13d55993aaa9...</td>\n",
       "      <td>0.967836</td>\n",
       "    </tr>\n",
       "  </tbody>\n",
       "</table>\n",
       "</div>"
      ],
      "text/plain": [
       "                                         customer_ID  prediction\n",
       "0  01b105a265d342326aab69904d750d35a04c4bea5e0660...    0.104155\n",
       "1  01b157e354d3eb942174f33fc7b3a641ff5a608b95dcff...    0.943266\n",
       "2  01b180b8a00f861af43118a49312a7ba2a934df5122372...    0.143880\n",
       "3  01b22bdd08c342e5ea3dcbe3692571475e447241fa9248...    0.095000\n",
       "4  01b25531b34c5a1c2b587537e53858f0fb13d55993aaa9...    0.967836"
      ]
     },
     "execution_count": 10,
     "metadata": {},
     "output_type": "execute_result"
    }
   ],
   "source": [
    "%%time\n",
    "cids = []\n",
    "yps = []\n",
    "# set chunks \n",
    "chunks = 10\n",
    "\n",
    "\n",
    "for df in tqdm(load_test_iter(path,chunks),total=chunks):\n",
    "    cids.append(df['customer_ID'])\n",
    "    not_used = [i for i in not_used if i in df.columns]\n",
    "\n",
    "    preds=0\n",
    "    for i in range(folds):\n",
    "        bst = xgb.Booster()\n",
    "        bst.load_model(f'xgb_{i}.json')\n",
    "        dx = xgb.DMatrix(df.drop(not_used, axis=1))\n",
    "        \n",
    "        gbm = lgb.Booster(model_file=f'lgb_{i}.json')\n",
    "        dx2 = df.drop(not_used+diff_cols, axis=1).to_pandas()\n",
    "        \n",
    "        with open(f'lr_{i}.pkl','rb') as f:\n",
    "            Lr= pickle.load(f)\n",
    "        \n",
    "        yp = bst.predict(dx, iteration_range=(0,bst.best_ntree_limit))\n",
    "        yp2 = gbm.predict(dx2, num_iteration =gbm.best_iteration)\n",
    "        preds+=final_estimator.predict_proba(np.concatenate((np.expand_dims(yp, 1), np.expand_dims(yp2, 1)), 1))[:,1]\n",
    "        \n",
    "    yps.append(preds/folds)\n",
    "    \n",
    "df = cudf.DataFrame()\n",
    "df['customer_ID'] = cudf.concat(cids)\n",
    "df['prediction'] = np.concatenate(yps)\n",
    "df.head()"
   ]
  },
  {
   "cell_type": "code",
   "execution_count": 11,
   "id": "d9fb18b6",
   "metadata": {
    "execution": {
     "iopub.execute_input": "2022-07-15T14:08:16.836987Z",
     "iopub.status.busy": "2022-07-15T14:08:16.836575Z",
     "iopub.status.idle": "2022-07-15T14:08:16.983100Z",
     "shell.execute_reply": "2022-07-15T14:08:16.982284Z"
    },
    "papermill": {
     "duration": 0.169381,
     "end_time": "2022-07-15T14:08:16.985143",
     "exception": false,
     "start_time": "2022-07-15T14:08:16.815762",
     "status": "completed"
    },
    "tags": []
   },
   "outputs": [],
   "source": [
    "df.to_csv('submission.csv',index=False)"
   ]
  }
 ],
 "metadata": {
  "kernelspec": {
   "display_name": "Python 3",
   "language": "python",
   "name": "python3"
  },
  "language_info": {
   "codemirror_mode": {
    "name": "ipython",
    "version": 3
   },
   "file_extension": ".py",
   "mimetype": "text/x-python",
   "name": "python",
   "nbconvert_exporter": "python",
   "pygments_lexer": "ipython3",
   "version": "3.7.12"
  },
  "papermill": {
   "default_parameters": {},
   "duration": 5814.169526,
   "end_time": "2022-07-15T14:08:18.637362",
   "environment_variables": {},
   "exception": null,
   "input_path": "__notebook__.ipynb",
   "output_path": "__notebook__.ipynb",
   "parameters": {},
   "start_time": "2022-07-15T12:31:24.467836",
   "version": "2.3.4"
  }
 },
 "nbformat": 4,
 "nbformat_minor": 5
}
