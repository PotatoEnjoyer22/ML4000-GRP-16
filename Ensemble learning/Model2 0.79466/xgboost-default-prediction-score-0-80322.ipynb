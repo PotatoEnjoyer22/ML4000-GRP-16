{
 "cells": [
  {
   "cell_type": "markdown",
   "id": "423fe2c1",
   "metadata": {
    "papermill": {
     "duration": 0.008512,
     "end_time": "2023-05-09T15:25:42.887239",
     "exception": false,
     "start_time": "2023-05-09T15:25:42.878727",
     "status": "completed"
    },
    "tags": []
   },
   "source": [
    "# Introduction\n",
    "\n",
    "XGB model with GPU usage by cudf using parameter obtained from Grid Search\n",
    "\n",
    "\n",
    "Scored 0.80322 for competition's metrics"
   ]
  },
  {
   "cell_type": "markdown",
   "id": "65aeef2b",
   "metadata": {
    "papermill": {
     "duration": 0.006039,
     "end_time": "2023-05-09T15:25:42.899825",
     "exception": false,
     "start_time": "2023-05-09T15:25:42.893786",
     "status": "completed"
    },
    "tags": []
   },
   "source": [
    "# Load Libraries"
   ]
  },
  {
   "cell_type": "code",
   "execution_count": 1,
   "id": "f60a928e",
   "metadata": {
    "execution": {
     "iopub.execute_input": "2023-05-09T15:25:42.914648Z",
     "iopub.status.busy": "2023-05-09T15:25:42.913674Z",
     "iopub.status.idle": "2023-05-09T15:25:50.637437Z",
     "shell.execute_reply": "2023-05-09T15:25:50.635567Z"
    },
    "papermill": {
     "duration": 7.733496,
     "end_time": "2023-05-09T15:25:50.639588",
     "exception": false,
     "start_time": "2023-05-09T15:25:42.906092",
     "status": "completed"
    },
    "tags": []
   },
   "outputs": [
    {
     "name": "stderr",
     "output_type": "stream",
     "text": [
      "/opt/conda/lib/python3.10/site-packages/scipy/__init__.py:146: UserWarning: A NumPy version >=1.16.5 and <1.23.0 is required for this version of SciPy (detected version 1.23.5\n",
      "  warnings.warn(f\"A NumPy version >={np_minversion} and <{np_maxversion}\"\n"
     ]
    },
    {
     "name": "stdout",
     "output_type": "stream",
     "text": [
      "RAPIDS version 23.04.00\n"
     ]
    }
   ],
   "source": [
    "# LOAD LIBRARIES\n",
    "import pandas as pd, numpy as np # CPU libraries\n",
    "import cupy, cudf # GPU libraries\n",
    "import matplotlib.pyplot as plt, gc, os\n",
    "import seaborn as sns\n",
    "import gc\n",
    "import torch\n",
    "from numba import cuda\n",
    "\n",
    "print('RAPIDS version',cudf.__version__)\n",
    "pd.set_option('display.max_columns', None)"
   ]
  },
  {
   "cell_type": "code",
   "execution_count": 2,
   "id": "b9d430cf",
   "metadata": {
    "execution": {
     "iopub.execute_input": "2023-05-09T15:25:50.654535Z",
     "iopub.status.busy": "2023-05-09T15:25:50.653946Z",
     "iopub.status.idle": "2023-05-09T15:25:50.658651Z",
     "shell.execute_reply": "2023-05-09T15:25:50.657712Z"
    },
    "papermill": {
     "duration": 0.014247,
     "end_time": "2023-05-09T15:25:50.660538",
     "exception": false,
     "start_time": "2023-05-09T15:25:50.646291",
     "status": "completed"
    },
    "tags": []
   },
   "outputs": [],
   "source": [
    "# VERSION NAME FOR SAVED MODEL FILES\n",
    "VER = 1\n",
    "\n",
    "# TRAIN RANDOM SEED\n",
    "SEED = 42\n",
    "\n",
    "# FILL NAN VALUE\n",
    "NAN_VALUE = -127 # will fit in int8\n",
    "\n",
    "# FOLDS PER MODEL\n",
    "FOLDS = 5"
   ]
  },
  {
   "cell_type": "markdown",
   "id": "12bc4dbd",
   "metadata": {
    "papermill": {
     "duration": 0.006352,
     "end_time": "2023-05-09T15:25:50.673671",
     "exception": false,
     "start_time": "2023-05-09T15:25:50.667319",
     "status": "completed"
    },
    "tags": []
   },
   "source": [
    "# Process and Feature Engineer Train Data\n",
    "We will load @raddar Kaggle dataset from [here][1] with discussion [here][2]. Then we will engineer features suggested by @huseyincot in his notebooks [here][3] and [here][4]. We will use [RAPIDS][5] and the GPU to create new features quickly.\n",
    "\n",
    "[1]: https://www.kaggle.com/datasets/raddar/amex-data-integer-dtypes-parquet-format\n",
    "[2]: https://www.kaggle.com/competitions/amex-default-prediction/discussion/328514\n",
    "[3]: https://www.kaggle.com/code/huseyincot/amex-catboost-0-793\n",
    "[4]: https://www.kaggle.com/code/huseyincot/amex-agg-data-how-it-created\n",
    "[5]: https://rapids.ai/"
   ]
  },
  {
   "cell_type": "code",
   "execution_count": 3,
   "id": "f898dfaf",
   "metadata": {
    "execution": {
     "iopub.execute_input": "2023-05-09T15:25:50.688010Z",
     "iopub.status.busy": "2023-05-09T15:25:50.687678Z",
     "iopub.status.idle": "2023-05-09T15:25:50.692626Z",
     "shell.execute_reply": "2023-05-09T15:25:50.691669Z"
    },
    "papermill": {
     "duration": 0.014351,
     "end_time": "2023-05-09T15:25:50.694503",
     "exception": false,
     "start_time": "2023-05-09T15:25:50.680152",
     "status": "completed"
    },
    "tags": []
   },
   "outputs": [],
   "source": [
    "def check_gpu_memory(status = None):\n",
    "    \n",
    "    context = cuda.current_context()\n",
    "    free_memory, total_memory = context.get_memory_info()\n",
    "    \n",
    "    print(status)\n",
    "    print(f'Total memeory{total_memory}')\n",
    "    print(f'Free memeory{free_memory}')\n",
    "    "
   ]
  },
  {
   "cell_type": "code",
   "execution_count": 4,
   "id": "4ba7a034",
   "metadata": {
    "execution": {
     "iopub.execute_input": "2023-05-09T15:25:50.709392Z",
     "iopub.status.busy": "2023-05-09T15:25:50.708452Z",
     "iopub.status.idle": "2023-05-09T15:26:14.096410Z",
     "shell.execute_reply": "2023-05-09T15:26:14.095358Z"
    },
    "papermill": {
     "duration": 23.397596,
     "end_time": "2023-05-09T15:26:14.098590",
     "exception": false,
     "start_time": "2023-05-09T15:25:50.700994",
     "status": "completed"
    },
    "tags": []
   },
   "outputs": [
    {
     "name": "stdout",
     "output_type": "stream",
     "text": [
      "Reading train data...\n",
      "shape of data: (5531451, 190)\n"
     ]
    }
   ],
   "source": [
    "def read_file(path = '', usecols = None):\n",
    "    # LOAD DATAFRAME\n",
    "    if usecols is not None: df = cudf.read_parquet(path, columns=usecols)\n",
    "    else: df = cudf.read_parquet(path)\n",
    "    # REDUCE DTYPE FOR CUSTOMER AND DATE\n",
    "    df['customer_ID'] = df['customer_ID'].str[-16:].str.hex_to_int().astype('int64')\n",
    "    df.S_2 = cudf.to_datetime( df.S_2 )\n",
    "    # SORT BY CUSTOMER AND DATE (so agg('last') works correctly)\n",
    "    df = df.sort_values(['customer_ID','S_2'])\n",
    "    df = df.reset_index(drop=True)\n",
    "    # FILL NAN\n",
    "    df = df.fillna(NAN_VALUE) \n",
    "    print('shape of data:', df.shape)\n",
    "    \n",
    "    return df\n",
    "\n",
    "print('Reading train data...')\n",
    "TRAIN_PATH = '../input/amex-data-integer-dtypes-parquet-format/train.parquet'\n",
    "train_raw = read_file(path = TRAIN_PATH)"
   ]
  },
  {
   "cell_type": "code",
   "execution_count": 5,
   "id": "5077ef38",
   "metadata": {
    "execution": {
     "iopub.execute_input": "2023-05-09T15:26:14.113817Z",
     "iopub.status.busy": "2023-05-09T15:26:14.113524Z",
     "iopub.status.idle": "2023-05-09T15:26:27.095052Z",
     "shell.execute_reply": "2023-05-09T15:26:27.094055Z"
    },
    "papermill": {
     "duration": 12.991465,
     "end_time": "2023-05-09T15:26:27.097168",
     "exception": false,
     "start_time": "2023-05-09T15:26:14.105703",
     "status": "completed"
    },
    "tags": []
   },
   "outputs": [
    {
     "name": "stdout",
     "output_type": "stream",
     "text": [
      "<class 'cudf.core.dataframe.DataFrame'>\n",
      "Int64Index: 458913 entries, -9223358381327749917 to 9223350112805974911\n",
      "Columns: 1626 entries, P_2_mean to D_68_nunique\n",
      "dtypes: float32(903), float64(354), int16(36), int32(22), int8(311)\n",
      "memory usage: 3.0 GB\n",
      "None\n",
      "shape after engineering (458913, 1803)\n"
     ]
    }
   ],
   "source": [
    "def process_and_feature_engineer(df):\n",
    "    \n",
    "    gc.collect()\n",
    "    torch.cuda.empty_cache()\n",
    "    \n",
    "    #check_gpu_memory('start')\n",
    "    \n",
    "    # FEATURE ENGINEERING FROM \n",
    "    # https://www.kaggle.com/code/huseyincot/amex-agg-data-how-it-created\n",
    "    all_cols = [c for c in list(df.columns) if c not in ['customer_ID','S_2']]\n",
    "    cat_features = [\"B_30\",\"B_38\",\"D_114\",\"D_116\",\"D_117\",\"D_120\",\"D_126\",\"D_63\",\"D_64\",\"D_66\",\"D_68\"]\n",
    "    num_features = [col for col in all_cols if col not in cat_features]\n",
    "    num_diff_features = [ col + '_diff' for col in num_features]\n",
    "    \n",
    "    test_num_group = df.groupby(\"customer_ID\")\n",
    "    \n",
    "    #test_num_agg = df.groupby(\"customer_ID\")[num_features].agg(['mean', 'std', 'min', 'max', 'last'])\n",
    "    test_num_agg = test_num_group[num_features].agg(['mean', 'std', 'min', 'max', 'last'])\n",
    "    test_num_agg.columns = ['_'.join(x) for x in test_num_agg.columns]\n",
    "    \n",
    "    #Dataframe for diff features\n",
    "    df_diff = df[['customer_ID','S_2']].copy()\n",
    "    \n",
    "    for col in num_features:\n",
    "        test_num_agg[f'{col}_max_min_diff'] = test_num_agg[f'{col}_max']-test_num_agg[f'{col}_min']\n",
    "        test_num_agg[f'{col}_last_mean_diff'] = (test_num_agg[f'{col}_last']-test_num_agg[f'{col}_mean']).astype('float32')\n",
    "        test_num_agg[f'{col}_last_mean_ratio'] = (test_num_agg[f'{col}_last']/test_num_agg[f'{col}_mean']).astype('float32')\n",
    "        test_num_agg[f'{col}_min_max_ratio'] = (test_num_agg[f'{col}_min']/test_num_agg[f'{col}_max']).astype('float32')\n",
    "        \n",
    "        #Extract diff features \n",
    "        new_col=col+'_diff'\n",
    "        df_diff[new_col]= test_num_group[col].diff().fillna(0)\n",
    "\n",
    "    test_cat_agg = test_num_group[cat_features].agg(['count', 'last', 'nunique'])\n",
    "    #test_cat_agg = df.groupby(\"customer_ID\")[cat_features].agg(['count', 'last', 'nunique'])\n",
    "    test_cat_agg.columns = ['_'.join(x) for x in test_cat_agg.columns]\n",
    "    \n",
    "    df = cudf.concat([test_num_agg, test_cat_agg], axis=1)\n",
    "    \n",
    "    #check_gpu_memory('after agg')\n",
    "    \n",
    "    del test_num_agg,test_cat_agg,test_num_group\n",
    "    print(df.info())\n",
    "    gc.collect()\n",
    "    torch.cuda.empty_cache()\n",
    "    torch.cuda.synchronize()\n",
    "    #check_gpu_memory('after del test_num_agg,test_cat_agg')\n",
    "        \n",
    "    test_num_diff_agg = df_diff.groupby('customer_ID')[num_diff_features].agg(['max'])\n",
    "    #test_num_diff_agg = df.groupby(\"customer_ID\")[num_diff_features].agg(['mean', 'std','max'])\n",
    "    test_num_diff_agg.columns = ['_'.join(x) for x in test_num_diff_agg.columns]\n",
    "        \n",
    "\n",
    "    df = cudf.concat([df, test_num_diff_agg], axis=1)\n",
    "    \n",
    "    #new\n",
    "    #df = df.fillna(NAN_VALUE)\n",
    "    #df = df.replace(np.Inf,128)\n",
    "    #df = df.replace(-np.Inf,-127)\n",
    "    \n",
    "    del test_num_diff_agg\n",
    "    print('shape after engineering', df.shape )\n",
    "    \n",
    "    return df\n",
    "\n",
    "train = process_and_feature_engineer(train_raw)\n",
    "del train_raw"
   ]
  },
  {
   "cell_type": "code",
   "execution_count": 6,
   "id": "c919d8d2",
   "metadata": {
    "execution": {
     "iopub.execute_input": "2023-05-09T15:26:27.112935Z",
     "iopub.status.busy": "2023-05-09T15:26:27.112616Z",
     "iopub.status.idle": "2023-05-09T15:26:27.116647Z",
     "shell.execute_reply": "2023-05-09T15:26:27.115741Z"
    },
    "papermill": {
     "duration": 0.013911,
     "end_time": "2023-05-09T15:26:27.118537",
     "exception": false,
     "start_time": "2023-05-09T15:26:27.104626",
     "status": "completed"
    },
    "tags": []
   },
   "outputs": [],
   "source": [
    "#train.isna().sum().sum()"
   ]
  },
  {
   "cell_type": "code",
   "execution_count": 7,
   "id": "01b9f62d",
   "metadata": {
    "execution": {
     "iopub.execute_input": "2023-05-09T15:26:27.133378Z",
     "iopub.status.busy": "2023-05-09T15:26:27.133112Z",
     "iopub.status.idle": "2023-05-09T15:26:28.729119Z",
     "shell.execute_reply": "2023-05-09T15:26:28.727829Z"
    },
    "papermill": {
     "duration": 1.605858,
     "end_time": "2023-05-09T15:26:28.731217",
     "exception": false,
     "start_time": "2023-05-09T15:26:27.125359",
     "status": "completed"
    },
    "tags": []
   },
   "outputs": [
    {
     "name": "stdout",
     "output_type": "stream",
     "text": [
      "There are 1803 features!\n"
     ]
    }
   ],
   "source": [
    "# ADD TARGETS\n",
    "targets = cudf.read_csv('../input/amex-default-prediction/train_labels.csv')\n",
    "targets['customer_ID'] = targets['customer_ID'].str[-16:].str.hex_to_int().astype('int64')\n",
    "targets = targets.set_index('customer_ID')\n",
    "train = train.merge(targets, left_index=True, right_index=True, how='left')\n",
    "train.target = train.target.astype('int8')\n",
    "del targets\n",
    "\n",
    "# NEEDED TO MAKE CV DETERMINISTIC (cudf merge above randomly shuffles rows)\n",
    "train = train.sort_index().reset_index()\n",
    "\n",
    "# FEATURES\n",
    "FEATURES = train.columns[1:-1]\n",
    "print(f'There are {len(FEATURES)} features!')"
   ]
  },
  {
   "cell_type": "markdown",
   "id": "705c90ac",
   "metadata": {
    "papermill": {
     "duration": 0.006846,
     "end_time": "2023-05-09T15:26:28.745233",
     "exception": false,
     "start_time": "2023-05-09T15:26:28.738387",
     "status": "completed"
    },
    "tags": []
   },
   "source": [
    "# Train XGB\n",
    "We will train using `DeviceQuantileDMatrix`. This has a very small GPU memory footprint."
   ]
  },
  {
   "cell_type": "code",
   "execution_count": 8,
   "id": "b8bec37c",
   "metadata": {
    "execution": {
     "iopub.execute_input": "2023-05-09T15:26:28.762716Z",
     "iopub.status.busy": "2023-05-09T15:26:28.761873Z",
     "iopub.status.idle": "2023-05-09T15:26:29.124603Z",
     "shell.execute_reply": "2023-05-09T15:26:29.123676Z"
    },
    "papermill": {
     "duration": 0.373311,
     "end_time": "2023-05-09T15:26:29.126893",
     "exception": false,
     "start_time": "2023-05-09T15:26:28.753582",
     "status": "completed"
    },
    "tags": []
   },
   "outputs": [
    {
     "name": "stdout",
     "output_type": "stream",
     "text": [
      "XGB Version 1.7.5\n"
     ]
    }
   ],
   "source": [
    "# LOAD XGB LIBRARY\n",
    "from sklearn.model_selection import KFold\n",
    "import xgboost as xgb\n",
    "print('XGB Version',xgb.__version__)\n",
    "\n",
    "# NEEDED WITH DeviceQuantileDMatrix BELOW\n",
    "class IterLoadForDMatrix(xgb.core.DataIter):\n",
    "    def __init__(self, df=None, features=None, target=None, batch_size=126*1024):\n",
    "        self.features = features\n",
    "        self.target = target\n",
    "        self.df = df\n",
    "        self.it = 0 # set iterator to 0\n",
    "        self.batch_size = batch_size\n",
    "        self.batches = int( np.ceil( len(df) / self.batch_size ) )\n",
    "        super().__init__()\n",
    "\n",
    "    def reset(self):\n",
    "        '''Reset the iterator'''\n",
    "        self.it = 0\n",
    "\n",
    "    def next(self, input_data):\n",
    "        '''Yield next batch of data.'''\n",
    "        if self.it == self.batches:\n",
    "            return 0 # Return 0 when there's no more batch.\n",
    "        \n",
    "        a = self.it * self.batch_size\n",
    "        b = min( (self.it + 1) * self.batch_size, len(self.df) )\n",
    "        dt = cudf.DataFrame(self.df.iloc[a:b])\n",
    "        input_data(data=dt[self.features], label=dt[self.target]) #, weight=dt['weight'])\n",
    "        self.it += 1\n",
    "        return 1"
   ]
  },
  {
   "cell_type": "code",
   "execution_count": 9,
   "id": "07cd5f12",
   "metadata": {
    "execution": {
     "iopub.execute_input": "2023-05-09T15:26:29.143075Z",
     "iopub.status.busy": "2023-05-09T15:26:29.142168Z",
     "iopub.status.idle": "2023-05-09T15:26:29.150492Z",
     "shell.execute_reply": "2023-05-09T15:26:29.149676Z"
    },
    "papermill": {
     "duration": 0.018325,
     "end_time": "2023-05-09T15:26:29.152452",
     "exception": false,
     "start_time": "2023-05-09T15:26:29.134127",
     "status": "completed"
    },
    "tags": []
   },
   "outputs": [],
   "source": [
    "# https://www.kaggle.com/yunchonggan\n",
    "# https://www.kaggle.com/competitions/amex-default-prediction/discussion/328020\n",
    "def amex_metric_mod(y_true, y_pred):\n",
    "\n",
    "    labels     = np.transpose(np.array([y_true, y_pred]))\n",
    "    labels     = labels[labels[:, 1].argsort()[::-1]]\n",
    "    weights    = np.where(labels[:,0]==0, 20, 1)\n",
    "    cut_vals   = labels[np.cumsum(weights) <= int(0.04 * np.sum(weights))]\n",
    "    top_four   = np.sum(cut_vals[:,0]) / np.sum(labels[:,0])\n",
    "\n",
    "    gini = [0,0]\n",
    "    for i in [1,0]:\n",
    "        labels         = np.transpose(np.array([y_true, y_pred]))\n",
    "        labels         = labels[labels[:, i].argsort()[::-1]]\n",
    "        weight         = np.where(labels[:,0]==0, 20, 1)\n",
    "        weight_random  = np.cumsum(weight / np.sum(weight))\n",
    "        total_pos      = np.sum(labels[:, 0] *  weight)\n",
    "        cum_pos_found  = np.cumsum(labels[:, 0] * weight)\n",
    "        lorentz        = cum_pos_found / total_pos\n",
    "        gini[i]        = np.sum((lorentz - weight_random) * weight)\n",
    "    \n",
    "    #without name for general  calcaution \n",
    "    return 0.5 * (gini[1]/gini[0] + top_four)"
   ]
  },
  {
   "cell_type": "code",
   "execution_count": 10,
   "id": "9f0a41c3",
   "metadata": {
    "execution": {
     "iopub.execute_input": "2023-05-09T15:26:29.167323Z",
     "iopub.status.busy": "2023-05-09T15:26:29.167056Z",
     "iopub.status.idle": "2023-05-09T15:26:29.174785Z",
     "shell.execute_reply": "2023-05-09T15:26:29.173796Z"
    },
    "papermill": {
     "duration": 0.017589,
     "end_time": "2023-05-09T15:26:29.176919",
     "exception": false,
     "start_time": "2023-05-09T15:26:29.159330",
     "status": "completed"
    },
    "tags": []
   },
   "outputs": [],
   "source": [
    "def amex_metric_mod_xgb(y_pred: np.ndarray, dtrain:xgb.DMatrix):\n",
    "\n",
    "    y_true     = dtrain.get_label()\n",
    "    labels     = np.transpose(np.array([y_true, y_pred]))\n",
    "    labels     = labels[labels[:, 1].argsort()[::-1]]\n",
    "    weights    = np.where(labels[:,0]==0, 20, 1)\n",
    "    cut_vals   = labels[np.cumsum(weights) <= int(0.04 * np.sum(weights))]\n",
    "    top_four   = np.sum(cut_vals[:,0]) / np.sum(labels[:,0])\n",
    "\n",
    "    gini = [0,0]\n",
    "    for i in [1,0]:\n",
    "        labels         = np.transpose(np.array([y_true, y_pred]))\n",
    "        labels         = labels[labels[:, i].argsort()[::-1]]\n",
    "        weight         = np.where(labels[:,0]==0, 20, 1)\n",
    "        weight_random  = np.cumsum(weight / np.sum(weight))\n",
    "        total_pos      = np.sum(labels[:, 0] *  weight)\n",
    "        cum_pos_found  = np.cumsum(labels[:, 0] * weight)\n",
    "        lorentz        = cum_pos_found / total_pos\n",
    "        gini[i]        = np.sum((lorentz - weight_random) * weight)\n",
    "\n",
    "    #with name to applied in xgboost\n",
    "    return 'Amex_eval', 0.5 * (gini[1]/gini[0] + top_four)"
   ]
  },
  {
   "cell_type": "code",
   "execution_count": 11,
   "id": "74d4114b",
   "metadata": {
    "execution": {
     "iopub.execute_input": "2023-05-09T15:26:29.191987Z",
     "iopub.status.busy": "2023-05-09T15:26:29.191713Z",
     "iopub.status.idle": "2023-05-09T15:26:29.196888Z",
     "shell.execute_reply": "2023-05-09T15:26:29.195895Z"
    },
    "papermill": {
     "duration": 0.015053,
     "end_time": "2023-05-09T15:26:29.199021",
     "exception": false,
     "start_time": "2023-05-09T15:26:29.183968",
     "status": "completed"
    },
    "tags": []
   },
   "outputs": [],
   "source": [
    "# XGB MODEL Grid Search PARAMETERS\n",
    "gs_xgb_parms = { \n",
    "    'max_depth':[3,4,5,6],\n",
    "    'gamma': [0.5, 1, 1.5, 2, 5],\n",
    "    'learning_rate':[0.05,0.1,0.2,0.3], \n",
    "    'subsample':[0.6,0.8,1],\n",
    "    'colsample_bytree':[0.6],\n",
    "    'objective':['binary:logistic'],\n",
    "    'eval_metric':['logloss'],\n",
    "    'tree_method':['gpu_hist'],\n",
    "    'predictor':['gpu_predictor'],\n",
    "    'random_state':[SEED]\n",
    "}"
   ]
  },
  {
   "cell_type": "markdown",
   "id": "4bde9bac",
   "metadata": {
    "papermill": {
     "duration": 0.006647,
     "end_time": "2023-05-09T15:26:29.212498",
     "exception": false,
     "start_time": "2023-05-09T15:26:29.205851",
     "status": "completed"
    },
    "tags": []
   },
   "source": [
    "# Grid Search"
   ]
  },
  {
   "cell_type": "code",
   "execution_count": 12,
   "id": "ecebda17",
   "metadata": {
    "execution": {
     "iopub.execute_input": "2023-05-09T15:26:29.227778Z",
     "iopub.status.busy": "2023-05-09T15:26:29.227444Z",
     "iopub.status.idle": "2023-05-09T15:26:29.236954Z",
     "shell.execute_reply": "2023-05-09T15:26:29.236070Z"
    },
    "papermill": {
     "duration": 0.019513,
     "end_time": "2023-05-09T15:26:29.238748",
     "exception": false,
     "start_time": "2023-05-09T15:26:29.219235",
     "status": "completed"
    },
    "tags": []
   },
   "outputs": [
    {
     "data": {
      "text/plain": [
       "'\\nfrom sklearn.model_selection import KFold,ParameterGrid\\n\\nbest_score=0\\nfor g in ParameterGrid(gs_xgb_parms):\\n    importances = []\\n    oof = []\\n    #train = train.to_pandas() # free GPU memory\\n    TRAIN_SUBSAMPLE = 0.1\\n    gc.collect()\\n\\n    skf = KFold(n_splits=FOLDS, shuffle=True, random_state=SEED)\\n    for fold,(train_idx, valid_idx) in enumerate(skf.split(\\n                train, train.target )):\\n\\n        # TRAIN WITH SUBSAMPLE OF TRAIN FOLD DATA\\n        if TRAIN_SUBSAMPLE<1.0:\\n            np.random.seed(SEED)\\n            train_idx = np.random.choice(train_idx, \\n                       int(len(train_idx)*TRAIN_SUBSAMPLE), replace=False)\\n            np.random.seed(None)\\n\\n        print(\\'#\\'*25)\\n        print(\\'### Fold\\',fold+1)\\n        print(\\'### Train size\\',len(train_idx),\\'Valid size\\',len(valid_idx))\\n        print(f\\'### Training with {int(TRAIN_SUBSAMPLE*100)}% fold data...\\')\\n        print(\\'#\\'*25)\\n\\n        # TRAIN, VALID, TEST FOR FOLD K\\n        Xy_train = IterLoadForDMatrix(train.loc[train_idx], FEATURES, \\'target\\')\\n        X_valid = train.loc[valid_idx, FEATURES]\\n        y_valid = train.loc[valid_idx, \\'target\\']\\n\\n        dtrain = xgb.DeviceQuantileDMatrix(Xy_train, max_bin=256)\\n        dvalid = xgb.DMatrix(data=X_valid, label=y_valid)\\n\\n        # TRAIN MODEL FOLD K\\n        model = xgb.train(g, \\n                    dtrain=dtrain,\\n                    evals=[(dtrain,\\'train\\'),(dvalid,\\'valid\\')],\\n                    num_boost_round=9999,\\n                    early_stopping_rounds=100,\\n                    verbose_eval=100) \\n        model.save_model(f\\'XGB_v{VER}_fold{fold}.xgb\\')\\n\\n        # GET FEATURE IMPORTANCE FOR FOLD K\\n        dd = model.get_score(importance_type=\\'weight\\')\\n        df = pd.DataFrame({\\'feature\\':dd.keys(),f\\'importance_{fold}\\':dd.values()})\\n        importances.append(df)\\n\\n        # INFER OOF FOLD K\\n        oof_preds = model.predict(dvalid)\\n        print(type(y_valid.values))\\n        print(type(oof_preds))\\n        acc = amex_metric_mod(y_valid.values.get(), oof_preds)\\n        print(\\'Kaggle Metric =\\',acc,\\'\\n\\')\\n\\n        # SAVE OOF\\n        df = train.loc[valid_idx, [\\'customer_ID\\',\\'target\\'] ].copy()\\n        df[\\'oof_pred\\'] = oof_preds\\n        oof.append( df )\\n        \\n        # save if best\\n        if acc > best_score:\\n            best_score = acc\\n            best_grid = g  \\n\\n        del dtrain, Xy_train, dd, df\\n        del X_valid, y_valid, dvalid, model\\n        _ = gc.collect()\\n        \\n#print(\\'#\\'*25)\\n#oof = cudf.concat(oof,axis=0,ignore_index=True).set_index(\\'customer_ID\\')\\n#acc = amex_metric_mod(oof.target.values.get(), oof.oof_pred.values.get())\\n#print(\\'OVERALL CV Kaggle Metric =\\',acc)        \\n        \\n        \\n        \\nprint (\"OOB: %0.5f\" % best_score )\\nprint (\"Grid:\", best_grid)\\n'"
      ]
     },
     "execution_count": 12,
     "metadata": {},
     "output_type": "execute_result"
    }
   ],
   "source": [
    "\"\"\"\n",
    "from sklearn.model_selection import KFold,ParameterGrid\n",
    "\n",
    "best_score=0\n",
    "for g in ParameterGrid(gs_xgb_parms):\n",
    "    importances = []\n",
    "    oof = []\n",
    "    #train = train.to_pandas() # free GPU memory\n",
    "    TRAIN_SUBSAMPLE = 0.1\n",
    "    gc.collect()\n",
    "\n",
    "    skf = KFold(n_splits=FOLDS, shuffle=True, random_state=SEED)\n",
    "    for fold,(train_idx, valid_idx) in enumerate(skf.split(\n",
    "                train, train.target )):\n",
    "\n",
    "        # TRAIN WITH SUBSAMPLE OF TRAIN FOLD DATA\n",
    "        if TRAIN_SUBSAMPLE<1.0:\n",
    "            np.random.seed(SEED)\n",
    "            train_idx = np.random.choice(train_idx, \n",
    "                       int(len(train_idx)*TRAIN_SUBSAMPLE), replace=False)\n",
    "            np.random.seed(None)\n",
    "\n",
    "        print('#'*25)\n",
    "        print('### Fold',fold+1)\n",
    "        print('### Train size',len(train_idx),'Valid size',len(valid_idx))\n",
    "        print(f'### Training with {int(TRAIN_SUBSAMPLE*100)}% fold data...')\n",
    "        print('#'*25)\n",
    "\n",
    "        # TRAIN, VALID, TEST FOR FOLD K\n",
    "        Xy_train = IterLoadForDMatrix(train.loc[train_idx], FEATURES, 'target')\n",
    "        X_valid = train.loc[valid_idx, FEATURES]\n",
    "        y_valid = train.loc[valid_idx, 'target']\n",
    "\n",
    "        dtrain = xgb.DeviceQuantileDMatrix(Xy_train, max_bin=256)\n",
    "        dvalid = xgb.DMatrix(data=X_valid, label=y_valid)\n",
    "\n",
    "        # TRAIN MODEL FOLD K\n",
    "        model = xgb.train(g, \n",
    "                    dtrain=dtrain,\n",
    "                    evals=[(dtrain,'train'),(dvalid,'valid')],\n",
    "                    num_boost_round=9999,\n",
    "                    early_stopping_rounds=100,\n",
    "                    verbose_eval=100) \n",
    "        model.save_model(f'XGB_v{VER}_fold{fold}.xgb')\n",
    "\n",
    "        # GET FEATURE IMPORTANCE FOR FOLD K\n",
    "        dd = model.get_score(importance_type='weight')\n",
    "        df = pd.DataFrame({'feature':dd.keys(),f'importance_{fold}':dd.values()})\n",
    "        importances.append(df)\n",
    "\n",
    "        # INFER OOF FOLD K\n",
    "        oof_preds = model.predict(dvalid)\n",
    "        print(type(y_valid.values))\n",
    "        print(type(oof_preds))\n",
    "        acc = amex_metric_mod(y_valid.values.get(), oof_preds)\n",
    "        print('Kaggle Metric =',acc,'\\n')\n",
    "\n",
    "        # SAVE OOF\n",
    "        df = train.loc[valid_idx, ['customer_ID','target'] ].copy()\n",
    "        df['oof_pred'] = oof_preds\n",
    "        oof.append( df )\n",
    "        \n",
    "        # save if best\n",
    "        if acc > best_score:\n",
    "            best_score = acc\n",
    "            best_grid = g  \n",
    "\n",
    "        del dtrain, Xy_train, dd, df\n",
    "        del X_valid, y_valid, dvalid, model\n",
    "        _ = gc.collect()\n",
    "        \n",
    "#print('#'*25)\n",
    "#oof = cudf.concat(oof,axis=0,ignore_index=True).set_index('customer_ID')\n",
    "#acc = amex_metric_mod(oof.target.values.get(), oof.oof_pred.values.get())\n",
    "#print('OVERALL CV Kaggle Metric =',acc)        \n",
    "        \n",
    "        \n",
    "        \n",
    "print (\"OOB: %0.5f\" % best_score )\n",
    "print (\"Grid:\", best_grid)\n",
    "\"\"\""
   ]
  },
  {
   "cell_type": "code",
   "execution_count": 13,
   "id": "9913efa3",
   "metadata": {
    "execution": {
     "iopub.execute_input": "2023-05-09T15:26:29.254594Z",
     "iopub.status.busy": "2023-05-09T15:26:29.253802Z",
     "iopub.status.idle": "2023-05-09T15:26:29.258825Z",
     "shell.execute_reply": "2023-05-09T15:26:29.257939Z"
    },
    "papermill": {
     "duration": 0.014765,
     "end_time": "2023-05-09T15:26:29.260693",
     "exception": false,
     "start_time": "2023-05-09T15:26:29.245928",
     "status": "completed"
    },
    "tags": []
   },
   "outputs": [],
   "source": [
    "# best params after grid search\n",
    "# XGB MODEL PARAMETERS\n",
    "xgb_parms = { \n",
    "    'max_depth':3,\n",
    "    'gamma': 0.5,\n",
    "    'learning_rate':0.05, \n",
    "    'subsample':0.8,\n",
    "    'eval_metric':'logloss',\n",
    "    'colsample_bytree':0.6, \n",
    "    'objective':'binary:logistic',\n",
    "    'tree_method':'gpu_hist',\n",
    "    'predictor':'gpu_predictor',\n",
    "    'random_state':SEED\n",
    "}"
   ]
  },
  {
   "cell_type": "code",
   "execution_count": 14,
   "id": "dcdb422d",
   "metadata": {
    "execution": {
     "iopub.execute_input": "2023-05-09T15:26:29.276006Z",
     "iopub.status.busy": "2023-05-09T15:26:29.275731Z",
     "iopub.status.idle": "2023-05-09T15:55:26.302036Z",
     "shell.execute_reply": "2023-05-09T15:55:26.300898Z"
    },
    "papermill": {
     "duration": 1737.036804,
     "end_time": "2023-05-09T15:55:26.304443",
     "exception": false,
     "start_time": "2023-05-09T15:26:29.267639",
     "status": "completed"
    },
    "scrolled": true,
    "tags": []
   },
   "outputs": [
    {
     "name": "stdout",
     "output_type": "stream",
     "text": [
      "#########################\n",
      "### Fold 1\n",
      "### Train size 367130 Valid size 91783\n",
      "### Training with 100% fold data...\n",
      "#########################\n"
     ]
    },
    {
     "name": "stderr",
     "output_type": "stream",
     "text": [
      "/opt/conda/lib/python3.10/site-packages/xgboost/core.py:1461: FutureWarning: Please use `QuantileDMatrix` instead.\n",
      "  warnings.warn(\"Please use `QuantileDMatrix` instead.\", FutureWarning)\n"
     ]
    },
    {
     "name": "stdout",
     "output_type": "stream",
     "text": [
      "[0]\ttrain-logloss:0.66392\tvalid-logloss:0.66389\n",
      "[100]\ttrain-logloss:0.24374\tvalid-logloss:0.24516\n",
      "[200]\ttrain-logloss:0.22817\tvalid-logloss:0.23111\n",
      "[300]\ttrain-logloss:0.22238\tvalid-logloss:0.22625\n",
      "[400]\ttrain-logloss:0.21876\tvalid-logloss:0.22359\n",
      "[500]\ttrain-logloss:0.21626\tvalid-logloss:0.22205\n",
      "[600]\ttrain-logloss:0.21418\tvalid-logloss:0.22096\n",
      "[700]\ttrain-logloss:0.21245\tvalid-logloss:0.22017\n",
      "[800]\ttrain-logloss:0.21087\tvalid-logloss:0.21952\n",
      "[900]\ttrain-logloss:0.20944\tvalid-logloss:0.21911\n",
      "[1000]\ttrain-logloss:0.20814\tvalid-logloss:0.21878\n",
      "[1100]\ttrain-logloss:0.20689\tvalid-logloss:0.21847\n",
      "[1200]\ttrain-logloss:0.20572\tvalid-logloss:0.21829\n",
      "[1300]\ttrain-logloss:0.20460\tvalid-logloss:0.21806\n",
      "[1400]\ttrain-logloss:0.20352\tvalid-logloss:0.21787\n",
      "[1500]\ttrain-logloss:0.20245\tvalid-logloss:0.21767\n",
      "[1600]\ttrain-logloss:0.20141\tvalid-logloss:0.21758\n",
      "[1700]\ttrain-logloss:0.20039\tvalid-logloss:0.21750\n",
      "[1800]\ttrain-logloss:0.19937\tvalid-logloss:0.21738\n",
      "[1900]\ttrain-logloss:0.19838\tvalid-logloss:0.21729\n",
      "[2000]\ttrain-logloss:0.19742\tvalid-logloss:0.21720\n",
      "[2100]\ttrain-logloss:0.19647\tvalid-logloss:0.21712\n",
      "[2200]\ttrain-logloss:0.19554\tvalid-logloss:0.21708\n",
      "[2300]\ttrain-logloss:0.19463\tvalid-logloss:0.21701\n",
      "[2400]\ttrain-logloss:0.19372\tvalid-logloss:0.21699\n",
      "[2500]\ttrain-logloss:0.19283\tvalid-logloss:0.21693\n",
      "[2600]\ttrain-logloss:0.19194\tvalid-logloss:0.21685\n",
      "[2700]\ttrain-logloss:0.19108\tvalid-logloss:0.21688\n",
      "[2721]\ttrain-logloss:0.19091\tvalid-logloss:0.21689\n",
      "<class 'cupy.ndarray'>\n",
      "<class 'numpy.ndarray'>\n",
      "Kaggle Metric = 0.7931201619980036 \n",
      "\n",
      "#########################\n",
      "### Fold 2\n",
      "### Train size 367130 Valid size 91783\n",
      "### Training with 100% fold data...\n",
      "#########################\n"
     ]
    },
    {
     "name": "stderr",
     "output_type": "stream",
     "text": [
      "/opt/conda/lib/python3.10/site-packages/xgboost/core.py:1461: FutureWarning: Please use `QuantileDMatrix` instead.\n",
      "  warnings.warn(\"Please use `QuantileDMatrix` instead.\", FutureWarning)\n"
     ]
    },
    {
     "name": "stdout",
     "output_type": "stream",
     "text": [
      "[0]\ttrain-logloss:0.66397\tvalid-logloss:0.66385\n",
      "[100]\ttrain-logloss:0.24409\tvalid-logloss:0.24338\n",
      "[200]\ttrain-logloss:0.22872\tvalid-logloss:0.22911\n",
      "[300]\ttrain-logloss:0.22295\tvalid-logloss:0.22434\n",
      "[400]\ttrain-logloss:0.21931\tvalid-logloss:0.22175\n",
      "[500]\ttrain-logloss:0.21675\tvalid-logloss:0.22022\n",
      "[600]\ttrain-logloss:0.21469\tvalid-logloss:0.21913\n",
      "[700]\ttrain-logloss:0.21295\tvalid-logloss:0.21843\n",
      "[800]\ttrain-logloss:0.21140\tvalid-logloss:0.21788\n",
      "[900]\ttrain-logloss:0.20994\tvalid-logloss:0.21747\n",
      "[1000]\ttrain-logloss:0.20858\tvalid-logloss:0.21708\n",
      "[1100]\ttrain-logloss:0.20733\tvalid-logloss:0.21687\n",
      "[1200]\ttrain-logloss:0.20614\tvalid-logloss:0.21665\n",
      "[1300]\ttrain-logloss:0.20499\tvalid-logloss:0.21647\n",
      "[1400]\ttrain-logloss:0.20385\tvalid-logloss:0.21635\n",
      "[1500]\ttrain-logloss:0.20275\tvalid-logloss:0.21626\n",
      "[1600]\ttrain-logloss:0.20170\tvalid-logloss:0.21615\n",
      "[1700]\ttrain-logloss:0.20067\tvalid-logloss:0.21603\n",
      "[1800]\ttrain-logloss:0.19962\tvalid-logloss:0.21592\n",
      "[1900]\ttrain-logloss:0.19863\tvalid-logloss:0.21586\n",
      "[2000]\ttrain-logloss:0.19769\tvalid-logloss:0.21584\n",
      "[2100]\ttrain-logloss:0.19674\tvalid-logloss:0.21579\n",
      "[2200]\ttrain-logloss:0.19578\tvalid-logloss:0.21580\n",
      "[2300]\ttrain-logloss:0.19485\tvalid-logloss:0.21573\n",
      "[2400]\ttrain-logloss:0.19396\tvalid-logloss:0.21569\n",
      "[2500]\ttrain-logloss:0.19309\tvalid-logloss:0.21569\n",
      "[2568]\ttrain-logloss:0.19250\tvalid-logloss:0.21571\n",
      "<class 'cupy.ndarray'>\n",
      "<class 'numpy.ndarray'>\n",
      "Kaggle Metric = 0.7939020846498321 \n",
      "\n",
      "#########################\n",
      "### Fold 3\n",
      "### Train size 367130 Valid size 91783\n",
      "### Training with 100% fold data...\n",
      "#########################\n"
     ]
    },
    {
     "name": "stderr",
     "output_type": "stream",
     "text": [
      "/opt/conda/lib/python3.10/site-packages/xgboost/core.py:1461: FutureWarning: Please use `QuantileDMatrix` instead.\n",
      "  warnings.warn(\"Please use `QuantileDMatrix` instead.\", FutureWarning)\n"
     ]
    },
    {
     "name": "stdout",
     "output_type": "stream",
     "text": [
      "[0]\ttrain-logloss:0.66386\tvalid-logloss:0.66403\n",
      "[100]\ttrain-logloss:0.24350\tvalid-logloss:0.24641\n",
      "[200]\ttrain-logloss:0.22799\tvalid-logloss:0.23218\n",
      "[300]\ttrain-logloss:0.22214\tvalid-logloss:0.22756\n",
      "[400]\ttrain-logloss:0.21857\tvalid-logloss:0.22500\n",
      "[500]\ttrain-logloss:0.21602\tvalid-logloss:0.22358\n",
      "[600]\ttrain-logloss:0.21395\tvalid-logloss:0.22254\n",
      "[700]\ttrain-logloss:0.21218\tvalid-logloss:0.22182\n",
      "[800]\ttrain-logloss:0.21060\tvalid-logloss:0.22126\n",
      "[900]\ttrain-logloss:0.20917\tvalid-logloss:0.22084\n",
      "[1000]\ttrain-logloss:0.20786\tvalid-logloss:0.22055\n",
      "[1100]\ttrain-logloss:0.20658\tvalid-logloss:0.22026\n",
      "[1200]\ttrain-logloss:0.20540\tvalid-logloss:0.22006\n",
      "[1300]\ttrain-logloss:0.20426\tvalid-logloss:0.21984\n",
      "[1400]\ttrain-logloss:0.20314\tvalid-logloss:0.21962\n",
      "[1500]\ttrain-logloss:0.20209\tvalid-logloss:0.21952\n",
      "[1600]\ttrain-logloss:0.20103\tvalid-logloss:0.21934\n",
      "[1700]\ttrain-logloss:0.20001\tvalid-logloss:0.21921\n",
      "[1800]\ttrain-logloss:0.19900\tvalid-logloss:0.21909\n",
      "[1900]\ttrain-logloss:0.19800\tvalid-logloss:0.21901\n",
      "[2000]\ttrain-logloss:0.19705\tvalid-logloss:0.21892\n",
      "[2100]\ttrain-logloss:0.19611\tvalid-logloss:0.21888\n",
      "[2200]\ttrain-logloss:0.19514\tvalid-logloss:0.21880\n",
      "[2300]\ttrain-logloss:0.19422\tvalid-logloss:0.21871\n",
      "[2400]\ttrain-logloss:0.19332\tvalid-logloss:0.21868\n",
      "[2500]\ttrain-logloss:0.19240\tvalid-logloss:0.21863\n",
      "[2600]\ttrain-logloss:0.19149\tvalid-logloss:0.21858\n",
      "[2700]\ttrain-logloss:0.19061\tvalid-logloss:0.21856\n",
      "[2800]\ttrain-logloss:0.18974\tvalid-logloss:0.21853\n",
      "[2900]\ttrain-logloss:0.18887\tvalid-logloss:0.21855\n",
      "[2912]\ttrain-logloss:0.18876\tvalid-logloss:0.21857\n",
      "<class 'cupy.ndarray'>\n",
      "<class 'numpy.ndarray'>\n",
      "Kaggle Metric = 0.7918879965951691 \n",
      "\n",
      "#########################\n",
      "### Fold 4\n",
      "### Train size 367131 Valid size 91782\n",
      "### Training with 100% fold data...\n",
      "#########################\n"
     ]
    },
    {
     "name": "stderr",
     "output_type": "stream",
     "text": [
      "/opt/conda/lib/python3.10/site-packages/xgboost/core.py:1461: FutureWarning: Please use `QuantileDMatrix` instead.\n",
      "  warnings.warn(\"Please use `QuantileDMatrix` instead.\", FutureWarning)\n"
     ]
    },
    {
     "name": "stdout",
     "output_type": "stream",
     "text": [
      "[0]\ttrain-logloss:0.66388\tvalid-logloss:0.66403\n",
      "[100]\ttrain-logloss:0.24318\tvalid-logloss:0.24679\n",
      "[200]\ttrain-logloss:0.22785\tvalid-logloss:0.23239\n",
      "[300]\ttrain-logloss:0.22200\tvalid-logloss:0.22775\n",
      "[400]\ttrain-logloss:0.21837\tvalid-logloss:0.22527\n",
      "[500]\ttrain-logloss:0.21576\tvalid-logloss:0.22373\n",
      "[600]\ttrain-logloss:0.21367\tvalid-logloss:0.22276\n",
      "[700]\ttrain-logloss:0.21195\tvalid-logloss:0.22209\n",
      "[800]\ttrain-logloss:0.21031\tvalid-logloss:0.22151\n",
      "[900]\ttrain-logloss:0.20886\tvalid-logloss:0.22110\n",
      "[1000]\ttrain-logloss:0.20754\tvalid-logloss:0.22088\n",
      "[1100]\ttrain-logloss:0.20632\tvalid-logloss:0.22060\n",
      "[1200]\ttrain-logloss:0.20511\tvalid-logloss:0.22037\n",
      "[1300]\ttrain-logloss:0.20394\tvalid-logloss:0.22020\n",
      "[1400]\ttrain-logloss:0.20282\tvalid-logloss:0.22003\n",
      "[1500]\ttrain-logloss:0.20176\tvalid-logloss:0.21988\n",
      "[1600]\ttrain-logloss:0.20070\tvalid-logloss:0.21980\n",
      "[1700]\ttrain-logloss:0.19966\tvalid-logloss:0.21969\n",
      "[1800]\ttrain-logloss:0.19865\tvalid-logloss:0.21957\n",
      "[1900]\ttrain-logloss:0.19763\tvalid-logloss:0.21951\n",
      "[2000]\ttrain-logloss:0.19667\tvalid-logloss:0.21949\n",
      "[2100]\ttrain-logloss:0.19572\tvalid-logloss:0.21944\n",
      "[2200]\ttrain-logloss:0.19479\tvalid-logloss:0.21937\n",
      "[2300]\ttrain-logloss:0.19391\tvalid-logloss:0.21931\n",
      "[2400]\ttrain-logloss:0.19298\tvalid-logloss:0.21931\n",
      "[2500]\ttrain-logloss:0.19208\tvalid-logloss:0.21927\n",
      "[2600]\ttrain-logloss:0.19122\tvalid-logloss:0.21924\n",
      "[2700]\ttrain-logloss:0.19034\tvalid-logloss:0.21918\n",
      "[2800]\ttrain-logloss:0.18945\tvalid-logloss:0.21916\n",
      "[2900]\ttrain-logloss:0.18858\tvalid-logloss:0.21911\n",
      "[3000]\ttrain-logloss:0.18770\tvalid-logloss:0.21909\n",
      "[3100]\ttrain-logloss:0.18693\tvalid-logloss:0.21910\n",
      "[3183]\ttrain-logloss:0.18621\tvalid-logloss:0.21909\n",
      "<class 'cupy.ndarray'>\n",
      "<class 'numpy.ndarray'>\n",
      "Kaggle Metric = 0.7886422286466317 \n",
      "\n",
      "#########################\n",
      "### Fold 5\n",
      "### Train size 367131 Valid size 91782\n",
      "### Training with 100% fold data...\n",
      "#########################\n"
     ]
    },
    {
     "name": "stderr",
     "output_type": "stream",
     "text": [
      "/opt/conda/lib/python3.10/site-packages/xgboost/core.py:1461: FutureWarning: Please use `QuantileDMatrix` instead.\n",
      "  warnings.warn(\"Please use `QuantileDMatrix` instead.\", FutureWarning)\n"
     ]
    },
    {
     "name": "stdout",
     "output_type": "stream",
     "text": [
      "[0]\ttrain-logloss:0.66399\tvalid-logloss:0.66392\n",
      "[100]\ttrain-logloss:0.24408\tvalid-logloss:0.24351\n",
      "[200]\ttrain-logloss:0.22884\tvalid-logloss:0.22914\n",
      "[300]\ttrain-logloss:0.22303\tvalid-logloss:0.22442\n",
      "[400]\ttrain-logloss:0.21945\tvalid-logloss:0.22181\n",
      "[500]\ttrain-logloss:0.21703\tvalid-logloss:0.22040\n",
      "[600]\ttrain-logloss:0.21490\tvalid-logloss:0.21924\n",
      "[700]\ttrain-logloss:0.21315\tvalid-logloss:0.21847\n",
      "[800]\ttrain-logloss:0.21160\tvalid-logloss:0.21789\n",
      "[900]\ttrain-logloss:0.21014\tvalid-logloss:0.21741\n",
      "[1000]\ttrain-logloss:0.20877\tvalid-logloss:0.21704\n",
      "[1100]\ttrain-logloss:0.20753\tvalid-logloss:0.21677\n",
      "[1200]\ttrain-logloss:0.20632\tvalid-logloss:0.21649\n",
      "[1300]\ttrain-logloss:0.20553\tvalid-logloss:0.21672\n",
      "[1386]\ttrain-logloss:0.20440\tvalid-logloss:0.21634\n",
      "<class 'cupy.ndarray'>\n",
      "<class 'numpy.ndarray'>\n",
      "Kaggle Metric = 0.7955916272999937 \n",
      "\n"
     ]
    }
   ],
   "source": [
    "importances = []\n",
    "oof = []\n",
    "#train = train.to_pandas() # free GPU memory\n",
    "TRAIN_SUBSAMPLE = 1.0\n",
    "gc.collect()\n",
    "\n",
    "skf = KFold(n_splits=FOLDS, shuffle=True, random_state=SEED)\n",
    "for fold,(train_idx, valid_idx) in enumerate(skf.split(\n",
    "            train, train.target )):\n",
    "    \n",
    "    # TRAIN WITH SUBSAMPLE OF TRAIN FOLD DATA\n",
    "    if TRAIN_SUBSAMPLE<1.0:\n",
    "        np.random.seed(SEED)\n",
    "        train_idx = np.random.choice(train_idx, \n",
    "                       int(len(train_idx)*TRAIN_SUBSAMPLE), replace=False)\n",
    "        np.random.seed(None)\n",
    "    \n",
    "    print('#'*25)\n",
    "    print('### Fold',fold+1)\n",
    "    print('### Train size',len(train_idx),'Valid size',len(valid_idx))\n",
    "    print(f'### Training with {int(TRAIN_SUBSAMPLE*100)}% fold data...')\n",
    "    print('#'*25)\n",
    "    \n",
    "    # TRAIN, VALID, TEST FOR FOLD K\n",
    "    Xy_train = IterLoadForDMatrix(train.loc[train_idx], FEATURES, 'target')\n",
    "    X_valid = train.loc[valid_idx, FEATURES]\n",
    "    y_valid = train.loc[valid_idx, 'target']\n",
    "    \n",
    "    dtrain = xgb.DeviceQuantileDMatrix(Xy_train, max_bin=256)\n",
    "    dvalid = xgb.DMatrix(data=X_valid, label=y_valid)\n",
    "    \n",
    "    # TRAIN MODEL FOLD K\n",
    "    model = xgb.train(xgb_parms, \n",
    "                dtrain=dtrain,\n",
    "                evals=[(dtrain,'train'),(dvalid,'valid')],\n",
    "                num_boost_round=9999,\n",
    "                early_stopping_rounds=100,\n",
    "                verbose_eval=100) \n",
    "    model.save_model(f'XGB_v{VER}_fold{fold}.xgb')\n",
    "    \n",
    "    # GET FEATURE IMPORTANCE FOR FOLD K\n",
    "    dd = model.get_score(importance_type='weight')\n",
    "    df = pd.DataFrame({'feature':dd.keys(),f'importance_{fold}':dd.values()})\n",
    "    importances.append(df)\n",
    "            \n",
    "    # INFER OOF FOLD K\n",
    "    oof_preds = model.predict(dvalid)\n",
    "    print(type(y_valid.values))\n",
    "    print(type(oof_preds))\n",
    "    acc = amex_metric_mod(y_valid.values.get(), oof_preds)\n",
    "    print('Kaggle Metric =',acc,'\\n')\n",
    "    \n",
    "    # SAVE OOF\n",
    "    df = train.loc[valid_idx, ['customer_ID','target'] ].copy()\n",
    "    df['oof_pred'] = oof_preds\n",
    "    oof.append( df )\n",
    "    \n",
    "    del dtrain, Xy_train, dd, df\n",
    "    del X_valid, y_valid, dvalid, model\n",
    "    _ = gc.collect()\n",
    "    \n",
    "#print('#'*25)\n",
    "#oof = cudf.concat(oof,axis=0,ignore_index=True).set_index('customer_ID')\n",
    "#acc = amex_metric_mod(oof.target.values.get(), oof.oof_pred.values.get())\n",
    "#print('OVERALL CV Kaggle Metric =',acc)"
   ]
  },
  {
   "cell_type": "code",
   "execution_count": 15,
   "id": "b6c7eb43",
   "metadata": {
    "execution": {
     "iopub.execute_input": "2023-05-09T15:55:26.336252Z",
     "iopub.status.busy": "2023-05-09T15:55:26.335909Z",
     "iopub.status.idle": "2023-05-09T15:55:26.534899Z",
     "shell.execute_reply": "2023-05-09T15:55:26.533956Z"
    },
    "papermill": {
     "duration": 0.217179,
     "end_time": "2023-05-09T15:55:26.537024",
     "exception": false,
     "start_time": "2023-05-09T15:55:26.319845",
     "status": "completed"
    },
    "tags": []
   },
   "outputs": [
    {
     "name": "stdout",
     "output_type": "stream",
     "text": [
      "#########################\n",
      "OVERALL CV Kaggle Metric = 0.7925530118793913\n"
     ]
    }
   ],
   "source": [
    "print('#'*25)\n",
    "oof = cudf.concat(oof,axis=0,ignore_index=True).set_index('customer_ID')\n",
    "acc = amex_metric_mod(oof.target.values.get(), oof.oof_pred.values.get())\n",
    "print('OVERALL CV Kaggle Metric =',acc)"
   ]
  },
  {
   "cell_type": "code",
   "execution_count": 16,
   "id": "12e49dd7",
   "metadata": {
    "execution": {
     "iopub.execute_input": "2023-05-09T15:55:26.568876Z",
     "iopub.status.busy": "2023-05-09T15:55:26.568233Z",
     "iopub.status.idle": "2023-05-09T15:55:26.987374Z",
     "shell.execute_reply": "2023-05-09T15:55:26.986407Z"
    },
    "papermill": {
     "duration": 0.437203,
     "end_time": "2023-05-09T15:55:26.989370",
     "exception": false,
     "start_time": "2023-05-09T15:55:26.552167",
     "status": "completed"
    },
    "tags": []
   },
   "outputs": [],
   "source": [
    "# CLEAN RAM\n",
    "del train\n",
    "_ = gc.collect()"
   ]
  },
  {
   "cell_type": "markdown",
   "id": "f1049047",
   "metadata": {
    "papermill": {
     "duration": 0.014543,
     "end_time": "2023-05-09T15:55:27.019060",
     "exception": false,
     "start_time": "2023-05-09T15:55:27.004517",
     "status": "completed"
    },
    "tags": []
   },
   "source": [
    "# Save OOF Preds"
   ]
  },
  {
   "cell_type": "code",
   "execution_count": 17,
   "id": "8cde3dd0",
   "metadata": {
    "execution": {
     "iopub.execute_input": "2023-05-09T15:55:27.051743Z",
     "iopub.status.busy": "2023-05-09T15:55:27.050063Z",
     "iopub.status.idle": "2023-05-09T15:55:27.060215Z",
     "shell.execute_reply": "2023-05-09T15:55:27.059297Z"
    },
    "papermill": {
     "duration": 0.028499,
     "end_time": "2023-05-09T15:55:27.062302",
     "exception": false,
     "start_time": "2023-05-09T15:55:27.033803",
     "status": "completed"
    },
    "tags": []
   },
   "outputs": [],
   "source": [
    "oof=oof.to_pandas()"
   ]
  },
  {
   "cell_type": "code",
   "execution_count": 18,
   "id": "7f52b921",
   "metadata": {
    "execution": {
     "iopub.execute_input": "2023-05-09T15:55:27.094457Z",
     "iopub.status.busy": "2023-05-09T15:55:27.093478Z",
     "iopub.status.idle": "2023-05-09T15:55:31.448884Z",
     "shell.execute_reply": "2023-05-09T15:55:31.447798Z"
    },
    "papermill": {
     "duration": 4.373466,
     "end_time": "2023-05-09T15:55:31.451022",
     "exception": false,
     "start_time": "2023-05-09T15:55:27.077556",
     "status": "completed"
    },
    "tags": []
   },
   "outputs": [
    {
     "data": {
      "text/html": [
       "<div>\n",
       "<style scoped>\n",
       "    .dataframe tbody tr th:only-of-type {\n",
       "        vertical-align: middle;\n",
       "    }\n",
       "\n",
       "    .dataframe tbody tr th {\n",
       "        vertical-align: top;\n",
       "    }\n",
       "\n",
       "    .dataframe thead th {\n",
       "        text-align: right;\n",
       "    }\n",
       "</style>\n",
       "<table border=\"1\" class=\"dataframe\">\n",
       "  <thead>\n",
       "    <tr style=\"text-align: right;\">\n",
       "      <th></th>\n",
       "      <th>customer_ID</th>\n",
       "      <th>target</th>\n",
       "      <th>oof_pred</th>\n",
       "    </tr>\n",
       "  </thead>\n",
       "  <tbody>\n",
       "    <tr>\n",
       "      <th>0</th>\n",
       "      <td>20eac26171c3d251c55fc78204e59fab1c15fc2bc96d0c...</td>\n",
       "      <td>1</td>\n",
       "      <td>0.757115</td>\n",
       "    </tr>\n",
       "    <tr>\n",
       "      <th>1</th>\n",
       "      <td>aea50fdf9b974ccec95fa177c3225a0f913483b457de6e...</td>\n",
       "      <td>0</td>\n",
       "      <td>0.000630</td>\n",
       "    </tr>\n",
       "    <tr>\n",
       "      <th>2</th>\n",
       "      <td>32cd2d41aef737b69089882754395925c96eaee1f4a859...</td>\n",
       "      <td>0</td>\n",
       "      <td>0.002148</td>\n",
       "    </tr>\n",
       "    <tr>\n",
       "      <th>3</th>\n",
       "      <td>8daa6d5dc2655a8a437531e6b8b96829113cdfe9bf6cae...</td>\n",
       "      <td>0</td>\n",
       "      <td>0.012923</td>\n",
       "    </tr>\n",
       "    <tr>\n",
       "      <th>4</th>\n",
       "      <td>0ceba351a3851202542feb49d7385bcef32f6037fc57c7...</td>\n",
       "      <td>1</td>\n",
       "      <td>0.855533</td>\n",
       "    </tr>\n",
       "  </tbody>\n",
       "</table>\n",
       "</div>"
      ],
      "text/plain": [
       "                                         customer_ID  target  oof_pred\n",
       "0  20eac26171c3d251c55fc78204e59fab1c15fc2bc96d0c...       1  0.757115\n",
       "1  aea50fdf9b974ccec95fa177c3225a0f913483b457de6e...       0  0.000630\n",
       "2  32cd2d41aef737b69089882754395925c96eaee1f4a859...       0  0.002148\n",
       "3  8daa6d5dc2655a8a437531e6b8b96829113cdfe9bf6cae...       0  0.012923\n",
       "4  0ceba351a3851202542feb49d7385bcef32f6037fc57c7...       1  0.855533"
      ]
     },
     "execution_count": 18,
     "metadata": {},
     "output_type": "execute_result"
    }
   ],
   "source": [
    "oof_xgb = pd.read_parquet(TRAIN_PATH, columns=['customer_ID']).drop_duplicates()\n",
    "oof_xgb['customer_ID_hash'] = oof_xgb['customer_ID'].apply(lambda x: int(x[-16:],16) ).astype('int64')\n",
    "oof_xgb = oof_xgb.set_index('customer_ID_hash')\n",
    "oof_xgb = oof_xgb.merge(oof, left_index=True, right_index=True)\n",
    "oof_xgb = oof_xgb.sort_index().reset_index(drop=True)\n",
    "oof_xgb.to_csv(f'oof_xgb_v{VER}.csv',index=False)\n",
    "oof_xgb.head()"
   ]
  },
  {
   "cell_type": "code",
   "execution_count": 19,
   "id": "53f82956",
   "metadata": {
    "execution": {
     "iopub.execute_input": "2023-05-09T15:55:31.484236Z",
     "iopub.status.busy": "2023-05-09T15:55:31.482748Z",
     "iopub.status.idle": "2023-05-09T15:55:31.843246Z",
     "shell.execute_reply": "2023-05-09T15:55:31.842332Z"
    },
    "papermill": {
     "duration": 0.3786,
     "end_time": "2023-05-09T15:55:31.845368",
     "exception": false,
     "start_time": "2023-05-09T15:55:31.466768",
     "status": "completed"
    },
    "tags": []
   },
   "outputs": [
    {
     "data": {
      "image/png": "[encoded data removed]",
      "text/plain": [
       "<Figure size 640x480 with 1 Axes>"
      ]
     },
     "metadata": {},
     "output_type": "display_data"
    }
   ],
   "source": [
    "# PLOT OOF PREDICTIONS\n",
    "plt.hist(oof_xgb.oof_pred.values, bins=100)\n",
    "plt.title('OOF Predictions')\n",
    "plt.show()"
   ]
  },
  {
   "cell_type": "code",
   "execution_count": 20,
   "id": "49388ce6",
   "metadata": {
    "execution": {
     "iopub.execute_input": "2023-05-09T15:55:31.878456Z",
     "iopub.status.busy": "2023-05-09T15:55:31.877342Z",
     "iopub.status.idle": "2023-05-09T15:55:32.095961Z",
     "shell.execute_reply": "2023-05-09T15:55:32.095010Z"
    },
    "papermill": {
     "duration": 0.237417,
     "end_time": "2023-05-09T15:55:32.098307",
     "exception": false,
     "start_time": "2023-05-09T15:55:31.860890",
     "status": "completed"
    },
    "tags": []
   },
   "outputs": [],
   "source": [
    "# CLEAR VRAM, RAM FOR INFERENCE BELOW\n",
    "del oof_xgb, oof\n",
    "_ = gc.collect()"
   ]
  },
  {
   "cell_type": "markdown",
   "id": "81d229f8",
   "metadata": {
    "papermill": {
     "duration": 0.014996,
     "end_time": "2023-05-09T15:55:32.129023",
     "exception": false,
     "start_time": "2023-05-09T15:55:32.114027",
     "status": "completed"
    },
    "tags": []
   },
   "source": [
    "# Feature Importance"
   ]
  },
  {
   "cell_type": "code",
   "execution_count": 21,
   "id": "c4d8ee39",
   "metadata": {
    "execution": {
     "iopub.execute_input": "2023-05-09T15:55:32.161107Z",
     "iopub.status.busy": "2023-05-09T15:55:32.160766Z",
     "iopub.status.idle": "2023-05-09T15:55:32.190385Z",
     "shell.execute_reply": "2023-05-09T15:55:32.189428Z"
    },
    "papermill": {
     "duration": 0.048375,
     "end_time": "2023-05-09T15:55:32.192842",
     "exception": false,
     "start_time": "2023-05-09T15:55:32.144467",
     "status": "completed"
    },
    "tags": []
   },
   "outputs": [],
   "source": [
    "import matplotlib.pyplot as plt\n",
    "\n",
    "df = importances[0].copy()\n",
    "for k in range(1,FOLDS): df = df.merge(importances[k], on='feature', how='left')\n",
    "df['importance'] = df.iloc[:,1:].mean(axis=1)\n",
    "df = df.sort_values('importance',ascending=False)\n",
    "df.to_csv(f'xgb_feature_importance_v{VER}.csv',index=False)"
   ]
  },
  {
   "cell_type": "code",
   "execution_count": 22,
   "id": "da8a44b2",
   "metadata": {
    "execution": {
     "iopub.execute_input": "2023-05-09T15:55:32.225854Z",
     "iopub.status.busy": "2023-05-09T15:55:32.225505Z",
     "iopub.status.idle": "2023-05-09T15:55:32.855222Z",
     "shell.execute_reply": "2023-05-09T15:55:32.854319Z"
    },
    "papermill": {
     "duration": 0.648211,
     "end_time": "2023-05-09T15:55:32.857330",
     "exception": false,
     "start_time": "2023-05-09T15:55:32.209119",
     "status": "completed"
    },
    "tags": []
   },
   "outputs": [
    {
     "data": {
      "image/png": "[encoded data removed]",
      "text/plain": [
       "<Figure size 1000x2500 with 1 Axes>"
      ]
     },
     "metadata": {},
     "output_type": "display_data"
    }
   ],
   "source": [
    "NUM_FEATURES = 50\n",
    "plt.figure(figsize=(10,5*NUM_FEATURES//10))\n",
    "plt.barh(np.arange(NUM_FEATURES,0,-1), df.importance.values[:NUM_FEATURES])\n",
    "plt.yticks(np.arange(NUM_FEATURES,0,-1), df.feature.values[:NUM_FEATURES])\n",
    "plt.title(f'XGB Feature Importance - Top {NUM_FEATURES}')\n",
    "plt.show()"
   ]
  },
  {
   "cell_type": "markdown",
   "id": "830c41f4",
   "metadata": {
    "papermill": {
     "duration": 0.016868,
     "end_time": "2023-05-09T15:55:32.890977",
     "exception": false,
     "start_time": "2023-05-09T15:55:32.874109",
     "status": "completed"
    },
    "tags": []
   },
   "source": [
    "# Process and Feature Engineer Test Data\n",
    "We will load @raddar Kaggle dataset from [here][1] with discussion [here][2]. Then we will engineer features suggested by @huseyincot in his notebooks [here][1] and [here][4]. We will use [RAPIDS][5] and the GPU to create new features quickly.\n",
    "\n",
    "[1]: https://www.kaggle.com/datasets/raddar/amex-data-integer-dtypes-parquet-format\n",
    "[2]: https://www.kaggle.com/competitions/amex-default-prediction/discussion/328514\n",
    "[3]: https://www.kaggle.com/code/huseyincot/amex-catboost-0-793\n",
    "[4]: https://www.kaggle.com/code/huseyincot/amex-agg-data-how-it-created\n",
    "[5]: https://rapids.ai/"
   ]
  },
  {
   "cell_type": "code",
   "execution_count": 23,
   "id": "956cfbec",
   "metadata": {
    "execution": {
     "iopub.execute_input": "2023-05-09T15:55:32.925197Z",
     "iopub.status.busy": "2023-05-09T15:55:32.924844Z",
     "iopub.status.idle": "2023-05-09T15:55:35.797365Z",
     "shell.execute_reply": "2023-05-09T15:55:35.795565Z"
    },
    "papermill": {
     "duration": 2.892295,
     "end_time": "2023-05-09T15:55:35.799638",
     "exception": false,
     "start_time": "2023-05-09T15:55:32.907343",
     "status": "completed"
    },
    "tags": []
   },
   "outputs": [
    {
     "name": "stdout",
     "output_type": "stream",
     "text": [
      "Reading test data...\n",
      "shape of data: (11363762, 2)\n",
      "We will process test data as 4 separate parts.\n",
      "There will be 231155 customers in each part (except the last part).\n",
      "Below are number of rows in each part:\n",
      "[2839373, 2841795, 2841688, 2840906]\n"
     ]
    }
   ],
   "source": [
    "# CALCULATE SIZE OF EACH SEPARATE TEST PART\n",
    "def get_rows(customers, test, NUM_PARTS = 4, verbose = ''):\n",
    "    chunk = len(customers)//NUM_PARTS\n",
    "    if verbose != '':\n",
    "        print(f'We will process {verbose} data as {NUM_PARTS} separate parts.')\n",
    "        print(f'There will be {chunk} customers in each part (except the last part).')\n",
    "        print('Below are number of rows in each part:')\n",
    "    rows = []\n",
    "\n",
    "    for k in range(NUM_PARTS):\n",
    "        if k==NUM_PARTS-1: cc = customers[k*chunk:]\n",
    "        else: cc = customers[k*chunk:(k+1)*chunk]\n",
    "        s = test.loc[test.customer_ID.isin(cc)].shape[0]\n",
    "        rows.append(s)\n",
    "    if verbose != '': print( rows )\n",
    "    return rows,chunk\n",
    "\n",
    "# COMPUTE SIZE OF 4 PARTS FOR TEST DATA\n",
    "NUM_PARTS = 4\n",
    "TEST_PATH = '../input/amex-data-integer-dtypes-parquet-format/test.parquet'\n",
    "\n",
    "print(f'Reading test data...')\n",
    "test = read_file(path = TEST_PATH, usecols = ['customer_ID','S_2'])\n",
    "customers = test[['customer_ID']].drop_duplicates().sort_index().values.flatten()\n",
    "rows,num_cust = get_rows(customers, test[['customer_ID']], NUM_PARTS = NUM_PARTS, verbose = 'test')"
   ]
  },
  {
   "cell_type": "markdown",
   "id": "87498d1a",
   "metadata": {
    "papermill": {
     "duration": 0.017133,
     "end_time": "2023-05-09T15:55:35.833983",
     "exception": false,
     "start_time": "2023-05-09T15:55:35.816850",
     "status": "completed"
    },
    "tags": []
   },
   "source": [
    "# Infer Test"
   ]
  },
  {
   "cell_type": "code",
   "execution_count": 24,
   "id": "23e66457",
   "metadata": {
    "execution": {
     "iopub.execute_input": "2023-05-09T15:55:35.870512Z",
     "iopub.status.busy": "2023-05-09T15:55:35.870135Z",
     "iopub.status.idle": "2023-05-09T16:00:00.758102Z",
     "shell.execute_reply": "2023-05-09T16:00:00.757134Z"
    },
    "papermill": {
     "duration": 264.909381,
     "end_time": "2023-05-09T16:00:00.760599",
     "exception": false,
     "start_time": "2023-05-09T15:55:35.851218",
     "status": "completed"
    },
    "tags": []
   },
   "outputs": [
    {
     "name": "stdout",
     "output_type": "stream",
     "text": [
      "\n",
      "Reading test data...\n",
      "shape of data: (11363762, 190)\n",
      "=> Test part 1 has shape (2839373, 190)\n",
      "<class 'cudf.core.dataframe.DataFrame'>\n",
      "Int64Index: 231155 entries, -9223277493928322471 to -4609390862609427552\n",
      "Columns: 1626 entries, P_2_mean to D_68_nunique\n",
      "dtypes: float32(903), float64(354), int16(40), int32(22), int8(307)\n",
      "memory usage: 1.5 GB\n",
      "None\n",
      "shape after engineering (231155, 1803)\n",
      "\n",
      "Reading test data...\n",
      "shape of data: (11363762, 190)\n",
      "=> Test part 2 has shape (2841795, 190)\n",
      "<class 'cudf.core.dataframe.DataFrame'>\n",
      "Int64Index: 231155 entries, -4609389626922867490 to 12245257319079158\n",
      "Columns: 1626 entries, P_2_mean to D_68_nunique\n",
      "dtypes: float32(903), float64(354), int16(40), int32(22), int8(307)\n",
      "memory usage: 1.5 GB\n",
      "None\n",
      "shape after engineering (231155, 1803)\n",
      "\n",
      "Reading test data...\n",
      "shape of data: (11363762, 190)\n",
      "=> Test part 3 has shape (2841688, 190)\n",
      "<class 'cudf.core.dataframe.DataFrame'>\n",
      "Int64Index: 231155 entries, 12246988374112547 to 4631490280094092086\n",
      "Columns: 1626 entries, P_2_mean to D_68_nunique\n",
      "dtypes: float32(903), float64(354), int16(40), int32(22), int8(307)\n",
      "memory usage: 1.5 GB\n",
      "None\n",
      "shape after engineering (231155, 1803)\n",
      "\n",
      "Reading test data...\n",
      "shape of data: (11363762, 190)\n",
      "=> Test part 4 has shape (2840906, 190)\n",
      "<class 'cudf.core.dataframe.DataFrame'>\n",
      "Int64Index: 231156 entries, 4631543965170860359 to 9223363807913010481\n",
      "Columns: 1626 entries, P_2_mean to D_68_nunique\n",
      "dtypes: float32(903), float64(354), int16(40), int32(22), int8(307)\n",
      "memory usage: 1.5 GB\n",
      "None\n",
      "shape after engineering (231156, 1803)\n"
     ]
    }
   ],
   "source": [
    "# INFER TEST DATA IN PARTS\n",
    "skip_rows = 0\n",
    "skip_cust = 0\n",
    "test_preds = []\n",
    "\n",
    "for k in range(NUM_PARTS):\n",
    "    \n",
    "    # READ PART OF TEST DATA\n",
    "    print(f'\\nReading test data...')\n",
    "    test = read_file(path = TEST_PATH)\n",
    "    test = test.iloc[skip_rows:skip_rows+rows[k]]\n",
    "    skip_rows += rows[k]\n",
    "    print(f'=> Test part {k+1} has shape', test.shape )\n",
    "    \n",
    "    # PROCESS AND FEATURE ENGINEER PART OF TEST DATA\n",
    "    test = process_and_feature_engineer(test)\n",
    "    if k==NUM_PARTS-1: test = test.loc[customers[skip_cust:]]\n",
    "    else: test = test.loc[customers[skip_cust:skip_cust+num_cust]]\n",
    "    skip_cust += num_cust\n",
    "    \n",
    "    # TEST DATA FOR XGB\n",
    "    X_test = test[FEATURES]\n",
    "    dtest = xgb.DMatrix(data=X_test)\n",
    "    test = test[['P_2_mean']] # reduce memory\n",
    "    del X_test\n",
    "    gc.collect()\n",
    "\n",
    "    # INFER XGB MODELS ON TEST DATA\n",
    "    model = xgb.Booster()\n",
    "    model.load_model(f'XGB_v{VER}_fold0.xgb')\n",
    "    preds = model.predict(dtest)\n",
    "    for f in range(1,FOLDS):\n",
    "        model.load_model(f'XGB_v{VER}_fold{f}.xgb')\n",
    "        preds += model.predict(dtest)\n",
    "    preds /= FOLDS\n",
    "    test_preds.append(preds)\n",
    "\n",
    "    # CLEAN MEMORY\n",
    "    del dtest, model\n",
    "    _ = gc.collect()"
   ]
  },
  {
   "cell_type": "markdown",
   "id": "bd1b1b65",
   "metadata": {
    "papermill": {
     "duration": 0.017325,
     "end_time": "2023-05-09T16:00:00.796334",
     "exception": false,
     "start_time": "2023-05-09T16:00:00.779009",
     "status": "completed"
    },
    "tags": []
   },
   "source": [
    "# Create Submission CSV"
   ]
  },
  {
   "cell_type": "code",
   "execution_count": 25,
   "id": "f5e7d849",
   "metadata": {
    "execution": {
     "iopub.execute_input": "2023-05-09T16:00:00.833612Z",
     "iopub.status.busy": "2023-05-09T16:00:00.832695Z",
     "iopub.status.idle": "2023-05-09T16:00:02.403639Z",
     "shell.execute_reply": "2023-05-09T16:00:02.402634Z"
    },
    "papermill": {
     "duration": 1.591695,
     "end_time": "2023-05-09T16:00:02.405643",
     "exception": false,
     "start_time": "2023-05-09T16:00:00.813948",
     "status": "completed"
    },
    "tags": []
   },
   "outputs": [
    {
     "name": "stdout",
     "output_type": "stream",
     "text": [
      "Submission file shape is (924621, 2)\n"
     ]
    },
    {
     "data": {
      "text/html": [
       "<div>\n",
       "<style scoped>\n",
       "    .dataframe tbody tr th:only-of-type {\n",
       "        vertical-align: middle;\n",
       "    }\n",
       "\n",
       "    .dataframe tbody tr th {\n",
       "        vertical-align: top;\n",
       "    }\n",
       "\n",
       "    .dataframe thead th {\n",
       "        text-align: right;\n",
       "    }\n",
       "</style>\n",
       "<table border=\"1\" class=\"dataframe\">\n",
       "  <thead>\n",
       "    <tr style=\"text-align: right;\">\n",
       "      <th></th>\n",
       "      <th>customer_ID</th>\n",
       "      <th>prediction</th>\n",
       "    </tr>\n",
       "  </thead>\n",
       "  <tbody>\n",
       "    <tr>\n",
       "      <th>0</th>\n",
       "      <td>03d0e43de1d9c5d73ba189b9b176259c0976768537db67...</td>\n",
       "      <td>0.472613</td>\n",
       "    </tr>\n",
       "    <tr>\n",
       "      <th>1</th>\n",
       "      <td>03d14a30c863e0fe2addc0d1c319786544bb7225f6caf7...</td>\n",
       "      <td>0.001253</td>\n",
       "    </tr>\n",
       "    <tr>\n",
       "      <th>2</th>\n",
       "      <td>03d132deef75e18269bd983ffa54d7c6655666e0eee8f8...</td>\n",
       "      <td>0.014371</td>\n",
       "    </tr>\n",
       "    <tr>\n",
       "      <th>3</th>\n",
       "      <td>03d19da24502b694a607bf9d92083385f3825b4aca6308...</td>\n",
       "      <td>0.901569</td>\n",
       "    </tr>\n",
       "    <tr>\n",
       "      <th>4</th>\n",
       "      <td>03d0fb061f1987be6a879645e8aca959a2993756951ed4...</td>\n",
       "      <td>0.086595</td>\n",
       "    </tr>\n",
       "  </tbody>\n",
       "</table>\n",
       "</div>"
      ],
      "text/plain": [
       "                                         customer_ID  prediction\n",
       "0  03d0e43de1d9c5d73ba189b9b176259c0976768537db67...    0.472613\n",
       "1  03d14a30c863e0fe2addc0d1c319786544bb7225f6caf7...    0.001253\n",
       "2  03d132deef75e18269bd983ffa54d7c6655666e0eee8f8...    0.014371\n",
       "3  03d19da24502b694a607bf9d92083385f3825b4aca6308...    0.901569\n",
       "4  03d0fb061f1987be6a879645e8aca959a2993756951ed4...    0.086595"
      ]
     },
     "execution_count": 25,
     "metadata": {},
     "output_type": "execute_result"
    }
   ],
   "source": [
    "# WRITE SUBMISSION FILE\n",
    "test_preds = np.concatenate(test_preds)\n",
    "test = cudf.DataFrame(index=customers,data={'prediction':test_preds})\n",
    "sub = cudf.read_csv('../input/amex-default-prediction/sample_submission.csv')[['customer_ID']]\n",
    "sub['customer_ID_hash'] = sub['customer_ID'].str[-16:].str.hex_to_int().astype('int64')\n",
    "sub = sub.set_index('customer_ID_hash')\n",
    "sub = sub.merge(test[['prediction']], left_index=True, right_index=True, how='left')\n",
    "sub = sub.reset_index(drop=True)\n",
    "\n",
    "# DISPLAY PREDICTIONS\n",
    "sub.to_csv(f'submission.csv',index=False)\n",
    "print('Submission file shape is', sub.shape )\n",
    "sub.head()"
   ]
  },
  {
   "cell_type": "code",
   "execution_count": 26,
   "id": "3b2af25b",
   "metadata": {
    "execution": {
     "iopub.execute_input": "2023-05-09T16:00:02.444002Z",
     "iopub.status.busy": "2023-05-09T16:00:02.443089Z",
     "iopub.status.idle": "2023-05-09T16:00:03.222317Z",
     "shell.execute_reply": "2023-05-09T16:00:03.221389Z"
    },
    "papermill": {
     "duration": 0.800392,
     "end_time": "2023-05-09T16:00:03.224321",
     "exception": false,
     "start_time": "2023-05-09T16:00:02.423929",
     "status": "completed"
    },
    "tags": []
   },
   "outputs": [
    {
     "data": {
      "image/png": "[encoded data removed]",
      "text/plain": [
       "<Figure size 640x480 with 1 Axes>"
      ]
     },
     "metadata": {},
     "output_type": "display_data"
    }
   ],
   "source": [
    "# PLOT PREDICTIONS\n",
    "plt.hist(sub.to_pandas().prediction, bins=100)\n",
    "plt.title('Test Predictions')\n",
    "plt.show()"
   ]
  }
 ],
 "metadata": {
  "kernelspec": {
   "display_name": "Python 3",
   "language": "python",
   "name": "python3"
  },
  "language_info": {
   "codemirror_mode": {
    "name": "ipython",
    "version": 3
   },
   "file_extension": ".py",
   "mimetype": "text/x-python",
   "name": "python",
   "nbconvert_exporter": "python",
   "pygments_lexer": "ipython3",
   "version": "3.10.10"
  },
  "papermill": {
   "default_parameters": {},
   "duration": 2072.613293,
   "end_time": "2023-05-09T16:00:06.020961",
   "environment_variables": {},
   "exception": null,
   "input_path": "__notebook__.ipynb",
   "output_path": "__notebook__.ipynb",
   "parameters": {},
   "start_time": "2023-05-09T15:25:33.407668",
   "version": "2.4.0"
  }
 },
 "nbformat": 4,
 "nbformat_minor": 5
}
