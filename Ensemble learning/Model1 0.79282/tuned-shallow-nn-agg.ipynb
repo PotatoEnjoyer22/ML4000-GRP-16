{
 "cells": [
  {
   "cell_type": "code",
   "execution_count": 1,
   "id": "11a4a121",
   "metadata": {
    "_cell_guid": "b1076dfc-b9ad-4769-8c92-a6c4dae69d19",
    "_uuid": "8f2839f25d086af736a60e9eeb907d3b93b6e0e5",
    "execution": {
     "iopub.execute_input": "2023-02-14T18:47:06.795982Z",
     "iopub.status.busy": "2023-02-14T18:47:06.795343Z",
     "iopub.status.idle": "2023-02-14T18:47:14.142762Z",
     "shell.execute_reply": "2023-02-14T18:47:14.141372Z"
    },
    "papermill": {
     "duration": 7.36024,
     "end_time": "2023-02-14T18:47:14.145973",
     "exception": false,
     "start_time": "2023-02-14T18:47:06.785733",
     "status": "completed"
    },
    "tags": []
   },
   "outputs": [],
   "source": [
    "import gc\n",
    "import pandas as pd \n",
    "import numpy as np\n",
    "import matplotlib.pyplot as plt\n",
    "from sklearn.metrics import classification_report\n",
    "\n",
    "import tensorflow as tf\n",
    "from tensorflow.keras.layers import Dense\n",
    "from tensorflow.keras.models import Sequential\n",
    "from tensorflow.keras.layers import Dropout\n",
    "from tensorflow.keras.regularizers import l2"
   ]
  },
  {
   "cell_type": "markdown",
   "id": "086cd00b",
   "metadata": {
    "papermill": {
     "duration": 0.005984,
     "end_time": "2023-02-14T18:47:14.158656",
     "exception": false,
     "start_time": "2023-02-14T18:47:14.152672",
     "status": "completed"
    },
    "tags": []
   },
   "source": [
    "## Modiying our data for tensorflow neural networks \n",
    "\n",
    "The datasets we use are too big to pass into the neural networks, so we need to transform and preprocess our data for better performance in training our models. \n",
    "\n",
    "Most of this code follows the [Load a pandas DataFrame](https://www.tensorflow.org/tutorials/load_data/pandas_dataframe#full_example) preprocessing guide."
   ]
  },
  {
   "cell_type": "code",
   "execution_count": 2,
   "id": "a3875ce7",
   "metadata": {
    "execution": {
     "iopub.execute_input": "2023-02-14T18:47:14.173920Z",
     "iopub.status.busy": "2023-02-14T18:47:14.173216Z",
     "iopub.status.idle": "2023-02-14T18:47:41.645063Z",
     "shell.execute_reply": "2023-02-14T18:47:41.643700Z"
    },
    "papermill": {
     "duration": 27.482642,
     "end_time": "2023-02-14T18:47:41.648052",
     "exception": false,
     "start_time": "2023-02-14T18:47:14.165410",
     "status": "completed"
    },
    "tags": []
   },
   "outputs": [],
   "source": [
    "X_train = pd.read_pickle('/kaggle/input/amex-imputed-aggregate-data/X_train_agg.pkl', compression='gzip')\n",
    "target = pd.read_pickle('/kaggle/input/amex-imputed-aggregate-data/y_train_agg.pkl', compression='gzip')"
   ]
  },
  {
   "cell_type": "code",
   "execution_count": 3,
   "id": "7a660b0a",
   "metadata": {
    "execution": {
     "iopub.execute_input": "2023-02-14T18:47:41.663192Z",
     "iopub.status.busy": "2023-02-14T18:47:41.661980Z",
     "iopub.status.idle": "2023-02-14T18:47:41.669682Z",
     "shell.execute_reply": "2023-02-14T18:47:41.668542Z"
    },
    "papermill": {
     "duration": 0.019153,
     "end_time": "2023-02-14T18:47:41.673582",
     "exception": false,
     "start_time": "2023-02-14T18:47:41.654429",
     "status": "completed"
    },
    "tags": []
   },
   "outputs": [],
   "source": [
    "# split the feature names into lists based on their type\n",
    "binary_features = ['D_63_last', 'D_64_last']\n",
    "binary_feature_names = [col for col in X_train if '_'.join(col.split(\"_\", 3)[:3]) in binary_features]\n",
    "numeric_feature_names = [col for col in X_train if col not in binary_feature_names]"
   ]
  },
  {
   "cell_type": "code",
   "execution_count": 4,
   "id": "1e1f554d",
   "metadata": {
    "execution": {
     "iopub.execute_input": "2023-02-14T18:47:41.688315Z",
     "iopub.status.busy": "2023-02-14T18:47:41.687836Z",
     "iopub.status.idle": "2023-02-14T18:47:42.677902Z",
     "shell.execute_reply": "2023-02-14T18:47:42.676697Z"
    },
    "papermill": {
     "duration": 1.000653,
     "end_time": "2023-02-14T18:47:42.680696",
     "exception": false,
     "start_time": "2023-02-14T18:47:41.680043",
     "status": "completed"
    },
    "tags": []
   },
   "outputs": [],
   "source": [
    "# turn each column of the dataframe into a tf.keras.Input() object \n",
    "inputs = {}\n",
    "for name, column in X_train.items():\n",
    "  if (name in binary_feature_names):\n",
    "    dtype = tf.int64\n",
    "  else:\n",
    "    dtype = tf.float32\n",
    "\n",
    "  inputs[name] = tf.keras.Input(shape=(), name=name, dtype=dtype)"
   ]
  },
  {
   "cell_type": "markdown",
   "id": "871487bf",
   "metadata": {
    "papermill": {
     "duration": 0.006407,
     "end_time": "2023-02-14T18:47:42.693640",
     "exception": false,
     "start_time": "2023-02-14T18:47:42.687233",
     "status": "completed"
    },
    "tags": []
   },
   "source": [
    "## Preprocessing inputs \n",
    "\n",
    "To preserve memory and be more efficient, we need to pass each feature through a preprocessing pipeline. For our purposes, we essentially just convert every column into `tf.float32`. "
   ]
  },
  {
   "cell_type": "code",
   "execution_count": 5,
   "id": "424164fb",
   "metadata": {
    "execution": {
     "iopub.execute_input": "2023-02-14T18:47:42.709026Z",
     "iopub.status.busy": "2023-02-14T18:47:42.708609Z",
     "iopub.status.idle": "2023-02-14T18:47:42.828043Z",
     "shell.execute_reply": "2023-02-14T18:47:42.826745Z"
    },
    "papermill": {
     "duration": 0.130654,
     "end_time": "2023-02-14T18:47:42.831331",
     "exception": false,
     "start_time": "2023-02-14T18:47:42.700677",
     "status": "completed"
    },
    "tags": []
   },
   "outputs": [
    {
     "name": "stderr",
     "output_type": "stream",
     "text": [
      "2023-02-14 18:47:42.724101: I tensorflow/core/common_runtime/process_util.cc:146] Creating new thread pool with default inter op setting: 2. Tune using inter_op_parallelism_threads for best performance.\n"
     ]
    }
   ],
   "source": [
    "preprocessed = []\n",
    "\n",
    "# preprocess binary features by converting to float32\n",
    "for name in binary_feature_names:\n",
    "  inp = inputs[name]\n",
    "  inp = inp[:, tf.newaxis]\n",
    "  float_value = tf.cast(inp, tf.float32)\n",
    "  preprocessed.append(float_value)"
   ]
  },
  {
   "cell_type": "code",
   "execution_count": 6,
   "id": "eaec2510",
   "metadata": {
    "execution": {
     "iopub.execute_input": "2023-02-14T18:47:42.846586Z",
     "iopub.status.busy": "2023-02-14T18:47:42.846076Z",
     "iopub.status.idle": "2023-02-14T18:47:42.853436Z",
     "shell.execute_reply": "2023-02-14T18:47:42.852114Z"
    },
    "papermill": {
     "duration": 0.018263,
     "end_time": "2023-02-14T18:47:42.856008",
     "exception": false,
     "start_time": "2023-02-14T18:47:42.837745",
     "status": "completed"
    },
    "tags": []
   },
   "outputs": [],
   "source": [
    "def stack_dict(inputs, fun=tf.stack):\n",
    "    \"\"\"\n",
    "    Stacks numerical tf.keras.Input() objects as tf.float32 \n",
    "\n",
    "    Parameters\n",
    "    ----------\n",
    "    inputs: dict{string: tf.keras.Input()}\n",
    "        Python dictionary where keys are the column name and values are the previously made tf.keras.Input() objects\n",
    "    fun: function()\n",
    "        Function to manipulate inputs. Default is tf.stack()\n",
    "\n",
    "    Returns\n",
    "    -------\n",
    "    tf.Tensor\n",
    "        A stacked float32 Tensor\n",
    "    \"\"\"   \n",
    "    \n",
    "    values = []\n",
    "    for key in sorted(inputs.keys()):\n",
    "      values.append(tf.cast(inputs[key], tf.float32))\n",
    "\n",
    "    return fun(values, axis=-1)"
   ]
  },
  {
   "cell_type": "code",
   "execution_count": 7,
   "id": "bd82f991",
   "metadata": {
    "execution": {
     "iopub.execute_input": "2023-02-14T18:47:42.871207Z",
     "iopub.status.busy": "2023-02-14T18:47:42.870745Z",
     "iopub.status.idle": "2023-02-14T18:47:45.077247Z",
     "shell.execute_reply": "2023-02-14T18:47:45.075883Z"
    },
    "papermill": {
     "duration": 2.217091,
     "end_time": "2023-02-14T18:47:45.079904",
     "exception": false,
     "start_time": "2023-02-14T18:47:42.862813",
     "status": "completed"
    },
    "tags": []
   },
   "outputs": [
    {
     "data": {
      "text/plain": [
       "[<KerasTensor: shape=(None, 1) dtype=float32 (created by layer 'tf.cast')>,\n",
       " <KerasTensor: shape=(None, 1) dtype=float32 (created by layer 'tf.cast_1')>,\n",
       " <KerasTensor: shape=(None, 1) dtype=float32 (created by layer 'tf.cast_2')>,\n",
       " <KerasTensor: shape=(None, 1) dtype=float32 (created by layer 'tf.cast_3')>,\n",
       " <KerasTensor: shape=(None, 1) dtype=float32 (created by layer 'tf.cast_4')>,\n",
       " <KerasTensor: shape=(None, 1) dtype=float32 (created by layer 'tf.cast_5')>,\n",
       " <KerasTensor: shape=(None, 1) dtype=float32 (created by layer 'tf.cast_6')>,\n",
       " <KerasTensor: shape=(None, 1) dtype=float32 (created by layer 'tf.cast_7')>,\n",
       " <KerasTensor: shape=(None, 1) dtype=float32 (created by layer 'tf.cast_8')>,\n",
       " <KerasTensor: shape=(None, 1) dtype=float32 (created by layer 'tf.cast_9')>,\n",
       " <KerasTensor: shape=(None, 1) dtype=float32 (created by layer 'tf.cast_10')>,\n",
       " <KerasTensor: shape=(None, 916) dtype=float32 (created by layer 'tf.stack')>]"
      ]
     },
     "execution_count": 7,
     "metadata": {},
     "output_type": "execute_result"
    }
   ],
   "source": [
    "numeric_inputs = {}\n",
    "for name in numeric_feature_names:\n",
    "  numeric_inputs[name] = inputs[name]\n",
    "\n",
    "# preprocess numeric inputs by stacking them and converting to float32\n",
    "numeric_inputs = stack_dict(numeric_inputs)\n",
    "preprocessed.append(numeric_inputs)\n",
    "\n",
    "preprocessed"
   ]
  },
  {
   "cell_type": "code",
   "execution_count": 8,
   "id": "263c71b2",
   "metadata": {
    "execution": {
     "iopub.execute_input": "2023-02-14T18:47:45.094835Z",
     "iopub.status.busy": "2023-02-14T18:47:45.094409Z",
     "iopub.status.idle": "2023-02-14T18:47:45.117938Z",
     "shell.execute_reply": "2023-02-14T18:47:45.116680Z"
    },
    "papermill": {
     "duration": 0.034093,
     "end_time": "2023-02-14T18:47:45.120638",
     "exception": false,
     "start_time": "2023-02-14T18:47:45.086545",
     "status": "completed"
    },
    "tags": []
   },
   "outputs": [
    {
     "data": {
      "text/plain": [
       "<KerasTensor: shape=(None, 927) dtype=float32 (created by layer 'tf.concat')>"
      ]
     },
     "execution_count": 8,
     "metadata": {},
     "output_type": "execute_result"
    }
   ],
   "source": [
    "# concat the preprocessed binary and numerical features\n",
    "preprocesssed_result = tf.concat(preprocessed, axis=-1)\n",
    "preprocesssed_result"
   ]
  },
  {
   "cell_type": "code",
   "execution_count": 9,
   "id": "2f85030f",
   "metadata": {
    "execution": {
     "iopub.execute_input": "2023-02-14T18:47:45.135679Z",
     "iopub.status.busy": "2023-02-14T18:47:45.135261Z",
     "iopub.status.idle": "2023-02-14T18:47:45.342482Z",
     "shell.execute_reply": "2023-02-14T18:47:45.341247Z"
    },
    "papermill": {
     "duration": 0.218212,
     "end_time": "2023-02-14T18:47:45.345516",
     "exception": false,
     "start_time": "2023-02-14T18:47:45.127304",
     "status": "completed"
    },
    "tags": []
   },
   "outputs": [],
   "source": [
    "# create a tf.keras.Model out of the preprocessor so it can be reused later\n",
    "preprocessor = tf.keras.Model(inputs, preprocesssed_result)"
   ]
  },
  {
   "cell_type": "code",
   "execution_count": 10,
   "id": "ef4755b4",
   "metadata": {
    "execution": {
     "iopub.execute_input": "2023-02-14T18:47:45.361672Z",
     "iopub.status.busy": "2023-02-14T18:47:45.361237Z",
     "iopub.status.idle": "2023-02-14T18:47:45.849938Z",
     "shell.execute_reply": "2023-02-14T18:47:45.848685Z"
    },
    "papermill": {
     "duration": 0.498905,
     "end_time": "2023-02-14T18:47:45.852279",
     "exception": false,
     "start_time": "2023-02-14T18:47:45.353374",
     "status": "completed"
    },
    "tags": []
   },
   "outputs": [
    {
     "data": {
      "text/plain": [
       "<tf.Tensor: shape=(1, 927), dtype=float32, numpy=\n",
       "array([[0.00000000e+00, 0.00000000e+00, 1.00000000e+00, 0.00000000e+00,\n",
       "        0.00000000e+00, 0.00000000e+00, 0.00000000e+00, 1.00000000e+00,\n",
       "        0.00000000e+00, 0.00000000e+00, 0.00000000e+00, 3.26171875e-01,\n",
       "        7.41699219e-01, 2.70263672e-01, 9.61914062e-02, 1.81834936e-01,\n",
       "        1.02615356e-02, 1.02615356e-02, 7.22885132e-03, 2.74848938e-03,\n",
       "        3.03081190e-03, 1.12304688e-01, 1.48315430e-01, 1.25732422e-01,\n",
       "        1.11083984e-01, 1.17747607e-02, 1.00097656e-01, 1.20727539e-01,\n",
       "        1.00402832e-01, 7.48901367e-02, 1.37241278e-02, 1.02386475e-02,\n",
       "        5.66406250e-02, 2.31475830e-02, 9.72747803e-03, 1.37119768e-02,\n",
       "        1.45492554e-02, 6.39648438e-02, 2.62451172e-02, 7.22122192e-03,\n",
       "        1.69128980e-02, 6.40869141e-03, 8.57543945e-03, 4.76837158e-03,\n",
       "        2.26736069e-04, 2.78444681e-03, 6.34277344e-01, 9.38964844e-01,\n",
       "        6.80664062e-01, 4.14306641e-01, 2.25336775e-01, 1.00781250e+00,\n",
       "        1.00781250e+00, 8.42773438e-01, 6.45996094e-01, 1.84870899e-01,\n",
       "        5.27572632e-03, 9.85717773e-03, 5.22994995e-03, 4.07695770e-04,\n",
       "        2.75847991e-03, 9.38415527e-03, 2.16522217e-02, 1.20086670e-02,\n",
       "        1.93023682e-03, 6.54608058e-03, 7.62939453e-03, 9.71221924e-03,\n",
       "        5.72967529e-03, 3.87954712e-03, 1.61846774e-03, 5.37490845e-03,\n",
       "        8.71276855e-03, 5.50079346e-03, 1.33609772e-03, 2.33912258e-03,\n",
       "        8.04901123e-03, 9.94873047e-03, 5.69915771e-03, 1.03771687e-04,\n",
       "        3.20013822e-03, 4.03747559e-02, 5.08728027e-02, 2.61840820e-02,\n",
       "        3.17573547e-03, 1.81394387e-02, 2.22969055e-03, 9.71984863e-03,\n",
       "        5.13458252e-03, 4.01496887e-04, 3.14911385e-03, 6.47354126e-03,\n",
       "        9.85717773e-03, 5.91278076e-03, 6.46114349e-04, 3.27182212e-03,\n",
       "        1.06716156e-03, 9.19342041e-03, 4.40597534e-03, 1.25765800e-05,\n",
       "        3.54487100e-03, 7.23648071e-03, 9.38415527e-03, 4.09698486e-03,\n",
       "        3.42130661e-05, 3.14444141e-03, 8.47167969e-02, 9.88159180e-02,\n",
       "        5.09643555e-02, 5.60760498e-03, 3.44766043e-02, 3.56445312e-02,\n",
       "        5.89904785e-02, 2.99682617e-02, 1.17111206e-02, 1.63513329e-02,\n",
       "        1.00781250e+00, 1.00976562e+00, 1.00488281e+00, 1.00000000e+00,\n",
       "        3.24831507e-03, 1.30000000e+01, 0.00000000e+00, 1.00000000e+00,\n",
       "        1.00000000e+00, 1.00000000e+00, 1.00000000e+00, 1.00000000e+00,\n",
       "        0.00000000e+00, 7.64465332e-03, 8.75091553e-03, 5.08499146e-03,\n",
       "        1.85394287e-03, 2.84005282e-03, 1.00781250e+00, 1.00781250e+00,\n",
       "        1.00390625e+00, 1.00000000e+00, 2.71751033e-03, 7.44247437e-03,\n",
       "        9.99450684e-03, 5.29098511e-03, 1.26361847e-03, 3.33332759e-03,\n",
       "        8.67462158e-03, 2.50091553e-02, 1.20162964e-02, 4.56619263e-03,\n",
       "        6.66266074e-03, 1.30000000e+01, 2.00000000e+00, 1.00000000e+00,\n",
       "        3.20312500e-01, 4.05517578e-01, 2.13378906e-01, 2.93121338e-02,\n",
       "        1.56094402e-01, 7.17544556e-03, 9.86480713e-03, 6.45446777e-03,\n",
       "        7.83443451e-04, 2.94205383e-03, 1.00463867e-01, 2.10083008e-01,\n",
       "        8.72802734e-02, 1.40380859e-03, 7.55635649e-02, 3.97491455e-03,\n",
       "        9.97161865e-03, 6.75201416e-03, 3.22151184e-03, 2.21282174e-03,\n",
       "        1.09069824e-01, 1.32446289e-01, 1.04553223e-01, 8.01391602e-02,\n",
       "        1.99332964e-02, 7.08007812e-02, 8.09936523e-02, 4.03137207e-02,\n",
       "        8.36372375e-04, 3.17264087e-02, 2.31689453e-01, 2.31689453e-01,\n",
       "        1.46606445e-01, 6.04858398e-02, 4.72000316e-02, 1.49536133e-01,\n",
       "        2.21923828e-01, 1.13525391e-01, 6.39038086e-02, 4.73683700e-02,\n",
       "        5.84106445e-02, 6.05163574e-02, 3.66210938e-02, 1.68132782e-03,\n",
       "        2.31946278e-02, 2.92778015e-03, 6.46591187e-03, 3.58581543e-03,\n",
       "        8.39233398e-04, 2.07997626e-03, 9.53674316e-03, 9.53674316e-03,\n",
       "        6.22177124e-03, 5.19275665e-04, 3.18022631e-03, 9.43359375e-01,\n",
       "        9.43359375e-01, 8.56933594e-01, 7.66601562e-01, 5.67064770e-02,\n",
       "        1.00292969e+00, 1.00976562e+00, 1.00488281e+00, 1.00000000e+00,\n",
       "        3.09804385e-03, 1.01464844e+00, 1.01562500e+00, 1.00976562e+00,\n",
       "        1.00390625e+00, 4.59780172e-03, 1.07421875e+00, 1.07421875e+00,\n",
       "        9.84863281e-01, 8.93554688e-01, 5.98458871e-02, 2.25708008e-01,\n",
       "        3.40576172e-01, 1.94213867e-01, 1.01257324e-01, 9.60963443e-02,\n",
       "        6.71875000e-01, 6.75781250e-01, 6.72363281e-01, 6.67968750e-01,\n",
       "        2.44578440e-03, 5.74340820e-02, 7.75146484e-02, 5.68542480e-02,\n",
       "        4.09851074e-02, 7.55229369e-02, 2.25901604e-04, 9.70458984e-03,\n",
       "        6.11495972e-03, 2.25901604e-04, 3.09740030e-03, 7.41210938e-01,\n",
       "        7.48046875e-01, 7.40234375e-01, 7.32910156e-01, 6.94366405e-03,\n",
       "        8.70117188e-01, 8.75000000e-01, 8.69140625e-01, 8.62792969e-01,\n",
       "        5.44146402e-03, 1.00976562e+00, 1.00976562e+00, 1.00390625e+00,\n",
       "        1.00000000e+00, 3.30244168e-03, 3.65829468e-03, 9.71984863e-03,\n",
       "        5.47409058e-03, 5.32269478e-05, 3.07465135e-03, 1.30000000e+01,\n",
       "        1.00000000e+00, 1.00000000e+00, 2.55859375e-01, 2.56835938e-01,\n",
       "        2.47192383e-01, 2.38281250e-01, 6.55147620e-03, 1.30000000e+01,\n",
       "        0.00000000e+00, 1.00000000e+00, 1.30000000e+01, 4.00000000e+00,\n",
       "        1.00000000e+00, 2.60253906e-01, 2.60253906e-01, 2.45483398e-01,\n",
       "        2.32177734e-01, 7.76426401e-03, 2.56591797e-01, 2.56591797e-01,\n",
       "        2.44750977e-01, 2.36206055e-01, 5.25804190e-03, 1.30000000e+01,\n",
       "        0.00000000e+00, 1.00000000e+00, 7.19726562e-01, 7.19726562e-01,\n",
       "        7.11914062e-01, 7.02148438e-01, 5.88124432e-03, 4.33837891e-01,\n",
       "        4.37500000e-01, 4.33837891e-01, 4.29931641e-01, 2.51479726e-03,\n",
       "        3.58009338e-03, 9.20867920e-03, 3.10325623e-03, 4.27722931e-04,\n",
       "        2.27725506e-03, 6.85058594e-01, 6.89941406e-01, 6.86523438e-01,\n",
       "        6.82128906e-01, 2.74659949e-03, 8.39996338e-03, 9.66644287e-03,\n",
       "        6.25228882e-03, 9.73343849e-05, 3.70741799e-03, 1.30000000e+01,\n",
       "        1.00000000e+00, 1.00000000e+00, 1.00878906e+00, 1.00976562e+00,\n",
       "        1.00585938e+00, 1.00195312e+00, 3.07626138e-03, 9.99511719e-01,\n",
       "        1.00781250e+00, 1.00390625e+00, 9.99511719e-01, 3.23653128e-03,\n",
       "        1.00878906e+00, 1.00878906e+00, 1.00585938e+00, 1.00000000e+00,\n",
       "        3.04028043e-03, 4.18472290e-03, 9.84954834e-03, 5.19561768e-03,\n",
       "        1.03378296e-03, 3.00404569e-03, 5.70297241e-03, 8.71276855e-03,\n",
       "        5.44738770e-03, 7.14778900e-04, 2.35677976e-03, 2.18872070e-01,\n",
       "        2.35839844e-01, 1.85913086e-01, 1.35864258e-01, 3.76334600e-02,\n",
       "        6.21032715e-03, 9.22393799e-03, 4.76074219e-03, 1.21712685e-04,\n",
       "        3.11612291e-03, 3.31298828e-01, 3.57666016e-01, 3.34716797e-01,\n",
       "        3.06884766e-01, 2.42273863e-02, 1.64337158e-02, 1.32812500e-01,\n",
       "        3.10058594e-02, 6.99996948e-03, 5.43394573e-02, 2.10327148e-01,\n",
       "        2.61718750e-01, 2.12768555e-01, 1.58935547e-01, 4.57849503e-02,\n",
       "        9.35363770e-03, 5.81970215e-02, 1.70593262e-02, 5.11932373e-03,\n",
       "        2.39407066e-02, 1.66015625e-01, 2.01904297e-01, 1.69433594e-01,\n",
       "        1.29272461e-01, 3.48204374e-02, 7.18688965e-03, 9.74273682e-03,\n",
       "        3.66401672e-03, 4.27484512e-04, 2.61568557e-03, 4.23431396e-03,\n",
       "        9.60540771e-03, 5.34057617e-03, 1.97601318e-03, 2.35633040e-03,\n",
       "        5.08499146e-03, 9.38415527e-03, 5.17654419e-03, 4.27007675e-04,\n",
       "        2.60837632e-03, 3.97949219e-01, 4.07714844e-01, 3.82568359e-01,\n",
       "        3.56933594e-01, 1.80640556e-02, 5.80978394e-03, 9.57489014e-03,\n",
       "        5.06591797e-03, 5.69343567e-04, 3.56460945e-03, 2.96974182e-03,\n",
       "        9.61303711e-03, 5.28335571e-03, 6.09874725e-04, 2.59757810e-03,\n",
       "        8.52966309e-03, 9.82666016e-03, 5.81359863e-03, 9.95635986e-04,\n",
       "        3.29391635e-03, 9.11712646e-03, 9.14916992e-02, 1.07040405e-02,\n",
       "        1.08242035e-03, 2.44404189e-02, 1.60408020e-03, 9.85717773e-03,\n",
       "        5.02014160e-03, 6.85214996e-04, 3.33114900e-03, 1.69067383e-01,\n",
       "        1.96166992e-01, 1.80541992e-01, 1.63085938e-01, 1.41134858e-02,\n",
       "        1.51733398e-01, 3.25439453e-01, 1.53930664e-01, 8.28857422e-02,\n",
       "        7.73794577e-02, 3.25775146e-03, 9.39941406e-03, 4.67300415e-03,\n",
       "        6.29901886e-04, 2.82264920e-03, 7.40234375e-01, 7.40234375e-01,\n",
       "        7.25585938e-01, 7.08984375e-01, 9.53006838e-03, 4.20410156e-01,\n",
       "        5.19531250e-01, 3.77929688e-01, 2.30957031e-01, 8.56629014e-02,\n",
       "        5.39550781e-01, 5.41992188e-01, 5.32714844e-01, 5.21484375e-01,\n",
       "        6.53322600e-03, 1.92382812e-01, 4.03564453e-01, 2.40966797e-01,\n",
       "        1.35620117e-01, 7.68885687e-02, 1.76635742e-01, 2.15576172e-01,\n",
       "        1.81030273e-01, 1.46362305e-01, 2.76328698e-02, 1.53442383e-01,\n",
       "        1.54296875e-01, 1.50268555e-01, 1.45141602e-01, 2.92230956e-03,\n",
       "        6.73339844e-01, 1.34179688e+00, 9.79003906e-01, 6.68457031e-01,\n",
       "        3.18295479e-01, 2.03491211e-01, 2.08251953e-01, 2.04956055e-01,\n",
       "        2.00805664e-01, 2.39355676e-03, 1.06628418e-01, 1.46728516e-01,\n",
       "        7.84912109e-02, 3.84216309e-02, 3.98887247e-02, 1.00781250e+00,\n",
       "        1.00976562e+00, 1.00585938e+00, 1.00097656e+00, 3.32641951e-03,\n",
       "        1.87255859e-01, 3.54492188e-01, 2.24487305e-01, 1.48315430e-01,\n",
       "        6.80981800e-02, 1.66625977e-01, 1.66625977e-01, 1.58569336e-01,\n",
       "        1.51977539e-01, 4.75720968e-03, 7.17544556e-03, 1.58569336e-01,\n",
       "        6.48193359e-02, 2.66551971e-04, 6.94496110e-02, 6.34765625e-02,\n",
       "        7.11669922e-02, 6.11572266e-02, 4.22363281e-02, 9.58720688e-03,\n",
       "        2.58544922e-01, 1.00976562e+00, 5.35156250e-01, 1.41601562e-01,\n",
       "        3.92288238e-01, 2.27661133e-01, 3.83544922e-01, 2.25830078e-01,\n",
       "        1.21276855e-01, 7.18969032e-02, 4.46533203e-01, 4.53857422e-01,\n",
       "        1.81274414e-01, 8.67919922e-02, 1.66019917e-01, 1.30000000e+01,\n",
       "        1.00000000e+00, 1.30000000e+01, 1.00000000e+00, 8.65936279e-03,\n",
       "        9.59777832e-03, 4.70352173e-03, 3.09944153e-05, 3.50871612e-03,\n",
       "        0.00000000e+00, 1.00000000e+00, 0.00000000e+00, 1.30000000e+01,\n",
       "        6.00000000e+00, 1.00000000e+00, 5.47027588e-03, 9.24682617e-03,\n",
       "        5.27572632e-03, 1.52111053e-04, 2.81924801e-03, 8.25500488e-03,\n",
       "        8.97216797e-03, 5.22232056e-03, 9.58919525e-04, 3.25105293e-03,\n",
       "        3.77929688e-01, 4.30908203e-01, 2.14843750e-01, 7.58666992e-02,\n",
       "        1.32335633e-01, 6.96945190e-03, 9.88769531e-03, 4.49371338e-03,\n",
       "        9.36388969e-05, 3.42000788e-03, 1.63818359e-01, 1.68334961e-01,\n",
       "        1.63696289e-01, 1.59545898e-01, 3.84342484e-03, 1.29890442e-03,\n",
       "        8.14208984e-02, 3.94897461e-02, 1.29890442e-03, 3.79030034e-02,\n",
       "        1.35231018e-03, 7.65380859e-02, 3.61328125e-02, 3.46899033e-05,\n",
       "        3.57205197e-02, 1.40502930e-01, 1.62109375e-01, 1.38305664e-01,\n",
       "        1.15966797e-01, 1.75502654e-02, 4.21386719e-01, 4.21386719e-01,\n",
       "        4.19433594e-01, 4.17236328e-01, 2.93476926e-03, 7.47203827e-04,\n",
       "        9.89532471e-03, 5.21850586e-03, 3.62396240e-05, 3.61864245e-03,\n",
       "        2.19345093e-03, 8.74328613e-03, 4.16946411e-03, 1.15966797e-03,\n",
       "        2.25433754e-03, 2.08251953e-01, 2.08251953e-01, 8.19702148e-02,\n",
       "        1.26481056e-04, 1.02779344e-01, 9.17816162e-03, 9.84954834e-03,\n",
       "        5.83267212e-03, 1.14059448e-03, 3.01344157e-03, 5.07324219e-01,\n",
       "        5.08789062e-01, 5.05859375e-01, 5.00976562e-01, 2.81638117e-03,\n",
       "        1.34706497e-05, 8.81958008e-03, 4.89044189e-03, 1.34706497e-05,\n",
       "        2.69332016e-03, 1.91020966e-03, 9.76562500e-03, 4.94384766e-03,\n",
       "        8.29696655e-04, 3.37031251e-03, 9.97161865e-03, 9.97161865e-03,\n",
       "        4.87518311e-03, 8.12530518e-04, 3.03028198e-03, 1.00000000e+00,\n",
       "        1.00000000e+00, 1.00000000e+00, 1.00000000e+00, 0.00000000e+00,\n",
       "        1.28173828e-01, 2.53906250e-01, 1.80297852e-01, 1.22802734e-01,\n",
       "        8.90698954e-02, 4.63867188e-03, 9.71984863e-03, 5.23376465e-03,\n",
       "        8.87870789e-04, 3.11503792e-03, 1.00585938e+00, 1.50976562e+00,\n",
       "        1.19726562e+00, 1.00195312e+00, 2.52825528e-01, 3.64112854e-03,\n",
       "        1.00878906e+00, 5.43945312e-01, 1.55544281e-03, 5.19849479e-01,\n",
       "        4.63867188e-03, 9.44519043e-03, 4.41360474e-03, 5.70774078e-04,\n",
       "        2.54396582e-03, 3.86619568e-03, 9.23156738e-03, 5.90896606e-03,\n",
       "        3.90768051e-04, 2.73295352e-03, 1.19018555e-03, 9.85717773e-03,\n",
       "        3.62014771e-03, 6.28829002e-05, 3.04082222e-03, 9.34570312e-01,\n",
       "        9.60449219e-01, 9.33593750e-01, 8.68652344e-01, 2.41937805e-02,\n",
       "        6.29394531e-01, 7.41699219e-01, 6.80175781e-01, 5.81542969e-01,\n",
       "        5.06882295e-02, 6.56509399e-03, 9.55963135e-03, 5.66864014e-03,\n",
       "        8.85486603e-04, 2.35687150e-03, 1.05762482e-03, 8.33892822e-03,\n",
       "        4.74166870e-03, 1.05762482e-03, 2.38622562e-03, 9.35363770e-03,\n",
       "        9.35363770e-03, 4.78363037e-03, 3.95298004e-04, 2.91284570e-03,\n",
       "        1.00195312e+00, 1.00976562e+00, 1.00488281e+00, 1.00000000e+00,\n",
       "        3.48614901e-03, 6.09970093e-03, 9.97924805e-03, 4.52041626e-03,\n",
       "        3.46660614e-04, 3.46054952e-03, 2.90107727e-03, 8.78143311e-03,\n",
       "        5.87844849e-03, 4.37974930e-04, 2.73130136e-03, 1.11579895e-03,\n",
       "        9.73510742e-03, 5.17272949e-03, 3.10897827e-04, 3.10677546e-03,\n",
       "        3.25584412e-03, 9.17053223e-03, 4.74166870e-03, 2.06947327e-04,\n",
       "        3.11837834e-03, 2.33078003e-03, 9.45281982e-03, 4.16183472e-03,\n",
       "        2.12192535e-05, 3.38948891e-03, 2.51770020e-03, 9.51385498e-03,\n",
       "        6.58798218e-03, 1.67179108e-03, 3.10472841e-03, 8.10241699e-03,\n",
       "        9.23156738e-03, 5.22994995e-03, 2.01606750e-03, 2.64720130e-03,\n",
       "        6.10351562e-03, 9.22393799e-03, 4.50897217e-03, 2.62737274e-04,\n",
       "        3.08129028e-03, 6.35528564e-03, 9.97924805e-03, 5.22994995e-03,\n",
       "        3.70025635e-04, 2.89566303e-03, 8.49914551e-03, 9.98687744e-03,\n",
       "        4.93240356e-03, 3.55243683e-05, 3.66574712e-03, 1.44481659e-03,\n",
       "        9.81903076e-03, 5.00106812e-03, 1.44243240e-05, 3.70065542e-03,\n",
       "        3.08036804e-03, 9.44519043e-03, 4.59289551e-03, 2.64167786e-04,\n",
       "        2.97438074e-03, 5.90896606e-03, 8.50677490e-03, 5.47027588e-03,\n",
       "        1.83773041e-03, 2.22975877e-03, 5.45883179e-03, 9.93347168e-03,\n",
       "        5.79833984e-03, 1.45244598e-03, 2.69981450e-03, 8.77075195e-02,\n",
       "        9.68017578e-02, 8.54492188e-02, 7.23266602e-02, 9.93319228e-03,\n",
       "        1.00585938e+00, 1.00878906e+00, 1.00585938e+00, 1.00000000e+00,\n",
       "        3.12750298e-03, 2.71606445e-03, 9.12475586e-03, 4.08935547e-03,\n",
       "        1.38759613e-04, 2.82216771e-03, 8.30841064e-03, 9.91821289e-03,\n",
       "        5.75256348e-03, 1.43623352e-03, 2.92845862e-03, 8.53538513e-05,\n",
       "        9.84954834e-03, 4.75311279e-03, 8.53538513e-05, 3.26915458e-03,\n",
       "        8.51440430e-03, 9.65118408e-03, 6.65664673e-03, 2.47383118e-03,\n",
       "        2.30500824e-03, 9.44519043e-03, 9.81903076e-03, 4.68444824e-03,\n",
       "        2.40683556e-04, 3.30343097e-03, 3.94439697e-03, 9.59777832e-03,\n",
       "        6.06536865e-03, 2.44331360e-03, 2.19817692e-03, 9.16290283e-03,\n",
       "        9.16290283e-03, 5.85174561e-03, 1.42192841e-03, 2.00677896e-03,\n",
       "        6.34384155e-03, 9.99450684e-03, 5.59616089e-03, 5.09262085e-04,\n",
       "        3.42468149e-03, 2.24121094e-01, 2.51464844e-01, 2.11181641e-01,\n",
       "        1.53198242e-01, 4.34238501e-02, 4.02343750e-01, 5.68847656e-01,\n",
       "        4.69970703e-01, 4.01611328e-01, 6.69391677e-02, 1.84082031e-01,\n",
       "        5.08789062e-01, 2.48046875e-01, 8.59375000e-02, 1.26745969e-01,\n",
       "        6.86523438e-01, 8.52539062e-01, 6.54785156e-01, 5.07812500e-01,\n",
       "        1.51148111e-01, 3.04687500e-01, 3.04687500e-01, 1.73339844e-01,\n",
       "        1.01013184e-01, 6.22996129e-02, 2.61068344e-05, 9.81140137e-03,\n",
       "        4.97436523e-03, 2.61068344e-05, 3.04762973e-03, 6.54983521e-03,\n",
       "        8.03375244e-03, 5.08117676e-03, 7.60555267e-04, 2.60557188e-03,\n",
       "        1.27696991e-03, 9.71221924e-03, 5.07354736e-03, 1.55091286e-04,\n",
       "        3.06464708e-03, 3.51142883e-03, 9.33074951e-03, 5.95474243e-03,\n",
       "        4.23192978e-04, 3.00927670e-03, 9.41467285e-03, 9.92584229e-03,\n",
       "        6.29425049e-03, 7.74383545e-04, 3.15738074e-03, 9.17968750e-01,\n",
       "        9.39941406e-01, 9.16015625e-01, 8.92089844e-01, 1.63946133e-02,\n",
       "        1.31835938e-01, 1.40014648e-01, 1.35009766e-01, 1.31469727e-01,\n",
       "        2.56608357e-03, 9.36035156e-01, 9.58496094e-01, 9.32128906e-01,\n",
       "        9.11132812e-01, 1.65468808e-02, 9.72167969e-01, 9.79003906e-01,\n",
       "        9.74609375e-01, 9.69726562e-01, 2.50444468e-03, 1.28078461e-03,\n",
       "        2.70538330e-02, 1.25579834e-02, 1.24359131e-03, 9.40939691e-03,\n",
       "        9.28710938e-01, 9.79492188e-01, 8.51074219e-01, 6.76757812e-01,\n",
       "        7.78208524e-02, 1.35009766e-01, 1.35009766e-01, 1.13220215e-01,\n",
       "        9.88769531e-02, 1.16653861e-02, 3.46374512e-02, 5.42297363e-02,\n",
       "        2.91137695e-02, 7.16400146e-03, 1.47587974e-02, 1.77001953e-03,\n",
       "        8.46099854e-03, 4.64630127e-03, 5.30242920e-04, 3.05977650e-03,\n",
       "        1.05651855e-01, 1.61376953e-01, 9.83886719e-02, 7.46459961e-02,\n",
       "        2.67902184e-02, 4.88281250e-01, 1.00195312e+00, 7.96875000e-01,\n",
       "        4.88281250e-01, 1.36275902e-01, 7.39669800e-03, 9.39331055e-02,\n",
       "        3.98254395e-02, 7.39669800e-03, 2.67094541e-02]], dtype=float32)>"
      ]
     },
     "execution_count": 10,
     "metadata": {},
     "output_type": "execute_result"
    }
   ],
   "source": [
    "# verify with the preprocessed first example of the dataset \n",
    "preprocessor(dict(X_train.iloc[:1]))"
   ]
  },
  {
   "cell_type": "markdown",
   "id": "cd6f2284",
   "metadata": {
    "papermill": {
     "duration": 0.006723,
     "end_time": "2023-02-14T18:47:45.866110",
     "exception": false,
     "start_time": "2023-02-14T18:47:45.859387",
     "status": "completed"
    },
    "tags": []
   },
   "source": [
    "## Creating the neural network model"
   ]
  },
  {
   "cell_type": "code",
   "execution_count": 11,
   "id": "52dc92ba",
   "metadata": {
    "execution": {
     "iopub.execute_input": "2023-02-14T18:47:45.882643Z",
     "iopub.status.busy": "2023-02-14T18:47:45.881624Z",
     "iopub.status.idle": "2023-02-14T18:47:45.899598Z",
     "shell.execute_reply": "2023-02-14T18:47:45.898383Z"
    },
    "papermill": {
     "duration": 0.029156,
     "end_time": "2023-02-14T18:47:45.902442",
     "exception": false,
     "start_time": "2023-02-14T18:47:45.873286",
     "status": "completed"
    },
    "tags": []
   },
   "outputs": [],
   "source": [
    "num_features = preprocesssed_result.shape.as_list()[1]\n",
    "\n",
    "nn = Sequential()\n",
    "\n",
    "nn.add(Dropout(0.1))\n",
    "# hidden layers\n",
    "nn.add(tf.keras.layers.Dense(116, input_dim=num_features, activation='relu', kernel_regularizer=l2(0.01)))\n",
    "\n",
    "# output layer\n",
    "nn.add(Dense(1, activation='sigmoid'))"
   ]
  },
  {
   "cell_type": "code",
   "execution_count": 12,
   "id": "3bd9125f",
   "metadata": {
    "execution": {
     "iopub.execute_input": "2023-02-14T18:47:45.919295Z",
     "iopub.status.busy": "2023-02-14T18:47:45.918028Z",
     "iopub.status.idle": "2023-02-14T18:47:46.526980Z",
     "shell.execute_reply": "2023-02-14T18:47:46.525601Z"
    },
    "papermill": {
     "duration": 0.620337,
     "end_time": "2023-02-14T18:47:46.529912",
     "exception": false,
     "start_time": "2023-02-14T18:47:45.909575",
     "status": "completed"
    },
    "tags": []
   },
   "outputs": [],
   "source": [
    "# use the saved preprocessor model to generate our features \n",
    "x = preprocessor(inputs)"
   ]
  },
  {
   "cell_type": "code",
   "execution_count": 13,
   "id": "00ebd6e9",
   "metadata": {
    "execution": {
     "iopub.execute_input": "2023-02-14T18:47:46.546154Z",
     "iopub.status.busy": "2023-02-14T18:47:46.545659Z",
     "iopub.status.idle": "2023-02-14T18:47:46.611622Z",
     "shell.execute_reply": "2023-02-14T18:47:46.610521Z"
    },
    "papermill": {
     "duration": 0.077322,
     "end_time": "2023-02-14T18:47:46.614472",
     "exception": false,
     "start_time": "2023-02-14T18:47:46.537150",
     "status": "completed"
    },
    "tags": []
   },
   "outputs": [
    {
     "data": {
      "text/plain": [
       "<KerasTensor: shape=(None, 1) dtype=float32 (created by layer 'sequential')>"
      ]
     },
     "execution_count": 13,
     "metadata": {},
     "output_type": "execute_result"
    }
   ],
   "source": [
    "# create the output tensor to pass to Model() object \n",
    "result = nn(x)\n",
    "result"
   ]
  },
  {
   "cell_type": "code",
   "execution_count": 14,
   "id": "e2af0f40",
   "metadata": {
    "execution": {
     "iopub.execute_input": "2023-02-14T18:47:46.630664Z",
     "iopub.status.busy": "2023-02-14T18:47:46.630256Z",
     "iopub.status.idle": "2023-02-14T18:47:46.768904Z",
     "shell.execute_reply": "2023-02-14T18:47:46.767607Z"
    },
    "papermill": {
     "duration": 0.150106,
     "end_time": "2023-02-14T18:47:46.771787",
     "exception": false,
     "start_time": "2023-02-14T18:47:46.621681",
     "status": "completed"
    },
    "tags": []
   },
   "outputs": [],
   "source": [
    "model = tf.keras.Model(inputs, result)\n",
    "\n",
    "model.compile(optimizer='adam', loss='binary_crossentropy', metrics=['accuracy'])"
   ]
  },
  {
   "cell_type": "code",
   "execution_count": 15,
   "id": "75fe276d",
   "metadata": {
    "execution": {
     "iopub.execute_input": "2023-02-14T18:47:46.788936Z",
     "iopub.status.busy": "2023-02-14T18:47:46.788491Z",
     "iopub.status.idle": "2023-02-14T19:16:08.862176Z",
     "shell.execute_reply": "2023-02-14T19:16:08.861124Z"
    },
    "papermill": {
     "duration": 1702.085269,
     "end_time": "2023-02-14T19:16:08.865152",
     "exception": false,
     "start_time": "2023-02-14T18:47:46.779883",
     "status": "completed"
    },
    "tags": []
   },
   "outputs": [
    {
     "name": "stderr",
     "output_type": "stream",
     "text": [
      "2023-02-14 18:55:39.425986: I tensorflow/compiler/mlir/mlir_graph_optimization_pass.cc:185] None of the MLIR Optimization Passes are enabled (registered 2)\n"
     ]
    },
    {
     "name": "stdout",
     "output_type": "stream",
     "text": [
      "Epoch 1/55\n",
      "8/8 [==============================] - 449s 62s/step - loss: 2.3971 - accuracy: 0.7678 - val_loss: 2.0113 - val_accuracy: 0.8682\n",
      "Epoch 2/55\n",
      "8/8 [==============================] - 14s 2s/step - loss: 1.8287 - accuracy: 0.8559 - val_loss: 1.5749 - val_accuracy: 0.8749\n",
      "Epoch 3/55\n",
      "8/8 [==============================] - 14s 2s/step - loss: 1.4579 - accuracy: 0.8720 - val_loss: 1.2684 - val_accuracy: 0.8752\n",
      "Epoch 4/55\n",
      "8/8 [==============================] - 14s 2s/step - loss: 1.1721 - accuracy: 0.8750 - val_loss: 1.0228 - val_accuracy: 0.8832\n",
      "Epoch 5/55\n",
      "8/8 [==============================] - 14s 2s/step - loss: 0.9502 - accuracy: 0.8791 - val_loss: 0.8395 - val_accuracy: 0.8848\n",
      "Epoch 6/55\n",
      "8/8 [==============================] - 15s 2s/step - loss: 0.7852 - accuracy: 0.8816 - val_loss: 0.7017 - val_accuracy: 0.8871\n",
      "Epoch 7/55\n",
      "8/8 [==============================] - 14s 2s/step - loss: 0.6622 - accuracy: 0.8836 - val_loss: 0.5983 - val_accuracy: 0.8882\n",
      "Epoch 8/55\n",
      "8/8 [==============================] - 14s 2s/step - loss: 0.5717 - accuracy: 0.8849 - val_loss: 0.5239 - val_accuracy: 0.8891\n",
      "Epoch 9/55\n",
      "8/8 [==============================] - 14s 2s/step - loss: 0.5053 - accuracy: 0.8858 - val_loss: 0.4681 - val_accuracy: 0.8901\n",
      "Epoch 10/55\n",
      "8/8 [==============================] - 14s 2s/step - loss: 0.4559 - accuracy: 0.8872 - val_loss: 0.4264 - val_accuracy: 0.8916\n",
      "Epoch 11/55\n",
      "8/8 [==============================] - 14s 2s/step - loss: 0.4186 - accuracy: 0.8883 - val_loss: 0.3957 - val_accuracy: 0.8923\n",
      "Epoch 12/55\n",
      "8/8 [==============================] - 15s 2s/step - loss: 0.3910 - accuracy: 0.8886 - val_loss: 0.3724 - val_accuracy: 0.8931\n",
      "Epoch 13/55\n",
      "8/8 [==============================] - 14s 2s/step - loss: 0.3696 - accuracy: 0.8896 - val_loss: 0.3539 - val_accuracy: 0.8932\n",
      "Epoch 14/55\n",
      "8/8 [==============================] - 14s 2s/step - loss: 0.3527 - accuracy: 0.8899 - val_loss: 0.3399 - val_accuracy: 0.8930\n",
      "Epoch 15/55\n",
      "8/8 [==============================] - 14s 2s/step - loss: 0.3398 - accuracy: 0.8901 - val_loss: 0.3282 - val_accuracy: 0.8941\n",
      "Epoch 16/55\n",
      "8/8 [==============================] - 14s 2s/step - loss: 0.3285 - accuracy: 0.8906 - val_loss: 0.3186 - val_accuracy: 0.8941\n",
      "Epoch 17/55\n",
      "8/8 [==============================] - 15s 2s/step - loss: 0.3199 - accuracy: 0.8907 - val_loss: 0.3103 - val_accuracy: 0.8938\n",
      "Epoch 18/55\n",
      "8/8 [==============================] - 14s 2s/step - loss: 0.3135 - accuracy: 0.8908 - val_loss: 0.3038 - val_accuracy: 0.8947\n",
      "Epoch 19/55\n",
      "8/8 [==============================] - 15s 2s/step - loss: 0.3069 - accuracy: 0.8908 - val_loss: 0.2983 - val_accuracy: 0.8945\n",
      "Epoch 20/55\n",
      "8/8 [==============================] - 15s 2s/step - loss: 0.3012 - accuracy: 0.8906 - val_loss: 0.2946 - val_accuracy: 0.8946\n",
      "Epoch 21/55\n",
      "8/8 [==============================] - 15s 2s/step - loss: 0.2972 - accuracy: 0.8912 - val_loss: 0.2907 - val_accuracy: 0.8947\n",
      "Epoch 22/55\n",
      "8/8 [==============================] - 15s 2s/step - loss: 0.2930 - accuracy: 0.8910 - val_loss: 0.2858 - val_accuracy: 0.8948\n",
      "Epoch 23/55\n",
      "8/8 [==============================] - 15s 2s/step - loss: 0.2888 - accuracy: 0.8916 - val_loss: 0.2827 - val_accuracy: 0.8949\n",
      "Epoch 24/55\n",
      "8/8 [==============================] - 14s 2s/step - loss: 0.2859 - accuracy: 0.8916 - val_loss: 0.2805 - val_accuracy: 0.8949\n",
      "Epoch 25/55\n",
      "8/8 [==============================] - 14s 2s/step - loss: 0.2842 - accuracy: 0.8911 - val_loss: 0.2775 - val_accuracy: 0.8953\n",
      "Epoch 26/55\n",
      "8/8 [==============================] - 14s 2s/step - loss: 0.2814 - accuracy: 0.8917 - val_loss: 0.2753 - val_accuracy: 0.8953\n",
      "Epoch 27/55\n",
      "8/8 [==============================] - 14s 2s/step - loss: 0.2797 - accuracy: 0.8919 - val_loss: 0.2735 - val_accuracy: 0.8952\n",
      "Epoch 28/55\n",
      "8/8 [==============================] - 14s 2s/step - loss: 0.2774 - accuracy: 0.8917 - val_loss: 0.2724 - val_accuracy: 0.8952\n",
      "Epoch 29/55\n",
      "8/8 [==============================] - 14s 2s/step - loss: 0.2759 - accuracy: 0.8915 - val_loss: 0.2712 - val_accuracy: 0.8951\n",
      "Epoch 30/55\n",
      "8/8 [==============================] - 15s 2s/step - loss: 0.2740 - accuracy: 0.8921 - val_loss: 0.2689 - val_accuracy: 0.8955\n",
      "Epoch 31/55\n",
      "8/8 [==============================] - 14s 2s/step - loss: 0.2731 - accuracy: 0.8922 - val_loss: 0.2674 - val_accuracy: 0.8952\n",
      "Epoch 32/55\n",
      "8/8 [==============================] - 14s 2s/step - loss: 0.2732 - accuracy: 0.8914 - val_loss: 0.2657 - val_accuracy: 0.8956\n",
      "Epoch 33/55\n",
      "8/8 [==============================] - 14s 2s/step - loss: 0.2726 - accuracy: 0.8911 - val_loss: 0.2675 - val_accuracy: 0.8932\n",
      "Epoch 34/55\n",
      "8/8 [==============================] - 15s 2s/step - loss: 0.2723 - accuracy: 0.8909 - val_loss: 0.2739 - val_accuracy: 0.8928\n",
      "Epoch 35/55\n",
      "8/8 [==============================] - 14s 2s/step - loss: 0.2714 - accuracy: 0.8909 - val_loss: 0.2645 - val_accuracy: 0.8941\n",
      "Epoch 36/55\n",
      "8/8 [==============================] - 14s 2s/step - loss: 0.2685 - accuracy: 0.8918 - val_loss: 0.2649 - val_accuracy: 0.8952\n",
      "Epoch 37/55\n",
      "8/8 [==============================] - 14s 2s/step - loss: 0.2676 - accuracy: 0.8919 - val_loss: 0.2615 - val_accuracy: 0.8957\n",
      "Epoch 38/55\n",
      "8/8 [==============================] - 14s 2s/step - loss: 0.2663 - accuracy: 0.8925 - val_loss: 0.2617 - val_accuracy: 0.8958\n",
      "Epoch 39/55\n",
      "8/8 [==============================] - 14s 2s/step - loss: 0.2659 - accuracy: 0.8922 - val_loss: 0.2616 - val_accuracy: 0.8959\n",
      "Epoch 40/55\n",
      "8/8 [==============================] - 14s 2s/step - loss: 0.2653 - accuracy: 0.8924 - val_loss: 0.2605 - val_accuracy: 0.8948\n",
      "Epoch 41/55\n",
      "8/8 [==============================] - 15s 2s/step - loss: 0.2648 - accuracy: 0.8920 - val_loss: 0.2620 - val_accuracy: 0.8953\n",
      "Epoch 42/55\n",
      "8/8 [==============================] - 14s 2s/step - loss: 0.2645 - accuracy: 0.8923 - val_loss: 0.2587 - val_accuracy: 0.8961\n",
      "Epoch 43/55\n",
      "8/8 [==============================] - 15s 2s/step - loss: 0.2632 - accuracy: 0.8928 - val_loss: 0.2588 - val_accuracy: 0.8958\n",
      "Epoch 44/55\n",
      "8/8 [==============================] - 14s 2s/step - loss: 0.2628 - accuracy: 0.8926 - val_loss: 0.2579 - val_accuracy: 0.8960\n",
      "Epoch 45/55\n",
      "8/8 [==============================] - 15s 2s/step - loss: 0.2627 - accuracy: 0.8924 - val_loss: 0.2577 - val_accuracy: 0.8960\n",
      "Epoch 46/55\n",
      "8/8 [==============================] - 14s 2s/step - loss: 0.2621 - accuracy: 0.8924 - val_loss: 0.2576 - val_accuracy: 0.8956\n",
      "Epoch 47/55\n",
      "8/8 [==============================] - 15s 2s/step - loss: 0.2620 - accuracy: 0.8924 - val_loss: 0.2581 - val_accuracy: 0.8958\n",
      "Epoch 48/55\n",
      "8/8 [==============================] - 14s 2s/step - loss: 0.2610 - accuracy: 0.8929 - val_loss: 0.2568 - val_accuracy: 0.8963\n",
      "Epoch 49/55\n",
      "8/8 [==============================] - 15s 2s/step - loss: 0.2603 - accuracy: 0.8928 - val_loss: 0.2567 - val_accuracy: 0.8961\n",
      "Epoch 50/55\n",
      "8/8 [==============================] - 15s 2s/step - loss: 0.2601 - accuracy: 0.8930 - val_loss: 0.2566 - val_accuracy: 0.8960\n",
      "Epoch 51/55\n",
      "8/8 [==============================] - 15s 2s/step - loss: 0.2611 - accuracy: 0.8922 - val_loss: 0.2548 - val_accuracy: 0.8965\n",
      "Epoch 52/55\n",
      "8/8 [==============================] - 15s 2s/step - loss: 0.2592 - accuracy: 0.8931 - val_loss: 0.2546 - val_accuracy: 0.8961\n",
      "Epoch 53/55\n",
      "8/8 [==============================] - 14s 2s/step - loss: 0.2593 - accuracy: 0.8928 - val_loss: 0.2540 - val_accuracy: 0.8962\n",
      "Epoch 54/55\n",
      "8/8 [==============================] - 15s 2s/step - loss: 0.2586 - accuracy: 0.8931 - val_loss: 0.2549 - val_accuracy: 0.8960\n",
      "Epoch 55/55\n",
      "8/8 [==============================] - 12s 2s/step - loss: 0.2590 - accuracy: 0.8930 - val_loss: 0.2538 - val_accuracy: 0.8961\n"
     ]
    }
   ],
   "source": [
    "history = model.fit(dict(X_train), target, validation_split=0.2, epochs=55, batch_size=50000)"
   ]
  },
  {
   "cell_type": "code",
   "execution_count": 16,
   "id": "b1f8a94d",
   "metadata": {
    "execution": {
     "iopub.execute_input": "2023-02-14T19:16:08.953285Z",
     "iopub.status.busy": "2023-02-14T19:16:08.952810Z",
     "iopub.status.idle": "2023-02-14T19:16:09.541923Z",
     "shell.execute_reply": "2023-02-14T19:16:09.540809Z"
    },
    "papermill": {
     "duration": 0.638706,
     "end_time": "2023-02-14T19:16:09.544471",
     "exception": false,
     "start_time": "2023-02-14T19:16:08.905765",
     "status": "completed"
    },
    "tags": []
   },
   "outputs": [
    {
     "data": {
      "text/plain": [
       "77560"
      ]
     },
     "execution_count": 16,
     "metadata": {},
     "output_type": "execute_result"
    }
   ],
   "source": [
    "del X_train, target\n",
    "gc.collect()"
   ]
  },
  {
   "cell_type": "markdown",
   "id": "12c010d0",
   "metadata": {
    "papermill": {
     "duration": 0.040091,
     "end_time": "2023-02-14T19:16:09.625496",
     "exception": false,
     "start_time": "2023-02-14T19:16:09.585405",
     "status": "completed"
    },
    "tags": []
   },
   "source": [
    "## Loss and accuracy plots"
   ]
  },
  {
   "cell_type": "code",
   "execution_count": 17,
   "id": "9dc650f1",
   "metadata": {
    "execution": {
     "iopub.execute_input": "2023-02-14T19:16:09.708982Z",
     "iopub.status.busy": "2023-02-14T19:16:09.708520Z",
     "iopub.status.idle": "2023-02-14T19:16:09.960929Z",
     "shell.execute_reply": "2023-02-14T19:16:09.959751Z"
    },
    "jupyter": {
     "source_hidden": true
    },
    "papermill": {
     "duration": 0.297327,
     "end_time": "2023-02-14T19:16:09.963610",
     "exception": false,
     "start_time": "2023-02-14T19:16:09.666283",
     "status": "completed"
    },
    "tags": []
   },
   "outputs": [
    {
     "data": {
      "image/png": "[encoded data removed]",
      "text/plain": [
       "<Figure size 432x288 with 1 Axes>"
      ]
     },
     "metadata": {
      "needs_background": "light"
     },
     "output_type": "display_data"
    }
   ],
   "source": [
    "plt.plot(history.history['val_accuracy'])\n",
    "plt.plot(history.history['accuracy'])\n",
    "plt.title(\"Accuracy\")\n",
    "plt.legend([\"Val\", \"Train\"])\n",
    "plt.show()"
   ]
  },
  {
   "cell_type": "code",
   "execution_count": 18,
   "id": "a079133b",
   "metadata": {
    "execution": {
     "iopub.execute_input": "2023-02-14T19:16:10.047457Z",
     "iopub.status.busy": "2023-02-14T19:16:10.047017Z",
     "iopub.status.idle": "2023-02-14T19:16:10.239696Z",
     "shell.execute_reply": "2023-02-14T19:16:10.238331Z"
    },
    "jupyter": {
     "source_hidden": true
    },
    "papermill": {
     "duration": 0.237953,
     "end_time": "2023-02-14T19:16:10.242456",
     "exception": false,
     "start_time": "2023-02-14T19:16:10.004503",
     "status": "completed"
    },
    "tags": []
   },
   "outputs": [
    {
     "data": {
      "image/png": "[encoded data removed]",
      "text/plain": [
       "<Figure size 432x288 with 1 Axes>"
      ]
     },
     "metadata": {
      "needs_background": "light"
     },
     "output_type": "display_data"
    }
   ],
   "source": [
    "plt.plot(history.history['val_loss'])\n",
    "plt.plot(history.history['loss'])\n",
    "plt.title(\"Loss\")\n",
    "plt.legend([\"Val\", \"Train\"])\n",
    "plt.show()"
   ]
  },
  {
   "cell_type": "markdown",
   "id": "d2fa2d19",
   "metadata": {
    "papermill": {
     "duration": 0.041772,
     "end_time": "2023-02-14T19:16:10.326747",
     "exception": false,
     "start_time": "2023-02-14T19:16:10.284975",
     "status": "completed"
    },
    "tags": []
   },
   "source": [
    "## Save model and predict on test set"
   ]
  },
  {
   "cell_type": "code",
   "execution_count": 19,
   "id": "56cd56bc",
   "metadata": {
    "execution": {
     "iopub.execute_input": "2023-02-14T19:16:10.413394Z",
     "iopub.status.busy": "2023-02-14T19:16:10.411957Z",
     "iopub.status.idle": "2023-02-14T19:16:11.138204Z",
     "shell.execute_reply": "2023-02-14T19:16:11.137095Z"
    },
    "papermill": {
     "duration": 0.772305,
     "end_time": "2023-02-14T19:16:11.140881",
     "exception": false,
     "start_time": "2023-02-14T19:16:10.368576",
     "status": "completed"
    },
    "tags": []
   },
   "outputs": [],
   "source": [
    "model.save('shallow_nn_agg.h5')"
   ]
  },
  {
   "cell_type": "code",
   "execution_count": 20,
   "id": "36406c64",
   "metadata": {
    "execution": {
     "iopub.execute_input": "2023-02-14T19:16:11.226206Z",
     "iopub.status.busy": "2023-02-14T19:16:11.225756Z",
     "iopub.status.idle": "2023-02-14T19:32:00.972468Z",
     "shell.execute_reply": "2023-02-14T19:32:00.971293Z"
    },
    "papermill": {
     "duration": 949.793375,
     "end_time": "2023-02-14T19:32:00.975354",
     "exception": false,
     "start_time": "2023-02-14T19:16:11.181979",
     "status": "completed"
    },
    "tags": []
   },
   "outputs": [
    {
     "name": "stdout",
     "output_type": "stream",
     "text": [
      "185/185 [==============================] - 29s 104ms/step\n"
     ]
    }
   ],
   "source": [
    "X_test = pd.read_pickle('/kaggle/input/amex-imputed-aggregate-data/X_test_agg.pkl', compression='gzip')\n",
    "\n",
    "submission = pd.DataFrame(model.predict(dict(X_test), batch_size=5000, verbose=1), index=X_test.index, columns=['prediction'])\n",
    "\n",
    "# index needs to be removed from submission csv\n",
    "submission = submission.reset_index()\n",
    "submission.to_csv('shallow_nn_submission.csv', index=False)"
   ]
  },
  {
   "cell_type": "code",
   "execution_count": null,
   "id": "749af30c",
   "metadata": {
    "papermill": {
     "duration": 0.054944,
     "end_time": "2023-02-14T19:32:01.089190",
     "exception": false,
     "start_time": "2023-02-14T19:32:01.034246",
     "status": "completed"
    },
    "tags": []
   },
   "outputs": [],
   "source": []
  }
 ],
 "metadata": {
  "kernelspec": {
   "display_name": "Python 3",
   "language": "python",
   "name": "python3"
  },
  "language_info": {
   "codemirror_mode": {
    "name": "ipython",
    "version": 3
   },
   "file_extension": ".py",
   "mimetype": "text/x-python",
   "name": "python",
   "nbconvert_exporter": "python",
   "pygments_lexer": "ipython3",
   "version": "3.7.12"
  },
  "papermill": {
   "default_parameters": {},
   "duration": 2708.241546,
   "end_time": "2023-02-14T19:32:04.845387",
   "environment_variables": {},
   "exception": null,
   "input_path": "__notebook__.ipynb",
   "output_path": "__notebook__.ipynb",
   "parameters": {},
   "start_time": "2023-02-14T18:46:56.603841",
   "version": "2.3.4"
  }
 },
 "nbformat": 4,
 "nbformat_minor": 5
}
