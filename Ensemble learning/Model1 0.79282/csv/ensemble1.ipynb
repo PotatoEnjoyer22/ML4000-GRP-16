{
 "cells": [
  {
   "cell_type": "code",
   "execution_count": 1,
   "id": "f6c193e0",
   "metadata": {},
   "outputs": [],
   "source": [
    "import pandas as pd\n",
    "# List of submission files and their public scores\n",
    "files = [\n",
    "    'Logistic_regression_submission1.csv',\n",
    "    'Random_forest_classifier_submission.csv',\n",
    "    'Xgb_classification_tuned2_submission.csv',\n",
    "    'Shallow_nn_submission.csv',\n",
    "    'DNN_submission.csv',\n",
    "    'Logistic_regression_submission2.csv',\n",
    "    'Lgbm_sumbission.csv'\n",
    "]\n",
    "scores = [0.77783, 0.75896, 0.76803, 0.76586, 0.78412, 0.77890, 0.79185]\n"
   ]
  },
  {
   "cell_type": "markdown",
   "id": "d1f5ab4b",
   "metadata": {},
   "source": [
    "Calculate Normalized Weights"
   ]
  },
  {
   "cell_type": "code",
   "execution_count": 2,
   "id": "325e64ac",
   "metadata": {},
   "outputs": [
    {
     "name": "stdout",
     "output_type": "stream",
     "text": [
      "Weights: [0.14336426721714848, 0.13988627881044316, 0.14155799872823951, 0.14115803927712398, 0.14452359668605025, 0.14356148224603957, 0.145948337034955]\n"
     ]
    }
   ],
   "source": [
    "# Calculate weights proportional to public scores\n",
    "weights = [s / sum(scores) for s in scores]\n",
    "print(\"Weights:\", weights)\n"
   ]
  },
  {
   "cell_type": "markdown",
   "id": "47b21a51",
   "metadata": {},
   "source": [
    "Load all CSVs and Merge Predictions"
   ]
  },
  {
   "cell_type": "code",
   "execution_count": 3,
   "id": "cedc5228",
   "metadata": {},
   "outputs": [
    {
     "data": {
      "text/html": [
       "<div>\n",
       "<style scoped>\n",
       "    .dataframe tbody tr th:only-of-type {\n",
       "        vertical-align: middle;\n",
       "    }\n",
       "\n",
       "    .dataframe tbody tr th {\n",
       "        vertical-align: top;\n",
       "    }\n",
       "\n",
       "    .dataframe thead th {\n",
       "        text-align: right;\n",
       "    }\n",
       "</style>\n",
       "<table border=\"1\" class=\"dataframe\">\n",
       "  <thead>\n",
       "    <tr style=\"text-align: right;\">\n",
       "      <th></th>\n",
       "      <th>customer_ID</th>\n",
       "      <th>pred_0</th>\n",
       "      <th>pred_1</th>\n",
       "      <th>pred_2</th>\n",
       "      <th>pred_3</th>\n",
       "      <th>pred_4</th>\n",
       "      <th>pred_5</th>\n",
       "      <th>pred_6</th>\n",
       "    </tr>\n",
       "  </thead>\n",
       "  <tbody>\n",
       "    <tr>\n",
       "      <th>0</th>\n",
       "      <td>00000469ba478561f23a92a868bd366de6f6527a684c9a...</td>\n",
       "      <td>0.032622</td>\n",
       "      <td>0.087185</td>\n",
       "      <td>0.016209</td>\n",
       "      <td>0.060351</td>\n",
       "      <td>0.021039</td>\n",
       "      <td>0.030283</td>\n",
       "      <td>0.037085</td>\n",
       "    </tr>\n",
       "    <tr>\n",
       "      <th>1</th>\n",
       "      <td>00001bf2e77ff879fab36aa4fac689b9ba411dae63ae39...</td>\n",
       "      <td>0.004898</td>\n",
       "      <td>0.023524</td>\n",
       "      <td>0.000375</td>\n",
       "      <td>0.009108</td>\n",
       "      <td>0.001643</td>\n",
       "      <td>0.004709</td>\n",
       "      <td>0.001281</td>\n",
       "    </tr>\n",
       "    <tr>\n",
       "      <th>2</th>\n",
       "      <td>0000210045da4f81e5f122c6bde5c2a617d03eef67f82c...</td>\n",
       "      <td>0.041837</td>\n",
       "      <td>0.060922</td>\n",
       "      <td>0.022605</td>\n",
       "      <td>0.037364</td>\n",
       "      <td>0.013066</td>\n",
       "      <td>0.039337</td>\n",
       "      <td>0.036489</td>\n",
       "    </tr>\n",
       "    <tr>\n",
       "      <th>3</th>\n",
       "      <td>00003b41e58ede33b8daf61ab56d9952f17c9ad1c3976c...</td>\n",
       "      <td>0.240636</td>\n",
       "      <td>0.391251</td>\n",
       "      <td>0.187000</td>\n",
       "      <td>0.412774</td>\n",
       "      <td>0.286931</td>\n",
       "      <td>0.236548</td>\n",
       "      <td>0.293370</td>\n",
       "    </tr>\n",
       "    <tr>\n",
       "      <th>4</th>\n",
       "      <td>00004b22eaeeeb0ec976890c1d9bfc14fd9427e98c4ee9...</td>\n",
       "      <td>0.878939</td>\n",
       "      <td>0.685837</td>\n",
       "      <td>0.945189</td>\n",
       "      <td>0.860924</td>\n",
       "      <td>0.847833</td>\n",
       "      <td>0.880827</td>\n",
       "      <td>0.838887</td>\n",
       "    </tr>\n",
       "  </tbody>\n",
       "</table>\n",
       "</div>"
      ],
      "text/plain": [
       "                                         customer_ID    pred_0    pred_1  \\\n",
       "0  00000469ba478561f23a92a868bd366de6f6527a684c9a...  0.032622  0.087185   \n",
       "1  00001bf2e77ff879fab36aa4fac689b9ba411dae63ae39...  0.004898  0.023524   \n",
       "2  0000210045da4f81e5f122c6bde5c2a617d03eef67f82c...  0.041837  0.060922   \n",
       "3  00003b41e58ede33b8daf61ab56d9952f17c9ad1c3976c...  0.240636  0.391251   \n",
       "4  00004b22eaeeeb0ec976890c1d9bfc14fd9427e98c4ee9...  0.878939  0.685837   \n",
       "\n",
       "     pred_2    pred_3    pred_4    pred_5    pred_6  \n",
       "0  0.016209  0.060351  0.021039  0.030283  0.037085  \n",
       "1  0.000375  0.009108  0.001643  0.004709  0.001281  \n",
       "2  0.022605  0.037364  0.013066  0.039337  0.036489  \n",
       "3  0.187000  0.412774  0.286931  0.236548  0.293370  \n",
       "4  0.945189  0.860924  0.847833  0.880827  0.838887  "
      ]
     },
     "execution_count": 3,
     "metadata": {},
     "output_type": "execute_result"
    }
   ],
   "source": [
    "# Load all CSVs\n",
    "dfs = [pd.read_csv(f) for f in files]\n",
    "\n",
    "# Merge predictions on customer_ID\n",
    "ensemble_df = dfs[0][['customer_ID']].copy()\n",
    "for i, df in enumerate(dfs):\n",
    "    ensemble_df[f'pred_{i}'] = df['prediction']\n",
    "ensemble_df.head()\n"
   ]
  },
  {
   "cell_type": "code",
   "execution_count": 4,
   "id": "3807eeea",
   "metadata": {},
   "outputs": [],
   "source": [
    "# Compute weighted average\n",
    "ensemble_df['prediction'] = sum(\n",
    "    weights[i] * ensemble_df[f'pred_{i}'] for i in range(len(weights))\n",
    ")\n"
   ]
  },
  {
   "cell_type": "code",
   "execution_count": 5,
   "id": "70ee700e",
   "metadata": {},
   "outputs": [
    {
     "name": "stdout",
     "output_type": "stream",
     "text": [
      "Final submission saved as final_submission.csv\n"
     ]
    }
   ],
   "source": [
    "final_submission = ensemble_df[['customer_ID', 'prediction']]\n",
    "final_submission.to_csv('final_submission1.csv', index=False)\n",
    "print(\"Final submission saved as final_submission.csv\")\n"
   ]
  },
  {
   "cell_type": "markdown",
   "id": "ca1f0353",
   "metadata": {},
   "source": [
    "not very good, final_submission1.csv, only get a score of 0.78750."
   ]
  },
  {
   "cell_type": "markdown",
   "id": "07bc8378",
   "metadata": {},
   "source": [
    "try weighted Top models ensemble:"
   ]
  },
  {
   "cell_type": "code",
   "execution_count": 6,
   "id": "a2df7789",
   "metadata": {},
   "outputs": [],
   "source": [
    "import pandas as pd\n",
    "\n",
    "# Load only the top 2–3 model submissions\n",
    "lgbm = pd.read_csv('Lgbm_sumbission.csv')\n",
    "dnn = pd.read_csv('DNN_submission.csv')\n",
    "logreg = pd.read_csv('Logistic_regression_submission2.csv')\n",
    "\n",
    "# Merge on customer_ID\n",
    "df = lgbm[['customer_ID']].copy()\n",
    "df['lgbm'] = lgbm['prediction']\n",
    "df['dnn'] = dnn['prediction']\n",
    "df['logreg'] = logreg['prediction']\n",
    "\n",
    "# Heavily weight LGBM, then DNN, then logreg\n",
    "df['prediction'] = (\n",
    "    0.8 * df['lgbm'] +\n",
    "    0.15 * df['dnn'] +\n",
    "    0.05 * df['logreg']\n",
    ")\n",
    "\n",
    "# Save to CSV\n",
    "df[['customer_ID', 'prediction']].to_csv('final_submission2.csv', index=False)\n"
   ]
  }
 ],
 "metadata": {
  "kernelspec": {
   "display_name": "Python 3",
   "language": "python",
   "name": "python3"
  },
  "language_info": {
   "codemirror_mode": {
    "name": "ipython",
    "version": 3
   },
   "file_extension": ".py",
   "mimetype": "text/x-python",
   "name": "python",
   "nbconvert_exporter": "python",
   "pygments_lexer": "ipython3",
   "version": "3.10.8"
  }
 },
 "nbformat": 4,
 "nbformat_minor": 5
}
