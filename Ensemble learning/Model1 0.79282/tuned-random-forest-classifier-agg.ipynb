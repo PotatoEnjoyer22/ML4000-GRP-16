{
 "cells": [
  {
   "cell_type": "code",
   "execution_count": 1,
   "id": "26859474",
   "metadata": {
    "_cell_guid": "b1076dfc-b9ad-4769-8c92-a6c4dae69d19",
    "_uuid": "8f2839f25d086af736a60e9eeb907d3b93b6e0e5",
    "execution": {
     "iopub.execute_input": "2023-02-14T19:36:06.996876Z",
     "iopub.status.busy": "2023-02-14T19:36:06.996210Z",
     "iopub.status.idle": "2023-02-14T19:36:08.369131Z",
     "shell.execute_reply": "2023-02-14T19:36:08.367683Z"
    },
    "papermill": {
     "duration": 1.382081,
     "end_time": "2023-02-14T19:36:08.372384",
     "exception": false,
     "start_time": "2023-02-14T19:36:06.990303",
     "status": "completed"
    },
    "tags": []
   },
   "outputs": [],
   "source": [
    "import pickle\n",
    "import gc\n",
    "import pandas as pd\n",
    "from sklearn.ensemble import RandomForestClassifier\n",
    "from sklearn.metrics import classification_report\n",
    "from sklearn.model_selection import train_test_split"
   ]
  },
  {
   "cell_type": "code",
   "execution_count": 2,
   "id": "d71b5432",
   "metadata": {
    "execution": {
     "iopub.execute_input": "2023-02-14T19:36:08.380703Z",
     "iopub.status.busy": "2023-02-14T19:36:08.380284Z",
     "iopub.status.idle": "2023-02-14T19:36:34.676692Z",
     "shell.execute_reply": "2023-02-14T19:36:34.675386Z"
    },
    "papermill": {
     "duration": 26.303905,
     "end_time": "2023-02-14T19:36:34.679753",
     "exception": false,
     "start_time": "2023-02-14T19:36:08.375848",
     "status": "completed"
    },
    "tags": []
   },
   "outputs": [],
   "source": [
    "X = pd.read_pickle('/kaggle/input/amex-imputed-aggregate-data/X_train_agg.pkl', compression='gzip')\n",
    "y = pd.read_pickle('/kaggle/input/amex-imputed-aggregate-data/y_train_agg.pkl', compression='gzip')"
   ]
  },
  {
   "cell_type": "markdown",
   "id": "91974489",
   "metadata": {
    "papermill": {
     "duration": 0.002713,
     "end_time": "2023-02-14T19:36:34.685778",
     "exception": false,
     "start_time": "2023-02-14T19:36:34.683065",
     "status": "completed"
    },
    "tags": []
   },
   "source": [
    "Function to calculate competition's evaluation metric: https://www.kaggle.com/code/inversion/amex-competition-metric-python"
   ]
  },
  {
   "cell_type": "code",
   "execution_count": 3,
   "id": "6c391060",
   "metadata": {
    "execution": {
     "iopub.execute_input": "2023-02-14T19:36:34.694321Z",
     "iopub.status.busy": "2023-02-14T19:36:34.693010Z",
     "iopub.status.idle": "2023-02-14T19:36:34.708821Z",
     "shell.execute_reply": "2023-02-14T19:36:34.707630Z"
    },
    "jupyter": {
     "source_hidden": true
    },
    "papermill": {
     "duration": 0.022713,
     "end_time": "2023-02-14T19:36:34.711484",
     "exception": false,
     "start_time": "2023-02-14T19:36:34.688771",
     "status": "completed"
    },
    "tags": []
   },
   "outputs": [],
   "source": [
    "def amex_metric(y_true: pd.DataFrame, y_pred: pd.DataFrame) -> float:\n",
    "\n",
    "    def top_four_percent_captured(y_true: pd.DataFrame, y_pred: pd.DataFrame) -> float:\n",
    "        df = (pd.concat([y_true, y_pred], axis='columns')\n",
    "              .sort_values('prediction', ascending=False))\n",
    "        df['weight'] = df['target'].apply(lambda x: 20 if x==0 else 1)\n",
    "        four_pct_cutoff = int(0.04 * df['weight'].sum())\n",
    "        df['weight_cumsum'] = df['weight'].cumsum()\n",
    "        df_cutoff = df.loc[df['weight_cumsum'] <= four_pct_cutoff]\n",
    "        return (df_cutoff['target'] == 1).sum() / (df['target'] == 1).sum()\n",
    "        \n",
    "    def weighted_gini(y_true: pd.DataFrame, y_pred: pd.DataFrame) -> float:\n",
    "        df = (pd.concat([y_true, y_pred], axis='columns')\n",
    "              .sort_values('prediction', ascending=False))\n",
    "        df['weight'] = df['target'].apply(lambda x: 20 if x==0 else 1)\n",
    "        df['random'] = (df['weight'] / df['weight'].sum()).cumsum()\n",
    "        total_pos = (df['target'] * df['weight']).sum()\n",
    "        df['cum_pos_found'] = (df['target'] * df['weight']).cumsum()\n",
    "        df['lorentz'] = df['cum_pos_found'] / total_pos\n",
    "        df['gini'] = (df['lorentz'] - df['random']) * df['weight']\n",
    "        return df['gini'].sum()\n",
    "\n",
    "    def normalized_weighted_gini(y_true: pd.DataFrame, y_pred: pd.DataFrame) -> float:\n",
    "        y_true_pred = y_true.rename(columns={'target': 'prediction'})\n",
    "        return weighted_gini(y_true, y_pred) / weighted_gini(y_true, y_true_pred)\n",
    "\n",
    "    g = normalized_weighted_gini(y_true, y_pred)\n",
    "    d = top_four_percent_captured(y_true, y_pred)\n",
    "\n",
    "    return 0.5 * (g + d)"
   ]
  },
  {
   "cell_type": "markdown",
   "id": "3eca52a1",
   "metadata": {
    "papermill": {
     "duration": 0.002699,
     "end_time": "2023-02-14T19:36:34.717295",
     "exception": false,
     "start_time": "2023-02-14T19:36:34.714596",
     "status": "completed"
    },
    "tags": []
   },
   "source": [
    "## Generating the model\n",
    "\n",
    "Tuning some of the hyperparameters for RandomForestClassifier() like criterion, max_features, and max_leaf_nodes either didn't significantly improve the performance or made the train time so long that it wasn't practical. Using a max_depth of 20 and validation split of 20% improved the results the best. However, if we had more time we might try using a RandomizedSearchCV to generate the best hyperparameters. "
   ]
  },
  {
   "cell_type": "code",
   "execution_count": 4,
   "id": "3a0b9427",
   "metadata": {
    "execution": {
     "iopub.execute_input": "2023-02-14T19:36:34.724691Z",
     "iopub.status.busy": "2023-02-14T19:36:34.724275Z",
     "iopub.status.idle": "2023-02-14T20:31:13.944951Z",
     "shell.execute_reply": "2023-02-14T20:31:13.943916Z"
    },
    "papermill": {
     "duration": 3279.230457,
     "end_time": "2023-02-14T20:31:13.950656",
     "exception": false,
     "start_time": "2023-02-14T19:36:34.720199",
     "status": "completed"
    },
    "tags": []
   },
   "outputs": [
    {
     "name": "stdout",
     "output_type": "stream",
     "text": [
      "M = 0.7565887303916976\n",
      "M = 0.761545259608168\n",
      "\n",
      "               precision    recall  f1-score   support\n",
      "\n",
      "           0       0.93      0.93      0.93     67899\n",
      "           1       0.80      0.79      0.80     23884\n",
      "\n",
      "    accuracy                           0.89     91783\n",
      "   macro avg       0.86      0.86      0.86     91783\n",
      "weighted avg       0.89      0.89      0.89     91783\n",
      "\n"
     ]
    }
   ],
   "source": [
    "m_score = 0\n",
    "target_m_score = 0.76\n",
    "final_model = None\n",
    "\n",
    "# loop through different iterations of RandomForestClassifier() model until a model with expected M score is produced\n",
    "while m_score < target_m_score:\n",
    "    # add validation with train_test_split since aggregate data is not time series based\n",
    "    X_train, X_val, y_train, y_val = train_test_split(X, y, test_size=.2)\n",
    "    \n",
    "    model = RandomForestClassifier(max_depth=20)\n",
    "    model = model.fit(X_train, y_train)\n",
    "    \n",
    "    # use predict_proba() for M score and predict() for classification_report()\n",
    "    proba_preds = model.predict_proba(X_val)[:, 1]\n",
    "    preds = model.predict(X_val)\n",
    "    \n",
    "    # calculate M score on validation set \n",
    "    m_score = amex_metric(pd.DataFrame(y_val), pd.DataFrame(proba_preds, index=y_val.index, columns=[\"prediction\"]))\n",
    "    final_model = model\n",
    "    \n",
    "    print(f'M = {m_score}')\n",
    "    \n",
    "    # show classification report for final model \n",
    "    if m_score >= target_m_score:\n",
    "        print('\\n', classification_report(y_val, preds))"
   ]
  },
  {
   "cell_type": "markdown",
   "id": "7625be16",
   "metadata": {
    "papermill": {
     "duration": 0.002873,
     "end_time": "2023-02-14T20:31:13.956600",
     "exception": false,
     "start_time": "2023-02-14T20:31:13.953727",
     "status": "completed"
    },
    "tags": []
   },
   "source": [
    "## Saving and using the model to predict on test set "
   ]
  },
  {
   "cell_type": "code",
   "execution_count": 5,
   "id": "5518e380",
   "metadata": {
    "execution": {
     "iopub.execute_input": "2023-02-14T20:31:13.964332Z",
     "iopub.status.busy": "2023-02-14T20:31:13.963900Z",
     "iopub.status.idle": "2023-02-14T20:31:14.144618Z",
     "shell.execute_reply": "2023-02-14T20:31:14.143548Z"
    },
    "papermill": {
     "duration": 0.187764,
     "end_time": "2023-02-14T20:31:14.147329",
     "exception": false,
     "start_time": "2023-02-14T20:31:13.959565",
     "status": "completed"
    },
    "tags": []
   },
   "outputs": [],
   "source": [
    "pickle.dump(final_model, open('random_forest_classifier_model.sav', 'wb'))"
   ]
  },
  {
   "cell_type": "code",
   "execution_count": 6,
   "id": "0644ebd5",
   "metadata": {
    "execution": {
     "iopub.execute_input": "2023-02-14T20:31:14.155768Z",
     "iopub.status.busy": "2023-02-14T20:31:14.155364Z",
     "iopub.status.idle": "2023-02-14T20:32:59.936802Z",
     "shell.execute_reply": "2023-02-14T20:32:59.935544Z"
    },
    "papermill": {
     "duration": 105.789296,
     "end_time": "2023-02-14T20:32:59.939876",
     "exception": false,
     "start_time": "2023-02-14T20:31:14.150580",
     "status": "completed"
    },
    "tags": []
   },
   "outputs": [],
   "source": [
    "X_test = pd.read_pickle('/kaggle/input/amex-imputed-aggregate-data/X_test_agg.pkl', compression='gzip')\n",
    "\n",
    "submission = pd.DataFrame(final_model.predict_proba(X_test)[:, 1], index=X_test.index, columns=['prediction'])\n",
    "\n",
    "# index needs to be removed from submission csv\n",
    "submission = submission.reset_index()\n",
    "submission.to_csv('random_forest_classifier_submission.csv', index=False)"
   ]
  }
 ],
 "metadata": {
  "kernelspec": {
   "display_name": "Python 3",
   "language": "python",
   "name": "python3"
  },
  "language_info": {
   "codemirror_mode": {
    "name": "ipython",
    "version": 3
   },
   "file_extension": ".py",
   "mimetype": "text/x-python",
   "name": "python",
   "nbconvert_exporter": "python",
   "pygments_lexer": "ipython3",
   "version": "3.7.12"
  },
  "papermill": {
   "default_parameters": {},
   "duration": 3424.463053,
   "end_time": "2023-02-14T20:33:01.277387",
   "environment_variables": {},
   "exception": null,
   "input_path": "__notebook__.ipynb",
   "output_path": "__notebook__.ipynb",
   "parameters": {},
   "start_time": "2023-02-14T19:35:56.814334",
   "version": "2.3.4"
  }
 },
 "nbformat": 4,
 "nbformat_minor": 5
}
