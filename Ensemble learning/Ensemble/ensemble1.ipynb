{
 "cells": [
  {
   "cell_type": "code",
   "execution_count": null,
   "id": "a2df7789",
   "metadata": {},
   "outputs": [],
   "source": [
    "import pandas as pd\n",
    "\n",
    "# Load only the top 2–3 model submissions\n",
    "model7 = pd.read_csv('Model7submission.csv')\n",
    "model8 = pd.read_csv('Model8test_lgbm_baseline_5fold_seed_blend.csv')\n",
    "model6 = pd.read_csv('Model6submission.csv')\n",
    "model5 = pd.read_csv('Model5submission_xgb.csv')\n",
    "model4 = pd.read_csv('Model4sub.csv')\n",
    "model3 = pd.read_csv('Model3submission.csv')\n",
    "model2 = pd.read_csv('Model2submission.csv')\n",
    "\n",
    "# Merge on customer_ID\n",
    "df = model7[['customer_ID']].copy()\n",
    "df['model7'] = model7['prediction']\n",
    "df['model8'] = model8['prediction']\n",
    "df['model6'] = model6['prediction']\n",
    "df['model5'] = model5['prediction']\n",
    "df['model4'] = model4['prediction']\n",
    "df['model3'] = model3['prediction']\n",
    "df['model2'] = model2['prediction']\n",
    "\n",
    "# Heavily weight LGBM, then DNN, then logreg\n",
    "df['prediction'] = (\n",
    "    # 0.3 * df['model2'] +\n",
    "    # 0.1 * df['model3'] +\n",
    "    # 0.5 * df['model4'] +\n",
    "    # 0.1 * df['model5'] +\n",
    "    # 0.2 * df['model6'] +\n",
    "    0.9 * df['model7'] +\n",
    "    0.1 * df['model8'] \n",
    "    # 0.1 * df['new0']\n",
    ")\n",
    "\n",
    "# Save to CSV\n",
    "df[['customer_ID', 'prediction']].to_csv('final_submission4.csv', index=False)\n"
   ]
  }
 ],
 "metadata": {
  "kernelspec": {
   "display_name": "Python 3",
   "language": "python",
   "name": "python3"
  },
  "language_info": {
   "codemirror_mode": {
    "name": "ipython",
    "version": 3
   },
   "file_extension": ".py",
   "mimetype": "text/x-python",
   "name": "python",
   "nbconvert_exporter": "python",
   "pygments_lexer": "ipython3",
   "version": "3.10.8"
  }
 },
 "nbformat": 4,
 "nbformat_minor": 5
}
