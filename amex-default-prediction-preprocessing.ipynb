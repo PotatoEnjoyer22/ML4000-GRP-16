{
 "cells": [
  {
   "cell_type": "code",
   "execution_count": 1,
   "metadata": {
    "execution": {
     "iopub.execute_input": "2025-04-15T10:34:29.424583Z",
     "iopub.status.busy": "2025-04-15T10:34:29.424329Z",
     "iopub.status.idle": "2025-04-15T10:34:31.656200Z",
     "shell.execute_reply": "2025-04-15T10:34:31.655608Z"
    }
   },
   "outputs": [
    {
     "name": "stdout",
     "output_type": "stream",
     "text": [
      "Requirement already satisfied: polars in ./venv/lib64/python3.9/site-packages (1.26.0)\r\n"
     ]
    },
    {
     "name": "stdout",
     "output_type": "stream",
     "text": [
      "Requirement already satisfied: pip in ./venv/lib/python3.9/site-packages (25.0.1)\r\n"
     ]
    }
   ],
   "source": [
    "#pip installations here\n",
    "!pip install polars\n",
    "!pip install --upgrade pip"
   ]
  },
  {
   "cell_type": "code",
   "execution_count": 2,
   "metadata": {
    "_cell_guid": "b1076dfc-b9ad-4769-8c92-a6c4dae69d19",
    "_uuid": "8f2839f25d086af736a60e9eeb907d3b93b6e0e5",
    "execution": {
     "iopub.execute_input": "2025-04-15T10:34:31.658625Z",
     "iopub.status.busy": "2025-04-15T10:34:31.658368Z",
     "iopub.status.idle": "2025-04-15T10:34:34.599970Z",
     "shell.execute_reply": "2025-04-15T10:34:34.599425Z"
    }
   },
   "outputs": [],
   "source": [
    "# This Python 3 environment comes with many helpful analytics libraries installed\n",
    "# It is defined by the kaggle/python Docker image: https://github.com/kaggle/docker-python\n",
    "# For example, here's several helpful packages to load\n",
    "\n",
    "import numpy as np # linear algebra\n",
    "#import pandas as pd # data processing, CSV file I/O (e.g. pd.read_csv)\n",
    "\n",
    "import polars as pl\n",
    "import matplotlib.pyplot as plt\n",
    "import seaborn as sns\n",
    "import pandas as pd\n",
    "\n",
    "# Input data files are available in the read-only \"../input/\" directory\n",
    "# For example, running this (by clicking run or pressing Shift+Enter) will list all files under the input directory\n",
    "\n",
    "import os\n",
    "for dirname, _, filenames in os.walk('/amex-dataset'):\n",
    "    for filename in filenames:\n",
    "        print(os.path.join(dirname, filename))\n",
    "\n",
    "# You can write up to 20GB to the current directory (/kaggle/working/) that gets preserved as output when you create a version using \"Save & Run All\" \n",
    "# You can also write temporary files to /kaggle/temp/, but they won't be saved outside of the current session"
   ]
  },
  {
   "cell_type": "markdown",
   "metadata": {},
   "source": [
    "# initializing variables"
   ]
  },
  {
   "cell_type": "code",
   "execution_count": 3,
   "metadata": {
    "execution": {
     "iopub.execute_input": "2025-04-15T10:34:34.602368Z",
     "iopub.status.busy": "2025-04-15T10:34:34.602067Z",
     "iopub.status.idle": "2025-04-15T10:34:34.605230Z",
     "shell.execute_reply": "2025-04-15T10:34:34.604840Z"
    }
   },
   "outputs": [],
   "source": [
    "# CONSTANTS\n",
    "MISSINGNESS_THRESHOLD = 0.99\n",
    "correlation_threshold=0.9\n",
    "point_biserial_threshold=0.01\n",
    "stat_sig=0.05\n",
    "\n",
    "# List of specified categorical columns\n",
    "categorical_columns = ['B_30', 'B_38', 'D_114', 'D_116', 'D_117', 'D_120', 'D_126', 'D_63', 'D_64', 'D_66', 'D_68','customer_ID','S_2']"
   ]
  },
  {
   "cell_type": "markdown",
   "metadata": {},
   "source": [
    "# Reading training data and identifying important columns"
   ]
  },
  {
   "cell_type": "code",
   "execution_count": 4,
   "metadata": {
    "execution": {
     "iopub.execute_input": "2025-04-15T10:34:34.606880Z",
     "iopub.status.busy": "2025-04-15T10:34:34.606659Z",
     "iopub.status.idle": "2025-04-15T10:37:14.044765Z",
     "shell.execute_reply": "2025-04-15T10:37:14.044109Z"
    }
   },
   "outputs": [
    {
     "name": "stdout",
     "output_type": "stream",
     "text": [
      "Index(['customer_ID', 'S_2', 'P_2', 'D_39', 'B_1', 'B_2', 'R_1', 'S_3', 'D_41',\n",
      "       'B_3',\n",
      "       ...\n",
      "       'D_136', 'D_137', 'D_138', 'D_139', 'D_140', 'D_141', 'D_142', 'D_143',\n",
      "       'D_144', 'D_145'],\n",
      "      dtype='object', length=190)\n"
     ]
    }
   ],
   "source": [
    "# Read the CSV \n",
    "df_train = pd.read_csv('train_data.csv')\n",
    "print(df_train.columns)"
   ]
  },
  {
   "cell_type": "code",
   "execution_count": 5,
   "metadata": {
    "execution": {
     "iopub.execute_input": "2025-04-15T10:37:14.047023Z",
     "iopub.status.busy": "2025-04-15T10:37:14.046700Z",
     "iopub.status.idle": "2025-04-15T10:37:14.053196Z",
     "shell.execute_reply": "2025-04-15T10:37:14.052778Z"
    }
   },
   "outputs": [
    {
     "data": {
      "text/plain": [
       "'pd.set_option(\\'display.max_rows\\', None)\\n\\n# Create DataFrame with column names and data types\\ndf_dtypes = pd.DataFrame({\"Column Name\": df_train.columns, \"Data Type\": df_train.dtypes})\\n\\n# Print full DataFrame\\nprint(df_dtypes)\\n\\n# Reset display option if needed\\npd.reset_option(\\'display.max_rows\\')'"
      ]
     },
     "execution_count": 5,
     "metadata": {},
     "output_type": "execute_result"
    }
   ],
   "source": [
    "#show all data \n",
    "# Ensure all rows are printed\n",
    "\"\"\"pd.set_option('display.max_rows', None)\n",
    "\n",
    "# Create DataFrame with column names and data types\n",
    "df_dtypes = pd.DataFrame({\"Column Name\": df_train.columns, \"Data Type\": df_train.dtypes})\n",
    "\n",
    "# Print full DataFrame\n",
    "print(df_dtypes)\n",
    "\n",
    "# Reset display option if needed\n",
    "pd.reset_option('display.max_rows')\"\"\""
   ]
  },
  {
   "cell_type": "code",
   "execution_count": 6,
   "metadata": {
    "execution": {
     "iopub.execute_input": "2025-04-15T10:37:14.054981Z",
     "iopub.status.busy": "2025-04-15T10:37:14.054733Z",
     "iopub.status.idle": "2025-04-15T10:37:15.462858Z",
     "shell.execute_reply": "2025-04-15T10:37:15.462363Z"
    }
   },
   "outputs": [
    {
     "name": "stdout",
     "output_type": "stream",
     "text": [
      "Column: B_30\n",
      "[ 0.  2.  1. nan]\n",
      "--------------------------------------------------\n",
      "Column: B_38\n",
      "[ 2.  1.  3.  5.  6.  7.  4. nan]\n",
      "--------------------------------------------------\n",
      "Column: D_114\n",
      "[ 1.  0. nan]\n",
      "--------------------------------------------------\n",
      "Column: D_116\n",
      "[ 0. nan  1.]\n",
      "--------------------------------------------------\n",
      "Column: D_117\n"
     ]
    },
    {
     "name": "stdout",
     "output_type": "stream",
     "text": [
      "[ 4. -1.  6.  2.  1. nan  3.  5.]\n",
      "--------------------------------------------------\n",
      "Column: D_120\n"
     ]
    },
    {
     "name": "stdout",
     "output_type": "stream",
     "text": [
      "[ 0.  1. nan]\n",
      "--------------------------------------------------\n",
      "Column: D_126\n",
      "[ 1. nan  0. -1.]\n",
      "--------------------------------------------------\n",
      "Column: D_63\n"
     ]
    },
    {
     "name": "stdout",
     "output_type": "stream",
     "text": [
      "['CR' 'CO' 'CL' 'XZ' 'XM' 'XL']\n",
      "--------------------------------------------------\n",
      "Column: D_64\n",
      "['O' 'R' nan 'U' '-1']\n",
      "--------------------------------------------------\n",
      "Column: D_66\n",
      "[nan  1.  0.]\n",
      "--------------------------------------------------\n",
      "Column: D_68\n",
      "[ 6.  2.  3. nan  5.  4.  0.  1.]\n",
      "--------------------------------------------------\n",
      "Column: customer_ID\n"
     ]
    },
    {
     "name": "stdout",
     "output_type": "stream",
     "text": [
      "['0000099d6bd597052cdcda90ffabf56573fe9d7c79be5fbac11a8ed792feb62a'\n",
      " '00000fd6641609c6ece5454664794f0340ad84dddce9a267a310b5ae68e9d8e5'\n",
      " '00001b22f846c82c51f6e3958ccd81970162bae8b007e80662ef27519fcc18c1' ...\n",
      " 'ffff9984b999fccb2b6127635ed0736dda94e544e67e026eee4d20f680639ff6'\n",
      " 'ffffa5c46bc8de74f5a4554e74e239c8dee6b9baf388145b2c3d01967fcce461'\n",
      " 'fffff1d38b785cef84adeace64f8f83db3a0c31e8d92eaba8b115f71cab04681']\n",
      "--------------------------------------------------\n",
      "Column: S_2\n"
     ]
    },
    {
     "name": "stdout",
     "output_type": "stream",
     "text": [
      "['2017-03-09' '2017-04-07' '2017-05-28' '2017-06-13' '2017-07-16'\n",
      " '2017-08-04' '2017-09-18' '2017-10-08' '2017-11-20' '2017-12-04'\n",
      " '2018-01-11' '2018-02-21' '2018-03-13' '2017-03-01' '2017-04-16'\n",
      " '2017-05-07' '2017-06-25' '2017-07-30' '2017-08-19' '2017-09-15'\n",
      " '2017-10-20' '2017-11-24' '2017-12-29' '2018-01-26' '2018-02-06'\n",
      " '2018-03-25' '2017-03-11' '2017-04-11' '2017-05-12' '2017-06-10'\n",
      " '2017-07-12' '2017-08-12' '2017-09-11' '2017-10-12' '2017-11-11'\n",
      " '2017-12-12' '2018-01-12' '2018-02-09' '2018-03-12' '2017-03-31'\n",
      " '2017-04-21' '2017-05-29' '2017-06-24' '2017-08-06' '2017-10-23'\n",
      " '2017-11-25' '2018-01-18' '2018-02-03' '2018-03-29' '2017-03-30'\n",
      " '2017-04-22' '2017-05-30' '2017-06-22' '2017-07-22' '2017-08-07'\n",
      " '2017-09-22' '2017-10-29' '2017-11-29' '2017-12-30' '2018-01-30'\n",
      " '2018-02-27' '2018-03-30' '2017-03-19' '2017-04-28' '2017-05-19'\n",
      " '2017-09-21' '2017-10-26' '2017-11-08' '2018-02-11' '2018-03-19'\n",
      " '2017-07-19' '2017-08-09' '2017-09-06' '2017-10-15' '2017-11-10'\n",
      " '2017-12-19' '2017-03-25' '2017-04-23' '2017-05-23' '2017-06-02'\n",
      " '2017-07-23' '2017-08-26' '2017-09-26' '2017-11-23' '2017-12-23'\n",
      " '2018-01-23' '2018-02-23' '2018-03-23' '2017-03-15' '2017-04-14'\n",
      " '2017-05-15' '2017-06-14' '2017-07-15' '2017-08-15' '2017-09-14'\n",
      " '2017-10-14' '2017-11-14' '2017-12-17' '2018-01-17' '2018-02-05'\n",
      " '2018-03-01' '2017-03-17' '2017-04-15' '2017-05-17' '2017-06-16'\n",
      " '2017-07-17' '2017-08-17' '2017-09-16' '2017-10-17' '2017-11-16'\n",
      " '2017-12-16' '2018-01-19' '2018-02-02' '2018-03-16' '2018-01-10'\n",
      " '2018-02-22' '2017-05-13' '2017-06-12' '2017-07-01' '2017-08-18'\n",
      " '2017-09-09' '2017-10-02' '2017-11-13' '2017-12-21' '2018-01-14'\n",
      " '2018-02-10' '2017-03-27' '2017-05-11' '2017-06-19' '2017-09-19'\n",
      " '2017-11-19' '2017-12-13' '2018-02-19' '2018-03-10' '2017-03-20'\n",
      " '2017-04-20' '2017-05-14' '2017-06-11' '2017-07-29' '2017-09-20'\n",
      " '2017-11-15' '2018-01-27' '2018-03-26' '2017-03-07' '2017-04-03'\n",
      " '2017-05-18' '2017-07-09' '2017-08-02' '2017-10-11' '2017-11-09'\n",
      " '2017-12-28' '2018-02-17' '2018-03-28' '2017-03-16' '2017-05-16'\n",
      " '2017-06-30' '2017-07-28' '2017-08-10' '2018-01-03' '2017-04-18'\n",
      " '2017-06-17' '2017-10-19' '2017-11-21' '2018-01-01' '2018-02-16'\n",
      " '2017-04-25' '2017-05-26' '2017-07-26' '2017-08-21' '2017-09-25'\n",
      " '2017-10-21' '2017-12-14' '2018-01-02' '2018-03-21' '2017-03-24'\n",
      " '2017-08-27' '2017-09-29' '2018-02-14' '2018-03-27' '2017-03-18'\n",
      " '2017-05-21' '2017-06-18' '2017-09-03' '2017-11-06' '2017-12-15'\n",
      " '2018-01-22' '2018-02-04' '2017-07-07' '2017-08-23' '2017-10-07'\n",
      " '2017-11-22' '2018-02-12' '2017-03-28' '2017-04-10' '2017-05-31'\n",
      " '2017-06-09' '2017-07-25' '2017-08-20' '2017-09-27' '2017-10-22'\n",
      " '2017-11-01' '2018-02-08' '2018-03-22' '2017-05-27' '2017-08-08'\n",
      " '2017-09-05' '2017-10-30' '2017-12-08' '2018-01-20' '2018-02-28'\n",
      " '2018-03-11' '2017-03-10' '2017-04-12' '2017-07-18' '2017-09-12'\n",
      " '2017-10-18' '2017-11-17' '2017-12-18' '2018-01-25' '2018-02-15'\n",
      " '2018-03-17' '2017-05-08' '2017-06-07' '2017-07-11' '2017-11-07'\n",
      " '2018-01-08' '2018-03-08' '2017-08-16' '2017-09-28' '2017-10-28'\n",
      " '2017-12-10' '2018-01-31' '2018-03-02' '2017-09-04' '2017-10-27'\n",
      " '2017-11-05' '2017-12-27' '2018-03-09' '2017-04-27' '2017-05-09'\n",
      " '2017-08-13' '2018-01-13' '2017-05-24' '2017-06-27' '2017-07-31'\n",
      " '2017-08-25' '2017-11-27' '2017-12-02' '2018-02-24' '2017-03-14'\n",
      " '2017-07-06' '2017-09-08' '2017-10-24' '2018-02-13' '2017-03-22'\n",
      " '2017-04-04' '2017-07-27' '2018-02-18' '2017-12-25' '2018-03-24'\n",
      " '2017-04-29' '2017-08-14' '2017-10-13' '2017-12-03' '2018-01-06'\n",
      " '2018-02-26' '2017-08-29' '2017-12-11' '2017-05-06' '2017-07-24'\n",
      " '2017-08-11' '2017-10-04' '2018-01-09' '2017-04-02' '2017-06-21'\n",
      " '2017-12-01' '2017-06-04' '2017-10-09' '2017-12-20' '2017-03-04'\n",
      " '2017-05-04' '2017-06-03' '2017-07-04' '2017-11-04' '2018-01-04'\n",
      " '2018-03-03' '2017-08-31' '2018-01-16' '2017-03-23' '2017-05-05'\n",
      " '2017-09-01' '2018-03-05' '2017-05-10' '2017-06-23' '2018-01-15'\n",
      " '2018-03-15' '2017-11-03' '2018-02-20' '2017-03-03' '2017-05-03'\n",
      " '2017-07-03' '2017-08-03' '2017-09-02' '2017-10-03' '2017-07-14'\n",
      " '2017-10-31' '2018-01-21' '2017-03-12' '2017-04-05' '2017-08-22'\n",
      " '2017-12-24' '2018-01-24' '2017-05-22' '2017-09-23' '2017-03-13'\n",
      " '2017-07-13' '2017-05-01' '2017-06-15' '2017-07-10' '2017-08-28'\n",
      " '2017-03-08' '2017-06-05' '2018-03-04' '2017-04-26' '2017-06-20'\n",
      " '2018-03-07' '2017-07-08' '2017-10-16' '2017-12-06' '2017-04-17'\n",
      " '2017-12-05' '2017-04-30' '2017-06-08' '2017-09-30' '2018-02-01'\n",
      " '2017-07-21' '2018-02-25' '2017-09-13' '2017-06-28' '2017-10-25'\n",
      " '2018-01-07' '2018-03-06' '2017-09-17' '2017-10-06' '2017-05-25'\n",
      " '2017-12-07' '2017-11-18' '2017-03-29' '2017-04-08' '2017-06-26'\n",
      " '2017-10-10' '2017-11-30' '2017-04-19' '2017-08-05' '2017-09-10'\n",
      " '2017-11-26' '2018-01-29' '2017-10-05' '2017-06-29' '2017-07-05'\n",
      " '2018-03-14' '2017-07-02' '2017-09-24' '2017-12-22' '2017-07-20'\n",
      " '2017-03-21' '2017-05-20' '2017-06-01' '2018-03-20' '2017-03-06'\n",
      " '2017-12-26' '2017-08-24' '2017-11-12' '2018-01-28' '2018-02-07'\n",
      " '2017-11-02' '2017-05-02' '2018-03-18' '2017-03-05' '2017-12-31'\n",
      " '2017-06-06' '2018-01-05' '2017-04-09' '2017-11-28' '2017-09-07'\n",
      " '2017-12-09' '2017-10-01' '2017-08-30' '2017-03-02' '2017-04-01'\n",
      " '2017-03-26' '2017-08-01' '2017-04-13' '2018-03-31' '2017-04-24'\n",
      " '2017-04-06']\n",
      "--------------------------------------------------\n"
     ]
    }
   ],
   "source": [
    "#identify the unique values of the categorical columns\n",
    "# Loop through each column and print its unique values\n",
    "for col in categorical_columns:\n",
    "    if col in df_train.columns:  # Ensure the column exists in df_train\n",
    "        print(f\"Column: {col}\")\n",
    "        print(df_train[col].unique())  # Print unique values\n",
    "        print(\"-\" * 50)\n",
    "    else:\n",
    "        print(f\"Warning: Column '{col}' not found in df_train\")"
   ]
  },
  {
   "cell_type": "markdown",
   "metadata": {},
   "source": [
    "NOTE:\n",
    "\n",
    "train_data.csv Data types are mainly in float64 and string \n",
    "\n",
    "customerID: string \n",
    "\n",
    "S-2(date): string\n",
    "( we can see that the train statement dates ranges from \"2017-12-23\" to \"2018-03-14\" this show )\n",
    "\n",
    "categorical data colums:\n",
    "['B_30', 'B_38', 'D_114', 'D_116', 'D_117', 'D_120', 'D_126', 'D_63', 'D_64', 'D_66', 'D_68']\n",
    "note: D_63,D_64 : string\n",
    "\n",
    "\n"
   ]
  },
  {
   "cell_type": "code",
   "execution_count": 7,
   "metadata": {
    "execution": {
     "iopub.execute_input": "2025-04-15T10:37:15.464810Z",
     "iopub.status.busy": "2025-04-15T10:37:15.464545Z",
     "iopub.status.idle": "2025-04-15T10:37:21.601986Z",
     "shell.execute_reply": "2025-04-15T10:37:21.601474Z"
    }
   },
   "outputs": [
    {
     "data": {
      "image/png": "[encoded data removed]",
      "text/plain": [
       "<Figure size 1000x800 with 1 Axes>"
      ]
     },
     "metadata": {},
     "output_type": "display_data"
    },
    {
     "name": "stdout",
     "output_type": "stream",
     "text": [
      "Unique statement counts per customer:\n",
      "                                              customer_ID  statement_count\n",
      "458912  fffff1d38b785cef84adeace64f8f83db3a0c31e8d92ea...               13\n",
      "458873  fffac04d4779c019b73f555e7c969ddd8b05b1cd221271...               13\n",
      "458875  fffadb0b7f909848854778c7b4b3781430cff772bfcbdf...               13\n",
      "458877  fffb1641cf36f09a91daf551b8f9d8bfece9fa055b6f60...               13\n",
      "458878  fffb6886e0bfbb9bb719d153a1e41a780d107fc9190d0e...               13\n",
      "...                                                   ...              ...\n",
      "97      000eee12732c9c7b790870c556bc33339d6d17725cbeb4...                1\n",
      "427008  ee1255eae964507f5b517b26a351ac791c9d3f6a6604e6...                1\n",
      "169954  5e9f91b29a2c275e9b5d731641b14e14b8ca368fa4fdac...                1\n",
      "385858  d710a0c1036d13075144261797a3d791abafcb1dde4bd3...                1\n",
      "385370  d6c959576ef2ff04e9951e5c7823721616cc6829d9ec89...                1\n",
      "\n",
      "[458913 rows x 2 columns]\n",
      "\n",
      "Distribution table (statement_count vs. customer_count):\n",
      "    statement_count  customer_count\n",
      "0                 1            5120\n",
      "1                 2            6098\n",
      "2                 3            5778\n",
      "3                 4            4673\n",
      "4                 5            4671\n",
      "5                 6            5515\n",
      "6                 7            5198\n",
      "7                 8            6110\n",
      "8                 9            6411\n",
      "9                10            6721\n",
      "10               11            5961\n",
      "11               12           10623\n",
      "12               13          386034\n"
     ]
    }
   ],
   "source": [
    "# Convert 'S_2' to datetime format\n",
    "df_train[\"S_2\"] = pd.to_datetime(df_train[\"S_2\"], format=\"%Y-%m-%d\")\n",
    "\n",
    "# 1. Count UNIQUE statements per customer\n",
    "unique_counts = (\n",
    "    df_train.drop_duplicates(subset=[\"customer_ID\", \"S_2\"])  # Remove duplicate dates per customer\n",
    "    .groupby(\"customer_ID\")\n",
    "    .size()\n",
    "    .reset_index(name=\"statement_count\")\n",
    "    .sort_values(\"statement_count\", ascending=False)\n",
    ")\n",
    "\n",
    "\n",
    "# Count how many customers have each statement count\n",
    "count_distribution = (\n",
    "    unique_counts[\"statement_count\"]\n",
    "    .value_counts()\n",
    "    .sort_index()  # Ensure the x-axis order (1, 2, 3, ...)\n",
    "    .rename_axis(\"statement_count\")  # Name the index for clarity\n",
    "    .reset_index(name=\"customer_count\")\n",
    ")\n",
    "\n",
    "# 3. Plot a bar chart of the distribution\n",
    "plt.figure(figsize=(10, 8))\n",
    "bars = plt.bar(\n",
    "    count_distribution[\"statement_count\"].astype(str),  # x-axis labels as strings\n",
    "    count_distribution[\"customer_count\"],\n",
    "    color='steelblue'\n",
    ")\n",
    "\n",
    "# Annotate each bar with the customer count\n",
    "for bar in bars:\n",
    "    yval = bar.get_height()\n",
    "    plt.text(\n",
    "        bar.get_x() + bar.get_width() / 2, yval,\n",
    "        f'{int(yval):,}',  # Format number with comma separators\n",
    "        va='bottom', ha='center', fontsize=8\n",
    "    )\n",
    "\n",
    "plt.xlabel(\"Number of Unique Statements per Customer\")\n",
    "plt.ylabel(\"Number of Customers\")\n",
    "plt.title(\"Distribution of Unique Bank Statement Counts per Customer\")\n",
    "plt.grid(axis=\"y\", linestyle=\"--\", alpha=0.5)\n",
    "plt.tight_layout()\n",
    "\n",
    "# 4. Add a table with the distribution data below the chart\n",
    "plt.table(\n",
    "    cellText=count_distribution.values,\n",
    "    colLabels=count_distribution.columns,\n",
    "    loc=\"bottom\",\n",
    "    bbox=[0, -0.3, 1, 0.25]\n",
    ")\n",
    "\n",
    "plt.show()\n",
    "\n",
    "# Print raw distribution tables for reference\n",
    "print(\"Unique statement counts per customer:\")\n",
    "print(unique_counts)\n",
    "\n",
    "print(\"\\nDistribution table (statement_count vs. customer_count):\")\n",
    "print(count_distribution)"
   ]
  },
  {
   "cell_type": "markdown",
   "metadata": {},
   "source": [
    "# Missing values removal functions"
   ]
  },
  {
   "cell_type": "code",
   "execution_count": 8,
   "metadata": {
    "execution": {
     "iopub.execute_input": "2025-04-15T10:37:21.604255Z",
     "iopub.status.busy": "2025-04-15T10:37:21.604003Z",
     "iopub.status.idle": "2025-04-15T10:37:21.608325Z",
     "shell.execute_reply": "2025-04-15T10:37:21.607889Z"
    }
   },
   "outputs": [],
   "source": [
    "#gets the colums with 99% missing data\n",
    "def missing_columns(data):\n",
    "    missing_percentages = data.isnull().mean()\n",
    "    missing_columns = missing_percentages[missing_percentages > MISSINGNESS_THRESHOLD].index\n",
    "    return missing_columns\n",
    "    \n",
    "#removes colums with 99% of data missing ^takes colums from above function\n",
    "def drop_columns_with_many_missing_values_in_derived_dataset(data,base_columns_to_drop):\n",
    "  columns_to_drop=[]\n",
    "  for i in range(0,len(base_columns_to_drop)):\n",
    "    columns_to_drop.append(base_columns_to_drop[i]+'_')\n",
    "  columns_to_drop = [col for col in data.columns if (any(word in col for word in columns_to_drop) and (\"last\" not in col))]\n",
    "  data_filtered = data.drop(columns=columns_to_drop, errors='ignore')\n",
    "  return data_filtered"
   ]
  },
  {
   "cell_type": "markdown",
   "metadata": {},
   "source": [
    "# Handling missing colums"
   ]
  },
  {
   "cell_type": "code",
   "execution_count": 9,
   "metadata": {
    "execution": {
     "iopub.execute_input": "2025-04-15T10:37:21.610116Z",
     "iopub.status.busy": "2025-04-15T10:37:21.609881Z",
     "iopub.status.idle": "2025-04-15T10:37:23.609857Z",
     "shell.execute_reply": "2025-04-15T10:37:23.609414Z"
    }
   },
   "outputs": [
    {
     "data": {
      "text/plain": [
       "Index(['D_87', 'D_88', 'D_108', 'D_110', 'D_111', 'B_39'], dtype='object')"
      ]
     },
     "execution_count": 9,
     "metadata": {},
     "output_type": "execute_result"
    }
   ],
   "source": [
    "#show the bad cols\n",
    "list_of_bad_col = missing_columns(df_train)\n",
    "list_of_bad_col"
   ]
  },
  {
   "cell_type": "code",
   "execution_count": 10,
   "metadata": {
    "execution": {
     "iopub.execute_input": "2025-04-15T10:37:23.611737Z",
     "iopub.status.busy": "2025-04-15T10:37:23.611495Z",
     "iopub.status.idle": "2025-04-15T10:37:26.645106Z",
     "shell.execute_reply": "2025-04-15T10:37:26.644613Z"
    }
   },
   "outputs": [
    {
     "name": "stdout",
     "output_type": "stream",
     "text": [
      "Before dropping columns with 99% missing values: (5531451, 190)\n"
     ]
    },
    {
     "name": "stdout",
     "output_type": "stream",
     "text": [
      "After dropping columns with 99% missing values: (5531451, 190)\n"
     ]
    }
   ],
   "source": [
    "# removing the bad colums\n",
    "print(\"Before dropping columns with 99% missing values:\", df_train.shape)\n",
    "df_train = drop_columns_with_many_missing_values_in_derived_dataset(df_train,list_of_bad_col)\n",
    "print(\"After dropping columns with 99% missing values:\", df_train.shape)\n"
   ]
  },
  {
   "cell_type": "markdown",
   "metadata": {},
   "source": [
    "# aggregating new data"
   ]
  },
  {
   "cell_type": "code",
   "execution_count": 11,
   "metadata": {
    "execution": {
     "iopub.execute_input": "2025-04-15T10:37:26.647134Z",
     "iopub.status.busy": "2025-04-15T10:37:26.646876Z",
     "iopub.status.idle": "2025-04-15T10:37:26.655930Z",
     "shell.execute_reply": "2025-04-15T10:37:26.655523Z"
    }
   },
   "outputs": [],
   "source": [
    "def enhanced_feature_engineering(df_train):\n",
    "    \"\"\"\n",
    "    Performs comprehensive feature engineering on financial data.\n",
    "    \n",
    "    Args:\n",
    "        df: Input DataFrame containing financial features\n",
    "        \n",
    "    Returns:\n",
    "        DataFrame with original and engineered features\n",
    "    \"\"\"\n",
    "    # Data Cleaning\n",
    "    df_train = df_train.replace([np.inf, -np.inf], np.nan)\n",
    "    df_train = df_train.fillna(-127)  # Consider using a more meaningful null placeholder\n",
    "    \n",
    "    # Feature Identification\n",
    "    non_feature_cols = ['customer_ID', 'S_2', 'target']\n",
    "    num_features = [col for col in df_train.columns if col not in non_feature_cols]\n",
    "    \n",
    "    \n",
    "    # Numerical Transformations (now applies to all numerical features)\n",
    "    num_features = [col for col in num_features if col not in categorical_columns]\n",
    "    for col in num_features:\n",
    "        if df_train[col].dtype in ['float64', 'int64']:\n",
    "            # Skip log transform if negative values exist\n",
    "            if (df_train[col] >= 0).all():\n",
    "                df_train[f'{col}_log'] = np.log1p(df_train[col])\n",
    "    \n",
    "    # Feature Groupings (now includes all features, not just *_last)\n",
    "    P_columns = [col for col in num_features if col.startswith('P_')]\n",
    "    S_columns = [col for col in num_features if col.startswith('S_')]\n",
    "    B_columns = [col for col in num_features if col.startswith('B_')]\n",
    "    D_columns = [col for col in num_features if col.startswith('D_')]\n",
    "    R_columns = [col for col in num_features if col.startswith('R_')]\n",
    "    \n",
    "    # 6. Aggregate Features with safer calculations\n",
    "    df_train['total_payments'] = df_train[P_columns].sum(axis=1)\n",
    "    df_train['total_spending'] = df_train[S_columns].sum(axis=1)\n",
    "    df_train['total_balance'] = df_train[B_columns].sum(axis=1)\n",
    "    df_train['total_delinquency'] = df_train[D_columns].sum(axis=1)\n",
    "    df_train['total_risk'] = df_train[R_columns].sum(axis=1)\n",
    "    \n",
    "    # 7. Ratio Features with zero-division protection\n",
    "    epsilon = 1e-6\n",
    "    df_train['risk_to_payment_ratio'] = np.where(\n",
    "        df_train['total_payments'].abs() > epsilon,\n",
    "        df_train['total_risk'] / (df_train['total_payments'] + epsilon),\n",
    "        np.nan\n",
    "    )\n",
    "    df_train['delinquency_to_balance_ratio'] = np.where(\n",
    "        df_train['total_balance'].abs() > epsilon,\n",
    "        df_train['total_delinquency'] / (df_train['total_balance'] + epsilon),\n",
    "        np.nan\n",
    "    )\n",
    "    \n",
    "    # 8. Memory Optimization\n",
    "    for col in df_train.select_dtypes(['float64']).columns:\n",
    "        if col != \"customer_ID\":\n",
    "            df_train[col] = df_train[col].astype(np.float32)\n",
    "            \n",
    "    for col in df_train.select_dtypes(['int64']).columns:\n",
    "        if col != \"customer_ID\":\n",
    "            df_train[col] = df_train[col].astype(np.int32)\n",
    "    \n",
    "    print(f'Shape after feature engineering: {df_train.shape}')\n",
    "    print(f'Number of new features created: {len(df_train.columns) - len(non_feature_cols)}')\n",
    "    \n",
    "    return df_train"
   ]
  },
  {
   "cell_type": "code",
   "execution_count": 12,
   "metadata": {
    "execution": {
     "iopub.execute_input": "2025-04-15T10:37:26.657516Z",
     "iopub.status.busy": "2025-04-15T10:37:26.657275Z",
     "iopub.status.idle": "2025-04-15T10:38:20.589803Z",
     "shell.execute_reply": "2025-04-15T10:38:20.589181Z"
    }
   },
   "outputs": [
    {
     "name": "stdout",
     "output_type": "stream",
     "text": [
      "Shape after feature engineering: (5531451, 253)\n",
      "Number of new features created: 250\n"
     ]
    }
   ],
   "source": [
    "df_train = enhanced_feature_engineering(df_train)"
   ]
  },
  {
   "cell_type": "markdown",
   "metadata": {},
   "source": [
    "# Reducing number of features using correlation"
   ]
  },
  {
   "cell_type": "markdown",
   "metadata": {},
   "source": [
    "# *handling low correlation data*"
   ]
  },
  {
   "cell_type": "code",
   "execution_count": 13,
   "metadata": {
    "execution": {
     "iopub.execute_input": "2025-04-15T10:38:20.591938Z",
     "iopub.status.busy": "2025-04-15T10:38:20.591647Z",
     "iopub.status.idle": "2025-04-15T10:38:20.597368Z",
     "shell.execute_reply": "2025-04-15T10:38:20.596967Z"
    }
   },
   "outputs": [],
   "source": [
    "\n",
    "from scipy.stats import pointbiserialr\n",
    "\n",
    "def find_low_point_biserial_correlations_columns(df, target_column, category, suffix):\n",
    "\n",
    "    df.replace([np.inf, -np.inf], np.nan, inplace=True)\n",
    "    df.fillna(-127, inplace=True)\n",
    "\n",
    "\n",
    "    columns_to_see = [col for col in df.columns if (col.startswith(category) and col.endswith(suffix)) or col == target_column]\n",
    "    df = df[columns_to_see]\n",
    "\n",
    "    correlation_results = []\n",
    "\n",
    "\n",
    "    for col in columns_to_see:\n",
    "        if col != target_column:\n",
    "            correlation, p_value = pointbiserialr(df[target_column], df[col])\n",
    "            correlation_results.append((col, correlation, p_value))\n",
    "\n",
    "\n",
    "    correlation_df = pd.DataFrame(correlation_results, columns=['Feature', 'Point-Biserial Correlation', 'p-value'])\n",
    "\n",
    "\n",
    "    filtered_df = correlation_df[(correlation_df['Point-Biserial Correlation'].abs() < point_biserial_threshold) & (correlation_df['p-value'] < stat_sig)]\n",
    "\n",
    "\n",
    "    return filtered_df['Feature'].tolist()"
   ]
  },
  {
   "cell_type": "code",
   "execution_count": 14,
   "metadata": {
    "execution": {
     "iopub.execute_input": "2025-04-15T10:38:20.598856Z",
     "iopub.status.busy": "2025-04-15T10:38:20.598633Z",
     "iopub.status.idle": "2025-04-15T10:38:20.601184Z",
     "shell.execute_reply": "2025-04-15T10:38:20.600770Z"
    }
   },
   "outputs": [],
   "source": [
    "\n",
    "category= [\"B\",\"P\",\"S\",\"D\",\"R\"]\n",
    "suffix=['first', 'mean', 'std', 'min', 'max']"
   ]
  },
  {
   "cell_type": "code",
   "execution_count": 15,
   "metadata": {
    "execution": {
     "iopub.execute_input": "2025-04-15T10:38:20.602889Z",
     "iopub.status.busy": "2025-04-15T10:38:20.602578Z",
     "iopub.status.idle": "2025-04-15T10:38:20.605471Z",
     "shell.execute_reply": "2025-04-15T10:38:20.605065Z"
    }
   },
   "outputs": [],
   "source": [
    "\n",
    "def remove_low_correlation_columns(df):\n",
    "    all_cols_to_omit=[]\n",
    "    for c in category:\n",
    "        for s in suffix:\n",
    "            columns_to_omit=find_low_point_biserial_correlations_columns(df,\"target\",c,s)\n",
    "            all_cols_to_omit.append(columns_to_omit)\n",
    "    return all_cols_to_omit"
   ]
  },
  {
   "cell_type": "code",
   "execution_count": 16,
   "metadata": {
    "execution": {
     "iopub.execute_input": "2025-04-15T10:38:20.606971Z",
     "iopub.status.busy": "2025-04-15T10:38:20.606734Z",
     "iopub.status.idle": "2025-04-15T10:42:10.385819Z",
     "shell.execute_reply": "2025-04-15T10:42:10.384996Z"
    }
   },
   "outputs": [
    {
     "name": "stdout",
     "output_type": "stream",
     "text": [
      "Before dropping low correlation columns: (5531451, 253)\n"
     ]
    },
    {
     "name": "stdout",
     "output_type": "stream",
     "text": [
      "After dropping low correlation columns: (5531451, 253)\n"
     ]
    }
   ],
   "source": [
    "\n",
    "all_low_correlation_columns=remove_low_correlation_columns(df_train)\n",
    "print(\"Before dropping low correlation columns:\", df_train.shape)\n",
    "for l in all_low_correlation_columns:\n",
    "  df_train.drop(columns=l, errors='ignore',inplace=True)\n",
    "print(\"After dropping low correlation columns:\", df_train.shape)"
   ]
  },
  {
   "cell_type": "markdown",
   "metadata": {},
   "source": [
    "# *handling high correlated data*"
   ]
  },
  {
   "cell_type": "code",
   "execution_count": 17,
   "metadata": {
    "execution": {
     "iopub.execute_input": "2025-04-15T10:42:10.387989Z",
     "iopub.status.busy": "2025-04-15T10:42:10.387755Z",
     "iopub.status.idle": "2025-04-15T10:42:10.394634Z",
     "shell.execute_reply": "2025-04-15T10:42:10.394047Z"
    }
   },
   "outputs": [],
   "source": [
    "from scipy.stats import pearsonr\n",
    "\n",
    "def find_highly_correlated_columns(df, category, suffix):\n",
    "    # df=df.to_pandas()\n",
    "    df.replace([np.inf, -np.inf], np.nan, inplace=True)\n",
    "    df.fillna(-127, inplace=True)\n",
    "\n",
    "\n",
    "    numerical_columns = [col for col in df.columns if col.startswith(category) and col.endswith(suffix)]\n",
    "    df = df[numerical_columns]\n",
    "\n",
    "\n",
    "    correlation_matrix = df.corr(method='pearson').abs()\n",
    "\n",
    "\n",
    "    correlated_pairs = set()\n",
    "    columns_to_remove = set()\n",
    "\n",
    "    for i in range(len(correlation_matrix.columns)):\n",
    "        for j in range(i + 1, len(correlation_matrix.columns)):\n",
    "            if correlation_matrix.iloc[i, j] > correlation_threshold:\n",
    "                col1 = correlation_matrix.columns[i]\n",
    "                col2 = correlation_matrix.columns[j]\n",
    "\n",
    "\n",
    "                correlated_pairs.add((col1, col2))\n",
    "\n",
    "                columns_to_remove.add(col2)\n",
    "\n",
    "    return list(columns_to_remove)\n",
    "\n",
    "def remove_high_correlation_columns(df):\n",
    "    all_cols_to_omit=[]\n",
    "    for c in category:\n",
    "        for s in suffix:\n",
    "            columns_to_omit=find_highly_correlated_columns(df,c,s)\n",
    "            all_cols_to_omit.append(columns_to_omit)\n",
    "    return all_cols_to_omit"
   ]
  },
  {
   "cell_type": "code",
   "execution_count": 18,
   "metadata": {
    "execution": {
     "iopub.execute_input": "2025-04-15T10:42:10.396363Z",
     "iopub.status.busy": "2025-04-15T10:42:10.396121Z",
     "iopub.status.idle": "2025-04-15T10:45:54.249564Z",
     "shell.execute_reply": "2025-04-15T10:45:54.248842Z"
    }
   },
   "outputs": [
    {
     "name": "stdout",
     "output_type": "stream",
     "text": [
      "Before dropping high correlation columns: (5531451, 253)\n"
     ]
    },
    {
     "name": "stdout",
     "output_type": "stream",
     "text": [
      "After dropping high correlation columns: (5531451, 253)\n"
     ]
    }
   ],
   "source": [
    "\n",
    "all_high_correlation_columns=remove_high_correlation_columns(df_train)\n",
    "print(\"Before dropping high correlation columns:\", df_train.shape)\n",
    "for l in all_high_correlation_columns:\n",
    "  df_train.drop(columns=l, errors='ignore',inplace=True)\n",
    "print(\"After dropping high correlation columns:\", df_train.shape)"
   ]
  },
  {
   "cell_type": "markdown",
   "metadata": {},
   "source": [
    "test"
   ]
  },
  {
   "cell_type": "code",
   "execution_count": 19,
   "metadata": {
    "execution": {
     "iopub.execute_input": "2025-04-15T10:45:54.251973Z",
     "iopub.status.busy": "2025-04-15T10:45:54.251698Z",
     "iopub.status.idle": "2025-04-15T10:45:56.737538Z",
     "shell.execute_reply": "2025-04-15T10:45:56.736832Z"
    }
   },
   "outputs": [
    {
     "name": "stdout",
     "output_type": "stream",
     "text": [
      "                                   P_2      D_39       B_1       B_2  \\\n",
      "P_2                           1.000000  0.024467  0.015500  0.216751   \n",
      "D_39                          0.024467  1.000000  0.189364 -0.018619   \n",
      "B_1                           0.015500  0.189364  1.000000 -0.089572   \n",
      "B_2                           0.216751 -0.018619 -0.089572  1.000000   \n",
      "R_1                           0.014043  0.218970  0.237130 -0.040352   \n",
      "...                                ...       ...       ...       ...   \n",
      "total_balance                 0.175413  0.210604  0.328679  0.249785   \n",
      "total_delinquency             0.461538  0.098952  0.068751  0.152089   \n",
      "total_risk                    0.024108  0.057337  0.084047 -0.015309   \n",
      "risk_to_payment_ratio        -0.002322  0.054026 -0.005086 -0.001692   \n",
      "delinquency_to_balance_ratio -0.223049  0.091569  0.182306 -0.011551   \n",
      "\n",
      "                                   R_1       S_3      D_41       B_3  \\\n",
      "P_2                           0.014043  0.042498  0.221257  0.223295   \n",
      "D_39                          0.218970  0.221227  0.045176  0.026785   \n",
      "B_1                           0.237130  0.191637  0.016629  0.064404   \n",
      "B_2                          -0.040352 -0.031259  0.983499  0.976586   \n",
      "R_1                           1.000000  0.103205  0.028934  0.031909   \n",
      "...                                ...       ...       ...       ...   \n",
      "total_balance                 0.187642  0.260838  0.333175  0.352556   \n",
      "total_delinquency             0.102122  0.053165  0.176632  0.181678   \n",
      "total_risk                    0.200510  0.074296  0.019343  0.022930   \n",
      "risk_to_payment_ratio         0.051010  0.004385  0.002576 -0.000685   \n",
      "delinquency_to_balance_ratio  0.050617  0.160956  0.030613  0.039641   \n",
      "\n",
      "                                  D_42      D_43  ...  B_36_log  D_127_log  \\\n",
      "P_2                          -0.069150  0.111924  ...  0.004018   0.017959   \n",
      "D_39                         -0.028586  0.061131  ...  0.037896   0.026115   \n",
      "B_1                           0.042444  0.062718  ...  0.067198  -0.141188   \n",
      "B_2                          -0.006990  0.014631  ...  0.004917   0.041820   \n",
      "R_1                           0.075821  0.090649  ...  0.012869  -0.091583   \n",
      "...                                ...       ...  ...       ...        ...   \n",
      "total_balance                -0.128533  0.177753  ...  0.146051  -0.057487   \n",
      "total_delinquency            -0.196188  0.367855  ...  0.059961   0.036645   \n",
      "total_risk                    0.112425  0.118967  ...  0.006496  -0.077114   \n",
      "risk_to_payment_ratio         0.003656  0.003282  ... -0.000049  -0.001913   \n",
      "delinquency_to_balance_ratio  0.029992 -0.157430  ...  0.100404  -0.066841   \n",
      "\n",
      "                              R_28_log  total_payments  total_spending  \\\n",
      "P_2                          -0.018867        0.618884        0.069408   \n",
      "D_39                         -0.005752        0.046144        0.251029   \n",
      "B_1                           0.052596        0.003823        0.163953   \n",
      "B_2                          -0.002648        0.145270        0.001103   \n",
      "R_1                           0.027691       -0.002480        0.075964   \n",
      "...                                ...             ...             ...   \n",
      "total_balance                -0.012502        0.239351        0.269979   \n",
      "total_delinquency            -0.039852        0.609960        0.099036   \n",
      "total_risk                   -0.008277        0.045152        0.046152   \n",
      "risk_to_payment_ratio        -0.001112       -0.005031        0.006446   \n",
      "delinquency_to_balance_ratio  0.020827       -0.282186        0.139845   \n",
      "\n",
      "                              total_balance  total_delinquency  total_risk  \\\n",
      "P_2                                0.175413           0.461538    0.024108   \n",
      "D_39                               0.210604           0.098952    0.057337   \n",
      "B_1                                0.328679           0.068751    0.084047   \n",
      "B_2                                0.249785           0.152089   -0.015309   \n",
      "R_1                                0.187642           0.102122    0.200510   \n",
      "...                                     ...                ...         ...   \n",
      "total_balance                      1.000000           0.293953    0.116867   \n",
      "total_delinquency                  0.293953           1.000000    0.154369   \n",
      "total_risk                         0.116867           0.154369    1.000000   \n",
      "risk_to_payment_ratio              0.002331           0.001901    0.005432   \n",
      "delinquency_to_balance_ratio       0.483175          -0.570954   -0.041030   \n",
      "\n",
      "                              risk_to_payment_ratio  \\\n",
      "P_2                                       -0.002322   \n",
      "D_39                                       0.054026   \n",
      "B_1                                       -0.005086   \n",
      "B_2                                       -0.001692   \n",
      "R_1                                        0.051010   \n",
      "...                                             ...   \n",
      "total_balance                              0.002331   \n",
      "total_delinquency                          0.001901   \n",
      "total_risk                                 0.005432   \n",
      "risk_to_payment_ratio                      1.000000   \n",
      "delinquency_to_balance_ratio              -0.001321   \n",
      "\n",
      "                              delinquency_to_balance_ratio  \n",
      "P_2                                              -0.223049  \n",
      "D_39                                              0.091569  \n",
      "B_1                                               0.182306  \n",
      "B_2                                              -0.011551  \n",
      "R_1                                               0.050617  \n",
      "...                                                    ...  \n",
      "total_balance                                     0.483175  \n",
      "total_delinquency                                -0.570954  \n",
      "total_risk                                       -0.041030  \n",
      "risk_to_payment_ratio                            -0.001321  \n",
      "delinquency_to_balance_ratio                      1.000000  \n",
      "\n",
      "[240 rows x 240 columns]\n",
      "<class 'pandas.core.frame.DataFrame'>\n"
     ]
    }
   ],
   "source": [
    "cat_features = ['B_30', 'B_38', 'D_114', 'D_116', 'D_117', 'D_120', 'D_126', 'D_63', 'D_64', 'D_66', 'D_68','customer_ID','S_2']\n",
    "\n",
    "df_sampled = df_train.sample(n=20000, random_state=42)\n",
    "df_numeric = df_sampled.drop(cat_features, axis=1)\n",
    "correlation_matrix = df_numeric.corr()\n",
    "\n",
    "print(correlation_matrix)\n",
    "print(type(correlation_matrix))\n"
   ]
  },
  {
   "cell_type": "code",
   "execution_count": null,
   "metadata": {},
   "outputs": [],
   "source": []
  },
  {
   "cell_type": "markdown",
   "metadata": {},
   "source": [
    "# Removing Outliers"
   ]
  },
  {
   "cell_type": "code",
   "execution_count": 20,
   "metadata": {
    "execution": {
     "iopub.execute_input": "2025-04-15T10:45:56.739939Z",
     "iopub.status.busy": "2025-04-15T10:45:56.739649Z",
     "iopub.status.idle": "2025-04-15T10:45:56.934067Z",
     "shell.execute_reply": "2025-04-15T10:45:56.933433Z"
    }
   },
   "outputs": [
    {
     "name": "stdout",
     "output_type": "stream",
     "text": [
      "['B_30', 'B_38', 'D_114', 'D_116', 'D_117', 'D_120', 'D_126', 'D_63', 'D_64', 'D_66', 'D_68', 'customer_ID', 'S_2']\n"
     ]
    }
   ],
   "source": [
    "cat_features2 = ['B_30', 'B_38', 'D_114', 'D_116', 'D_117', 'D_120', 'D_126', 'D_63', 'D_64', 'D_66', 'D_68','customer_ID','S_2']\n",
    "train_data = df_train\n",
    "train_data_cat = train_data[cat_features2]\n",
    "print(train_data_cat.columns.tolist())\n",
    "\n"
   ]
  },
  {
   "cell_type": "code",
   "execution_count": 21,
   "metadata": {
    "execution": {
     "iopub.execute_input": "2025-04-15T10:45:56.936154Z",
     "iopub.status.busy": "2025-04-15T10:45:56.935905Z",
     "iopub.status.idle": "2025-04-15T10:45:56.939373Z",
     "shell.execute_reply": "2025-04-15T10:45:56.938923Z"
    }
   },
   "outputs": [
    {
     "name": "stdout",
     "output_type": "stream",
     "text": [
      "['customer_ID', 'S_2', 'P_2', 'D_39', 'B_1', 'B_2', 'R_1', 'S_3', 'D_41', 'B_3', 'D_42', 'D_43', 'D_44', 'B_4', 'D_45', 'B_5', 'R_2', 'D_46', 'D_47', 'D_48', 'D_49', 'B_6', 'B_7', 'B_8', 'D_50', 'D_51', 'B_9', 'R_3', 'D_52', 'P_3', 'B_10', 'D_53', 'S_5', 'B_11', 'S_6', 'D_54', 'R_4', 'S_7', 'B_12', 'S_8', 'D_55', 'D_56', 'B_13', 'R_5', 'D_58', 'S_9', 'B_14', 'D_59', 'D_60', 'D_61', 'B_15', 'S_11', 'D_62', 'D_63', 'D_64', 'D_65', 'B_16', 'B_17', 'B_18', 'B_19', 'D_66', 'B_20', 'D_68', 'S_12', 'R_6', 'S_13', 'B_21', 'D_69', 'B_22', 'D_70', 'D_71', 'D_72', 'S_15', 'B_23', 'D_73', 'P_4', 'D_74', 'D_75', 'D_76', 'B_24', 'R_7', 'D_77', 'B_25', 'B_26', 'D_78', 'D_79', 'R_8', 'R_9', 'S_16', 'D_80', 'R_10', 'R_11', 'B_27', 'D_81', 'D_82', 'S_17', 'R_12', 'B_28', 'R_13', 'D_83', 'R_14', 'R_15', 'D_84', 'R_16', 'B_29', 'B_30', 'S_18', 'D_86', 'D_87', 'R_17', 'R_18', 'D_88', 'B_31', 'S_19', 'R_19', 'B_32', 'S_20', 'R_20', 'R_21', 'B_33', 'D_89', 'R_22', 'R_23', 'D_91', 'D_92', 'D_93', 'D_94', 'R_24', 'R_25', 'D_96', 'S_22', 'S_23', 'S_24', 'S_25', 'S_26', 'D_102', 'D_103', 'D_104', 'D_105', 'D_106', 'D_107', 'B_36', 'B_37', 'R_26', 'R_27', 'B_38', 'D_108', 'D_109', 'D_110', 'D_111', 'B_39', 'D_112', 'B_40', 'S_27', 'D_113', 'D_114', 'D_115', 'D_116', 'D_117', 'D_118', 'D_119', 'D_120', 'D_121', 'D_122', 'D_123', 'D_124', 'D_125', 'D_126', 'D_127', 'D_128', 'D_129', 'B_41', 'B_42', 'D_130', 'D_131', 'D_132', 'D_133', 'R_28', 'D_134', 'D_135', 'D_136', 'D_137', 'D_138', 'D_139', 'D_140', 'D_141', 'D_142', 'D_143', 'D_144', 'D_145', 'D_39_log', 'R_1_log', 'B_4_log', 'B_5_log', 'R_2_log', 'D_51_log', 'B_9_log', 'R_3_log', 'S_5_log', 'B_11_log', 'S_6_log', 'R_4_log', 'B_12_log', 'S_8_log', 'R_5_log', 'D_58_log', 'D_60_log', 'D_65_log', 'B_18_log', 'R_6_log', 'S_13_log', 'B_21_log', 'D_71_log', 'B_23_log', 'P_4_log', 'D_75_log', 'B_24_log', 'R_8_log', 'S_16_log', 'R_10_log', 'R_11_log', 'S_17_log', 'R_13_log', 'R_15_log', 'R_16_log', 'S_18_log', 'D_86_log', 'R_17_log', 'R_18_log', 'B_31_log', 'S_19_log', 'R_19_log', 'B_32_log', 'S_20_log', 'R_21_log', 'R_22_log', 'R_23_log', 'D_92_log', 'D_93_log', 'D_94_log', 'R_24_log', 'R_25_log', 'D_96_log', 'B_36_log', 'D_127_log', 'R_28_log', 'total_payments', 'total_spending', 'total_balance', 'total_delinquency', 'total_risk', 'risk_to_payment_ratio', 'delinquency_to_balance_ratio']\n",
      "Missing columns: []\n"
     ]
    }
   ],
   "source": [
    "print(train_data.columns.tolist())\n",
    "\n",
    "missing_cols = [col for col in cat_features if col not in train_data.columns]\n",
    "print(\"Missing columns:\", missing_cols)\n"
   ]
  },
  {
   "cell_type": "code",
   "execution_count": 22,
   "metadata": {
    "execution": {
     "iopub.execute_input": "2025-04-15T10:45:56.941150Z",
     "iopub.status.busy": "2025-04-15T10:45:56.940933Z",
     "iopub.status.idle": "2025-04-15T10:45:58.787954Z",
     "shell.execute_reply": "2025-04-15T10:45:58.787409Z"
    }
   },
   "outputs": [],
   "source": [
    "train_data_num = train_data.drop(cat_features, axis=1, errors='ignore')\n"
   ]
  },
  {
   "cell_type": "code",
   "execution_count": 23,
   "metadata": {
    "execution": {
     "iopub.execute_input": "2025-04-15T10:45:58.790292Z",
     "iopub.status.busy": "2025-04-15T10:45:58.790034Z",
     "iopub.status.idle": "2025-04-15T10:46:29.293510Z",
     "shell.execute_reply": "2025-04-15T10:46:29.292813Z"
    }
   },
   "outputs": [
    {
     "name": "stdout",
     "output_type": "stream",
     "text": [
      "              P_2      D_39       B_1       B_2       R_1    S_3      D_41  \\\n",
      "29       0.852514  0.006877  0.007627  0.819987  0.009290 -127.0  0.003959   \n",
      "30       0.891656  0.000802  0.009997  0.811041  0.003540 -127.0  0.009034   \n",
      "31       0.902419  0.005366  0.003352  0.811922  0.004008 -127.0  0.008727   \n",
      "32       0.904482  0.005470  0.006262  0.818312  0.005699 -127.0  0.009560   \n",
      "33       0.903964  0.000832  0.001506  0.813006  0.009443 -127.0  0.001653   \n",
      "...           ...       ...       ...       ...       ...    ...       ...   \n",
      "5527643  1.005729  0.001083  0.006314  0.816413  0.001071 -127.0  0.008245   \n",
      "5530801  0.886600  0.009523  0.004355  0.817521  0.009703 -127.0  0.005514   \n",
      "5530802  0.889943  0.006933  0.007706  0.816375  0.005654 -127.0  0.005028   \n",
      "5531122  0.748220  0.002450  0.005508  0.813587  0.003644 -127.0  0.005267   \n",
      "5531123  0.755100  0.002304  0.005679  0.814807  0.003110 -127.0  0.008136   \n",
      "\n",
      "              B_3   D_42        D_43  ...  B_36_log  D_127_log  R_28_log  \\\n",
      "29       0.007532 -127.0 -127.000000  ...  0.002090   0.000424  0.004989   \n",
      "30       0.000626 -127.0 -127.000000  ...  0.003127   0.003267  0.009802   \n",
      "31       0.006270 -127.0 -127.000000  ...  0.006419   0.008930  0.002048   \n",
      "32       0.009063 -127.0 -127.000000  ...  0.001873   0.004879  0.000067   \n",
      "33       0.009383 -127.0 -127.000000  ...  0.004706   0.008328  0.001668   \n",
      "...           ...    ...         ...  ...       ...        ...       ...   \n",
      "5527643  0.007902 -127.0    0.103736  ...  0.009649   0.007718  0.006607   \n",
      "5530801  0.001674 -127.0 -127.000000  ...  0.001120   0.009672  0.007633   \n",
      "5530802  0.009646 -127.0 -127.000000  ...  0.009376   0.009316  0.002115   \n",
      "5531122  0.008738 -127.0 -127.000000  ...  0.006651   0.000999  0.009053   \n",
      "5531123  0.008493 -127.0 -127.000000  ...  0.000879   0.007536  0.004278   \n",
      "\n",
      "         total_payments  total_spending  total_balance  total_delinquency  \\\n",
      "29             1.463041     -504.454742    -503.452332       -2914.264648   \n",
      "30             1.560182     -504.470154    -503.372009       -2914.343262   \n",
      "31             1.562830     -504.469543    -503.474213       -2786.760254   \n",
      "32             1.572605     -504.476044    -503.415894       -2786.825684   \n",
      "33             1.559743     -504.506073    -503.482910       -2786.915527   \n",
      "...                 ...             ...            ...                ...   \n",
      "5527643        1.724666     -504.479675    -503.383057       -2654.694336   \n",
      "5530801        1.518612     -504.472198    -503.553589       -2785.433594   \n",
      "5530802        1.511747     -504.473389    -503.393188       -2785.513184   \n",
      "5531122        1.366567     -504.462189    -503.408173       -2911.395264   \n",
      "5531123        1.405579     -504.492432    -503.360443       -2911.407471   \n",
      "\n",
      "         total_risk  risk_to_payment_ratio  delinquency_to_balance_ratio  \n",
      "29      -251.888367            -172.167603                      5.788561  \n",
      "30      -251.844330            -161.419769                      5.789641  \n",
      "31      -251.880890            -161.169601                      5.535060  \n",
      "32      -251.887527            -160.172043                      5.535832  \n",
      "33      -251.879807            -161.487915                      5.535273  \n",
      "...             ...                    ...                           ...  \n",
      "5527643 -251.855316            -146.031250                      5.273706  \n",
      "5530801 -251.881851            -165.863098                      5.531553  \n",
      "5530802 -251.858566            -166.600952                      5.533474  \n",
      "5531122 -251.863785            -184.303879                      5.783369  \n",
      "5531123 -251.873230            -179.195236                      5.783942  \n",
      "\n",
      "[20014 rows x 240 columns]\n"
     ]
    }
   ],
   "source": [
    "for col in train_data_num.columns:\n",
    "    if col not in cat_features:\n",
    "        Q1 = train_data_num[col].quantile(0.25)\n",
    "        Q3 = train_data_num[col].quantile(0.75)\n",
    "        IQR = Q3 - Q1\n",
    "\n",
    "        lower_bound = Q1 - 1.5 * IQR\n",
    "        upper_bound = Q3 + 1.5 * IQR\n",
    "\n",
    "        train_data_num = train_data_num[\n",
    "            (train_data_num[col] >= lower_bound) & (train_data_num[col] <= upper_bound)\n",
    "        ]\n",
    "\n",
    "print(train_data_num)\n"
   ]
  },
  {
   "cell_type": "code",
   "execution_count": 24,
   "metadata": {
    "execution": {
     "iopub.execute_input": "2025-04-15T10:46:29.295812Z",
     "iopub.status.busy": "2025-04-15T10:46:29.295529Z",
     "iopub.status.idle": "2025-04-15T10:46:29.365169Z",
     "shell.execute_reply": "2025-04-15T10:46:29.364655Z"
    }
   },
   "outputs": [],
   "source": [
    "# 4. Standardize the numerical columns (mean=0, std=1)\n",
    "train_data_num = (train_data_num - train_data_num.mean()) / train_data_num.std()"
   ]
  },
  {
   "cell_type": "code",
   "execution_count": 25,
   "metadata": {
    "execution": {
     "iopub.execute_input": "2025-04-15T10:46:29.367393Z",
     "iopub.status.busy": "2025-04-15T10:46:29.367131Z",
     "iopub.status.idle": "2025-04-15T10:46:29.398217Z",
     "shell.execute_reply": "2025-04-15T10:46:29.397663Z"
    }
   },
   "outputs": [
    {
     "data": {
      "text/html": [
       "<div>\n",
       "<style scoped>\n",
       "    .dataframe tbody tr th:only-of-type {\n",
       "        vertical-align: middle;\n",
       "    }\n",
       "\n",
       "    .dataframe tbody tr th {\n",
       "        vertical-align: top;\n",
       "    }\n",
       "\n",
       "    .dataframe thead th {\n",
       "        text-align: right;\n",
       "    }\n",
       "</style>\n",
       "<table border=\"1\" class=\"dataframe\">\n",
       "  <thead>\n",
       "    <tr style=\"text-align: right;\">\n",
       "      <th></th>\n",
       "      <th>P_2</th>\n",
       "      <th>D_39</th>\n",
       "      <th>B_1</th>\n",
       "      <th>B_2</th>\n",
       "      <th>R_1</th>\n",
       "      <th>S_3</th>\n",
       "      <th>D_41</th>\n",
       "      <th>B_3</th>\n",
       "      <th>D_42</th>\n",
       "      <th>D_43</th>\n",
       "      <th>...</th>\n",
       "      <th>B_36_log</th>\n",
       "      <th>D_127_log</th>\n",
       "      <th>R_28_log</th>\n",
       "      <th>total_payments</th>\n",
       "      <th>total_spending</th>\n",
       "      <th>total_balance</th>\n",
       "      <th>total_delinquency</th>\n",
       "      <th>total_risk</th>\n",
       "      <th>risk_to_payment_ratio</th>\n",
       "      <th>delinquency_to_balance_ratio</th>\n",
       "    </tr>\n",
       "  </thead>\n",
       "  <tbody>\n",
       "    <tr>\n",
       "      <th>29</th>\n",
       "      <td>-0.750931</td>\n",
       "      <td>0.667367</td>\n",
       "      <td>0.838917</td>\n",
       "      <td>0.652541</td>\n",
       "      <td>1.500292</td>\n",
       "      <td>NaN</td>\n",
       "      <td>-0.362634</td>\n",
       "      <td>0.877097</td>\n",
       "      <td>NaN</td>\n",
       "      <td>-0.742918</td>\n",
       "      <td>...</td>\n",
       "      <td>-1.003923</td>\n",
       "      <td>-1.595936</td>\n",
       "      <td>0.005048</td>\n",
       "      <td>-0.770553</td>\n",
       "      <td>2.101806</td>\n",
       "      <td>-0.006974</td>\n",
       "      <td>-1.391233</td>\n",
       "      <td>-1.290143</td>\n",
       "      <td>-0.736494</td>\n",
       "      <td>1.391336</td>\n",
       "    </tr>\n",
       "    <tr>\n",
       "      <th>30</th>\n",
       "      <td>-0.145450</td>\n",
       "      <td>-1.438703</td>\n",
       "      <td>1.658467</td>\n",
       "      <td>-0.577356</td>\n",
       "      <td>-0.500886</td>\n",
       "      <td>NaN</td>\n",
       "      <td>1.402156</td>\n",
       "      <td>-1.515777</td>\n",
       "      <td>NaN</td>\n",
       "      <td>-0.742918</td>\n",
       "      <td>...</td>\n",
       "      <td>-0.642159</td>\n",
       "      <td>-0.603772</td>\n",
       "      <td>1.669442</td>\n",
       "      <td>0.308187</td>\n",
       "      <td>0.775041</td>\n",
       "      <td>1.661773</td>\n",
       "      <td>-1.391900</td>\n",
       "      <td>1.792103</td>\n",
       "      <td>0.357982</td>\n",
       "      <td>1.395949</td>\n",
       "    </tr>\n",
       "    <tr>\n",
       "      <th>31</th>\n",
       "      <td>0.021051</td>\n",
       "      <td>0.143657</td>\n",
       "      <td>-0.639534</td>\n",
       "      <td>-0.456240</td>\n",
       "      <td>-0.337774</td>\n",
       "      <td>NaN</td>\n",
       "      <td>1.295252</td>\n",
       "      <td>0.439772</td>\n",
       "      <td>NaN</td>\n",
       "      <td>-0.742918</td>\n",
       "      <td>...</td>\n",
       "      <td>0.506139</td>\n",
       "      <td>1.372672</td>\n",
       "      <td>-1.011962</td>\n",
       "      <td>0.337598</td>\n",
       "      <td>0.827586</td>\n",
       "      <td>-0.461568</td>\n",
       "      <td>-0.309682</td>\n",
       "      <td>-0.766824</td>\n",
       "      <td>0.383457</td>\n",
       "      <td>0.308667</td>\n",
       "    </tr>\n",
       "    <tr>\n",
       "      <th>32</th>\n",
       "      <td>0.052966</td>\n",
       "      <td>0.179587</td>\n",
       "      <td>0.367019</td>\n",
       "      <td>0.422372</td>\n",
       "      <td>0.250556</td>\n",
       "      <td>NaN</td>\n",
       "      <td>1.584807</td>\n",
       "      <td>1.407488</td>\n",
       "      <td>NaN</td>\n",
       "      <td>-0.742918</td>\n",
       "      <td>...</td>\n",
       "      <td>-1.079576</td>\n",
       "      <td>-0.041028</td>\n",
       "      <td>-1.697074</td>\n",
       "      <td>0.446147</td>\n",
       "      <td>0.267980</td>\n",
       "      <td>0.750049</td>\n",
       "      <td>-0.310237</td>\n",
       "      <td>-1.231403</td>\n",
       "      <td>0.485041</td>\n",
       "      <td>0.311963</td>\n",
       "    </tr>\n",
       "    <tr>\n",
       "      <th>33</th>\n",
       "      <td>0.044958</td>\n",
       "      <td>-1.428205</td>\n",
       "      <td>-1.277757</td>\n",
       "      <td>-0.307165</td>\n",
       "      <td>1.553424</td>\n",
       "      <td>NaN</td>\n",
       "      <td>-1.164322</td>\n",
       "      <td>1.518570</td>\n",
       "      <td>NaN</td>\n",
       "      <td>-0.742918</td>\n",
       "      <td>...</td>\n",
       "      <td>-0.091639</td>\n",
       "      <td>1.162662</td>\n",
       "      <td>-1.143250</td>\n",
       "      <td>0.303315</td>\n",
       "      <td>-2.317241</td>\n",
       "      <td>-0.642265</td>\n",
       "      <td>-0.310999</td>\n",
       "      <td>-0.690996</td>\n",
       "      <td>0.351043</td>\n",
       "      <td>0.309576</td>\n",
       "    </tr>\n",
       "    <tr>\n",
       "      <th>...</th>\n",
       "      <td>...</td>\n",
       "      <td>...</td>\n",
       "      <td>...</td>\n",
       "      <td>...</td>\n",
       "      <td>...</td>\n",
       "      <td>...</td>\n",
       "      <td>...</td>\n",
       "      <td>...</td>\n",
       "      <td>...</td>\n",
       "      <td>...</td>\n",
       "      <td>...</td>\n",
       "      <td>...</td>\n",
       "      <td>...</td>\n",
       "      <td>...</td>\n",
       "      <td>...</td>\n",
       "      <td>...</td>\n",
       "      <td>...</td>\n",
       "      <td>...</td>\n",
       "      <td>...</td>\n",
       "      <td>...</td>\n",
       "      <td>...</td>\n",
       "    </tr>\n",
       "    <tr>\n",
       "      <th>5527643</th>\n",
       "      <td>1.619172</td>\n",
       "      <td>-1.341113</td>\n",
       "      <td>0.384969</td>\n",
       "      <td>0.161171</td>\n",
       "      <td>-1.360004</td>\n",
       "      <td>NaN</td>\n",
       "      <td>1.127587</td>\n",
       "      <td>1.005146</td>\n",
       "      <td>NaN</td>\n",
       "      <td>1.347029</td>\n",
       "      <td>...</td>\n",
       "      <td>1.632760</td>\n",
       "      <td>0.949834</td>\n",
       "      <td>0.564743</td>\n",
       "      <td>2.134767</td>\n",
       "      <td>-0.044663</td>\n",
       "      <td>1.432257</td>\n",
       "      <td>0.810562</td>\n",
       "      <td>1.023143</td>\n",
       "      <td>1.925030</td>\n",
       "      <td>-0.807541</td>\n",
       "    </tr>\n",
       "    <tr>\n",
       "      <th>5530801</th>\n",
       "      <td>-0.223653</td>\n",
       "      <td>1.584728</td>\n",
       "      <td>-0.292435</td>\n",
       "      <td>0.313508</td>\n",
       "      <td>1.643915</td>\n",
       "      <td>NaN</td>\n",
       "      <td>0.177900</td>\n",
       "      <td>-1.152885</td>\n",
       "      <td>NaN</td>\n",
       "      <td>-0.742918</td>\n",
       "      <td>...</td>\n",
       "      <td>-1.342138</td>\n",
       "      <td>1.631807</td>\n",
       "      <td>0.919260</td>\n",
       "      <td>-0.153439</td>\n",
       "      <td>0.599015</td>\n",
       "      <td>-2.110661</td>\n",
       "      <td>-0.298429</td>\n",
       "      <td>-0.834108</td>\n",
       "      <td>-0.094492</td>\n",
       "      <td>0.293689</td>\n",
       "    </tr>\n",
       "    <tr>\n",
       "      <th>5530802</th>\n",
       "      <td>-0.171945</td>\n",
       "      <td>0.686707</td>\n",
       "      <td>0.866248</td>\n",
       "      <td>0.155967</td>\n",
       "      <td>0.234943</td>\n",
       "      <td>NaN</td>\n",
       "      <td>0.009011</td>\n",
       "      <td>1.609397</td>\n",
       "      <td>NaN</td>\n",
       "      <td>-0.742918</td>\n",
       "      <td>...</td>\n",
       "      <td>1.537276</td>\n",
       "      <td>1.507337</td>\n",
       "      <td>-0.988580</td>\n",
       "      <td>-0.229680</td>\n",
       "      <td>0.496552</td>\n",
       "      <td>1.221761</td>\n",
       "      <td>-0.299104</td>\n",
       "      <td>0.795660</td>\n",
       "      <td>-0.169629</td>\n",
       "      <td>0.301892</td>\n",
       "    </tr>\n",
       "    <tr>\n",
       "      <th>5531122</th>\n",
       "      <td>-2.364279</td>\n",
       "      <td>-0.867393</td>\n",
       "      <td>0.106166</td>\n",
       "      <td>-0.227243</td>\n",
       "      <td>-0.464733</td>\n",
       "      <td>NaN</td>\n",
       "      <td>0.092075</td>\n",
       "      <td>1.295100</td>\n",
       "      <td>NaN</td>\n",
       "      <td>-0.742918</td>\n",
       "      <td>...</td>\n",
       "      <td>0.586984</td>\n",
       "      <td>-1.395551</td>\n",
       "      <td>1.410415</td>\n",
       "      <td>-1.841879</td>\n",
       "      <td>1.460755</td>\n",
       "      <td>0.910456</td>\n",
       "      <td>-1.366894</td>\n",
       "      <td>0.430404</td>\n",
       "      <td>-1.972359</td>\n",
       "      <td>1.369161</td>\n",
       "    </tr>\n",
       "    <tr>\n",
       "      <th>5531123</th>\n",
       "      <td>-2.257853</td>\n",
       "      <td>-0.917944</td>\n",
       "      <td>0.165300</td>\n",
       "      <td>-0.059591</td>\n",
       "      <td>-0.650518</td>\n",
       "      <td>NaN</td>\n",
       "      <td>1.089656</td>\n",
       "      <td>1.209975</td>\n",
       "      <td>NaN</td>\n",
       "      <td>-0.742918</td>\n",
       "      <td>...</td>\n",
       "      <td>-1.426172</td>\n",
       "      <td>0.886290</td>\n",
       "      <td>-0.240718</td>\n",
       "      <td>-1.408657</td>\n",
       "      <td>-1.142857</td>\n",
       "      <td>1.902068</td>\n",
       "      <td>-1.366997</td>\n",
       "      <td>-0.230688</td>\n",
       "      <td>-1.452134</td>\n",
       "      <td>1.371607</td>\n",
       "    </tr>\n",
       "  </tbody>\n",
       "</table>\n",
       "<p>20014 rows × 240 columns</p>\n",
       "</div>"
      ],
      "text/plain": [
       "              P_2      D_39       B_1       B_2       R_1  S_3      D_41  \\\n",
       "29      -0.750931  0.667367  0.838917  0.652541  1.500292  NaN -0.362634   \n",
       "30      -0.145450 -1.438703  1.658467 -0.577356 -0.500886  NaN  1.402156   \n",
       "31       0.021051  0.143657 -0.639534 -0.456240 -0.337774  NaN  1.295252   \n",
       "32       0.052966  0.179587  0.367019  0.422372  0.250556  NaN  1.584807   \n",
       "33       0.044958 -1.428205 -1.277757 -0.307165  1.553424  NaN -1.164322   \n",
       "...           ...       ...       ...       ...       ...  ...       ...   \n",
       "5527643  1.619172 -1.341113  0.384969  0.161171 -1.360004  NaN  1.127587   \n",
       "5530801 -0.223653  1.584728 -0.292435  0.313508  1.643915  NaN  0.177900   \n",
       "5530802 -0.171945  0.686707  0.866248  0.155967  0.234943  NaN  0.009011   \n",
       "5531122 -2.364279 -0.867393  0.106166 -0.227243 -0.464733  NaN  0.092075   \n",
       "5531123 -2.257853 -0.917944  0.165300 -0.059591 -0.650518  NaN  1.089656   \n",
       "\n",
       "              B_3  D_42      D_43  ...  B_36_log  D_127_log  R_28_log  \\\n",
       "29       0.877097   NaN -0.742918  ... -1.003923  -1.595936  0.005048   \n",
       "30      -1.515777   NaN -0.742918  ... -0.642159  -0.603772  1.669442   \n",
       "31       0.439772   NaN -0.742918  ...  0.506139   1.372672 -1.011962   \n",
       "32       1.407488   NaN -0.742918  ... -1.079576  -0.041028 -1.697074   \n",
       "33       1.518570   NaN -0.742918  ... -0.091639   1.162662 -1.143250   \n",
       "...           ...   ...       ...  ...       ...        ...       ...   \n",
       "5527643  1.005146   NaN  1.347029  ...  1.632760   0.949834  0.564743   \n",
       "5530801 -1.152885   NaN -0.742918  ... -1.342138   1.631807  0.919260   \n",
       "5530802  1.609397   NaN -0.742918  ...  1.537276   1.507337 -0.988580   \n",
       "5531122  1.295100   NaN -0.742918  ...  0.586984  -1.395551  1.410415   \n",
       "5531123  1.209975   NaN -0.742918  ... -1.426172   0.886290 -0.240718   \n",
       "\n",
       "         total_payments  total_spending  total_balance  total_delinquency  \\\n",
       "29            -0.770553        2.101806      -0.006974          -1.391233   \n",
       "30             0.308187        0.775041       1.661773          -1.391900   \n",
       "31             0.337598        0.827586      -0.461568          -0.309682   \n",
       "32             0.446147        0.267980       0.750049          -0.310237   \n",
       "33             0.303315       -2.317241      -0.642265          -0.310999   \n",
       "...                 ...             ...            ...                ...   \n",
       "5527643        2.134767       -0.044663       1.432257           0.810562   \n",
       "5530801       -0.153439        0.599015      -2.110661          -0.298429   \n",
       "5530802       -0.229680        0.496552       1.221761          -0.299104   \n",
       "5531122       -1.841879        1.460755       0.910456          -1.366894   \n",
       "5531123       -1.408657       -1.142857       1.902068          -1.366997   \n",
       "\n",
       "         total_risk  risk_to_payment_ratio  delinquency_to_balance_ratio  \n",
       "29        -1.290143              -0.736494                      1.391336  \n",
       "30         1.792103               0.357982                      1.395949  \n",
       "31        -0.766824               0.383457                      0.308667  \n",
       "32        -1.231403               0.485041                      0.311963  \n",
       "33        -0.690996               0.351043                      0.309576  \n",
       "...             ...                    ...                           ...  \n",
       "5527643    1.023143               1.925030                     -0.807541  \n",
       "5530801   -0.834108              -0.094492                      0.293689  \n",
       "5530802    0.795660              -0.169629                      0.301892  \n",
       "5531122    0.430404              -1.972359                      1.369161  \n",
       "5531123   -0.230688              -1.452134                      1.371607  \n",
       "\n",
       "[20014 rows x 240 columns]"
      ]
     },
     "execution_count": 25,
     "metadata": {},
     "output_type": "execute_result"
    }
   ],
   "source": [
    "train_data_num"
   ]
  },
  {
   "cell_type": "code",
   "execution_count": 26,
   "metadata": {
    "execution": {
     "iopub.execute_input": "2025-04-15T10:46:29.400086Z",
     "iopub.status.busy": "2025-04-15T10:46:29.399849Z",
     "iopub.status.idle": "2025-04-15T10:46:34.196603Z",
     "shell.execute_reply": "2025-04-15T10:46:34.196071Z"
    }
   },
   "outputs": [],
   "source": [
    "# 5. Concatenate the numerical and categorical data\n",
    "train_data = pd.concat([train_data_cat, train_data_num], axis=1)"
   ]
  },
  {
   "cell_type": "code",
   "execution_count": 27,
   "metadata": {
    "execution": {
     "iopub.execute_input": "2025-04-15T10:46:34.198957Z",
     "iopub.status.busy": "2025-04-15T10:46:34.198698Z",
     "iopub.status.idle": "2025-04-15T10:46:34.215728Z",
     "shell.execute_reply": "2025-04-15T10:46:34.215239Z"
    }
   },
   "outputs": [
    {
     "data": {
      "text/html": [
       "<div>\n",
       "<style scoped>\n",
       "    .dataframe tbody tr th:only-of-type {\n",
       "        vertical-align: middle;\n",
       "    }\n",
       "\n",
       "    .dataframe tbody tr th {\n",
       "        vertical-align: top;\n",
       "    }\n",
       "\n",
       "    .dataframe thead th {\n",
       "        text-align: right;\n",
       "    }\n",
       "</style>\n",
       "<table border=\"1\" class=\"dataframe\">\n",
       "  <thead>\n",
       "    <tr style=\"text-align: right;\">\n",
       "      <th></th>\n",
       "      <th>B_30</th>\n",
       "      <th>B_38</th>\n",
       "      <th>D_114</th>\n",
       "      <th>D_116</th>\n",
       "      <th>D_117</th>\n",
       "      <th>D_120</th>\n",
       "      <th>D_126</th>\n",
       "      <th>D_63</th>\n",
       "      <th>D_64</th>\n",
       "      <th>D_66</th>\n",
       "      <th>...</th>\n",
       "      <th>B_36_log</th>\n",
       "      <th>D_127_log</th>\n",
       "      <th>R_28_log</th>\n",
       "      <th>total_payments</th>\n",
       "      <th>total_spending</th>\n",
       "      <th>total_balance</th>\n",
       "      <th>total_delinquency</th>\n",
       "      <th>total_risk</th>\n",
       "      <th>risk_to_payment_ratio</th>\n",
       "      <th>delinquency_to_balance_ratio</th>\n",
       "    </tr>\n",
       "  </thead>\n",
       "  <tbody>\n",
       "    <tr>\n",
       "      <th>0</th>\n",
       "      <td>0.0</td>\n",
       "      <td>2.0</td>\n",
       "      <td>1.0</td>\n",
       "      <td>0.0</td>\n",
       "      <td>4.0</td>\n",
       "      <td>0.0</td>\n",
       "      <td>1.0</td>\n",
       "      <td>CR</td>\n",
       "      <td>O</td>\n",
       "      <td>-127.0</td>\n",
       "      <td>...</td>\n",
       "      <td>NaN</td>\n",
       "      <td>NaN</td>\n",
       "      <td>NaN</td>\n",
       "      <td>NaN</td>\n",
       "      <td>NaN</td>\n",
       "      <td>NaN</td>\n",
       "      <td>NaN</td>\n",
       "      <td>NaN</td>\n",
       "      <td>NaN</td>\n",
       "      <td>NaN</td>\n",
       "    </tr>\n",
       "    <tr>\n",
       "      <th>1</th>\n",
       "      <td>0.0</td>\n",
       "      <td>2.0</td>\n",
       "      <td>1.0</td>\n",
       "      <td>0.0</td>\n",
       "      <td>4.0</td>\n",
       "      <td>0.0</td>\n",
       "      <td>1.0</td>\n",
       "      <td>CR</td>\n",
       "      <td>O</td>\n",
       "      <td>-127.0</td>\n",
       "      <td>...</td>\n",
       "      <td>NaN</td>\n",
       "      <td>NaN</td>\n",
       "      <td>NaN</td>\n",
       "      <td>NaN</td>\n",
       "      <td>NaN</td>\n",
       "      <td>NaN</td>\n",
       "      <td>NaN</td>\n",
       "      <td>NaN</td>\n",
       "      <td>NaN</td>\n",
       "      <td>NaN</td>\n",
       "    </tr>\n",
       "    <tr>\n",
       "      <th>2</th>\n",
       "      <td>0.0</td>\n",
       "      <td>2.0</td>\n",
       "      <td>1.0</td>\n",
       "      <td>0.0</td>\n",
       "      <td>4.0</td>\n",
       "      <td>0.0</td>\n",
       "      <td>1.0</td>\n",
       "      <td>CR</td>\n",
       "      <td>O</td>\n",
       "      <td>-127.0</td>\n",
       "      <td>...</td>\n",
       "      <td>NaN</td>\n",
       "      <td>NaN</td>\n",
       "      <td>NaN</td>\n",
       "      <td>NaN</td>\n",
       "      <td>NaN</td>\n",
       "      <td>NaN</td>\n",
       "      <td>NaN</td>\n",
       "      <td>NaN</td>\n",
       "      <td>NaN</td>\n",
       "      <td>NaN</td>\n",
       "    </tr>\n",
       "    <tr>\n",
       "      <th>3</th>\n",
       "      <td>0.0</td>\n",
       "      <td>2.0</td>\n",
       "      <td>1.0</td>\n",
       "      <td>0.0</td>\n",
       "      <td>4.0</td>\n",
       "      <td>0.0</td>\n",
       "      <td>1.0</td>\n",
       "      <td>CR</td>\n",
       "      <td>O</td>\n",
       "      <td>-127.0</td>\n",
       "      <td>...</td>\n",
       "      <td>NaN</td>\n",
       "      <td>NaN</td>\n",
       "      <td>NaN</td>\n",
       "      <td>NaN</td>\n",
       "      <td>NaN</td>\n",
       "      <td>NaN</td>\n",
       "      <td>NaN</td>\n",
       "      <td>NaN</td>\n",
       "      <td>NaN</td>\n",
       "      <td>NaN</td>\n",
       "    </tr>\n",
       "    <tr>\n",
       "      <th>4</th>\n",
       "      <td>0.0</td>\n",
       "      <td>2.0</td>\n",
       "      <td>1.0</td>\n",
       "      <td>0.0</td>\n",
       "      <td>4.0</td>\n",
       "      <td>0.0</td>\n",
       "      <td>1.0</td>\n",
       "      <td>CR</td>\n",
       "      <td>O</td>\n",
       "      <td>-127.0</td>\n",
       "      <td>...</td>\n",
       "      <td>NaN</td>\n",
       "      <td>NaN</td>\n",
       "      <td>NaN</td>\n",
       "      <td>NaN</td>\n",
       "      <td>NaN</td>\n",
       "      <td>NaN</td>\n",
       "      <td>NaN</td>\n",
       "      <td>NaN</td>\n",
       "      <td>NaN</td>\n",
       "      <td>NaN</td>\n",
       "    </tr>\n",
       "  </tbody>\n",
       "</table>\n",
       "<p>5 rows × 253 columns</p>\n",
       "</div>"
      ],
      "text/plain": [
       "   B_30  B_38  D_114  D_116  D_117  D_120  D_126 D_63 D_64   D_66  ...  \\\n",
       "0   0.0   2.0    1.0    0.0    4.0    0.0    1.0   CR    O -127.0  ...   \n",
       "1   0.0   2.0    1.0    0.0    4.0    0.0    1.0   CR    O -127.0  ...   \n",
       "2   0.0   2.0    1.0    0.0    4.0    0.0    1.0   CR    O -127.0  ...   \n",
       "3   0.0   2.0    1.0    0.0    4.0    0.0    1.0   CR    O -127.0  ...   \n",
       "4   0.0   2.0    1.0    0.0    4.0    0.0    1.0   CR    O -127.0  ...   \n",
       "\n",
       "   B_36_log D_127_log R_28_log  total_payments  total_spending  total_balance  \\\n",
       "0       NaN       NaN      NaN             NaN             NaN            NaN   \n",
       "1       NaN       NaN      NaN             NaN             NaN            NaN   \n",
       "2       NaN       NaN      NaN             NaN             NaN            NaN   \n",
       "3       NaN       NaN      NaN             NaN             NaN            NaN   \n",
       "4       NaN       NaN      NaN             NaN             NaN            NaN   \n",
       "\n",
       "   total_delinquency  total_risk  risk_to_payment_ratio  \\\n",
       "0                NaN         NaN                    NaN   \n",
       "1                NaN         NaN                    NaN   \n",
       "2                NaN         NaN                    NaN   \n",
       "3                NaN         NaN                    NaN   \n",
       "4                NaN         NaN                    NaN   \n",
       "\n",
       "   delinquency_to_balance_ratio  \n",
       "0                           NaN  \n",
       "1                           NaN  \n",
       "2                           NaN  \n",
       "3                           NaN  \n",
       "4                           NaN  \n",
       "\n",
       "[5 rows x 253 columns]"
      ]
     },
     "execution_count": 27,
     "metadata": {},
     "output_type": "execute_result"
    }
   ],
   "source": [
    "train_data.head()"
   ]
  },
  {
   "cell_type": "markdown",
   "metadata": {},
   "source": [
    "# Handling Categorical Variables "
   ]
  },
  {
   "cell_type": "code",
   "execution_count": 28,
   "metadata": {
    "execution": {
     "iopub.execute_input": "2025-04-15T10:46:34.219288Z",
     "iopub.status.busy": "2025-04-15T10:46:34.219066Z",
     "iopub.status.idle": "2025-04-15T10:46:34.221178Z",
     "shell.execute_reply": "2025-04-15T10:46:34.220788Z"
    }
   },
   "outputs": [],
   "source": [
    "# train_data_cat.null_count()\n",
    "# print(500/len(train_data))"
   ]
  },
  {
   "cell_type": "code",
   "execution_count": 29,
   "metadata": {
    "execution": {
     "iopub.execute_input": "2025-04-15T10:46:34.223133Z",
     "iopub.status.busy": "2025-04-15T10:46:34.222731Z",
     "iopub.status.idle": "2025-04-15T10:46:37.179538Z",
     "shell.execute_reply": "2025-04-15T10:46:37.178682Z"
    }
   },
   "outputs": [],
   "source": [
    "train_data = train_data.dropna()"
   ]
  },
  {
   "cell_type": "code",
   "execution_count": 30,
   "metadata": {
    "execution": {
     "iopub.execute_input": "2025-04-15T10:46:37.182007Z",
     "iopub.status.busy": "2025-04-15T10:46:37.181707Z",
     "iopub.status.idle": "2025-04-15T10:46:38.992971Z",
     "shell.execute_reply": "2025-04-15T10:46:38.992332Z"
    }
   },
   "outputs": [
    {
     "ename": "KeyError",
     "evalue": "'target'",
     "output_type": "error",
     "traceback": [
      "\u001b[0;31m---------------------------------------------------------------------------\u001b[0m",
      "\u001b[0;31mKeyError\u001b[0m                                  Traceback (most recent call last)",
      "File \u001b[0;32m/scratch-shared/tc1proj006/venv/lib64/python3.9/site-packages/pandas/core/indexes/base.py:3805\u001b[0m, in \u001b[0;36mIndex.get_loc\u001b[0;34m(self, key)\u001b[0m\n\u001b[1;32m   3804\u001b[0m \u001b[38;5;28;01mtry\u001b[39;00m:\n\u001b[0;32m-> 3805\u001b[0m     \u001b[38;5;28;01mreturn\u001b[39;00m \u001b[38;5;28;43mself\u001b[39;49m\u001b[38;5;241;43m.\u001b[39;49m\u001b[43m_engine\u001b[49m\u001b[38;5;241;43m.\u001b[39;49m\u001b[43mget_loc\u001b[49m\u001b[43m(\u001b[49m\u001b[43mcasted_key\u001b[49m\u001b[43m)\u001b[49m\n\u001b[1;32m   3806\u001b[0m \u001b[38;5;28;01mexcept\u001b[39;00m \u001b[38;5;167;01mKeyError\u001b[39;00m \u001b[38;5;28;01mas\u001b[39;00m err:\n",
      "File \u001b[0;32mindex.pyx:167\u001b[0m, in \u001b[0;36mpandas._libs.index.IndexEngine.get_loc\u001b[0;34m()\u001b[0m\n",
      "File \u001b[0;32mindex.pyx:196\u001b[0m, in \u001b[0;36mpandas._libs.index.IndexEngine.get_loc\u001b[0;34m()\u001b[0m\n",
      "File \u001b[0;32mpandas/_libs/hashtable_class_helper.pxi:7081\u001b[0m, in \u001b[0;36mpandas._libs.hashtable.PyObjectHashTable.get_item\u001b[0;34m()\u001b[0m\n",
      "File \u001b[0;32mpandas/_libs/hashtable_class_helper.pxi:7089\u001b[0m, in \u001b[0;36mpandas._libs.hashtable.PyObjectHashTable.get_item\u001b[0;34m()\u001b[0m\n",
      "\u001b[0;31mKeyError\u001b[0m: 'target'",
      "\nThe above exception was the direct cause of the following exception:\n",
      "\u001b[0;31mKeyError\u001b[0m                                  Traceback (most recent call last)",
      "Cell \u001b[0;32mIn[30], line 1\u001b[0m\n\u001b[0;32m----> 1\u001b[0m \u001b[43mtrain_data\u001b[49m\u001b[43m[\u001b[49m\u001b[38;5;124;43m'\u001b[39;49m\u001b[38;5;124;43mtarget\u001b[39;49m\u001b[38;5;124;43m'\u001b[39;49m\u001b[43m]\u001b[49m\u001b[38;5;241m.\u001b[39mvalue_counts()\n",
      "File \u001b[0;32m/scratch-shared/tc1proj006/venv/lib64/python3.9/site-packages/pandas/core/frame.py:4102\u001b[0m, in \u001b[0;36mDataFrame.__getitem__\u001b[0;34m(self, key)\u001b[0m\n\u001b[1;32m   4100\u001b[0m \u001b[38;5;28;01mif\u001b[39;00m \u001b[38;5;28mself\u001b[39m\u001b[38;5;241m.\u001b[39mcolumns\u001b[38;5;241m.\u001b[39mnlevels \u001b[38;5;241m>\u001b[39m \u001b[38;5;241m1\u001b[39m:\n\u001b[1;32m   4101\u001b[0m     \u001b[38;5;28;01mreturn\u001b[39;00m \u001b[38;5;28mself\u001b[39m\u001b[38;5;241m.\u001b[39m_getitem_multilevel(key)\n\u001b[0;32m-> 4102\u001b[0m indexer \u001b[38;5;241m=\u001b[39m \u001b[38;5;28;43mself\u001b[39;49m\u001b[38;5;241;43m.\u001b[39;49m\u001b[43mcolumns\u001b[49m\u001b[38;5;241;43m.\u001b[39;49m\u001b[43mget_loc\u001b[49m\u001b[43m(\u001b[49m\u001b[43mkey\u001b[49m\u001b[43m)\u001b[49m\n\u001b[1;32m   4103\u001b[0m \u001b[38;5;28;01mif\u001b[39;00m is_integer(indexer):\n\u001b[1;32m   4104\u001b[0m     indexer \u001b[38;5;241m=\u001b[39m [indexer]\n",
      "File \u001b[0;32m/scratch-shared/tc1proj006/venv/lib64/python3.9/site-packages/pandas/core/indexes/base.py:3812\u001b[0m, in \u001b[0;36mIndex.get_loc\u001b[0;34m(self, key)\u001b[0m\n\u001b[1;32m   3807\u001b[0m     \u001b[38;5;28;01mif\u001b[39;00m \u001b[38;5;28misinstance\u001b[39m(casted_key, \u001b[38;5;28mslice\u001b[39m) \u001b[38;5;129;01mor\u001b[39;00m (\n\u001b[1;32m   3808\u001b[0m         \u001b[38;5;28misinstance\u001b[39m(casted_key, abc\u001b[38;5;241m.\u001b[39mIterable)\n\u001b[1;32m   3809\u001b[0m         \u001b[38;5;129;01mand\u001b[39;00m \u001b[38;5;28many\u001b[39m(\u001b[38;5;28misinstance\u001b[39m(x, \u001b[38;5;28mslice\u001b[39m) \u001b[38;5;28;01mfor\u001b[39;00m x \u001b[38;5;129;01min\u001b[39;00m casted_key)\n\u001b[1;32m   3810\u001b[0m     ):\n\u001b[1;32m   3811\u001b[0m         \u001b[38;5;28;01mraise\u001b[39;00m InvalidIndexError(key)\n\u001b[0;32m-> 3812\u001b[0m     \u001b[38;5;28;01mraise\u001b[39;00m \u001b[38;5;167;01mKeyError\u001b[39;00m(key) \u001b[38;5;28;01mfrom\u001b[39;00m\u001b[38;5;250m \u001b[39m\u001b[38;5;21;01merr\u001b[39;00m\n\u001b[1;32m   3813\u001b[0m \u001b[38;5;28;01mexcept\u001b[39;00m \u001b[38;5;167;01mTypeError\u001b[39;00m:\n\u001b[1;32m   3814\u001b[0m     \u001b[38;5;66;03m# If we have a listlike key, _check_indexing_error will raise\u001b[39;00m\n\u001b[1;32m   3815\u001b[0m     \u001b[38;5;66;03m#  InvalidIndexError. Otherwise we fall through and re-raise\u001b[39;00m\n\u001b[1;32m   3816\u001b[0m     \u001b[38;5;66;03m#  the TypeError.\u001b[39;00m\n\u001b[1;32m   3817\u001b[0m     \u001b[38;5;28mself\u001b[39m\u001b[38;5;241m.\u001b[39m_check_indexing_error(key)\n",
      "\u001b[0;31mKeyError\u001b[0m: 'target'"
     ]
    }
   ],
   "source": [
    "train_data['target'].value_counts()"
   ]
  },
  {
   "cell_type": "code",
   "execution_count": 31,
   "metadata": {
    "execution": {
     "iopub.execute_input": "2025-04-15T10:46:38.995162Z",
     "iopub.status.busy": "2025-04-15T10:46:38.994918Z",
     "iopub.status.idle": "2025-04-15T10:46:38.997367Z",
     "shell.execute_reply": "2025-04-15T10:46:38.996964Z"
    }
   },
   "outputs": [],
   "source": [
    "train_data_cp = train_data"
   ]
  },
  {
   "cell_type": "code",
   "execution_count": 32,
   "metadata": {
    "execution": {
     "iopub.execute_input": "2025-04-15T10:46:38.999329Z",
     "iopub.status.busy": "2025-04-15T10:46:38.998921Z",
     "iopub.status.idle": "2025-04-15T10:46:39.046188Z",
     "shell.execute_reply": "2025-04-15T10:46:39.045704Z"
    }
   },
   "outputs": [
    {
     "ename": "KeyError",
     "evalue": "'target'",
     "output_type": "error",
     "traceback": [
      "\u001b[0;31m---------------------------------------------------------------------------\u001b[0m",
      "\u001b[0;31mKeyError\u001b[0m                                  Traceback (most recent call last)",
      "File \u001b[0;32m/scratch-shared/tc1proj006/venv/lib64/python3.9/site-packages/pandas/core/indexes/base.py:3805\u001b[0m, in \u001b[0;36mIndex.get_loc\u001b[0;34m(self, key)\u001b[0m\n\u001b[1;32m   3804\u001b[0m \u001b[38;5;28;01mtry\u001b[39;00m:\n\u001b[0;32m-> 3805\u001b[0m     \u001b[38;5;28;01mreturn\u001b[39;00m \u001b[38;5;28;43mself\u001b[39;49m\u001b[38;5;241;43m.\u001b[39;49m\u001b[43m_engine\u001b[49m\u001b[38;5;241;43m.\u001b[39;49m\u001b[43mget_loc\u001b[49m\u001b[43m(\u001b[49m\u001b[43mcasted_key\u001b[49m\u001b[43m)\u001b[49m\n\u001b[1;32m   3806\u001b[0m \u001b[38;5;28;01mexcept\u001b[39;00m \u001b[38;5;167;01mKeyError\u001b[39;00m \u001b[38;5;28;01mas\u001b[39;00m err:\n",
      "File \u001b[0;32mindex.pyx:167\u001b[0m, in \u001b[0;36mpandas._libs.index.IndexEngine.get_loc\u001b[0;34m()\u001b[0m\n",
      "File \u001b[0;32mindex.pyx:196\u001b[0m, in \u001b[0;36mpandas._libs.index.IndexEngine.get_loc\u001b[0;34m()\u001b[0m\n",
      "File \u001b[0;32mpandas/_libs/hashtable_class_helper.pxi:7081\u001b[0m, in \u001b[0;36mpandas._libs.hashtable.PyObjectHashTable.get_item\u001b[0;34m()\u001b[0m\n",
      "File \u001b[0;32mpandas/_libs/hashtable_class_helper.pxi:7089\u001b[0m, in \u001b[0;36mpandas._libs.hashtable.PyObjectHashTable.get_item\u001b[0;34m()\u001b[0m\n",
      "\u001b[0;31mKeyError\u001b[0m: 'target'",
      "\nThe above exception was the direct cause of the following exception:\n",
      "\u001b[0;31mKeyError\u001b[0m                                  Traceback (most recent call last)",
      "Cell \u001b[0;32mIn[32], line 1\u001b[0m\n\u001b[0;32m----> 1\u001b[0m df_majority \u001b[38;5;241m=\u001b[39m df_train[\u001b[43mdf_train\u001b[49m\u001b[43m[\u001b[49m\u001b[38;5;124;43m'\u001b[39;49m\u001b[38;5;124;43mtarget\u001b[39;49m\u001b[38;5;124;43m'\u001b[39;49m\u001b[43m]\u001b[49m \u001b[38;5;241m==\u001b[39m \u001b[38;5;241m0\u001b[39m]\n\u001b[1;32m      2\u001b[0m df_minority \u001b[38;5;241m=\u001b[39m df_train[df_train[\u001b[38;5;124m'\u001b[39m\u001b[38;5;124mtarget\u001b[39m\u001b[38;5;124m'\u001b[39m] \u001b[38;5;241m==\u001b[39m \u001b[38;5;241m1\u001b[39m]\n\u001b[1;32m      4\u001b[0m \u001b[38;5;66;03m# Determine the number of samples for upsampling\u001b[39;00m\n",
      "File \u001b[0;32m/scratch-shared/tc1proj006/venv/lib64/python3.9/site-packages/pandas/core/frame.py:4102\u001b[0m, in \u001b[0;36mDataFrame.__getitem__\u001b[0;34m(self, key)\u001b[0m\n\u001b[1;32m   4100\u001b[0m \u001b[38;5;28;01mif\u001b[39;00m \u001b[38;5;28mself\u001b[39m\u001b[38;5;241m.\u001b[39mcolumns\u001b[38;5;241m.\u001b[39mnlevels \u001b[38;5;241m>\u001b[39m \u001b[38;5;241m1\u001b[39m:\n\u001b[1;32m   4101\u001b[0m     \u001b[38;5;28;01mreturn\u001b[39;00m \u001b[38;5;28mself\u001b[39m\u001b[38;5;241m.\u001b[39m_getitem_multilevel(key)\n\u001b[0;32m-> 4102\u001b[0m indexer \u001b[38;5;241m=\u001b[39m \u001b[38;5;28;43mself\u001b[39;49m\u001b[38;5;241;43m.\u001b[39;49m\u001b[43mcolumns\u001b[49m\u001b[38;5;241;43m.\u001b[39;49m\u001b[43mget_loc\u001b[49m\u001b[43m(\u001b[49m\u001b[43mkey\u001b[49m\u001b[43m)\u001b[49m\n\u001b[1;32m   4103\u001b[0m \u001b[38;5;28;01mif\u001b[39;00m is_integer(indexer):\n\u001b[1;32m   4104\u001b[0m     indexer \u001b[38;5;241m=\u001b[39m [indexer]\n",
      "File \u001b[0;32m/scratch-shared/tc1proj006/venv/lib64/python3.9/site-packages/pandas/core/indexes/base.py:3812\u001b[0m, in \u001b[0;36mIndex.get_loc\u001b[0;34m(self, key)\u001b[0m\n\u001b[1;32m   3807\u001b[0m     \u001b[38;5;28;01mif\u001b[39;00m \u001b[38;5;28misinstance\u001b[39m(casted_key, \u001b[38;5;28mslice\u001b[39m) \u001b[38;5;129;01mor\u001b[39;00m (\n\u001b[1;32m   3808\u001b[0m         \u001b[38;5;28misinstance\u001b[39m(casted_key, abc\u001b[38;5;241m.\u001b[39mIterable)\n\u001b[1;32m   3809\u001b[0m         \u001b[38;5;129;01mand\u001b[39;00m \u001b[38;5;28many\u001b[39m(\u001b[38;5;28misinstance\u001b[39m(x, \u001b[38;5;28mslice\u001b[39m) \u001b[38;5;28;01mfor\u001b[39;00m x \u001b[38;5;129;01min\u001b[39;00m casted_key)\n\u001b[1;32m   3810\u001b[0m     ):\n\u001b[1;32m   3811\u001b[0m         \u001b[38;5;28;01mraise\u001b[39;00m InvalidIndexError(key)\n\u001b[0;32m-> 3812\u001b[0m     \u001b[38;5;28;01mraise\u001b[39;00m \u001b[38;5;167;01mKeyError\u001b[39;00m(key) \u001b[38;5;28;01mfrom\u001b[39;00m\u001b[38;5;250m \u001b[39m\u001b[38;5;21;01merr\u001b[39;00m\n\u001b[1;32m   3813\u001b[0m \u001b[38;5;28;01mexcept\u001b[39;00m \u001b[38;5;167;01mTypeError\u001b[39;00m:\n\u001b[1;32m   3814\u001b[0m     \u001b[38;5;66;03m# If we have a listlike key, _check_indexing_error will raise\u001b[39;00m\n\u001b[1;32m   3815\u001b[0m     \u001b[38;5;66;03m#  InvalidIndexError. Otherwise we fall through and re-raise\u001b[39;00m\n\u001b[1;32m   3816\u001b[0m     \u001b[38;5;66;03m#  the TypeError.\u001b[39;00m\n\u001b[1;32m   3817\u001b[0m     \u001b[38;5;28mself\u001b[39m\u001b[38;5;241m.\u001b[39m_check_indexing_error(key)\n",
      "\u001b[0;31mKeyError\u001b[0m: 'target'"
     ]
    }
   ],
   "source": [
    "df_majority = df_train[df_train['target'] == 0]\n",
    "df_minority = df_train[df_train['target'] == 1]\n",
    "\n",
    "# Determine the number of samples for upsampling\n",
    "n_samples = len(df_majority)\n",
    "\n",
    "# Upsample minority class\n",
    "df_minority_upsampled = df_minority.sample(\n",
    "    n=n_samples, \n",
    "    replace=True,  # Replace to allow upsampling\n",
    "    random_state=42  # Set the seed for reproducibility\n",
    ")\n",
    "# Combine majority and upsampled minority classes\n",
    "df_upsampled = pd.concat([df_majority, df_minority_upsampled])\n",
    "\n",
    "print(df_upsampled)\n"
   ]
  },
  {
   "cell_type": "code",
   "execution_count": 33,
   "metadata": {
    "execution": {
     "iopub.execute_input": "2025-04-15T10:46:39.047938Z",
     "iopub.status.busy": "2025-04-15T10:46:39.047711Z",
     "iopub.status.idle": "2025-04-15T10:46:39.061299Z",
     "shell.execute_reply": "2025-04-15T10:46:39.060892Z"
    }
   },
   "outputs": [
    {
     "ename": "NameError",
     "evalue": "name 'df_upsampled' is not defined",
     "output_type": "error",
     "traceback": [
      "\u001b[0;31m---------------------------------------------------------------------------\u001b[0m",
      "\u001b[0;31mNameError\u001b[0m                                 Traceback (most recent call last)",
      "Cell \u001b[0;32mIn[33], line 1\u001b[0m\n\u001b[0;32m----> 1\u001b[0m train_data \u001b[38;5;241m=\u001b[39m \u001b[43mdf_upsampled\u001b[49m\n",
      "\u001b[0;31mNameError\u001b[0m: name 'df_upsampled' is not defined"
     ]
    }
   ],
   "source": [
    "train_data = df_upsampled"
   ]
  },
  {
   "cell_type": "code",
   "execution_count": 34,
   "metadata": {
    "execution": {
     "iopub.execute_input": "2025-04-15T10:46:39.062992Z",
     "iopub.status.busy": "2025-04-15T10:46:39.062774Z",
     "iopub.status.idle": "2025-04-15T10:46:39.106732Z",
     "shell.execute_reply": "2025-04-15T10:46:39.106278Z"
    }
   },
   "outputs": [
    {
     "ename": "KeyError",
     "evalue": "'target'",
     "output_type": "error",
     "traceback": [
      "\u001b[0;31m---------------------------------------------------------------------------\u001b[0m",
      "\u001b[0;31mKeyError\u001b[0m                                  Traceback (most recent call last)",
      "File \u001b[0;32m/scratch-shared/tc1proj006/venv/lib64/python3.9/site-packages/pandas/core/indexes/base.py:3805\u001b[0m, in \u001b[0;36mIndex.get_loc\u001b[0;34m(self, key)\u001b[0m\n\u001b[1;32m   3804\u001b[0m \u001b[38;5;28;01mtry\u001b[39;00m:\n\u001b[0;32m-> 3805\u001b[0m     \u001b[38;5;28;01mreturn\u001b[39;00m \u001b[38;5;28;43mself\u001b[39;49m\u001b[38;5;241;43m.\u001b[39;49m\u001b[43m_engine\u001b[49m\u001b[38;5;241;43m.\u001b[39;49m\u001b[43mget_loc\u001b[49m\u001b[43m(\u001b[49m\u001b[43mcasted_key\u001b[49m\u001b[43m)\u001b[49m\n\u001b[1;32m   3806\u001b[0m \u001b[38;5;28;01mexcept\u001b[39;00m \u001b[38;5;167;01mKeyError\u001b[39;00m \u001b[38;5;28;01mas\u001b[39;00m err:\n",
      "File \u001b[0;32mindex.pyx:167\u001b[0m, in \u001b[0;36mpandas._libs.index.IndexEngine.get_loc\u001b[0;34m()\u001b[0m\n",
      "File \u001b[0;32mindex.pyx:196\u001b[0m, in \u001b[0;36mpandas._libs.index.IndexEngine.get_loc\u001b[0;34m()\u001b[0m\n",
      "File \u001b[0;32mpandas/_libs/hashtable_class_helper.pxi:7081\u001b[0m, in \u001b[0;36mpandas._libs.hashtable.PyObjectHashTable.get_item\u001b[0;34m()\u001b[0m\n",
      "File \u001b[0;32mpandas/_libs/hashtable_class_helper.pxi:7089\u001b[0m, in \u001b[0;36mpandas._libs.hashtable.PyObjectHashTable.get_item\u001b[0;34m()\u001b[0m\n",
      "\u001b[0;31mKeyError\u001b[0m: 'target'",
      "\nThe above exception was the direct cause of the following exception:\n",
      "\u001b[0;31mKeyError\u001b[0m                                  Traceback (most recent call last)",
      "Cell \u001b[0;32mIn[34], line 1\u001b[0m\n\u001b[0;32m----> 1\u001b[0m \u001b[43mtrain_data\u001b[49m\u001b[43m[\u001b[49m\u001b[38;5;124;43m'\u001b[39;49m\u001b[38;5;124;43mtarget\u001b[39;49m\u001b[38;5;124;43m'\u001b[39;49m\u001b[43m]\u001b[49m\u001b[38;5;241m.\u001b[39mvalue_counts()\n",
      "File \u001b[0;32m/scratch-shared/tc1proj006/venv/lib64/python3.9/site-packages/pandas/core/frame.py:4102\u001b[0m, in \u001b[0;36mDataFrame.__getitem__\u001b[0;34m(self, key)\u001b[0m\n\u001b[1;32m   4100\u001b[0m \u001b[38;5;28;01mif\u001b[39;00m \u001b[38;5;28mself\u001b[39m\u001b[38;5;241m.\u001b[39mcolumns\u001b[38;5;241m.\u001b[39mnlevels \u001b[38;5;241m>\u001b[39m \u001b[38;5;241m1\u001b[39m:\n\u001b[1;32m   4101\u001b[0m     \u001b[38;5;28;01mreturn\u001b[39;00m \u001b[38;5;28mself\u001b[39m\u001b[38;5;241m.\u001b[39m_getitem_multilevel(key)\n\u001b[0;32m-> 4102\u001b[0m indexer \u001b[38;5;241m=\u001b[39m \u001b[38;5;28;43mself\u001b[39;49m\u001b[38;5;241;43m.\u001b[39;49m\u001b[43mcolumns\u001b[49m\u001b[38;5;241;43m.\u001b[39;49m\u001b[43mget_loc\u001b[49m\u001b[43m(\u001b[49m\u001b[43mkey\u001b[49m\u001b[43m)\u001b[49m\n\u001b[1;32m   4103\u001b[0m \u001b[38;5;28;01mif\u001b[39;00m is_integer(indexer):\n\u001b[1;32m   4104\u001b[0m     indexer \u001b[38;5;241m=\u001b[39m [indexer]\n",
      "File \u001b[0;32m/scratch-shared/tc1proj006/venv/lib64/python3.9/site-packages/pandas/core/indexes/base.py:3812\u001b[0m, in \u001b[0;36mIndex.get_loc\u001b[0;34m(self, key)\u001b[0m\n\u001b[1;32m   3807\u001b[0m     \u001b[38;5;28;01mif\u001b[39;00m \u001b[38;5;28misinstance\u001b[39m(casted_key, \u001b[38;5;28mslice\u001b[39m) \u001b[38;5;129;01mor\u001b[39;00m (\n\u001b[1;32m   3808\u001b[0m         \u001b[38;5;28misinstance\u001b[39m(casted_key, abc\u001b[38;5;241m.\u001b[39mIterable)\n\u001b[1;32m   3809\u001b[0m         \u001b[38;5;129;01mand\u001b[39;00m \u001b[38;5;28many\u001b[39m(\u001b[38;5;28misinstance\u001b[39m(x, \u001b[38;5;28mslice\u001b[39m) \u001b[38;5;28;01mfor\u001b[39;00m x \u001b[38;5;129;01min\u001b[39;00m casted_key)\n\u001b[1;32m   3810\u001b[0m     ):\n\u001b[1;32m   3811\u001b[0m         \u001b[38;5;28;01mraise\u001b[39;00m InvalidIndexError(key)\n\u001b[0;32m-> 3812\u001b[0m     \u001b[38;5;28;01mraise\u001b[39;00m \u001b[38;5;167;01mKeyError\u001b[39;00m(key) \u001b[38;5;28;01mfrom\u001b[39;00m\u001b[38;5;250m \u001b[39m\u001b[38;5;21;01merr\u001b[39;00m\n\u001b[1;32m   3813\u001b[0m \u001b[38;5;28;01mexcept\u001b[39;00m \u001b[38;5;167;01mTypeError\u001b[39;00m:\n\u001b[1;32m   3814\u001b[0m     \u001b[38;5;66;03m# If we have a listlike key, _check_indexing_error will raise\u001b[39;00m\n\u001b[1;32m   3815\u001b[0m     \u001b[38;5;66;03m#  InvalidIndexError. Otherwise we fall through and re-raise\u001b[39;00m\n\u001b[1;32m   3816\u001b[0m     \u001b[38;5;66;03m#  the TypeError.\u001b[39;00m\n\u001b[1;32m   3817\u001b[0m     \u001b[38;5;28mself\u001b[39m\u001b[38;5;241m.\u001b[39m_check_indexing_error(key)\n",
      "\u001b[0;31mKeyError\u001b[0m: 'target'"
     ]
    }
   ],
   "source": [
    "train_data['target'].value_counts()"
   ]
  },
  {
   "cell_type": "code",
   "execution_count": 35,
   "metadata": {
    "execution": {
     "iopub.execute_input": "2025-04-15T10:46:39.108564Z",
     "iopub.status.busy": "2025-04-15T10:46:39.108340Z",
     "iopub.status.idle": "2025-04-15T10:46:40.936641Z",
     "shell.execute_reply": "2025-04-15T10:46:40.936177Z"
    }
   },
   "outputs": [
    {
     "ename": "MemoryError",
     "evalue": "Unable to allocate 2.31 TiB for an array with shape (5531451, 458913) and data type bool",
     "output_type": "error",
     "traceback": [
      "\u001b[0;31m---------------------------------------------------------------------------\u001b[0m",
      "\u001b[0;31mMemoryError\u001b[0m                               Traceback (most recent call last)",
      "Cell \u001b[0;32mIn[35], line 1\u001b[0m\n\u001b[0;32m----> 1\u001b[0m train_data_cat_encoded \u001b[38;5;241m=\u001b[39m \u001b[43mpd\u001b[49m\u001b[38;5;241;43m.\u001b[39;49m\u001b[43mget_dummies\u001b[49m\u001b[43m(\u001b[49m\u001b[43mtrain_data_cat\u001b[49m\u001b[43m)\u001b[49m\n\u001b[1;32m      2\u001b[0m \u001b[38;5;28mprint\u001b[39m(train_data_cat_encoded)\n",
      "File \u001b[0;32m/scratch-shared/tc1proj006/venv/lib64/python3.9/site-packages/pandas/core/reshape/encoding.py:214\u001b[0m, in \u001b[0;36mget_dummies\u001b[0;34m(data, prefix, prefix_sep, dummy_na, columns, sparse, drop_first, dtype)\u001b[0m\n\u001b[1;32m    210\u001b[0m     with_dummies \u001b[38;5;241m=\u001b[39m [data\u001b[38;5;241m.\u001b[39mselect_dtypes(exclude\u001b[38;5;241m=\u001b[39mdtypes_to_encode)]\n\u001b[1;32m    212\u001b[0m \u001b[38;5;28;01mfor\u001b[39;00m col, pre, sep \u001b[38;5;129;01min\u001b[39;00m \u001b[38;5;28mzip\u001b[39m(data_to_encode\u001b[38;5;241m.\u001b[39mitems(), prefix, prefix_sep):\n\u001b[1;32m    213\u001b[0m     \u001b[38;5;66;03m# col is (column_name, column), use just column data here\u001b[39;00m\n\u001b[0;32m--> 214\u001b[0m     dummy \u001b[38;5;241m=\u001b[39m \u001b[43m_get_dummies_1d\u001b[49m\u001b[43m(\u001b[49m\n\u001b[1;32m    215\u001b[0m \u001b[43m        \u001b[49m\u001b[43mcol\u001b[49m\u001b[43m[\u001b[49m\u001b[38;5;241;43m1\u001b[39;49m\u001b[43m]\u001b[49m\u001b[43m,\u001b[49m\n\u001b[1;32m    216\u001b[0m \u001b[43m        \u001b[49m\u001b[43mprefix\u001b[49m\u001b[38;5;241;43m=\u001b[39;49m\u001b[43mpre\u001b[49m\u001b[43m,\u001b[49m\n\u001b[1;32m    217\u001b[0m \u001b[43m        \u001b[49m\u001b[43mprefix_sep\u001b[49m\u001b[38;5;241;43m=\u001b[39;49m\u001b[43msep\u001b[49m\u001b[43m,\u001b[49m\n\u001b[1;32m    218\u001b[0m \u001b[43m        \u001b[49m\u001b[43mdummy_na\u001b[49m\u001b[38;5;241;43m=\u001b[39;49m\u001b[43mdummy_na\u001b[49m\u001b[43m,\u001b[49m\n\u001b[1;32m    219\u001b[0m \u001b[43m        \u001b[49m\u001b[43msparse\u001b[49m\u001b[38;5;241;43m=\u001b[39;49m\u001b[43msparse\u001b[49m\u001b[43m,\u001b[49m\n\u001b[1;32m    220\u001b[0m \u001b[43m        \u001b[49m\u001b[43mdrop_first\u001b[49m\u001b[38;5;241;43m=\u001b[39;49m\u001b[43mdrop_first\u001b[49m\u001b[43m,\u001b[49m\n\u001b[1;32m    221\u001b[0m \u001b[43m        \u001b[49m\u001b[43mdtype\u001b[49m\u001b[38;5;241;43m=\u001b[39;49m\u001b[43mdtype\u001b[49m\u001b[43m,\u001b[49m\n\u001b[1;32m    222\u001b[0m \u001b[43m    \u001b[49m\u001b[43m)\u001b[49m\n\u001b[1;32m    223\u001b[0m     with_dummies\u001b[38;5;241m.\u001b[39mappend(dummy)\n\u001b[1;32m    224\u001b[0m result \u001b[38;5;241m=\u001b[39m concat(with_dummies, axis\u001b[38;5;241m=\u001b[39m\u001b[38;5;241m1\u001b[39m)\n",
      "File \u001b[0;32m/scratch-shared/tc1proj006/venv/lib64/python3.9/site-packages/pandas/core/reshape/encoding.py:353\u001b[0m, in \u001b[0;36m_get_dummies_1d\u001b[0;34m(data, prefix, prefix_sep, dummy_na, sparse, drop_first, dtype)\u001b[0m\n\u001b[1;32m    351\u001b[0m \u001b[38;5;28;01melse\u001b[39;00m:\n\u001b[1;32m    352\u001b[0m     dummy_dtype \u001b[38;5;241m=\u001b[39m np\u001b[38;5;241m.\u001b[39mbool_\n\u001b[0;32m--> 353\u001b[0m dummy_mat \u001b[38;5;241m=\u001b[39m \u001b[43mnp\u001b[49m\u001b[38;5;241;43m.\u001b[39;49m\u001b[43mzeros\u001b[49m\u001b[43m(\u001b[49m\u001b[43mshape\u001b[49m\u001b[38;5;241;43m=\u001b[39;49m\u001b[43mshape\u001b[49m\u001b[43m,\u001b[49m\u001b[43m \u001b[49m\u001b[43mdtype\u001b[49m\u001b[38;5;241;43m=\u001b[39;49m\u001b[43mdummy_dtype\u001b[49m\u001b[43m,\u001b[49m\u001b[43m \u001b[49m\u001b[43morder\u001b[49m\u001b[38;5;241;43m=\u001b[39;49m\u001b[38;5;124;43m\"\u001b[39;49m\u001b[38;5;124;43mF\u001b[39;49m\u001b[38;5;124;43m\"\u001b[39;49m\u001b[43m)\u001b[49m\n\u001b[1;32m    354\u001b[0m dummy_mat[np\u001b[38;5;241m.\u001b[39marange(\u001b[38;5;28mlen\u001b[39m(codes)), codes] \u001b[38;5;241m=\u001b[39m \u001b[38;5;241m1\u001b[39m\n\u001b[1;32m    356\u001b[0m \u001b[38;5;28;01mif\u001b[39;00m \u001b[38;5;129;01mnot\u001b[39;00m dummy_na:\n\u001b[1;32m    357\u001b[0m     \u001b[38;5;66;03m# reset NaN GH4446\u001b[39;00m\n",
      "\u001b[0;31mMemoryError\u001b[0m: Unable to allocate 2.31 TiB for an array with shape (5531451, 458913) and data type bool"
     ]
    }
   ],
   "source": [
    "train_data_cat_encoded = pd.get_dummies(train_data_cat)\n",
    "print(train_data_cat_encoded)"
   ]
  }
 ],
 "metadata": {
  "kaggle": {
   "accelerator": "tpu1vmV38",
   "dataSources": [
    {
     "databundleVersionId": 3723648,
     "sourceId": 35332,
     "sourceType": "competition"
    }
   ],
   "dockerImageVersionId": 30806,
   "isGpuEnabled": false,
   "isInternetEnabled": true,
   "language": "python",
   "sourceType": "notebook"
  },
  "kernelspec": {
   "display_name": "Python 3",
   "language": "python",
   "name": "python3"
  },
  "language_info": {
   "codemirror_mode": {
    "name": "ipython",
    "version": 3
   },
   "file_extension": ".py",
   "mimetype": "text/x-python",
   "name": "python",
   "nbconvert_exporter": "python",
   "pygments_lexer": "ipython3",
   "version": "3.9.19"
  }
 },
 "nbformat": 4,
 "nbformat_minor": 4
}
